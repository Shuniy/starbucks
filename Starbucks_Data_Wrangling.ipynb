{
 "cells": [
  {
   "cell_type": "markdown",
   "id": "615b1e6c",
   "metadata": {},
   "source": [
    "# *Starbucks Rewards Mobile App Offers*"
   ]
  },
  {
   "cell_type": "markdown",
   "id": "869b4570",
   "metadata": {},
   "source": [
    "## Introduction"
   ]
  },
  {
   "cell_type": "markdown",
   "id": "a2d8e9c1",
   "metadata": {},
   "source": [
    "This data set contains simulated data that mimics customer behavior on the Starbucks rewards mobile app. Once every few days, Starbucks sends out an offer to users of the mobile app. An offer can be merely an advertisement for a drink or an actual offer such as a discount or BOGO (buy one get one free). Some users might not receive any offer during certain weeks.\n",
    "\n",
    "*Not all users receive the same offer.*\n",
    "\n",
    "*This data set is a simplified version of the real Starbucks app because the underlying simulator only has one product whereas Starbucks actually sells dozens of products.*\n",
    "\n",
    "Every offer has a validity period before the offer expires. As an example, a BOGO offer might be valid for only 5 days. You'll see in the data set that informational offers have a validity period even though these ads are merely providing information about a product; for example, if an informational offer has 7 days of validity, you can assume the customer is feeling the influence of the offer for 7 days after receiving the advertisement.\n",
    "\n",
    "**Someone using the app might make a purchase through the app without having received an offer or seen an offer.**"
   ]
  },
  {
   "cell_type": "markdown",
   "id": "3eae088e",
   "metadata": {},
   "source": [
    "# Data Sets\n",
    "\n",
    "The data is contained in three files:\n",
    "\n",
    "* portfolio.json - containing offer ids and meta data about each offer (duration, type, etc.)\n",
    "* profile.json - demographic data for each customer\n",
    "* transcript.json - records for transactions, offers received, offers viewed, and offers completed\n",
    "\n",
    "Here is the schema and explanation of each variable in the files:\n",
    "\n",
    "**portfolio.json**\n",
    "* id (string) - offer id\n",
    "* offer_type (string) - type of offer ie BOGO, discount, informational\n",
    "* difficulty (int) - minimum required spend to complete an offer\n",
    "* reward (int) - reward given for completing an offer\n",
    "* duration (int) - time for offer to be open, in days\n",
    "* channels (list of strings)\n",
    "\n",
    "**profile.json**\n",
    "* age (int) - age of the customer \n",
    "* became_member_on (int) - date when customer created an app account\n",
    "* gender (str) - gender of the customer (note some entries contain 'O' for other rather than M or F)\n",
    "* id (str) - customer id\n",
    "* income (float) - customer's income\n",
    "\n",
    "**transcript.json**\n",
    "* event (str) - record description (ie transaction, offer received, offer viewed, etc.)\n",
    "* person (str) - customer id\n",
    "* time (int) - time in hours since start of test. The data begins at time t=0\n",
    "* value - (dict of strings) - either an offer id or transaction amount depending on the record"
   ]
  },
  {
   "cell_type": "markdown",
   "id": "588df2be",
   "metadata": {},
   "source": [
    "### *Loading Libraries*"
   ]
  },
  {
   "cell_type": "code",
   "execution_count": 72,
   "id": "48e17308",
   "metadata": {
    "ExecuteTime": {
     "end_time": "2021-05-10T07:31:32.874954Z",
     "start_time": "2021-05-10T07:31:32.853325Z"
    }
   },
   "outputs": [],
   "source": [
    "# Importing Libraries\n",
    "\n",
    "import seaborn as sb\n",
    "import pandas as pd\n",
    "import numpy as np\n",
    "import matplotlib.pyplot as plt\n",
    "\n",
    "%matplotlib inline"
   ]
  },
  {
   "cell_type": "markdown",
   "id": "0dbf5644",
   "metadata": {},
   "source": [
    "## Data Wrangling"
   ]
  },
  {
   "cell_type": "markdown",
   "id": "0e229fe5",
   "metadata": {},
   "source": [
    "**Data Wrangling steps:**\n",
    "- Gather\n",
    "- Acess\n",
    "- Clean\n",
    "    - Define\n",
    "    - Code\n",
    "    - Test"
   ]
  },
  {
   "cell_type": "markdown",
   "id": "92c82e04",
   "metadata": {},
   "source": [
    "### *Gather Data*"
   ]
  },
  {
   "cell_type": "code",
   "execution_count": 73,
   "id": "8fe389e0",
   "metadata": {
    "ExecuteTime": {
     "end_time": "2021-05-10T07:31:35.825849Z",
     "start_time": "2021-05-10T07:31:32.883100Z"
    }
   },
   "outputs": [],
   "source": [
    "# Importing data from json\n",
    "\n",
    "portfolio_data = pd.read_json(\n",
    "    \"data/portfolio.json\", orient='records', lines=True)\n",
    "\n",
    "profile_data = pd.read_json(\"data/profile.json\", orient='records', lines=True)\n",
    "\n",
    "transcript_data = pd.read_json(\n",
    "    \"data/transcript.json\", orient='records', lines=True)"
   ]
  },
  {
   "cell_type": "markdown",
   "id": "959e2265",
   "metadata": {},
   "source": [
    "### *Acess Data*"
   ]
  },
  {
   "cell_type": "markdown",
   "id": "4c545dd3",
   "metadata": {},
   "source": [
    "#### Sample Data"
   ]
  },
  {
   "cell_type": "code",
   "execution_count": 74,
   "id": "1685fa09",
   "metadata": {
    "ExecuteTime": {
     "end_time": "2021-05-10T07:31:35.895111Z",
     "start_time": "2021-05-10T07:31:35.834990Z"
    }
   },
   "outputs": [
    {
     "data": {
      "text/html": [
       "<div>\n",
       "<style scoped>\n",
       "    .dataframe tbody tr th:only-of-type {\n",
       "        vertical-align: middle;\n",
       "    }\n",
       "\n",
       "    .dataframe tbody tr th {\n",
       "        vertical-align: top;\n",
       "    }\n",
       "\n",
       "    .dataframe thead th {\n",
       "        text-align: right;\n",
       "    }\n",
       "</style>\n",
       "<table border=\"1\" class=\"dataframe\">\n",
       "  <thead>\n",
       "    <tr style=\"text-align: right;\">\n",
       "      <th></th>\n",
       "      <th>reward</th>\n",
       "      <th>channels</th>\n",
       "      <th>difficulty</th>\n",
       "      <th>duration</th>\n",
       "      <th>offer_type</th>\n",
       "      <th>id</th>\n",
       "    </tr>\n",
       "  </thead>\n",
       "  <tbody>\n",
       "    <tr>\n",
       "      <th>2</th>\n",
       "      <td>0</td>\n",
       "      <td>[web, email, mobile]</td>\n",
       "      <td>0</td>\n",
       "      <td>4</td>\n",
       "      <td>informational</td>\n",
       "      <td>3f207df678b143eea3cee63160fa8bed</td>\n",
       "    </tr>\n",
       "    <tr>\n",
       "      <th>5</th>\n",
       "      <td>3</td>\n",
       "      <td>[web, email, mobile, social]</td>\n",
       "      <td>7</td>\n",
       "      <td>7</td>\n",
       "      <td>discount</td>\n",
       "      <td>2298d6c36e964ae4a3e7e9706d1fb8c2</td>\n",
       "    </tr>\n",
       "    <tr>\n",
       "      <th>0</th>\n",
       "      <td>10</td>\n",
       "      <td>[email, mobile, social]</td>\n",
       "      <td>10</td>\n",
       "      <td>7</td>\n",
       "      <td>bogo</td>\n",
       "      <td>ae264e3637204a6fb9bb56bc8210ddfd</td>\n",
       "    </tr>\n",
       "    <tr>\n",
       "      <th>1</th>\n",
       "      <td>10</td>\n",
       "      <td>[web, email, mobile, social]</td>\n",
       "      <td>10</td>\n",
       "      <td>5</td>\n",
       "      <td>bogo</td>\n",
       "      <td>4d5c57ea9a6940dd891ad53e9dbe8da0</td>\n",
       "    </tr>\n",
       "    <tr>\n",
       "      <th>3</th>\n",
       "      <td>5</td>\n",
       "      <td>[web, email, mobile]</td>\n",
       "      <td>5</td>\n",
       "      <td>7</td>\n",
       "      <td>bogo</td>\n",
       "      <td>9b98b8c7a33c4b65b9aebfe6a799e6d9</td>\n",
       "    </tr>\n",
       "    <tr>\n",
       "      <th>4</th>\n",
       "      <td>5</td>\n",
       "      <td>[web, email]</td>\n",
       "      <td>20</td>\n",
       "      <td>10</td>\n",
       "      <td>discount</td>\n",
       "      <td>0b1e1539f2cc45b7b9fa7c272da2e1d7</td>\n",
       "    </tr>\n",
       "    <tr>\n",
       "      <th>6</th>\n",
       "      <td>2</td>\n",
       "      <td>[web, email, mobile, social]</td>\n",
       "      <td>10</td>\n",
       "      <td>10</td>\n",
       "      <td>discount</td>\n",
       "      <td>fafdcd668e3743c1bb461111dcafc2a4</td>\n",
       "    </tr>\n",
       "    <tr>\n",
       "      <th>8</th>\n",
       "      <td>5</td>\n",
       "      <td>[web, email, mobile, social]</td>\n",
       "      <td>5</td>\n",
       "      <td>5</td>\n",
       "      <td>bogo</td>\n",
       "      <td>f19421c1d4aa40978ebb69ca19b0e20d</td>\n",
       "    </tr>\n",
       "    <tr>\n",
       "      <th>7</th>\n",
       "      <td>0</td>\n",
       "      <td>[email, mobile, social]</td>\n",
       "      <td>0</td>\n",
       "      <td>3</td>\n",
       "      <td>informational</td>\n",
       "      <td>5a8bc65990b245e5a138643cd4eb9837</td>\n",
       "    </tr>\n",
       "    <tr>\n",
       "      <th>9</th>\n",
       "      <td>2</td>\n",
       "      <td>[web, email, mobile]</td>\n",
       "      <td>10</td>\n",
       "      <td>7</td>\n",
       "      <td>discount</td>\n",
       "      <td>2906b810c7d4411798c6938adc9daaa5</td>\n",
       "    </tr>\n",
       "  </tbody>\n",
       "</table>\n",
       "</div>"
      ],
      "text/plain": [
       "   reward                      channels  difficulty  duration     offer_type  \\\n",
       "2       0          [web, email, mobile]           0         4  informational   \n",
       "5       3  [web, email, mobile, social]           7         7       discount   \n",
       "0      10       [email, mobile, social]          10         7           bogo   \n",
       "1      10  [web, email, mobile, social]          10         5           bogo   \n",
       "3       5          [web, email, mobile]           5         7           bogo   \n",
       "4       5                  [web, email]          20        10       discount   \n",
       "6       2  [web, email, mobile, social]          10        10       discount   \n",
       "8       5  [web, email, mobile, social]           5         5           bogo   \n",
       "7       0       [email, mobile, social]           0         3  informational   \n",
       "9       2          [web, email, mobile]          10         7       discount   \n",
       "\n",
       "                                 id  \n",
       "2  3f207df678b143eea3cee63160fa8bed  \n",
       "5  2298d6c36e964ae4a3e7e9706d1fb8c2  \n",
       "0  ae264e3637204a6fb9bb56bc8210ddfd  \n",
       "1  4d5c57ea9a6940dd891ad53e9dbe8da0  \n",
       "3  9b98b8c7a33c4b65b9aebfe6a799e6d9  \n",
       "4  0b1e1539f2cc45b7b9fa7c272da2e1d7  \n",
       "6  fafdcd668e3743c1bb461111dcafc2a4  \n",
       "8  f19421c1d4aa40978ebb69ca19b0e20d  \n",
       "7  5a8bc65990b245e5a138643cd4eb9837  \n",
       "9  2906b810c7d4411798c6938adc9daaa5  "
      ]
     },
     "execution_count": 74,
     "metadata": {},
     "output_type": "execute_result"
    }
   ],
   "source": [
    "# Glimpse of data\n",
    "portfolio_data.sample(10)"
   ]
  },
  {
   "cell_type": "code",
   "execution_count": 75,
   "id": "52edae91",
   "metadata": {
    "ExecuteTime": {
     "end_time": "2021-05-10T07:31:35.953535Z",
     "start_time": "2021-05-10T07:31:35.903791Z"
    }
   },
   "outputs": [
    {
     "data": {
      "text/html": [
       "<div>\n",
       "<style scoped>\n",
       "    .dataframe tbody tr th:only-of-type {\n",
       "        vertical-align: middle;\n",
       "    }\n",
       "\n",
       "    .dataframe tbody tr th {\n",
       "        vertical-align: top;\n",
       "    }\n",
       "\n",
       "    .dataframe thead th {\n",
       "        text-align: right;\n",
       "    }\n",
       "</style>\n",
       "<table border=\"1\" class=\"dataframe\">\n",
       "  <thead>\n",
       "    <tr style=\"text-align: right;\">\n",
       "      <th></th>\n",
       "      <th>gender</th>\n",
       "      <th>age</th>\n",
       "      <th>id</th>\n",
       "      <th>became_member_on</th>\n",
       "      <th>income</th>\n",
       "    </tr>\n",
       "  </thead>\n",
       "  <tbody>\n",
       "    <tr>\n",
       "      <th>4229</th>\n",
       "      <td>F</td>\n",
       "      <td>41</td>\n",
       "      <td>a7d1c458a2844d138ecd7f2b189c22fe</td>\n",
       "      <td>20160205</td>\n",
       "      <td>64000.0</td>\n",
       "    </tr>\n",
       "    <tr>\n",
       "      <th>9599</th>\n",
       "      <td>None</td>\n",
       "      <td>118</td>\n",
       "      <td>6312a8be2d0b41ccb5aafff9eeefd71b</td>\n",
       "      <td>20160107</td>\n",
       "      <td>NaN</td>\n",
       "    </tr>\n",
       "    <tr>\n",
       "      <th>11308</th>\n",
       "      <td>M</td>\n",
       "      <td>25</td>\n",
       "      <td>5598e3ad9e6c470abf0c7e8371fbfb53</td>\n",
       "      <td>20180206</td>\n",
       "      <td>38000.0</td>\n",
       "    </tr>\n",
       "    <tr>\n",
       "      <th>488</th>\n",
       "      <td>F</td>\n",
       "      <td>48</td>\n",
       "      <td>854128de8f934c7ab4c967829fe53711</td>\n",
       "      <td>20180722</td>\n",
       "      <td>47000.0</td>\n",
       "    </tr>\n",
       "    <tr>\n",
       "      <th>10626</th>\n",
       "      <td>M</td>\n",
       "      <td>68</td>\n",
       "      <td>c9c8f400a644462fa21759d49445bff1</td>\n",
       "      <td>20140429</td>\n",
       "      <td>51000.0</td>\n",
       "    </tr>\n",
       "    <tr>\n",
       "      <th>14392</th>\n",
       "      <td>M</td>\n",
       "      <td>51</td>\n",
       "      <td>798033d6679e4a4abb6417400998126c</td>\n",
       "      <td>20160602</td>\n",
       "      <td>67000.0</td>\n",
       "    </tr>\n",
       "    <tr>\n",
       "      <th>9728</th>\n",
       "      <td>M</td>\n",
       "      <td>49</td>\n",
       "      <td>d404110ac63349a3972ef63e74490154</td>\n",
       "      <td>20170829</td>\n",
       "      <td>53000.0</td>\n",
       "    </tr>\n",
       "    <tr>\n",
       "      <th>7409</th>\n",
       "      <td>M</td>\n",
       "      <td>43</td>\n",
       "      <td>fbfe4e14cb5147d2b0ce619378b40069</td>\n",
       "      <td>20140621</td>\n",
       "      <td>73000.0</td>\n",
       "    </tr>\n",
       "    <tr>\n",
       "      <th>3005</th>\n",
       "      <td>F</td>\n",
       "      <td>52</td>\n",
       "      <td>4788579ab245498e86c76354d69c03dc</td>\n",
       "      <td>20160920</td>\n",
       "      <td>79000.0</td>\n",
       "    </tr>\n",
       "    <tr>\n",
       "      <th>278</th>\n",
       "      <td>F</td>\n",
       "      <td>55</td>\n",
       "      <td>fbc039723b044dfd8a1723a976d667d9</td>\n",
       "      <td>20160505</td>\n",
       "      <td>54000.0</td>\n",
       "    </tr>\n",
       "  </tbody>\n",
       "</table>\n",
       "</div>"
      ],
      "text/plain": [
       "      gender  age                                id  became_member_on   income\n",
       "4229       F   41  a7d1c458a2844d138ecd7f2b189c22fe          20160205  64000.0\n",
       "9599    None  118  6312a8be2d0b41ccb5aafff9eeefd71b          20160107      NaN\n",
       "11308      M   25  5598e3ad9e6c470abf0c7e8371fbfb53          20180206  38000.0\n",
       "488        F   48  854128de8f934c7ab4c967829fe53711          20180722  47000.0\n",
       "10626      M   68  c9c8f400a644462fa21759d49445bff1          20140429  51000.0\n",
       "14392      M   51  798033d6679e4a4abb6417400998126c          20160602  67000.0\n",
       "9728       M   49  d404110ac63349a3972ef63e74490154          20170829  53000.0\n",
       "7409       M   43  fbfe4e14cb5147d2b0ce619378b40069          20140621  73000.0\n",
       "3005       F   52  4788579ab245498e86c76354d69c03dc          20160920  79000.0\n",
       "278        F   55  fbc039723b044dfd8a1723a976d667d9          20160505  54000.0"
      ]
     },
     "execution_count": 75,
     "metadata": {},
     "output_type": "execute_result"
    }
   ],
   "source": [
    "profile_data.sample(10)"
   ]
  },
  {
   "cell_type": "code",
   "execution_count": 76,
   "id": "a6a0700a",
   "metadata": {
    "ExecuteTime": {
     "end_time": "2021-05-10T07:31:36.051482Z",
     "start_time": "2021-05-10T07:31:35.961041Z"
    }
   },
   "outputs": [
    {
     "data": {
      "text/html": [
       "<div>\n",
       "<style scoped>\n",
       "    .dataframe tbody tr th:only-of-type {\n",
       "        vertical-align: middle;\n",
       "    }\n",
       "\n",
       "    .dataframe tbody tr th {\n",
       "        vertical-align: top;\n",
       "    }\n",
       "\n",
       "    .dataframe thead th {\n",
       "        text-align: right;\n",
       "    }\n",
       "</style>\n",
       "<table border=\"1\" class=\"dataframe\">\n",
       "  <thead>\n",
       "    <tr style=\"text-align: right;\">\n",
       "      <th></th>\n",
       "      <th>person</th>\n",
       "      <th>event</th>\n",
       "      <th>value</th>\n",
       "      <th>time</th>\n",
       "    </tr>\n",
       "  </thead>\n",
       "  <tbody>\n",
       "    <tr>\n",
       "      <th>260386</th>\n",
       "      <td>7e9387535eef47bc8e2efc3263be69de</td>\n",
       "      <td>offer viewed</td>\n",
       "      <td>{'offer id': 'f19421c1d4aa40978ebb69ca19b0e20d'}</td>\n",
       "      <td>576</td>\n",
       "    </tr>\n",
       "    <tr>\n",
       "      <th>260776</th>\n",
       "      <td>1b3ad49a387943bcb2aa9b5d21d24715</td>\n",
       "      <td>transaction</td>\n",
       "      <td>{'amount': 29.85}</td>\n",
       "      <td>576</td>\n",
       "    </tr>\n",
       "    <tr>\n",
       "      <th>162715</th>\n",
       "      <td>9b7fd7a0cbfe4dcbb952f3725a61aa41</td>\n",
       "      <td>offer received</td>\n",
       "      <td>{'offer id': '2298d6c36e964ae4a3e7e9706d1fb8c2'}</td>\n",
       "      <td>408</td>\n",
       "    </tr>\n",
       "    <tr>\n",
       "      <th>60588</th>\n",
       "      <td>8cc0db430879405898d8390ca74ad13a</td>\n",
       "      <td>offer received</td>\n",
       "      <td>{'offer id': 'fafdcd668e3743c1bb461111dcafc2a4'}</td>\n",
       "      <td>168</td>\n",
       "    </tr>\n",
       "    <tr>\n",
       "      <th>13286</th>\n",
       "      <td>12da1e886d0c405299369ee3f0d975e1</td>\n",
       "      <td>offer viewed</td>\n",
       "      <td>{'offer id': '2298d6c36e964ae4a3e7e9706d1fb8c2'}</td>\n",
       "      <td>0</td>\n",
       "    </tr>\n",
       "    <tr>\n",
       "      <th>32522</th>\n",
       "      <td>37052ed3ff944ac291e47696cffb8efd</td>\n",
       "      <td>offer completed</td>\n",
       "      <td>{'offer_id': 'fafdcd668e3743c1bb461111dcafc2a4...</td>\n",
       "      <td>54</td>\n",
       "    </tr>\n",
       "    <tr>\n",
       "      <th>7442</th>\n",
       "      <td>a02fb3387e4248e59d67931547dbc575</td>\n",
       "      <td>offer received</td>\n",
       "      <td>{'offer id': '2906b810c7d4411798c6938adc9daaa5'}</td>\n",
       "      <td>0</td>\n",
       "    </tr>\n",
       "    <tr>\n",
       "      <th>204447</th>\n",
       "      <td>f8f76e7cdf4c42e2a8c08c225ee7e038</td>\n",
       "      <td>offer received</td>\n",
       "      <td>{'offer id': 'f19421c1d4aa40978ebb69ca19b0e20d'}</td>\n",
       "      <td>504</td>\n",
       "    </tr>\n",
       "    <tr>\n",
       "      <th>67796</th>\n",
       "      <td>2de5d49cd5c740a39aa3637228ca39d9</td>\n",
       "      <td>offer completed</td>\n",
       "      <td>{'offer_id': '2298d6c36e964ae4a3e7e9706d1fb8c2...</td>\n",
       "      <td>168</td>\n",
       "    </tr>\n",
       "    <tr>\n",
       "      <th>254009</th>\n",
       "      <td>f8d5bbfd39f541888eddc357a8e4e6e2</td>\n",
       "      <td>offer received</td>\n",
       "      <td>{'offer id': '9b98b8c7a33c4b65b9aebfe6a799e6d9'}</td>\n",
       "      <td>576</td>\n",
       "    </tr>\n",
       "  </tbody>\n",
       "</table>\n",
       "</div>"
      ],
      "text/plain": [
       "                                  person            event  \\\n",
       "260386  7e9387535eef47bc8e2efc3263be69de     offer viewed   \n",
       "260776  1b3ad49a387943bcb2aa9b5d21d24715      transaction   \n",
       "162715  9b7fd7a0cbfe4dcbb952f3725a61aa41   offer received   \n",
       "60588   8cc0db430879405898d8390ca74ad13a   offer received   \n",
       "13286   12da1e886d0c405299369ee3f0d975e1     offer viewed   \n",
       "32522   37052ed3ff944ac291e47696cffb8efd  offer completed   \n",
       "7442    a02fb3387e4248e59d67931547dbc575   offer received   \n",
       "204447  f8f76e7cdf4c42e2a8c08c225ee7e038   offer received   \n",
       "67796   2de5d49cd5c740a39aa3637228ca39d9  offer completed   \n",
       "254009  f8d5bbfd39f541888eddc357a8e4e6e2   offer received   \n",
       "\n",
       "                                                    value  time  \n",
       "260386   {'offer id': 'f19421c1d4aa40978ebb69ca19b0e20d'}   576  \n",
       "260776                                  {'amount': 29.85}   576  \n",
       "162715   {'offer id': '2298d6c36e964ae4a3e7e9706d1fb8c2'}   408  \n",
       "60588    {'offer id': 'fafdcd668e3743c1bb461111dcafc2a4'}   168  \n",
       "13286    {'offer id': '2298d6c36e964ae4a3e7e9706d1fb8c2'}     0  \n",
       "32522   {'offer_id': 'fafdcd668e3743c1bb461111dcafc2a4...    54  \n",
       "7442     {'offer id': '2906b810c7d4411798c6938adc9daaa5'}     0  \n",
       "204447   {'offer id': 'f19421c1d4aa40978ebb69ca19b0e20d'}   504  \n",
       "67796   {'offer_id': '2298d6c36e964ae4a3e7e9706d1fb8c2...   168  \n",
       "254009   {'offer id': '9b98b8c7a33c4b65b9aebfe6a799e6d9'}   576  "
      ]
     },
     "execution_count": 76,
     "metadata": {},
     "output_type": "execute_result"
    }
   ],
   "source": [
    "transcript_data.sample(10)"
   ]
  },
  {
   "cell_type": "markdown",
   "id": "05ab71c5",
   "metadata": {},
   "source": [
    "#### Info on the data"
   ]
  },
  {
   "cell_type": "code",
   "execution_count": 77,
   "id": "2ed01bf4",
   "metadata": {
    "ExecuteTime": {
     "end_time": "2021-05-10T07:31:36.106210Z",
     "start_time": "2021-05-10T07:31:36.058813Z"
    }
   },
   "outputs": [
    {
     "name": "stdout",
     "output_type": "stream",
     "text": [
      "<class 'pandas.core.frame.DataFrame'>\n",
      "RangeIndex: 10 entries, 0 to 9\n",
      "Data columns (total 6 columns):\n",
      " #   Column      Non-Null Count  Dtype \n",
      "---  ------      --------------  ----- \n",
      " 0   reward      10 non-null     int64 \n",
      " 1   channels    10 non-null     object\n",
      " 2   difficulty  10 non-null     int64 \n",
      " 3   duration    10 non-null     int64 \n",
      " 4   offer_type  10 non-null     object\n",
      " 5   id          10 non-null     object\n",
      "dtypes: int64(3), object(3)\n",
      "memory usage: 608.0+ bytes\n"
     ]
    }
   ],
   "source": [
    "# Info of data\n",
    "portfolio_data.info()"
   ]
  },
  {
   "cell_type": "code",
   "execution_count": 78,
   "id": "a2f91485",
   "metadata": {
    "ExecuteTime": {
     "end_time": "2021-05-10T07:31:36.147924Z",
     "start_time": "2021-05-10T07:31:36.111419Z"
    }
   },
   "outputs": [
    {
     "name": "stdout",
     "output_type": "stream",
     "text": [
      "<class 'pandas.core.frame.DataFrame'>\n",
      "RangeIndex: 17000 entries, 0 to 16999\n",
      "Data columns (total 5 columns):\n",
      " #   Column            Non-Null Count  Dtype  \n",
      "---  ------            --------------  -----  \n",
      " 0   gender            14825 non-null  object \n",
      " 1   age               17000 non-null  int64  \n",
      " 2   id                17000 non-null  object \n",
      " 3   became_member_on  17000 non-null  int64  \n",
      " 4   income            14825 non-null  float64\n",
      "dtypes: float64(1), int64(2), object(2)\n",
      "memory usage: 664.2+ KB\n"
     ]
    }
   ],
   "source": [
    "profile_data.info()"
   ]
  },
  {
   "cell_type": "code",
   "execution_count": 79,
   "id": "1179891e",
   "metadata": {
    "ExecuteTime": {
     "end_time": "2021-05-10T07:31:36.311605Z",
     "start_time": "2021-05-10T07:31:36.157867Z"
    }
   },
   "outputs": [
    {
     "name": "stdout",
     "output_type": "stream",
     "text": [
      "<class 'pandas.core.frame.DataFrame'>\n",
      "RangeIndex: 306534 entries, 0 to 306533\n",
      "Data columns (total 4 columns):\n",
      " #   Column  Non-Null Count   Dtype \n",
      "---  ------  --------------   ----- \n",
      " 0   person  306534 non-null  object\n",
      " 1   event   306534 non-null  object\n",
      " 2   value   306534 non-null  object\n",
      " 3   time    306534 non-null  int64 \n",
      "dtypes: int64(1), object(3)\n",
      "memory usage: 9.4+ MB\n"
     ]
    }
   ],
   "source": [
    "transcript_data.info()"
   ]
  },
  {
   "cell_type": "markdown",
   "id": "2b942fdd",
   "metadata": {},
   "source": [
    " #### Description of the data"
   ]
  },
  {
   "cell_type": "code",
   "execution_count": 80,
   "id": "1ee24377",
   "metadata": {
    "ExecuteTime": {
     "end_time": "2021-05-10T07:31:36.376199Z",
     "start_time": "2021-05-10T07:31:36.318776Z"
    }
   },
   "outputs": [
    {
     "data": {
      "text/html": [
       "<div>\n",
       "<style scoped>\n",
       "    .dataframe tbody tr th:only-of-type {\n",
       "        vertical-align: middle;\n",
       "    }\n",
       "\n",
       "    .dataframe tbody tr th {\n",
       "        vertical-align: top;\n",
       "    }\n",
       "\n",
       "    .dataframe thead th {\n",
       "        text-align: right;\n",
       "    }\n",
       "</style>\n",
       "<table border=\"1\" class=\"dataframe\">\n",
       "  <thead>\n",
       "    <tr style=\"text-align: right;\">\n",
       "      <th></th>\n",
       "      <th>reward</th>\n",
       "      <th>difficulty</th>\n",
       "      <th>duration</th>\n",
       "    </tr>\n",
       "  </thead>\n",
       "  <tbody>\n",
       "    <tr>\n",
       "      <th>count</th>\n",
       "      <td>10.000000</td>\n",
       "      <td>10.000000</td>\n",
       "      <td>10.000000</td>\n",
       "    </tr>\n",
       "    <tr>\n",
       "      <th>mean</th>\n",
       "      <td>4.200000</td>\n",
       "      <td>7.700000</td>\n",
       "      <td>6.500000</td>\n",
       "    </tr>\n",
       "    <tr>\n",
       "      <th>std</th>\n",
       "      <td>3.583915</td>\n",
       "      <td>5.831905</td>\n",
       "      <td>2.321398</td>\n",
       "    </tr>\n",
       "    <tr>\n",
       "      <th>min</th>\n",
       "      <td>0.000000</td>\n",
       "      <td>0.000000</td>\n",
       "      <td>3.000000</td>\n",
       "    </tr>\n",
       "    <tr>\n",
       "      <th>25%</th>\n",
       "      <td>2.000000</td>\n",
       "      <td>5.000000</td>\n",
       "      <td>5.000000</td>\n",
       "    </tr>\n",
       "    <tr>\n",
       "      <th>50%</th>\n",
       "      <td>4.000000</td>\n",
       "      <td>8.500000</td>\n",
       "      <td>7.000000</td>\n",
       "    </tr>\n",
       "    <tr>\n",
       "      <th>75%</th>\n",
       "      <td>5.000000</td>\n",
       "      <td>10.000000</td>\n",
       "      <td>7.000000</td>\n",
       "    </tr>\n",
       "    <tr>\n",
       "      <th>max</th>\n",
       "      <td>10.000000</td>\n",
       "      <td>20.000000</td>\n",
       "      <td>10.000000</td>\n",
       "    </tr>\n",
       "  </tbody>\n",
       "</table>\n",
       "</div>"
      ],
      "text/plain": [
       "          reward  difficulty   duration\n",
       "count  10.000000   10.000000  10.000000\n",
       "mean    4.200000    7.700000   6.500000\n",
       "std     3.583915    5.831905   2.321398\n",
       "min     0.000000    0.000000   3.000000\n",
       "25%     2.000000    5.000000   5.000000\n",
       "50%     4.000000    8.500000   7.000000\n",
       "75%     5.000000   10.000000   7.000000\n",
       "max    10.000000   20.000000  10.000000"
      ]
     },
     "execution_count": 80,
     "metadata": {},
     "output_type": "execute_result"
    }
   ],
   "source": [
    "portfolio_data.describe()\n",
    "\n",
    "# low standard deviation that means similar reward and difficulty settings on offers."
   ]
  },
  {
   "cell_type": "code",
   "execution_count": 81,
   "id": "8270621f",
   "metadata": {
    "ExecuteTime": {
     "end_time": "2021-05-10T07:31:36.443664Z",
     "start_time": "2021-05-10T07:31:36.382100Z"
    }
   },
   "outputs": [
    {
     "data": {
      "text/html": [
       "<div>\n",
       "<style scoped>\n",
       "    .dataframe tbody tr th:only-of-type {\n",
       "        vertical-align: middle;\n",
       "    }\n",
       "\n",
       "    .dataframe tbody tr th {\n",
       "        vertical-align: top;\n",
       "    }\n",
       "\n",
       "    .dataframe thead th {\n",
       "        text-align: right;\n",
       "    }\n",
       "</style>\n",
       "<table border=\"1\" class=\"dataframe\">\n",
       "  <thead>\n",
       "    <tr style=\"text-align: right;\">\n",
       "      <th></th>\n",
       "      <th>age</th>\n",
       "      <th>became_member_on</th>\n",
       "      <th>income</th>\n",
       "    </tr>\n",
       "  </thead>\n",
       "  <tbody>\n",
       "    <tr>\n",
       "      <th>count</th>\n",
       "      <td>17000.000000</td>\n",
       "      <td>1.700000e+04</td>\n",
       "      <td>14825.000000</td>\n",
       "    </tr>\n",
       "    <tr>\n",
       "      <th>mean</th>\n",
       "      <td>62.531412</td>\n",
       "      <td>2.016703e+07</td>\n",
       "      <td>65404.991568</td>\n",
       "    </tr>\n",
       "    <tr>\n",
       "      <th>std</th>\n",
       "      <td>26.738580</td>\n",
       "      <td>1.167750e+04</td>\n",
       "      <td>21598.299410</td>\n",
       "    </tr>\n",
       "    <tr>\n",
       "      <th>min</th>\n",
       "      <td>18.000000</td>\n",
       "      <td>2.013073e+07</td>\n",
       "      <td>30000.000000</td>\n",
       "    </tr>\n",
       "    <tr>\n",
       "      <th>25%</th>\n",
       "      <td>45.000000</td>\n",
       "      <td>2.016053e+07</td>\n",
       "      <td>49000.000000</td>\n",
       "    </tr>\n",
       "    <tr>\n",
       "      <th>50%</th>\n",
       "      <td>58.000000</td>\n",
       "      <td>2.017080e+07</td>\n",
       "      <td>64000.000000</td>\n",
       "    </tr>\n",
       "    <tr>\n",
       "      <th>75%</th>\n",
       "      <td>73.000000</td>\n",
       "      <td>2.017123e+07</td>\n",
       "      <td>80000.000000</td>\n",
       "    </tr>\n",
       "    <tr>\n",
       "      <th>max</th>\n",
       "      <td>118.000000</td>\n",
       "      <td>2.018073e+07</td>\n",
       "      <td>120000.000000</td>\n",
       "    </tr>\n",
       "  </tbody>\n",
       "</table>\n",
       "</div>"
      ],
      "text/plain": [
       "                age  became_member_on         income\n",
       "count  17000.000000      1.700000e+04   14825.000000\n",
       "mean      62.531412      2.016703e+07   65404.991568\n",
       "std       26.738580      1.167750e+04   21598.299410\n",
       "min       18.000000      2.013073e+07   30000.000000\n",
       "25%       45.000000      2.016053e+07   49000.000000\n",
       "50%       58.000000      2.017080e+07   64000.000000\n",
       "75%       73.000000      2.017123e+07   80000.000000\n",
       "max      118.000000      2.018073e+07  120000.000000"
      ]
     },
     "execution_count": 81,
     "metadata": {},
     "output_type": "execute_result"
    }
   ],
   "source": [
    "profile_data.describe()\n",
    "\n",
    "# Reasonable standard deviation of age\n",
    "# High standard deviation in income"
   ]
  },
  {
   "cell_type": "code",
   "execution_count": 82,
   "id": "f0266cca",
   "metadata": {
    "ExecuteTime": {
     "end_time": "2021-05-10T07:31:36.498724Z",
     "start_time": "2021-05-10T07:31:36.446668Z"
    }
   },
   "outputs": [
    {
     "data": {
      "text/html": [
       "<div>\n",
       "<style scoped>\n",
       "    .dataframe tbody tr th:only-of-type {\n",
       "        vertical-align: middle;\n",
       "    }\n",
       "\n",
       "    .dataframe tbody tr th {\n",
       "        vertical-align: top;\n",
       "    }\n",
       "\n",
       "    .dataframe thead th {\n",
       "        text-align: right;\n",
       "    }\n",
       "</style>\n",
       "<table border=\"1\" class=\"dataframe\">\n",
       "  <thead>\n",
       "    <tr style=\"text-align: right;\">\n",
       "      <th></th>\n",
       "      <th>time</th>\n",
       "    </tr>\n",
       "  </thead>\n",
       "  <tbody>\n",
       "    <tr>\n",
       "      <th>count</th>\n",
       "      <td>306534.000000</td>\n",
       "    </tr>\n",
       "    <tr>\n",
       "      <th>mean</th>\n",
       "      <td>366.382940</td>\n",
       "    </tr>\n",
       "    <tr>\n",
       "      <th>std</th>\n",
       "      <td>200.326314</td>\n",
       "    </tr>\n",
       "    <tr>\n",
       "      <th>min</th>\n",
       "      <td>0.000000</td>\n",
       "    </tr>\n",
       "    <tr>\n",
       "      <th>25%</th>\n",
       "      <td>186.000000</td>\n",
       "    </tr>\n",
       "    <tr>\n",
       "      <th>50%</th>\n",
       "      <td>408.000000</td>\n",
       "    </tr>\n",
       "    <tr>\n",
       "      <th>75%</th>\n",
       "      <td>528.000000</td>\n",
       "    </tr>\n",
       "    <tr>\n",
       "      <th>max</th>\n",
       "      <td>714.000000</td>\n",
       "    </tr>\n",
       "  </tbody>\n",
       "</table>\n",
       "</div>"
      ],
      "text/plain": [
       "                time\n",
       "count  306534.000000\n",
       "mean      366.382940\n",
       "std       200.326314\n",
       "min         0.000000\n",
       "25%       186.000000\n",
       "50%       408.000000\n",
       "75%       528.000000\n",
       "max       714.000000"
      ]
     },
     "execution_count": 82,
     "metadata": {},
     "output_type": "execute_result"
    }
   ],
   "source": [
    "transcript_data.describe()\n",
    "\n",
    "# Nothing to infer"
   ]
  },
  {
   "cell_type": "markdown",
   "id": "7da366a0",
   "metadata": {},
   "source": [
    "#### Checking for duplicates"
   ]
  },
  {
   "cell_type": "code",
   "execution_count": 83,
   "id": "45432401",
   "metadata": {
    "ExecuteTime": {
     "end_time": "2021-05-10T07:31:36.523950Z",
     "start_time": "2021-05-10T07:31:36.502728Z"
    }
   },
   "outputs": [
    {
     "data": {
      "text/plain": [
       "0"
      ]
     },
     "execution_count": 83,
     "metadata": {},
     "output_type": "execute_result"
    }
   ],
   "source": [
    "# Checking same offer ids which means same offer\n",
    "portfolio_data.id.duplicated().sum()\n",
    "\n",
    "# No duplicates in portfolio data"
   ]
  },
  {
   "cell_type": "code",
   "execution_count": 84,
   "id": "4b9ce6e0",
   "metadata": {
    "ExecuteTime": {
     "end_time": "2021-05-10T07:31:36.552570Z",
     "start_time": "2021-05-10T07:31:36.529334Z"
    }
   },
   "outputs": [
    {
     "data": {
      "text/plain": [
       "0"
      ]
     },
     "execution_count": 84,
     "metadata": {},
     "output_type": "execute_result"
    }
   ],
   "source": [
    "# Checking duplicates in profile data on customer id\n",
    "profile_data.id.duplicated().sum()\n",
    "\n",
    "# No duplicates"
   ]
  },
  {
   "cell_type": "code",
   "execution_count": 85,
   "id": "06776ca8",
   "metadata": {
    "ExecuteTime": {
     "end_time": "2021-05-10T07:31:36.664394Z",
     "start_time": "2021-05-10T07:31:36.556617Z"
    }
   },
   "outputs": [
    {
     "data": {
      "text/plain": [
       "289534"
      ]
     },
     "execution_count": 85,
     "metadata": {},
     "output_type": "execute_result"
    }
   ],
   "source": [
    "# Checking duplicates in transcript data on person(customer id)\n",
    "transcript_data.person.duplicated().sum()\n",
    "\n",
    "# These number of people have multiple orders."
   ]
  },
  {
   "cell_type": "markdown",
   "id": "91b939c2",
   "metadata": {},
   "source": [
    "- **No duplicates in portfolio data**\n",
    "- **No duplicates in profile data**\n",
    "- **289534 number of people have multiple orders. What to do will be decided later depending on data.**"
   ]
  },
  {
   "cell_type": "markdown",
   "id": "d358d0a8",
   "metadata": {},
   "source": [
    "#### Checking for Null values"
   ]
  },
  {
   "cell_type": "code",
   "execution_count": 86,
   "id": "f67b2639",
   "metadata": {
    "ExecuteTime": {
     "end_time": "2021-05-10T07:31:36.693176Z",
     "start_time": "2021-05-10T07:31:36.669854Z"
    }
   },
   "outputs": [
    {
     "name": "stdout",
     "output_type": "stream",
     "text": [
      "reward        0\n",
      "channels      0\n",
      "difficulty    0\n",
      "duration      0\n",
      "offer_type    0\n",
      "id            0\n",
      "dtype: int64\n"
     ]
    }
   ],
   "source": [
    "# Portfolio data\n",
    "print(portfolio_data.isna().sum())\n",
    "\n",
    "# No null values"
   ]
  },
  {
   "cell_type": "code",
   "execution_count": 87,
   "id": "5312915d",
   "metadata": {
    "ExecuteTime": {
     "end_time": "2021-05-10T07:31:36.730838Z",
     "start_time": "2021-05-10T07:31:36.698178Z"
    }
   },
   "outputs": [
    {
     "name": "stdout",
     "output_type": "stream",
     "text": [
      "gender              2175\n",
      "age                    0\n",
      "id                     0\n",
      "became_member_on       0\n",
      "income              2175\n",
      "dtype: int64\n",
      "\n",
      "Percentage of data missing:  0.12794117647058822\n"
     ]
    }
   ],
   "source": [
    "# Profile data\n",
    "print(profile_data.isna().sum())\n",
    "\n",
    "# Gender has null values\n",
    "# Checking percentage of null values\n",
    "print('\\nPercentage of data missing: ', profile_data.gender.isna().sum() / profile_data.shape[0])"
   ]
  },
  {
   "cell_type": "code",
   "execution_count": 88,
   "id": "a21922d1",
   "metadata": {
    "ExecuteTime": {
     "end_time": "2021-05-10T07:31:36.873185Z",
     "start_time": "2021-05-10T07:31:36.736003Z"
    }
   },
   "outputs": [
    {
     "data": {
      "text/plain": [
       "person    0\n",
       "event     0\n",
       "value     0\n",
       "time      0\n",
       "dtype: int64"
      ]
     },
     "execution_count": 88,
     "metadata": {},
     "output_type": "execute_result"
    }
   ],
   "source": [
    "# Transcript data\n",
    "transcript_data.isna().sum()\n",
    "\n",
    "# No null values"
   ]
  },
  {
   "cell_type": "markdown",
   "id": "c68ae7f5",
   "metadata": {},
   "source": [
    "- **No missing data in portfolio and transcript but about 13% gender data missing in profile and that can be removed.**\n",
    "- This may increase as we have to merge data of profile and transcript."
   ]
  },
  {
   "cell_type": "markdown",
   "id": "39de3195",
   "metadata": {},
   "source": [
    "### Access Summary"
   ]
  },
  {
   "cell_type": "markdown",
   "id": "506f5866",
   "metadata": {},
   "source": [
    "***Tidiness Issues***\n",
    "- Portfolio data has channels in the form of list\n",
    "- Transcript data has value column containg items in the form of dictionary.\n",
    "\n",
    "***Quality Issues***\n",
    "- Profile data has gender and income column containing null values\n",
    "- became_member_on_column not in datetime format\n",
    "- Renaming columns to merge data\n",
    "- Converting symbols M, F, O to Male, Female, Others."
   ]
  },
  {
   "cell_type": "markdown",
   "id": "b0028572",
   "metadata": {},
   "source": [
    "### *Clean Data*"
   ]
  },
  {
   "cell_type": "code",
   "execution_count": 89,
   "id": "41187f0d",
   "metadata": {
    "ExecuteTime": {
     "end_time": "2021-05-10T07:31:36.947625Z",
     "start_time": "2021-05-10T07:31:36.877228Z"
    }
   },
   "outputs": [],
   "source": [
    "# Creating copies of the data\n",
    "portfolio_data_temp = portfolio_data.copy()\n",
    "profile_data_temp = profile_data.copy()\n",
    "transcript_data_temp = transcript_data.copy()"
   ]
  },
  {
   "cell_type": "markdown",
   "id": "56aa8bfe",
   "metadata": {},
   "source": [
    "**Define** "
   ]
  },
  {
   "cell_type": "markdown",
   "id": "generic-bosnia",
   "metadata": {},
   "source": [
    "***Portfolio data has channels in the form of list***"
   ]
  },
  {
   "cell_type": "code",
   "execution_count": 90,
   "id": "cbb8e722",
   "metadata": {
    "ExecuteTime": {
     "end_time": "2021-05-10T07:31:36.998280Z",
     "start_time": "2021-05-10T07:31:36.951634Z"
    }
   },
   "outputs": [
    {
     "data": {
      "text/html": [
       "<div>\n",
       "<style scoped>\n",
       "    .dataframe tbody tr th:only-of-type {\n",
       "        vertical-align: middle;\n",
       "    }\n",
       "\n",
       "    .dataframe tbody tr th {\n",
       "        vertical-align: top;\n",
       "    }\n",
       "\n",
       "    .dataframe thead th {\n",
       "        text-align: right;\n",
       "    }\n",
       "</style>\n",
       "<table border=\"1\" class=\"dataframe\">\n",
       "  <thead>\n",
       "    <tr style=\"text-align: right;\">\n",
       "      <th></th>\n",
       "      <th>reward</th>\n",
       "      <th>channels</th>\n",
       "      <th>difficulty</th>\n",
       "      <th>duration</th>\n",
       "      <th>offer_type</th>\n",
       "      <th>id</th>\n",
       "    </tr>\n",
       "  </thead>\n",
       "  <tbody>\n",
       "    <tr>\n",
       "      <th>0</th>\n",
       "      <td>10</td>\n",
       "      <td>[email, mobile, social]</td>\n",
       "      <td>10</td>\n",
       "      <td>7</td>\n",
       "      <td>bogo</td>\n",
       "      <td>ae264e3637204a6fb9bb56bc8210ddfd</td>\n",
       "    </tr>\n",
       "    <tr>\n",
       "      <th>1</th>\n",
       "      <td>10</td>\n",
       "      <td>[web, email, mobile, social]</td>\n",
       "      <td>10</td>\n",
       "      <td>5</td>\n",
       "      <td>bogo</td>\n",
       "      <td>4d5c57ea9a6940dd891ad53e9dbe8da0</td>\n",
       "    </tr>\n",
       "    <tr>\n",
       "      <th>2</th>\n",
       "      <td>0</td>\n",
       "      <td>[web, email, mobile]</td>\n",
       "      <td>0</td>\n",
       "      <td>4</td>\n",
       "      <td>informational</td>\n",
       "      <td>3f207df678b143eea3cee63160fa8bed</td>\n",
       "    </tr>\n",
       "    <tr>\n",
       "      <th>3</th>\n",
       "      <td>5</td>\n",
       "      <td>[web, email, mobile]</td>\n",
       "      <td>5</td>\n",
       "      <td>7</td>\n",
       "      <td>bogo</td>\n",
       "      <td>9b98b8c7a33c4b65b9aebfe6a799e6d9</td>\n",
       "    </tr>\n",
       "    <tr>\n",
       "      <th>4</th>\n",
       "      <td>5</td>\n",
       "      <td>[web, email]</td>\n",
       "      <td>20</td>\n",
       "      <td>10</td>\n",
       "      <td>discount</td>\n",
       "      <td>0b1e1539f2cc45b7b9fa7c272da2e1d7</td>\n",
       "    </tr>\n",
       "    <tr>\n",
       "      <th>5</th>\n",
       "      <td>3</td>\n",
       "      <td>[web, email, mobile, social]</td>\n",
       "      <td>7</td>\n",
       "      <td>7</td>\n",
       "      <td>discount</td>\n",
       "      <td>2298d6c36e964ae4a3e7e9706d1fb8c2</td>\n",
       "    </tr>\n",
       "    <tr>\n",
       "      <th>6</th>\n",
       "      <td>2</td>\n",
       "      <td>[web, email, mobile, social]</td>\n",
       "      <td>10</td>\n",
       "      <td>10</td>\n",
       "      <td>discount</td>\n",
       "      <td>fafdcd668e3743c1bb461111dcafc2a4</td>\n",
       "    </tr>\n",
       "    <tr>\n",
       "      <th>7</th>\n",
       "      <td>0</td>\n",
       "      <td>[email, mobile, social]</td>\n",
       "      <td>0</td>\n",
       "      <td>3</td>\n",
       "      <td>informational</td>\n",
       "      <td>5a8bc65990b245e5a138643cd4eb9837</td>\n",
       "    </tr>\n",
       "    <tr>\n",
       "      <th>8</th>\n",
       "      <td>5</td>\n",
       "      <td>[web, email, mobile, social]</td>\n",
       "      <td>5</td>\n",
       "      <td>5</td>\n",
       "      <td>bogo</td>\n",
       "      <td>f19421c1d4aa40978ebb69ca19b0e20d</td>\n",
       "    </tr>\n",
       "    <tr>\n",
       "      <th>9</th>\n",
       "      <td>2</td>\n",
       "      <td>[web, email, mobile]</td>\n",
       "      <td>10</td>\n",
       "      <td>7</td>\n",
       "      <td>discount</td>\n",
       "      <td>2906b810c7d4411798c6938adc9daaa5</td>\n",
       "    </tr>\n",
       "  </tbody>\n",
       "</table>\n",
       "</div>"
      ],
      "text/plain": [
       "   reward                      channels  difficulty  duration     offer_type  \\\n",
       "0      10       [email, mobile, social]          10         7           bogo   \n",
       "1      10  [web, email, mobile, social]          10         5           bogo   \n",
       "2       0          [web, email, mobile]           0         4  informational   \n",
       "3       5          [web, email, mobile]           5         7           bogo   \n",
       "4       5                  [web, email]          20        10       discount   \n",
       "5       3  [web, email, mobile, social]           7         7       discount   \n",
       "6       2  [web, email, mobile, social]          10        10       discount   \n",
       "7       0       [email, mobile, social]           0         3  informational   \n",
       "8       5  [web, email, mobile, social]           5         5           bogo   \n",
       "9       2          [web, email, mobile]          10         7       discount   \n",
       "\n",
       "                                 id  \n",
       "0  ae264e3637204a6fb9bb56bc8210ddfd  \n",
       "1  4d5c57ea9a6940dd891ad53e9dbe8da0  \n",
       "2  3f207df678b143eea3cee63160fa8bed  \n",
       "3  9b98b8c7a33c4b65b9aebfe6a799e6d9  \n",
       "4  0b1e1539f2cc45b7b9fa7c272da2e1d7  \n",
       "5  2298d6c36e964ae4a3e7e9706d1fb8c2  \n",
       "6  fafdcd668e3743c1bb461111dcafc2a4  \n",
       "7  5a8bc65990b245e5a138643cd4eb9837  \n",
       "8  f19421c1d4aa40978ebb69ca19b0e20d  \n",
       "9  2906b810c7d4411798c6938adc9daaa5  "
      ]
     },
     "execution_count": 90,
     "metadata": {},
     "output_type": "execute_result"
    }
   ],
   "source": [
    "# Checking data\n",
    "portfolio_data_temp"
   ]
  },
  {
   "cell_type": "markdown",
   "id": "f6f9c06e",
   "metadata": {},
   "source": [
    "**Code**"
   ]
  },
  {
   "cell_type": "code",
   "execution_count": 91,
   "id": "waiting-cleanup",
   "metadata": {
    "ExecuteTime": {
     "end_time": "2021-05-10T07:31:37.094086Z",
     "start_time": "2021-05-10T07:31:37.002288Z"
    }
   },
   "outputs": [],
   "source": [
    "# Creating dummy rows according to channel column\n",
    "email = []\n",
    "mobile = []\n",
    "web = []\n",
    "social = []\n",
    "\n",
    "temp = []\n",
    "for channel in portfolio_data_temp.channels:\n",
    "    temp.extend(channel)\n",
    "    \n",
    "for channel in temp:\n",
    "    portfolio_data_temp[channel] = portfolio_data_temp.channels.apply(lambda x : 1 if channel in x else 0)"
   ]
  },
  {
   "cell_type": "code",
   "execution_count": 92,
   "id": "racial-venue",
   "metadata": {
    "ExecuteTime": {
     "end_time": "2021-05-10T07:31:37.108449Z",
     "start_time": "2021-05-10T07:31:37.097095Z"
    }
   },
   "outputs": [],
   "source": [
    "# Dropping channels column as no longer neccessary\n",
    "portfolio_data_temp.drop(['channels'], inplace = True, axis = 1)"
   ]
  },
  {
   "cell_type": "markdown",
   "id": "0094b28e",
   "metadata": {},
   "source": [
    "**Test**"
   ]
  },
  {
   "cell_type": "code",
   "execution_count": 93,
   "id": "indoor-mixture",
   "metadata": {
    "ExecuteTime": {
     "end_time": "2021-05-10T07:31:37.152994Z",
     "start_time": "2021-05-10T07:31:37.111497Z"
    }
   },
   "outputs": [
    {
     "data": {
      "text/html": [
       "<div>\n",
       "<style scoped>\n",
       "    .dataframe tbody tr th:only-of-type {\n",
       "        vertical-align: middle;\n",
       "    }\n",
       "\n",
       "    .dataframe tbody tr th {\n",
       "        vertical-align: top;\n",
       "    }\n",
       "\n",
       "    .dataframe thead th {\n",
       "        text-align: right;\n",
       "    }\n",
       "</style>\n",
       "<table border=\"1\" class=\"dataframe\">\n",
       "  <thead>\n",
       "    <tr style=\"text-align: right;\">\n",
       "      <th></th>\n",
       "      <th>reward</th>\n",
       "      <th>difficulty</th>\n",
       "      <th>duration</th>\n",
       "      <th>offer_type</th>\n",
       "      <th>id</th>\n",
       "      <th>email</th>\n",
       "      <th>mobile</th>\n",
       "      <th>social</th>\n",
       "      <th>web</th>\n",
       "    </tr>\n",
       "  </thead>\n",
       "  <tbody>\n",
       "    <tr>\n",
       "      <th>0</th>\n",
       "      <td>10</td>\n",
       "      <td>10</td>\n",
       "      <td>7</td>\n",
       "      <td>bogo</td>\n",
       "      <td>ae264e3637204a6fb9bb56bc8210ddfd</td>\n",
       "      <td>1</td>\n",
       "      <td>1</td>\n",
       "      <td>1</td>\n",
       "      <td>0</td>\n",
       "    </tr>\n",
       "    <tr>\n",
       "      <th>1</th>\n",
       "      <td>10</td>\n",
       "      <td>10</td>\n",
       "      <td>5</td>\n",
       "      <td>bogo</td>\n",
       "      <td>4d5c57ea9a6940dd891ad53e9dbe8da0</td>\n",
       "      <td>1</td>\n",
       "      <td>1</td>\n",
       "      <td>1</td>\n",
       "      <td>1</td>\n",
       "    </tr>\n",
       "    <tr>\n",
       "      <th>2</th>\n",
       "      <td>0</td>\n",
       "      <td>0</td>\n",
       "      <td>4</td>\n",
       "      <td>informational</td>\n",
       "      <td>3f207df678b143eea3cee63160fa8bed</td>\n",
       "      <td>1</td>\n",
       "      <td>1</td>\n",
       "      <td>0</td>\n",
       "      <td>1</td>\n",
       "    </tr>\n",
       "    <tr>\n",
       "      <th>3</th>\n",
       "      <td>5</td>\n",
       "      <td>5</td>\n",
       "      <td>7</td>\n",
       "      <td>bogo</td>\n",
       "      <td>9b98b8c7a33c4b65b9aebfe6a799e6d9</td>\n",
       "      <td>1</td>\n",
       "      <td>1</td>\n",
       "      <td>0</td>\n",
       "      <td>1</td>\n",
       "    </tr>\n",
       "    <tr>\n",
       "      <th>4</th>\n",
       "      <td>5</td>\n",
       "      <td>20</td>\n",
       "      <td>10</td>\n",
       "      <td>discount</td>\n",
       "      <td>0b1e1539f2cc45b7b9fa7c272da2e1d7</td>\n",
       "      <td>1</td>\n",
       "      <td>0</td>\n",
       "      <td>0</td>\n",
       "      <td>1</td>\n",
       "    </tr>\n",
       "    <tr>\n",
       "      <th>5</th>\n",
       "      <td>3</td>\n",
       "      <td>7</td>\n",
       "      <td>7</td>\n",
       "      <td>discount</td>\n",
       "      <td>2298d6c36e964ae4a3e7e9706d1fb8c2</td>\n",
       "      <td>1</td>\n",
       "      <td>1</td>\n",
       "      <td>1</td>\n",
       "      <td>1</td>\n",
       "    </tr>\n",
       "    <tr>\n",
       "      <th>6</th>\n",
       "      <td>2</td>\n",
       "      <td>10</td>\n",
       "      <td>10</td>\n",
       "      <td>discount</td>\n",
       "      <td>fafdcd668e3743c1bb461111dcafc2a4</td>\n",
       "      <td>1</td>\n",
       "      <td>1</td>\n",
       "      <td>1</td>\n",
       "      <td>1</td>\n",
       "    </tr>\n",
       "    <tr>\n",
       "      <th>7</th>\n",
       "      <td>0</td>\n",
       "      <td>0</td>\n",
       "      <td>3</td>\n",
       "      <td>informational</td>\n",
       "      <td>5a8bc65990b245e5a138643cd4eb9837</td>\n",
       "      <td>1</td>\n",
       "      <td>1</td>\n",
       "      <td>1</td>\n",
       "      <td>0</td>\n",
       "    </tr>\n",
       "    <tr>\n",
       "      <th>8</th>\n",
       "      <td>5</td>\n",
       "      <td>5</td>\n",
       "      <td>5</td>\n",
       "      <td>bogo</td>\n",
       "      <td>f19421c1d4aa40978ebb69ca19b0e20d</td>\n",
       "      <td>1</td>\n",
       "      <td>1</td>\n",
       "      <td>1</td>\n",
       "      <td>1</td>\n",
       "    </tr>\n",
       "    <tr>\n",
       "      <th>9</th>\n",
       "      <td>2</td>\n",
       "      <td>10</td>\n",
       "      <td>7</td>\n",
       "      <td>discount</td>\n",
       "      <td>2906b810c7d4411798c6938adc9daaa5</td>\n",
       "      <td>1</td>\n",
       "      <td>1</td>\n",
       "      <td>0</td>\n",
       "      <td>1</td>\n",
       "    </tr>\n",
       "  </tbody>\n",
       "</table>\n",
       "</div>"
      ],
      "text/plain": [
       "   reward  difficulty  duration     offer_type  \\\n",
       "0      10          10         7           bogo   \n",
       "1      10          10         5           bogo   \n",
       "2       0           0         4  informational   \n",
       "3       5           5         7           bogo   \n",
       "4       5          20        10       discount   \n",
       "5       3           7         7       discount   \n",
       "6       2          10        10       discount   \n",
       "7       0           0         3  informational   \n",
       "8       5           5         5           bogo   \n",
       "9       2          10         7       discount   \n",
       "\n",
       "                                 id  email  mobile  social  web  \n",
       "0  ae264e3637204a6fb9bb56bc8210ddfd      1       1       1    0  \n",
       "1  4d5c57ea9a6940dd891ad53e9dbe8da0      1       1       1    1  \n",
       "2  3f207df678b143eea3cee63160fa8bed      1       1       0    1  \n",
       "3  9b98b8c7a33c4b65b9aebfe6a799e6d9      1       1       0    1  \n",
       "4  0b1e1539f2cc45b7b9fa7c272da2e1d7      1       0       0    1  \n",
       "5  2298d6c36e964ae4a3e7e9706d1fb8c2      1       1       1    1  \n",
       "6  fafdcd668e3743c1bb461111dcafc2a4      1       1       1    1  \n",
       "7  5a8bc65990b245e5a138643cd4eb9837      1       1       1    0  \n",
       "8  f19421c1d4aa40978ebb69ca19b0e20d      1       1       1    1  \n",
       "9  2906b810c7d4411798c6938adc9daaa5      1       1       0    1  "
      ]
     },
     "execution_count": 93,
     "metadata": {},
     "output_type": "execute_result"
    }
   ],
   "source": [
    "# Test\n",
    "portfolio_data_temp"
   ]
  },
  {
   "cell_type": "markdown",
   "id": "ae761d4d",
   "metadata": {},
   "source": [
    "**Define** "
   ]
  },
  {
   "cell_type": "markdown",
   "id": "chinese-fancy",
   "metadata": {},
   "source": [
    "***Transcript data has value column containg items in the form of dictionary.***"
   ]
  },
  {
   "cell_type": "code",
   "execution_count": 94,
   "id": "0cc8d2c9",
   "metadata": {
    "ExecuteTime": {
     "end_time": "2021-05-10T07:31:37.197576Z",
     "start_time": "2021-05-10T07:31:37.163636Z"
    }
   },
   "outputs": [
    {
     "data": {
      "text/html": [
       "<div>\n",
       "<style scoped>\n",
       "    .dataframe tbody tr th:only-of-type {\n",
       "        vertical-align: middle;\n",
       "    }\n",
       "\n",
       "    .dataframe tbody tr th {\n",
       "        vertical-align: top;\n",
       "    }\n",
       "\n",
       "    .dataframe thead th {\n",
       "        text-align: right;\n",
       "    }\n",
       "</style>\n",
       "<table border=\"1\" class=\"dataframe\">\n",
       "  <thead>\n",
       "    <tr style=\"text-align: right;\">\n",
       "      <th></th>\n",
       "      <th>person</th>\n",
       "      <th>event</th>\n",
       "      <th>value</th>\n",
       "      <th>time</th>\n",
       "    </tr>\n",
       "  </thead>\n",
       "  <tbody>\n",
       "    <tr>\n",
       "      <th>24796</th>\n",
       "      <td>bd35a0c619654fa28d2bc099d2f16b9e</td>\n",
       "      <td>transaction</td>\n",
       "      <td>{'amount': 10.18}</td>\n",
       "      <td>30</td>\n",
       "    </tr>\n",
       "    <tr>\n",
       "      <th>284782</th>\n",
       "      <td>cb05753845764558b432e0349408c6e2</td>\n",
       "      <td>transaction</td>\n",
       "      <td>{'amount': 3.09}</td>\n",
       "      <td>630</td>\n",
       "    </tr>\n",
       "    <tr>\n",
       "      <th>60668</th>\n",
       "      <td>3db51a2e2530430aae0f8a7b2157fdf6</td>\n",
       "      <td>offer received</td>\n",
       "      <td>{'offer id': 'fafdcd668e3743c1bb461111dcafc2a4'}</td>\n",
       "      <td>168</td>\n",
       "    </tr>\n",
       "    <tr>\n",
       "      <th>195039</th>\n",
       "      <td>361539b15a6243dc834c6b25e481570b</td>\n",
       "      <td>transaction</td>\n",
       "      <td>{'amount': 0.32}</td>\n",
       "      <td>474</td>\n",
       "    </tr>\n",
       "    <tr>\n",
       "      <th>102120</th>\n",
       "      <td>10f3c43478264fbab57b9e13c701c05b</td>\n",
       "      <td>transaction</td>\n",
       "      <td>{'amount': 18.3}</td>\n",
       "      <td>282</td>\n",
       "    </tr>\n",
       "    <tr>\n",
       "      <th>246767</th>\n",
       "      <td>3a87f570d4d643c5bac694b2a830d252</td>\n",
       "      <td>offer received</td>\n",
       "      <td>{'offer id': '2298d6c36e964ae4a3e7e9706d1fb8c2'}</td>\n",
       "      <td>576</td>\n",
       "    </tr>\n",
       "    <tr>\n",
       "      <th>304508</th>\n",
       "      <td>015fb0b3fbaa4aceb910fbdf272f7547</td>\n",
       "      <td>offer viewed</td>\n",
       "      <td>{'offer id': 'ae264e3637204a6fb9bb56bc8210ddfd'}</td>\n",
       "      <td>708</td>\n",
       "    </tr>\n",
       "    <tr>\n",
       "      <th>150523</th>\n",
       "      <td>e9641ed9e2c743889ae3e96f528ef459</td>\n",
       "      <td>transaction</td>\n",
       "      <td>{'amount': 10.22}</td>\n",
       "      <td>402</td>\n",
       "    </tr>\n",
       "    <tr>\n",
       "      <th>108474</th>\n",
       "      <td>0d090272e52845acab67d8eaf8960366</td>\n",
       "      <td>offer viewed</td>\n",
       "      <td>{'offer id': '2906b810c7d4411798c6938adc9daaa5'}</td>\n",
       "      <td>318</td>\n",
       "    </tr>\n",
       "    <tr>\n",
       "      <th>101371</th>\n",
       "      <td>5bc9c0751f1548a1a92bf2708cd7fa75</td>\n",
       "      <td>offer completed</td>\n",
       "      <td>{'offer_id': '2906b810c7d4411798c6938adc9daaa5...</td>\n",
       "      <td>276</td>\n",
       "    </tr>\n",
       "  </tbody>\n",
       "</table>\n",
       "</div>"
      ],
      "text/plain": [
       "                                  person            event  \\\n",
       "24796   bd35a0c619654fa28d2bc099d2f16b9e      transaction   \n",
       "284782  cb05753845764558b432e0349408c6e2      transaction   \n",
       "60668   3db51a2e2530430aae0f8a7b2157fdf6   offer received   \n",
       "195039  361539b15a6243dc834c6b25e481570b      transaction   \n",
       "102120  10f3c43478264fbab57b9e13c701c05b      transaction   \n",
       "246767  3a87f570d4d643c5bac694b2a830d252   offer received   \n",
       "304508  015fb0b3fbaa4aceb910fbdf272f7547     offer viewed   \n",
       "150523  e9641ed9e2c743889ae3e96f528ef459      transaction   \n",
       "108474  0d090272e52845acab67d8eaf8960366     offer viewed   \n",
       "101371  5bc9c0751f1548a1a92bf2708cd7fa75  offer completed   \n",
       "\n",
       "                                                    value  time  \n",
       "24796                                   {'amount': 10.18}    30  \n",
       "284782                                   {'amount': 3.09}   630  \n",
       "60668    {'offer id': 'fafdcd668e3743c1bb461111dcafc2a4'}   168  \n",
       "195039                                   {'amount': 0.32}   474  \n",
       "102120                                   {'amount': 18.3}   282  \n",
       "246767   {'offer id': '2298d6c36e964ae4a3e7e9706d1fb8c2'}   576  \n",
       "304508   {'offer id': 'ae264e3637204a6fb9bb56bc8210ddfd'}   708  \n",
       "150523                                  {'amount': 10.22}   402  \n",
       "108474   {'offer id': '2906b810c7d4411798c6938adc9daaa5'}   318  \n",
       "101371  {'offer_id': '2906b810c7d4411798c6938adc9daaa5...   276  "
      ]
     },
     "execution_count": 94,
     "metadata": {},
     "output_type": "execute_result"
    }
   ],
   "source": [
    "# Checking data\n",
    "transcript_data_temp.sample(10)"
   ]
  },
  {
   "cell_type": "markdown",
   "id": "0d64ce3e",
   "metadata": {},
   "source": [
    "**Code**"
   ]
  },
  {
   "cell_type": "code",
   "execution_count": 95,
   "id": "prostate-yesterday",
   "metadata": {
    "ExecuteTime": {
     "end_time": "2021-05-10T07:31:38.324600Z",
     "start_time": "2021-05-10T07:31:37.201539Z"
    }
   },
   "outputs": [
    {
     "name": "stdout",
     "output_type": "stream",
     "text": [
      "['offer_id', 'offer id', 'reward', 'amount']\n"
     ]
    }
   ],
   "source": [
    "temp = list()\n",
    "for item in  transcript_data_temp.value:\n",
    "    temp.append(list(item.keys()))\n",
    "\n",
    "new_temp = []\n",
    "for item in temp:\n",
    "    new_temp.extend(item)\n",
    "    \n",
    "types = list(set(new_temp))\n",
    "print(types)"
   ]
  },
  {
   "cell_type": "code",
   "execution_count": 96,
   "id": "rough-alcohol",
   "metadata": {
    "ExecuteTime": {
     "end_time": "2021-05-10T07:31:38.464561Z",
     "start_time": "2021-05-10T07:31:38.327612Z"
    }
   },
   "outputs": [
    {
     "data": {
      "text/plain": [
       "array(['offer received', 'offer viewed', 'transaction', 'offer completed'],\n",
       "      dtype=object)"
      ]
     },
     "execution_count": 96,
     "metadata": {},
     "output_type": "execute_result"
    }
   ],
   "source": [
    "transcript_data_temp.event.unique()"
   ]
  },
  {
   "cell_type": "markdown",
   "id": "absent-prince",
   "metadata": {},
   "source": [
    "#### If offer is viewed or received there is no underscore in `offer id` and if offer completed there is underscore in `offer_id`."
   ]
  },
  {
   "cell_type": "code",
   "execution_count": 97,
   "id": "sixth-institution",
   "metadata": {
    "ExecuteTime": {
     "end_time": "2021-05-10T07:31:39.398627Z",
     "start_time": "2021-05-10T07:31:38.465605Z"
    }
   },
   "outputs": [],
   "source": [
    "for type in types:\n",
    "    transcript_data_temp[type] = transcript_data_temp.value.apply(lambda x: x.get(type, 0))    "
   ]
  },
  {
   "cell_type": "code",
   "execution_count": 98,
   "id": "destroyed-business",
   "metadata": {
    "ExecuteTime": {
     "end_time": "2021-05-10T07:31:39.639211Z",
     "start_time": "2021-05-10T07:31:39.402579Z"
    }
   },
   "outputs": [],
   "source": [
    "# Dropping value column\n",
    "transcript_data_temp.drop(['value'], axis = 1, inplace = True)"
   ]
  },
  {
   "cell_type": "code",
   "execution_count": 99,
   "id": "successful-factor",
   "metadata": {
    "ExecuteTime": {
     "end_time": "2021-05-10T07:31:46.642793Z",
     "start_time": "2021-05-10T07:31:39.643361Z"
    }
   },
   "outputs": [],
   "source": [
    "# Since we can see reward only occurred if offer is used\n",
    "# We can merge offer_ids in one column and differ between them on the basis of reward or event type\n",
    "offer_id = []\n",
    "for i in range(transcript_data_temp.shape[0]):\n",
    "    offer_id.append(transcript_data_temp['offer id'][i] or transcript_data_temp['offer_id'][i])\n",
    "        \n",
    "\n",
    "transcript_data_temp['offer_id'] = offer_id"
   ]
  },
  {
   "cell_type": "code",
   "execution_count": 100,
   "id": "efa18d1e",
   "metadata": {
    "ExecuteTime": {
     "end_time": "2021-05-10T07:31:46.783262Z",
     "start_time": "2021-05-10T07:31:46.648838Z"
    },
    "scrolled": false
   },
   "outputs": [
    {
     "data": {
      "text/html": [
       "<div>\n",
       "<style scoped>\n",
       "    .dataframe tbody tr th:only-of-type {\n",
       "        vertical-align: middle;\n",
       "    }\n",
       "\n",
       "    .dataframe tbody tr th {\n",
       "        vertical-align: top;\n",
       "    }\n",
       "\n",
       "    .dataframe thead th {\n",
       "        text-align: right;\n",
       "    }\n",
       "</style>\n",
       "<table border=\"1\" class=\"dataframe\">\n",
       "  <thead>\n",
       "    <tr style=\"text-align: right;\">\n",
       "      <th></th>\n",
       "      <th>person</th>\n",
       "      <th>event</th>\n",
       "      <th>time</th>\n",
       "      <th>offer_id</th>\n",
       "      <th>offer id</th>\n",
       "      <th>reward</th>\n",
       "      <th>amount</th>\n",
       "    </tr>\n",
       "  </thead>\n",
       "  <tbody>\n",
       "    <tr>\n",
       "      <th>234692</th>\n",
       "      <td>33927699ba914e78a5dbd4ac3965fc01</td>\n",
       "      <td>transaction</td>\n",
       "      <td>540</td>\n",
       "      <td>0</td>\n",
       "      <td>0</td>\n",
       "      <td>0</td>\n",
       "      <td>5.17</td>\n",
       "    </tr>\n",
       "    <tr>\n",
       "      <th>60976</th>\n",
       "      <td>21e74285eb374f9fbd67a0db379bbca4</td>\n",
       "      <td>offer received</td>\n",
       "      <td>168</td>\n",
       "      <td>2298d6c36e964ae4a3e7e9706d1fb8c2</td>\n",
       "      <td>2298d6c36e964ae4a3e7e9706d1fb8c2</td>\n",
       "      <td>0</td>\n",
       "      <td>0.00</td>\n",
       "    </tr>\n",
       "    <tr>\n",
       "      <th>153550</th>\n",
       "      <td>bc98025ca6a1476887adb6ab925e8b0f</td>\n",
       "      <td>offer received</td>\n",
       "      <td>408</td>\n",
       "      <td>0b1e1539f2cc45b7b9fa7c272da2e1d7</td>\n",
       "      <td>0b1e1539f2cc45b7b9fa7c272da2e1d7</td>\n",
       "      <td>0</td>\n",
       "      <td>0.00</td>\n",
       "    </tr>\n",
       "    <tr>\n",
       "      <th>112575</th>\n",
       "      <td>3fd1c26b6323485da797981fe792204c</td>\n",
       "      <td>offer received</td>\n",
       "      <td>336</td>\n",
       "      <td>3f207df678b143eea3cee63160fa8bed</td>\n",
       "      <td>3f207df678b143eea3cee63160fa8bed</td>\n",
       "      <td>0</td>\n",
       "      <td>0.00</td>\n",
       "    </tr>\n",
       "    <tr>\n",
       "      <th>279593</th>\n",
       "      <td>56c1574caaa24a07b4962967f2dcc1fa</td>\n",
       "      <td>transaction</td>\n",
       "      <td>618</td>\n",
       "      <td>0</td>\n",
       "      <td>0</td>\n",
       "      <td>0</td>\n",
       "      <td>437.11</td>\n",
       "    </tr>\n",
       "    <tr>\n",
       "      <th>268359</th>\n",
       "      <td>e5a0dd72474142fa9b1f0196935dc669</td>\n",
       "      <td>transaction</td>\n",
       "      <td>588</td>\n",
       "      <td>0</td>\n",
       "      <td>0</td>\n",
       "      <td>0</td>\n",
       "      <td>36.30</td>\n",
       "    </tr>\n",
       "    <tr>\n",
       "      <th>248244</th>\n",
       "      <td>1845024a271d49b586a9041c19602472</td>\n",
       "      <td>offer received</td>\n",
       "      <td>576</td>\n",
       "      <td>4d5c57ea9a6940dd891ad53e9dbe8da0</td>\n",
       "      <td>4d5c57ea9a6940dd891ad53e9dbe8da0</td>\n",
       "      <td>0</td>\n",
       "      <td>0.00</td>\n",
       "    </tr>\n",
       "    <tr>\n",
       "      <th>218038</th>\n",
       "      <td>e21d5301f4db46f2a12e9118ed039710</td>\n",
       "      <td>offer viewed</td>\n",
       "      <td>504</td>\n",
       "      <td>2298d6c36e964ae4a3e7e9706d1fb8c2</td>\n",
       "      <td>2298d6c36e964ae4a3e7e9706d1fb8c2</td>\n",
       "      <td>0</td>\n",
       "      <td>0.00</td>\n",
       "    </tr>\n",
       "    <tr>\n",
       "      <th>306209</th>\n",
       "      <td>ab77eeb4f3624d6dbb679f8f767ba06d</td>\n",
       "      <td>transaction</td>\n",
       "      <td>714</td>\n",
       "      <td>0</td>\n",
       "      <td>0</td>\n",
       "      <td>0</td>\n",
       "      <td>24.58</td>\n",
       "    </tr>\n",
       "    <tr>\n",
       "      <th>299723</th>\n",
       "      <td>dbf3c96bcbc44cca9839344b4adcaddf</td>\n",
       "      <td>transaction</td>\n",
       "      <td>684</td>\n",
       "      <td>0</td>\n",
       "      <td>0</td>\n",
       "      <td>0</td>\n",
       "      <td>4.28</td>\n",
       "    </tr>\n",
       "    <tr>\n",
       "      <th>225174</th>\n",
       "      <td>15ab73bf4cc4467db865911592678b38</td>\n",
       "      <td>offer viewed</td>\n",
       "      <td>522</td>\n",
       "      <td>5a8bc65990b245e5a138643cd4eb9837</td>\n",
       "      <td>5a8bc65990b245e5a138643cd4eb9837</td>\n",
       "      <td>0</td>\n",
       "      <td>0.00</td>\n",
       "    </tr>\n",
       "    <tr>\n",
       "      <th>262963</th>\n",
       "      <td>8fb9bc325baf46f0b7072be8498d6d9b</td>\n",
       "      <td>offer completed</td>\n",
       "      <td>582</td>\n",
       "      <td>4d5c57ea9a6940dd891ad53e9dbe8da0</td>\n",
       "      <td>0</td>\n",
       "      <td>10</td>\n",
       "      <td>0.00</td>\n",
       "    </tr>\n",
       "    <tr>\n",
       "      <th>28099</th>\n",
       "      <td>145de283cf9c4377a3dea3afb87774f3</td>\n",
       "      <td>offer viewed</td>\n",
       "      <td>42</td>\n",
       "      <td>2298d6c36e964ae4a3e7e9706d1fb8c2</td>\n",
       "      <td>2298d6c36e964ae4a3e7e9706d1fb8c2</td>\n",
       "      <td>0</td>\n",
       "      <td>0.00</td>\n",
       "    </tr>\n",
       "    <tr>\n",
       "      <th>174</th>\n",
       "      <td>78e9be059fce46a1b610f74e0e812a4a</td>\n",
       "      <td>offer received</td>\n",
       "      <td>0</td>\n",
       "      <td>0b1e1539f2cc45b7b9fa7c272da2e1d7</td>\n",
       "      <td>0b1e1539f2cc45b7b9fa7c272da2e1d7</td>\n",
       "      <td>0</td>\n",
       "      <td>0.00</td>\n",
       "    </tr>\n",
       "    <tr>\n",
       "      <th>95368</th>\n",
       "      <td>5e940120796c4804ae4a5e1f30838acd</td>\n",
       "      <td>transaction</td>\n",
       "      <td>252</td>\n",
       "      <td>0</td>\n",
       "      <td>0</td>\n",
       "      <td>0</td>\n",
       "      <td>0.85</td>\n",
       "    </tr>\n",
       "    <tr>\n",
       "      <th>224250</th>\n",
       "      <td>6173007b6ae64babb187f60c2c75283b</td>\n",
       "      <td>offer viewed</td>\n",
       "      <td>516</td>\n",
       "      <td>5a8bc65990b245e5a138643cd4eb9837</td>\n",
       "      <td>5a8bc65990b245e5a138643cd4eb9837</td>\n",
       "      <td>0</td>\n",
       "      <td>0.00</td>\n",
       "    </tr>\n",
       "    <tr>\n",
       "      <th>34279</th>\n",
       "      <td>385c991ad75d41038ccba90107e6fadf</td>\n",
       "      <td>transaction</td>\n",
       "      <td>66</td>\n",
       "      <td>0</td>\n",
       "      <td>0</td>\n",
       "      <td>0</td>\n",
       "      <td>2.39</td>\n",
       "    </tr>\n",
       "    <tr>\n",
       "      <th>294109</th>\n",
       "      <td>66fdddf3162d4da1b01f351810a18516</td>\n",
       "      <td>transaction</td>\n",
       "      <td>660</td>\n",
       "      <td>0</td>\n",
       "      <td>0</td>\n",
       "      <td>0</td>\n",
       "      <td>12.33</td>\n",
       "    </tr>\n",
       "    <tr>\n",
       "      <th>122483</th>\n",
       "      <td>ec1761735b034ae8874bc979f0cd5862</td>\n",
       "      <td>offer received</td>\n",
       "      <td>336</td>\n",
       "      <td>0b1e1539f2cc45b7b9fa7c272da2e1d7</td>\n",
       "      <td>0b1e1539f2cc45b7b9fa7c272da2e1d7</td>\n",
       "      <td>0</td>\n",
       "      <td>0.00</td>\n",
       "    </tr>\n",
       "    <tr>\n",
       "      <th>83475</th>\n",
       "      <td>e1581a9a6ff04491bb5342143cd4876d</td>\n",
       "      <td>transaction</td>\n",
       "      <td>210</td>\n",
       "      <td>0</td>\n",
       "      <td>0</td>\n",
       "      <td>0</td>\n",
       "      <td>23.14</td>\n",
       "    </tr>\n",
       "  </tbody>\n",
       "</table>\n",
       "</div>"
      ],
      "text/plain": [
       "                                  person            event  time  \\\n",
       "234692  33927699ba914e78a5dbd4ac3965fc01      transaction   540   \n",
       "60976   21e74285eb374f9fbd67a0db379bbca4   offer received   168   \n",
       "153550  bc98025ca6a1476887adb6ab925e8b0f   offer received   408   \n",
       "112575  3fd1c26b6323485da797981fe792204c   offer received   336   \n",
       "279593  56c1574caaa24a07b4962967f2dcc1fa      transaction   618   \n",
       "268359  e5a0dd72474142fa9b1f0196935dc669      transaction   588   \n",
       "248244  1845024a271d49b586a9041c19602472   offer received   576   \n",
       "218038  e21d5301f4db46f2a12e9118ed039710     offer viewed   504   \n",
       "306209  ab77eeb4f3624d6dbb679f8f767ba06d      transaction   714   \n",
       "299723  dbf3c96bcbc44cca9839344b4adcaddf      transaction   684   \n",
       "225174  15ab73bf4cc4467db865911592678b38     offer viewed   522   \n",
       "262963  8fb9bc325baf46f0b7072be8498d6d9b  offer completed   582   \n",
       "28099   145de283cf9c4377a3dea3afb87774f3     offer viewed    42   \n",
       "174     78e9be059fce46a1b610f74e0e812a4a   offer received     0   \n",
       "95368   5e940120796c4804ae4a5e1f30838acd      transaction   252   \n",
       "224250  6173007b6ae64babb187f60c2c75283b     offer viewed   516   \n",
       "34279   385c991ad75d41038ccba90107e6fadf      transaction    66   \n",
       "294109  66fdddf3162d4da1b01f351810a18516      transaction   660   \n",
       "122483  ec1761735b034ae8874bc979f0cd5862   offer received   336   \n",
       "83475   e1581a9a6ff04491bb5342143cd4876d      transaction   210   \n",
       "\n",
       "                                offer_id                          offer id  \\\n",
       "234692                                 0                                 0   \n",
       "60976   2298d6c36e964ae4a3e7e9706d1fb8c2  2298d6c36e964ae4a3e7e9706d1fb8c2   \n",
       "153550  0b1e1539f2cc45b7b9fa7c272da2e1d7  0b1e1539f2cc45b7b9fa7c272da2e1d7   \n",
       "112575  3f207df678b143eea3cee63160fa8bed  3f207df678b143eea3cee63160fa8bed   \n",
       "279593                                 0                                 0   \n",
       "268359                                 0                                 0   \n",
       "248244  4d5c57ea9a6940dd891ad53e9dbe8da0  4d5c57ea9a6940dd891ad53e9dbe8da0   \n",
       "218038  2298d6c36e964ae4a3e7e9706d1fb8c2  2298d6c36e964ae4a3e7e9706d1fb8c2   \n",
       "306209                                 0                                 0   \n",
       "299723                                 0                                 0   \n",
       "225174  5a8bc65990b245e5a138643cd4eb9837  5a8bc65990b245e5a138643cd4eb9837   \n",
       "262963  4d5c57ea9a6940dd891ad53e9dbe8da0                                 0   \n",
       "28099   2298d6c36e964ae4a3e7e9706d1fb8c2  2298d6c36e964ae4a3e7e9706d1fb8c2   \n",
       "174     0b1e1539f2cc45b7b9fa7c272da2e1d7  0b1e1539f2cc45b7b9fa7c272da2e1d7   \n",
       "95368                                  0                                 0   \n",
       "224250  5a8bc65990b245e5a138643cd4eb9837  5a8bc65990b245e5a138643cd4eb9837   \n",
       "34279                                  0                                 0   \n",
       "294109                                 0                                 0   \n",
       "122483  0b1e1539f2cc45b7b9fa7c272da2e1d7  0b1e1539f2cc45b7b9fa7c272da2e1d7   \n",
       "83475                                  0                                 0   \n",
       "\n",
       "        reward  amount  \n",
       "234692       0    5.17  \n",
       "60976        0    0.00  \n",
       "153550       0    0.00  \n",
       "112575       0    0.00  \n",
       "279593       0  437.11  \n",
       "268359       0   36.30  \n",
       "248244       0    0.00  \n",
       "218038       0    0.00  \n",
       "306209       0   24.58  \n",
       "299723       0    4.28  \n",
       "225174       0    0.00  \n",
       "262963      10    0.00  \n",
       "28099        0    0.00  \n",
       "174          0    0.00  \n",
       "95368        0    0.85  \n",
       "224250       0    0.00  \n",
       "34279        0    2.39  \n",
       "294109       0   12.33  \n",
       "122483       0    0.00  \n",
       "83475        0   23.14  "
      ]
     },
     "execution_count": 100,
     "metadata": {},
     "output_type": "execute_result"
    }
   ],
   "source": [
    "transcript_data_temp.sample(20)"
   ]
  },
  {
   "cell_type": "code",
   "execution_count": 101,
   "id": "retired-spending",
   "metadata": {
    "ExecuteTime": {
     "end_time": "2021-05-10T07:31:46.918007Z",
     "start_time": "2021-05-10T07:31:46.789754Z"
    }
   },
   "outputs": [],
   "source": [
    "# Deleting offer_id_viewed and offer_id_used\n",
    "transcript_data_temp.drop(['offer id'], axis = 1, inplace = True)\n",
    "\n",
    "# Replacing 0 in offer_id with np.nan\n",
    "transcript_data_temp.offer_id.replace(0, np.nan, inplace = True)"
   ]
  },
  {
   "cell_type": "markdown",
   "id": "70847b4f",
   "metadata": {},
   "source": [
    "**Test**"
   ]
  },
  {
   "cell_type": "code",
   "execution_count": 102,
   "id": "geographic-yahoo",
   "metadata": {
    "ExecuteTime": {
     "end_time": "2021-05-10T07:31:46.978648Z",
     "start_time": "2021-05-10T07:31:46.922849Z"
    },
    "scrolled": false
   },
   "outputs": [
    {
     "data": {
      "text/html": [
       "<div>\n",
       "<style scoped>\n",
       "    .dataframe tbody tr th:only-of-type {\n",
       "        vertical-align: middle;\n",
       "    }\n",
       "\n",
       "    .dataframe tbody tr th {\n",
       "        vertical-align: top;\n",
       "    }\n",
       "\n",
       "    .dataframe thead th {\n",
       "        text-align: right;\n",
       "    }\n",
       "</style>\n",
       "<table border=\"1\" class=\"dataframe\">\n",
       "  <thead>\n",
       "    <tr style=\"text-align: right;\">\n",
       "      <th></th>\n",
       "      <th>person</th>\n",
       "      <th>event</th>\n",
       "      <th>time</th>\n",
       "      <th>offer_id</th>\n",
       "      <th>reward</th>\n",
       "      <th>amount</th>\n",
       "    </tr>\n",
       "  </thead>\n",
       "  <tbody>\n",
       "    <tr>\n",
       "      <th>234811</th>\n",
       "      <td>a7f01375c50144a9b54749baf93b54f8</td>\n",
       "      <td>offer viewed</td>\n",
       "      <td>540</td>\n",
       "      <td>f19421c1d4aa40978ebb69ca19b0e20d</td>\n",
       "      <td>0</td>\n",
       "      <td>0.00</td>\n",
       "    </tr>\n",
       "    <tr>\n",
       "      <th>243395</th>\n",
       "      <td>14da6197d53d4ca49f4ce75367bb06cc</td>\n",
       "      <td>transaction</td>\n",
       "      <td>570</td>\n",
       "      <td>NaN</td>\n",
       "      <td>0</td>\n",
       "      <td>14.45</td>\n",
       "    </tr>\n",
       "    <tr>\n",
       "      <th>205530</th>\n",
       "      <td>acce25c39cfe46d6b308006d958c6252</td>\n",
       "      <td>offer received</td>\n",
       "      <td>504</td>\n",
       "      <td>2906b810c7d4411798c6938adc9daaa5</td>\n",
       "      <td>0</td>\n",
       "      <td>0.00</td>\n",
       "    </tr>\n",
       "    <tr>\n",
       "      <th>245473</th>\n",
       "      <td>17e445a1d599462983560919c20009df</td>\n",
       "      <td>offer received</td>\n",
       "      <td>576</td>\n",
       "      <td>2298d6c36e964ae4a3e7e9706d1fb8c2</td>\n",
       "      <td>0</td>\n",
       "      <td>0.00</td>\n",
       "    </tr>\n",
       "    <tr>\n",
       "      <th>78213</th>\n",
       "      <td>cc35fd7b202a43d19eddbec7b76e01ca</td>\n",
       "      <td>transaction</td>\n",
       "      <td>192</td>\n",
       "      <td>NaN</td>\n",
       "      <td>0</td>\n",
       "      <td>18.78</td>\n",
       "    </tr>\n",
       "    <tr>\n",
       "      <th>63285</th>\n",
       "      <td>d61124b6a76847b593f8fce78484fcce</td>\n",
       "      <td>offer received</td>\n",
       "      <td>168</td>\n",
       "      <td>0b1e1539f2cc45b7b9fa7c272da2e1d7</td>\n",
       "      <td>0</td>\n",
       "      <td>0.00</td>\n",
       "    </tr>\n",
       "    <tr>\n",
       "      <th>203005</th>\n",
       "      <td>1c0447a9d17f4d338711cbb6c475f2e1</td>\n",
       "      <td>offer received</td>\n",
       "      <td>504</td>\n",
       "      <td>9b98b8c7a33c4b65b9aebfe6a799e6d9</td>\n",
       "      <td>0</td>\n",
       "      <td>0.00</td>\n",
       "    </tr>\n",
       "    <tr>\n",
       "      <th>111111</th>\n",
       "      <td>611846bccd6b4c35ba48ed6b165b2c2d</td>\n",
       "      <td>offer received</td>\n",
       "      <td>336</td>\n",
       "      <td>3f207df678b143eea3cee63160fa8bed</td>\n",
       "      <td>0</td>\n",
       "      <td>0.00</td>\n",
       "    </tr>\n",
       "    <tr>\n",
       "      <th>56276</th>\n",
       "      <td>5b1b4f692c15495ba46d7ffcc692abe5</td>\n",
       "      <td>offer received</td>\n",
       "      <td>168</td>\n",
       "      <td>0b1e1539f2cc45b7b9fa7c272da2e1d7</td>\n",
       "      <td>0</td>\n",
       "      <td>0.00</td>\n",
       "    </tr>\n",
       "    <tr>\n",
       "      <th>296093</th>\n",
       "      <td>f25ddf8a89664bf594d972b8aecd428f</td>\n",
       "      <td>offer viewed</td>\n",
       "      <td>666</td>\n",
       "      <td>4d5c57ea9a6940dd891ad53e9dbe8da0</td>\n",
       "      <td>0</td>\n",
       "      <td>0.00</td>\n",
       "    </tr>\n",
       "  </tbody>\n",
       "</table>\n",
       "</div>"
      ],
      "text/plain": [
       "                                  person           event  time  \\\n",
       "234811  a7f01375c50144a9b54749baf93b54f8    offer viewed   540   \n",
       "243395  14da6197d53d4ca49f4ce75367bb06cc     transaction   570   \n",
       "205530  acce25c39cfe46d6b308006d958c6252  offer received   504   \n",
       "245473  17e445a1d599462983560919c20009df  offer received   576   \n",
       "78213   cc35fd7b202a43d19eddbec7b76e01ca     transaction   192   \n",
       "63285   d61124b6a76847b593f8fce78484fcce  offer received   168   \n",
       "203005  1c0447a9d17f4d338711cbb6c475f2e1  offer received   504   \n",
       "111111  611846bccd6b4c35ba48ed6b165b2c2d  offer received   336   \n",
       "56276   5b1b4f692c15495ba46d7ffcc692abe5  offer received   168   \n",
       "296093  f25ddf8a89664bf594d972b8aecd428f    offer viewed   666   \n",
       "\n",
       "                                offer_id  reward  amount  \n",
       "234811  f19421c1d4aa40978ebb69ca19b0e20d       0    0.00  \n",
       "243395                               NaN       0   14.45  \n",
       "205530  2906b810c7d4411798c6938adc9daaa5       0    0.00  \n",
       "245473  2298d6c36e964ae4a3e7e9706d1fb8c2       0    0.00  \n",
       "78213                                NaN       0   18.78  \n",
       "63285   0b1e1539f2cc45b7b9fa7c272da2e1d7       0    0.00  \n",
       "203005  9b98b8c7a33c4b65b9aebfe6a799e6d9       0    0.00  \n",
       "111111  3f207df678b143eea3cee63160fa8bed       0    0.00  \n",
       "56276   0b1e1539f2cc45b7b9fa7c272da2e1d7       0    0.00  \n",
       "296093  4d5c57ea9a6940dd891ad53e9dbe8da0       0    0.00  "
      ]
     },
     "execution_count": 102,
     "metadata": {},
     "output_type": "execute_result"
    }
   ],
   "source": [
    "transcript_data_temp.sample(10)"
   ]
  },
  {
   "cell_type": "markdown",
   "id": "e26aaeb1",
   "metadata": {},
   "source": [
    "**Define** "
   ]
  },
  {
   "cell_type": "markdown",
   "id": "respected-efficiency",
   "metadata": {},
   "source": [
    "***Profile data has gender and income column containing null values***"
   ]
  },
  {
   "cell_type": "code",
   "execution_count": 103,
   "id": "7ce724c0",
   "metadata": {
    "ExecuteTime": {
     "end_time": "2021-05-10T07:31:47.019361Z",
     "start_time": "2021-05-10T07:31:46.981689Z"
    }
   },
   "outputs": [
    {
     "name": "stdout",
     "output_type": "stream",
     "text": [
      "<class 'pandas.core.frame.DataFrame'>\n",
      "RangeIndex: 17000 entries, 0 to 16999\n",
      "Data columns (total 5 columns):\n",
      " #   Column            Non-Null Count  Dtype  \n",
      "---  ------            --------------  -----  \n",
      " 0   gender            14825 non-null  object \n",
      " 1   age               17000 non-null  int64  \n",
      " 2   id                17000 non-null  object \n",
      " 3   became_member_on  17000 non-null  int64  \n",
      " 4   income            14825 non-null  float64\n",
      "dtypes: float64(1), int64(2), object(2)\n",
      "memory usage: 664.2+ KB\n"
     ]
    }
   ],
   "source": [
    "profile_data_temp.info()"
   ]
  },
  {
   "cell_type": "markdown",
   "id": "ce8969df",
   "metadata": {},
   "source": [
    "#### *Checking gender column*"
   ]
  },
  {
   "cell_type": "code",
   "execution_count": 104,
   "id": "108f4e24",
   "metadata": {
    "ExecuteTime": {
     "end_time": "2021-05-10T07:31:47.031941Z",
     "start_time": "2021-05-10T07:31:47.022395Z"
    }
   },
   "outputs": [
    {
     "name": "stdout",
     "output_type": "stream",
     "text": [
      "[None 'F' 'M' 'O']\n",
      "2175\n"
     ]
    }
   ],
   "source": [
    "print(profile_data_temp.gender.unique())\n",
    "print(profile_data_temp.gender.isna().sum())"
   ]
  },
  {
   "cell_type": "markdown",
   "id": "fdc3678c",
   "metadata": {},
   "source": [
    "***Checking Income Column percentage of Null values***"
   ]
  },
  {
   "cell_type": "code",
   "execution_count": 105,
   "id": "ea089108",
   "metadata": {
    "ExecuteTime": {
     "end_time": "2021-05-10T07:31:47.061805Z",
     "start_time": "2021-05-10T07:31:47.035865Z"
    }
   },
   "outputs": [
    {
     "data": {
      "text/plain": [
       "0.12794117647058822"
      ]
     },
     "execution_count": 105,
     "metadata": {},
     "output_type": "execute_result"
    }
   ],
   "source": [
    "profile_data_temp.income.isna().sum() / profile_data_temp.shape[0]\n",
    "\n",
    "# 12.7 % data is missing that means we can fill them with mean or median"
   ]
  },
  {
   "cell_type": "code",
   "execution_count": 106,
   "id": "c2f6fbfc",
   "metadata": {
    "ExecuteTime": {
     "end_time": "2021-05-10T07:31:47.115649Z",
     "start_time": "2021-05-10T07:31:47.065822Z"
    }
   },
   "outputs": [
    {
     "data": {
      "text/html": [
       "<div>\n",
       "<style scoped>\n",
       "    .dataframe tbody tr th:only-of-type {\n",
       "        vertical-align: middle;\n",
       "    }\n",
       "\n",
       "    .dataframe tbody tr th {\n",
       "        vertical-align: top;\n",
       "    }\n",
       "\n",
       "    .dataframe thead th {\n",
       "        text-align: right;\n",
       "    }\n",
       "</style>\n",
       "<table border=\"1\" class=\"dataframe\">\n",
       "  <thead>\n",
       "    <tr style=\"text-align: right;\">\n",
       "      <th></th>\n",
       "      <th>age</th>\n",
       "      <th>became_member_on</th>\n",
       "      <th>income</th>\n",
       "    </tr>\n",
       "  </thead>\n",
       "  <tbody>\n",
       "    <tr>\n",
       "      <th>count</th>\n",
       "      <td>17000.000000</td>\n",
       "      <td>1.700000e+04</td>\n",
       "      <td>14825.000000</td>\n",
       "    </tr>\n",
       "    <tr>\n",
       "      <th>mean</th>\n",
       "      <td>62.531412</td>\n",
       "      <td>2.016703e+07</td>\n",
       "      <td>65404.991568</td>\n",
       "    </tr>\n",
       "    <tr>\n",
       "      <th>std</th>\n",
       "      <td>26.738580</td>\n",
       "      <td>1.167750e+04</td>\n",
       "      <td>21598.299410</td>\n",
       "    </tr>\n",
       "    <tr>\n",
       "      <th>min</th>\n",
       "      <td>18.000000</td>\n",
       "      <td>2.013073e+07</td>\n",
       "      <td>30000.000000</td>\n",
       "    </tr>\n",
       "    <tr>\n",
       "      <th>25%</th>\n",
       "      <td>45.000000</td>\n",
       "      <td>2.016053e+07</td>\n",
       "      <td>49000.000000</td>\n",
       "    </tr>\n",
       "    <tr>\n",
       "      <th>50%</th>\n",
       "      <td>58.000000</td>\n",
       "      <td>2.017080e+07</td>\n",
       "      <td>64000.000000</td>\n",
       "    </tr>\n",
       "    <tr>\n",
       "      <th>75%</th>\n",
       "      <td>73.000000</td>\n",
       "      <td>2.017123e+07</td>\n",
       "      <td>80000.000000</td>\n",
       "    </tr>\n",
       "    <tr>\n",
       "      <th>max</th>\n",
       "      <td>118.000000</td>\n",
       "      <td>2.018073e+07</td>\n",
       "      <td>120000.000000</td>\n",
       "    </tr>\n",
       "  </tbody>\n",
       "</table>\n",
       "</div>"
      ],
      "text/plain": [
       "                age  became_member_on         income\n",
       "count  17000.000000      1.700000e+04   14825.000000\n",
       "mean      62.531412      2.016703e+07   65404.991568\n",
       "std       26.738580      1.167750e+04   21598.299410\n",
       "min       18.000000      2.013073e+07   30000.000000\n",
       "25%       45.000000      2.016053e+07   49000.000000\n",
       "50%       58.000000      2.017080e+07   64000.000000\n",
       "75%       73.000000      2.017123e+07   80000.000000\n",
       "max      118.000000      2.018073e+07  120000.000000"
      ]
     },
     "execution_count": 106,
     "metadata": {},
     "output_type": "execute_result"
    }
   ],
   "source": [
    "profile_data_temp.describe()"
   ]
  },
  {
   "cell_type": "markdown",
   "id": "71fd65c0",
   "metadata": {},
   "source": [
    "#### *Checking if data is skewed*"
   ]
  },
  {
   "cell_type": "code",
   "execution_count": 107,
   "id": "f5ee5761",
   "metadata": {
    "ExecuteTime": {
     "end_time": "2021-05-10T07:31:47.443032Z",
     "start_time": "2021-05-10T07:31:47.119694Z"
    }
   },
   "outputs": [
    {
     "name": "stdout",
     "output_type": "stream",
     "text": [
      "0    73000.0\n",
      "dtype: float64 64000.0\n"
     ]
    },
    {
     "data": {
      "image/png": "[encoded data removed]",
      "text/plain": [
       "<Figure size 432x288 with 1 Axes>"
      ]
     },
     "metadata": {
      "needs_background": "light"
     },
     "output_type": "display_data"
    }
   ],
   "source": [
    "plt.hist(profile_data_temp.income)\n",
    "\n",
    "# data is skewed filling it median or mode # median\n",
    "\n",
    "print(profile_data_temp.income.mode(), profile_data_temp.income.median())"
   ]
  },
  {
   "cell_type": "markdown",
   "id": "e1588103",
   "metadata": {},
   "source": [
    "**Code**"
   ]
  },
  {
   "cell_type": "markdown",
   "id": "516fd056",
   "metadata": {},
   "source": [
    "#### *Filling Null Values with median* "
   ]
  },
  {
   "cell_type": "code",
   "execution_count": 108,
   "id": "curious-asian",
   "metadata": {
    "ExecuteTime": {
     "end_time": "2021-05-10T07:31:47.470589Z",
     "start_time": "2021-05-10T07:31:47.445388Z"
    }
   },
   "outputs": [],
   "source": [
    "profile_data_temp.income.fillna(value = profile_data_temp.income.median(), inplace = True)"
   ]
  },
  {
   "cell_type": "markdown",
   "id": "5a3ee9a7",
   "metadata": {},
   "source": [
    "#### *Removing Null values with gender is None*"
   ]
  },
  {
   "cell_type": "code",
   "execution_count": 109,
   "id": "bb3c54c3",
   "metadata": {
    "ExecuteTime": {
     "end_time": "2021-05-10T07:31:47.512946Z",
     "start_time": "2021-05-10T07:31:47.475300Z"
    }
   },
   "outputs": [],
   "source": [
    "profile_data_temp.dropna(inplace = True)"
   ]
  },
  {
   "cell_type": "markdown",
   "id": "9b94df3c",
   "metadata": {},
   "source": [
    "**Test**"
   ]
  },
  {
   "cell_type": "code",
   "execution_count": 110,
   "id": "3bbacd7b",
   "metadata": {
    "ExecuteTime": {
     "end_time": "2021-05-10T07:31:47.557245Z",
     "start_time": "2021-05-10T07:31:47.518307Z"
    }
   },
   "outputs": [
    {
     "name": "stdout",
     "output_type": "stream",
     "text": [
      "<class 'pandas.core.frame.DataFrame'>\n",
      "Int64Index: 14825 entries, 1 to 16999\n",
      "Data columns (total 5 columns):\n",
      " #   Column            Non-Null Count  Dtype  \n",
      "---  ------            --------------  -----  \n",
      " 0   gender            14825 non-null  object \n",
      " 1   age               14825 non-null  int64  \n",
      " 2   id                14825 non-null  object \n",
      " 3   became_member_on  14825 non-null  int64  \n",
      " 4   income            14825 non-null  float64\n",
      "dtypes: float64(1), int64(2), object(2)\n",
      "memory usage: 694.9+ KB\n"
     ]
    }
   ],
   "source": [
    "# Info of the data\n",
    "profile_data_temp.info()"
   ]
  },
  {
   "cell_type": "markdown",
   "id": "5a1b8494",
   "metadata": {},
   "source": [
    "#### Define"
   ]
  },
  {
   "cell_type": "markdown",
   "id": "f0518b40",
   "metadata": {},
   "source": [
    "***`became_member_on_column` not in datetime format***"
   ]
  },
  {
   "cell_type": "code",
   "execution_count": 111,
   "id": "e279c7ae",
   "metadata": {
    "ExecuteTime": {
     "end_time": "2021-05-10T07:31:47.603633Z",
     "start_time": "2021-05-10T07:31:47.562950Z"
    }
   },
   "outputs": [
    {
     "data": {
      "text/html": [
       "<div>\n",
       "<style scoped>\n",
       "    .dataframe tbody tr th:only-of-type {\n",
       "        vertical-align: middle;\n",
       "    }\n",
       "\n",
       "    .dataframe tbody tr th {\n",
       "        vertical-align: top;\n",
       "    }\n",
       "\n",
       "    .dataframe thead th {\n",
       "        text-align: right;\n",
       "    }\n",
       "</style>\n",
       "<table border=\"1\" class=\"dataframe\">\n",
       "  <thead>\n",
       "    <tr style=\"text-align: right;\">\n",
       "      <th></th>\n",
       "      <th>gender</th>\n",
       "      <th>age</th>\n",
       "      <th>id</th>\n",
       "      <th>became_member_on</th>\n",
       "      <th>income</th>\n",
       "    </tr>\n",
       "  </thead>\n",
       "  <tbody>\n",
       "    <tr>\n",
       "      <th>10481</th>\n",
       "      <td>M</td>\n",
       "      <td>43</td>\n",
       "      <td>de0f881ea7aa436ebe0d4eb7218a9a71</td>\n",
       "      <td>20180709</td>\n",
       "      <td>72000.0</td>\n",
       "    </tr>\n",
       "    <tr>\n",
       "      <th>13286</th>\n",
       "      <td>M</td>\n",
       "      <td>67</td>\n",
       "      <td>0a94b618de1b435dbcfa1989e8c43ce8</td>\n",
       "      <td>20180606</td>\n",
       "      <td>43000.0</td>\n",
       "    </tr>\n",
       "    <tr>\n",
       "      <th>14695</th>\n",
       "      <td>M</td>\n",
       "      <td>48</td>\n",
       "      <td>8578196a074a4f328976e334fa9383a3</td>\n",
       "      <td>20180610</td>\n",
       "      <td>58000.0</td>\n",
       "    </tr>\n",
       "    <tr>\n",
       "      <th>6048</th>\n",
       "      <td>F</td>\n",
       "      <td>67</td>\n",
       "      <td>7ffb3da7ed254a35bea25b35d40c47b9</td>\n",
       "      <td>20180103</td>\n",
       "      <td>80000.0</td>\n",
       "    </tr>\n",
       "    <tr>\n",
       "      <th>13909</th>\n",
       "      <td>F</td>\n",
       "      <td>68</td>\n",
       "      <td>b153707a382046218a55e0122b4dcf37</td>\n",
       "      <td>20151128</td>\n",
       "      <td>76000.0</td>\n",
       "    </tr>\n",
       "    <tr>\n",
       "      <th>6006</th>\n",
       "      <td>M</td>\n",
       "      <td>55</td>\n",
       "      <td>bf42d3e0c84845dc9142443a4fda410d</td>\n",
       "      <td>20170728</td>\n",
       "      <td>93000.0</td>\n",
       "    </tr>\n",
       "    <tr>\n",
       "      <th>10290</th>\n",
       "      <td>M</td>\n",
       "      <td>91</td>\n",
       "      <td>0bb56cebce3342c0a71fd5aca70abab2</td>\n",
       "      <td>20170902</td>\n",
       "      <td>76000.0</td>\n",
       "    </tr>\n",
       "    <tr>\n",
       "      <th>16716</th>\n",
       "      <td>M</td>\n",
       "      <td>33</td>\n",
       "      <td>61e7bf20af4c434ab2d89cdc565d8046</td>\n",
       "      <td>20170926</td>\n",
       "      <td>40000.0</td>\n",
       "    </tr>\n",
       "    <tr>\n",
       "      <th>4550</th>\n",
       "      <td>F</td>\n",
       "      <td>28</td>\n",
       "      <td>4e8b65bc8e964b8f96750fb00de1e90c</td>\n",
       "      <td>20150501</td>\n",
       "      <td>66000.0</td>\n",
       "    </tr>\n",
       "    <tr>\n",
       "      <th>5793</th>\n",
       "      <td>M</td>\n",
       "      <td>22</td>\n",
       "      <td>fcd42da6a4864c8e90455aff1f6c2f87</td>\n",
       "      <td>20180421</td>\n",
       "      <td>33000.0</td>\n",
       "    </tr>\n",
       "  </tbody>\n",
       "</table>\n",
       "</div>"
      ],
      "text/plain": [
       "      gender  age                                id  became_member_on   income\n",
       "10481      M   43  de0f881ea7aa436ebe0d4eb7218a9a71          20180709  72000.0\n",
       "13286      M   67  0a94b618de1b435dbcfa1989e8c43ce8          20180606  43000.0\n",
       "14695      M   48  8578196a074a4f328976e334fa9383a3          20180610  58000.0\n",
       "6048       F   67  7ffb3da7ed254a35bea25b35d40c47b9          20180103  80000.0\n",
       "13909      F   68  b153707a382046218a55e0122b4dcf37          20151128  76000.0\n",
       "6006       M   55  bf42d3e0c84845dc9142443a4fda410d          20170728  93000.0\n",
       "10290      M   91  0bb56cebce3342c0a71fd5aca70abab2          20170902  76000.0\n",
       "16716      M   33  61e7bf20af4c434ab2d89cdc565d8046          20170926  40000.0\n",
       "4550       F   28  4e8b65bc8e964b8f96750fb00de1e90c          20150501  66000.0\n",
       "5793       M   22  fcd42da6a4864c8e90455aff1f6c2f87          20180421  33000.0"
      ]
     },
     "execution_count": 111,
     "metadata": {},
     "output_type": "execute_result"
    }
   ],
   "source": [
    "profile_data_temp.sample(10)"
   ]
  },
  {
   "cell_type": "markdown",
   "id": "935d2a0a",
   "metadata": {},
   "source": [
    "#### Code"
   ]
  },
  {
   "cell_type": "code",
   "execution_count": 112,
   "id": "e4b2013f",
   "metadata": {
    "ExecuteTime": {
     "end_time": "2021-05-10T07:31:47.658246Z",
     "start_time": "2021-05-10T07:31:47.609817Z"
    }
   },
   "outputs": [],
   "source": [
    "profile_data_temp['became_member_on'] = pd.to_datetime(profile_data_temp['became_member_on'], format='%Y%m%d')"
   ]
  },
  {
   "cell_type": "markdown",
   "id": "57e3d6c0",
   "metadata": {},
   "source": [
    "#### Test"
   ]
  },
  {
   "cell_type": "code",
   "execution_count": 113,
   "id": "5224b72d",
   "metadata": {
    "ExecuteTime": {
     "end_time": "2021-05-10T07:31:47.703923Z",
     "start_time": "2021-05-10T07:31:47.664378Z"
    }
   },
   "outputs": [
    {
     "data": {
      "text/html": [
       "<div>\n",
       "<style scoped>\n",
       "    .dataframe tbody tr th:only-of-type {\n",
       "        vertical-align: middle;\n",
       "    }\n",
       "\n",
       "    .dataframe tbody tr th {\n",
       "        vertical-align: top;\n",
       "    }\n",
       "\n",
       "    .dataframe thead th {\n",
       "        text-align: right;\n",
       "    }\n",
       "</style>\n",
       "<table border=\"1\" class=\"dataframe\">\n",
       "  <thead>\n",
       "    <tr style=\"text-align: right;\">\n",
       "      <th></th>\n",
       "      <th>gender</th>\n",
       "      <th>age</th>\n",
       "      <th>id</th>\n",
       "      <th>became_member_on</th>\n",
       "      <th>income</th>\n",
       "    </tr>\n",
       "  </thead>\n",
       "  <tbody>\n",
       "    <tr>\n",
       "      <th>10476</th>\n",
       "      <td>M</td>\n",
       "      <td>70</td>\n",
       "      <td>473e00da3d8b465ea0b9261ef2f696ae</td>\n",
       "      <td>2016-08-01</td>\n",
       "      <td>74000.0</td>\n",
       "    </tr>\n",
       "    <tr>\n",
       "      <th>9594</th>\n",
       "      <td>F</td>\n",
       "      <td>69</td>\n",
       "      <td>bfe8855ff5f34cf6a8e7ce556b0e7e73</td>\n",
       "      <td>2015-12-02</td>\n",
       "      <td>56000.0</td>\n",
       "    </tr>\n",
       "    <tr>\n",
       "      <th>12784</th>\n",
       "      <td>F</td>\n",
       "      <td>56</td>\n",
       "      <td>8aef76b765204f9ab1b63d601dd8be63</td>\n",
       "      <td>2018-07-16</td>\n",
       "      <td>52000.0</td>\n",
       "    </tr>\n",
       "    <tr>\n",
       "      <th>15061</th>\n",
       "      <td>M</td>\n",
       "      <td>54</td>\n",
       "      <td>8bd89a4fa5914510bbae8d884cc27c3b</td>\n",
       "      <td>2014-10-03</td>\n",
       "      <td>35000.0</td>\n",
       "    </tr>\n",
       "    <tr>\n",
       "      <th>15978</th>\n",
       "      <td>F</td>\n",
       "      <td>65</td>\n",
       "      <td>adf9c31a25944ec6a58f7c88e008ba5a</td>\n",
       "      <td>2017-03-18</td>\n",
       "      <td>118000.0</td>\n",
       "    </tr>\n",
       "    <tr>\n",
       "      <th>16060</th>\n",
       "      <td>M</td>\n",
       "      <td>53</td>\n",
       "      <td>b0ba73d05a4f4224952ea044958252b1</td>\n",
       "      <td>2017-11-06</td>\n",
       "      <td>67000.0</td>\n",
       "    </tr>\n",
       "    <tr>\n",
       "      <th>6931</th>\n",
       "      <td>F</td>\n",
       "      <td>74</td>\n",
       "      <td>8bf054c6db1a44f1acfb4c40fdd59100</td>\n",
       "      <td>2016-08-15</td>\n",
       "      <td>80000.0</td>\n",
       "    </tr>\n",
       "    <tr>\n",
       "      <th>10019</th>\n",
       "      <td>M</td>\n",
       "      <td>30</td>\n",
       "      <td>a938c3fd37a74118be0f298145aed07d</td>\n",
       "      <td>2013-09-08</td>\n",
       "      <td>67000.0</td>\n",
       "    </tr>\n",
       "    <tr>\n",
       "      <th>6441</th>\n",
       "      <td>M</td>\n",
       "      <td>58</td>\n",
       "      <td>5a5bffb68f8d4527b532dbfb19da7d3f</td>\n",
       "      <td>2015-05-13</td>\n",
       "      <td>52000.0</td>\n",
       "    </tr>\n",
       "    <tr>\n",
       "      <th>15909</th>\n",
       "      <td>M</td>\n",
       "      <td>59</td>\n",
       "      <td>98fa1cabd1ae43cf9a8edd3b3332eeae</td>\n",
       "      <td>2016-11-20</td>\n",
       "      <td>93000.0</td>\n",
       "    </tr>\n",
       "  </tbody>\n",
       "</table>\n",
       "</div>"
      ],
      "text/plain": [
       "      gender  age                                id became_member_on    income\n",
       "10476      M   70  473e00da3d8b465ea0b9261ef2f696ae       2016-08-01   74000.0\n",
       "9594       F   69  bfe8855ff5f34cf6a8e7ce556b0e7e73       2015-12-02   56000.0\n",
       "12784      F   56  8aef76b765204f9ab1b63d601dd8be63       2018-07-16   52000.0\n",
       "15061      M   54  8bd89a4fa5914510bbae8d884cc27c3b       2014-10-03   35000.0\n",
       "15978      F   65  adf9c31a25944ec6a58f7c88e008ba5a       2017-03-18  118000.0\n",
       "16060      M   53  b0ba73d05a4f4224952ea044958252b1       2017-11-06   67000.0\n",
       "6931       F   74  8bf054c6db1a44f1acfb4c40fdd59100       2016-08-15   80000.0\n",
       "10019      M   30  a938c3fd37a74118be0f298145aed07d       2013-09-08   67000.0\n",
       "6441       M   58  5a5bffb68f8d4527b532dbfb19da7d3f       2015-05-13   52000.0\n",
       "15909      M   59  98fa1cabd1ae43cf9a8edd3b3332eeae       2016-11-20   93000.0"
      ]
     },
     "execution_count": 113,
     "metadata": {},
     "output_type": "execute_result"
    }
   ],
   "source": [
    "profile_data_temp.sample(10)"
   ]
  },
  {
   "cell_type": "code",
   "execution_count": 114,
   "id": "2351516e",
   "metadata": {
    "ExecuteTime": {
     "end_time": "2021-05-10T07:31:47.747876Z",
     "start_time": "2021-05-10T07:31:47.709903Z"
    }
   },
   "outputs": [
    {
     "name": "stdout",
     "output_type": "stream",
     "text": [
      "<class 'pandas.core.frame.DataFrame'>\n",
      "Int64Index: 14825 entries, 1 to 16999\n",
      "Data columns (total 5 columns):\n",
      " #   Column            Non-Null Count  Dtype         \n",
      "---  ------            --------------  -----         \n",
      " 0   gender            14825 non-null  object        \n",
      " 1   age               14825 non-null  int64         \n",
      " 2   id                14825 non-null  object        \n",
      " 3   became_member_on  14825 non-null  datetime64[ns]\n",
      " 4   income            14825 non-null  float64       \n",
      "dtypes: datetime64[ns](1), float64(1), int64(1), object(2)\n",
      "memory usage: 694.9+ KB\n"
     ]
    }
   ],
   "source": [
    "profile_data_temp.info()"
   ]
  },
  {
   "cell_type": "markdown",
   "id": "97ea1585",
   "metadata": {},
   "source": [
    "#### Define"
   ]
  },
  {
   "cell_type": "markdown",
   "id": "6e7b07e2",
   "metadata": {},
   "source": [
    "#### *Renaming columns for merging*"
   ]
  },
  {
   "cell_type": "code",
   "execution_count": 115,
   "id": "fec26346",
   "metadata": {
    "ExecuteTime": {
     "end_time": "2021-05-10T07:31:47.760118Z",
     "start_time": "2021-05-10T07:31:47.751250Z"
    }
   },
   "outputs": [
    {
     "data": {
      "text/plain": [
       "Index(['gender', 'age', 'id', 'became_member_on', 'income'], dtype='object')"
      ]
     },
     "execution_count": 115,
     "metadata": {},
     "output_type": "execute_result"
    }
   ],
   "source": [
    "profile_data_temp.columns"
   ]
  },
  {
   "cell_type": "code",
   "execution_count": 116,
   "id": "20ab3738",
   "metadata": {
    "ExecuteTime": {
     "end_time": "2021-05-10T07:31:47.784884Z",
     "start_time": "2021-05-10T07:31:47.763060Z"
    }
   },
   "outputs": [
    {
     "data": {
      "text/plain": [
       "Index(['person', 'event', 'time', 'offer_id', 'reward', 'amount'], dtype='object')"
      ]
     },
     "execution_count": 116,
     "metadata": {},
     "output_type": "execute_result"
    }
   ],
   "source": [
    "transcript_data_temp.columns"
   ]
  },
  {
   "cell_type": "code",
   "execution_count": 117,
   "id": "df093aae",
   "metadata": {
    "ExecuteTime": {
     "end_time": "2021-05-10T07:31:47.797601Z",
     "start_time": "2021-05-10T07:31:47.787217Z"
    }
   },
   "outputs": [
    {
     "data": {
      "text/plain": [
       "Index(['reward', 'difficulty', 'duration', 'offer_type', 'id', 'email',\n",
       "       'mobile', 'social', 'web'],\n",
       "      dtype='object')"
      ]
     },
     "execution_count": 117,
     "metadata": {},
     "output_type": "execute_result"
    }
   ],
   "source": [
    "portfolio_data_temp.columns"
   ]
  },
  {
   "cell_type": "markdown",
   "id": "bd6c3724",
   "metadata": {},
   "source": [
    "#### Code"
   ]
  },
  {
   "cell_type": "code",
   "execution_count": 118,
   "id": "1c026d6f",
   "metadata": {
    "ExecuteTime": {
     "end_time": "2021-05-10T07:31:47.809703Z",
     "start_time": "2021-05-10T07:31:47.799856Z"
    }
   },
   "outputs": [],
   "source": [
    "profile_data_temp.rename(columns={'id':'customer_id'}, inplace = True)"
   ]
  },
  {
   "cell_type": "code",
   "execution_count": 119,
   "id": "4ac7bdbb",
   "metadata": {
    "ExecuteTime": {
     "end_time": "2021-05-10T07:31:47.825514Z",
     "start_time": "2021-05-10T07:31:47.812804Z"
    }
   },
   "outputs": [],
   "source": [
    "transcript_data_temp.rename(columns={'person':'customer_id'}, inplace = True)"
   ]
  },
  {
   "cell_type": "code",
   "execution_count": 120,
   "id": "6b283a2e",
   "metadata": {
    "ExecuteTime": {
     "end_time": "2021-05-10T07:31:47.838103Z",
     "start_time": "2021-05-10T07:31:47.827553Z"
    }
   },
   "outputs": [],
   "source": [
    "portfolio_data_temp.rename(columns={'id':'offer_id'}, inplace = True)"
   ]
  },
  {
   "cell_type": "markdown",
   "id": "48ec8cd4",
   "metadata": {},
   "source": [
    "#### Test"
   ]
  },
  {
   "cell_type": "code",
   "execution_count": 121,
   "id": "be150872",
   "metadata": {
    "ExecuteTime": {
     "end_time": "2021-05-10T07:31:47.850548Z",
     "start_time": "2021-05-10T07:31:47.840513Z"
    }
   },
   "outputs": [
    {
     "data": {
      "text/plain": [
       "Index(['gender', 'age', 'customer_id', 'became_member_on', 'income'], dtype='object')"
      ]
     },
     "execution_count": 121,
     "metadata": {},
     "output_type": "execute_result"
    }
   ],
   "source": [
    "profile_data_temp.columns"
   ]
  },
  {
   "cell_type": "code",
   "execution_count": 122,
   "id": "4e715de1",
   "metadata": {
    "ExecuteTime": {
     "end_time": "2021-05-10T07:31:47.866023Z",
     "start_time": "2021-05-10T07:31:47.853467Z"
    }
   },
   "outputs": [
    {
     "data": {
      "text/plain": [
       "Index(['customer_id', 'event', 'time', 'offer_id', 'reward', 'amount'], dtype='object')"
      ]
     },
     "execution_count": 122,
     "metadata": {},
     "output_type": "execute_result"
    }
   ],
   "source": [
    "transcript_data_temp.columns"
   ]
  },
  {
   "cell_type": "code",
   "execution_count": 123,
   "id": "81f4d143",
   "metadata": {
    "ExecuteTime": {
     "end_time": "2021-05-10T07:31:47.879272Z",
     "start_time": "2021-05-10T07:31:47.869360Z"
    }
   },
   "outputs": [
    {
     "data": {
      "text/plain": [
       "Index(['reward', 'difficulty', 'duration', 'offer_type', 'offer_id', 'email',\n",
       "       'mobile', 'social', 'web'],\n",
       "      dtype='object')"
      ]
     },
     "execution_count": 123,
     "metadata": {},
     "output_type": "execute_result"
    }
   ],
   "source": [
    "portfolio_data_temp.columns"
   ]
  },
  {
   "cell_type": "markdown",
   "id": "82af0aff",
   "metadata": {},
   "source": [
    "### Merging Data to one."
   ]
  },
  {
   "cell_type": "markdown",
   "id": "e9c34be8",
   "metadata": {},
   "source": [
    "## Checking if data can be merged"
   ]
  },
  {
   "cell_type": "code",
   "execution_count": 124,
   "id": "f47e889b",
   "metadata": {
    "ExecuteTime": {
     "end_time": "2021-05-10T07:31:47.983916Z",
     "start_time": "2021-05-10T07:31:47.882032Z"
    }
   },
   "outputs": [
    {
     "name": "stdout",
     "output_type": "stream",
     "text": [
      "10\n",
      "10\n"
     ]
    }
   ],
   "source": [
    "set(transcript_data_temp['offer_id'].unique()).intersection(set(portfolio_data_temp['offer_id'].unique()))\n",
    "print(len(set(transcript_data_temp['offer_id'].unique()).intersection(set(portfolio_data_temp['offer_id'].unique()))))\n",
    "print(portfolio_data_temp.shape[0])"
   ]
  },
  {
   "cell_type": "code",
   "execution_count": 125,
   "id": "ab98d0eb",
   "metadata": {
    "ExecuteTime": {
     "end_time": "2021-05-10T07:31:48.110147Z",
     "start_time": "2021-05-10T07:31:47.988503Z"
    }
   },
   "outputs": [
    {
     "data": {
      "text/plain": [
       "17000"
      ]
     },
     "execution_count": 125,
     "metadata": {},
     "output_type": "execute_result"
    }
   ],
   "source": [
    "len(transcript_data_temp.customer_id.unique())"
   ]
  },
  {
   "cell_type": "code",
   "execution_count": 126,
   "id": "d910bfe7",
   "metadata": {
    "ExecuteTime": {
     "end_time": "2021-05-10T07:31:48.389334Z",
     "start_time": "2021-05-10T07:31:48.112187Z"
    }
   },
   "outputs": [
    {
     "name": "stdout",
     "output_type": "stream",
     "text": [
      "14825\n"
     ]
    },
    {
     "data": {
      "text/plain": [
       "14825"
      ]
     },
     "execution_count": 126,
     "metadata": {},
     "output_type": "execute_result"
    }
   ],
   "source": [
    "set(transcript_data_temp.customer_id.unique()).intersection(set(profile_data_temp.customer_id.unique()))\n",
    "print(len(set(transcript_data_temp.customer_id.unique()).intersection(set(profile_data_temp.customer_id.unique()))))\n",
    "len(profile_data_temp.customer_id.unique())"
   ]
  },
  {
   "cell_type": "markdown",
   "id": "80c6e160",
   "metadata": {},
   "source": [
    "**Merging datasets with following columns**\n",
    "- ***Customer_id*** : profile_data_temp and transcript_data_temp\n",
    "- ***offer_id*** : portfolio_data_temp and transcript_data_temp"
   ]
  },
  {
   "cell_type": "code",
   "execution_count": 127,
   "id": "52bf8639",
   "metadata": {
    "ExecuteTime": {
     "end_time": "2021-05-10T07:31:48.416924Z",
     "start_time": "2021-05-10T07:31:48.390379Z"
    },
    "scrolled": true
   },
   "outputs": [
    {
     "name": "stdout",
     "output_type": "stream",
     "text": [
      "<class 'pandas.core.frame.DataFrame'>\n",
      "RangeIndex: 10 entries, 0 to 9\n",
      "Data columns (total 9 columns):\n",
      " #   Column      Non-Null Count  Dtype \n",
      "---  ------      --------------  ----- \n",
      " 0   reward      10 non-null     int64 \n",
      " 1   difficulty  10 non-null     int64 \n",
      " 2   duration    10 non-null     int64 \n",
      " 3   offer_type  10 non-null     object\n",
      " 4   offer_id    10 non-null     object\n",
      " 5   email       10 non-null     int64 \n",
      " 6   mobile      10 non-null     int64 \n",
      " 7   social      10 non-null     int64 \n",
      " 8   web         10 non-null     int64 \n",
      "dtypes: int64(7), object(2)\n",
      "memory usage: 848.0+ bytes\n"
     ]
    }
   ],
   "source": [
    "portfolio_data_temp.info()"
   ]
  },
  {
   "cell_type": "code",
   "execution_count": 128,
   "id": "f908a33e",
   "metadata": {
    "ExecuteTime": {
     "end_time": "2021-05-10T07:31:48.556688Z",
     "start_time": "2021-05-10T07:31:48.420632Z"
    }
   },
   "outputs": [
    {
     "name": "stdout",
     "output_type": "stream",
     "text": [
      "<class 'pandas.core.frame.DataFrame'>\n",
      "RangeIndex: 306534 entries, 0 to 306533\n",
      "Data columns (total 6 columns):\n",
      " #   Column       Non-Null Count   Dtype  \n",
      "---  ------       --------------   -----  \n",
      " 0   customer_id  306534 non-null  object \n",
      " 1   event        306534 non-null  object \n",
      " 2   time         306534 non-null  int64  \n",
      " 3   offer_id     167581 non-null  object \n",
      " 4   reward       306534 non-null  int64  \n",
      " 5   amount       306534 non-null  float64\n",
      "dtypes: float64(1), int64(2), object(3)\n",
      "memory usage: 14.0+ MB\n"
     ]
    }
   ],
   "source": [
    "transcript_data_temp.info()"
   ]
  },
  {
   "cell_type": "code",
   "execution_count": 129,
   "id": "af03352c",
   "metadata": {
    "ExecuteTime": {
     "end_time": "2021-05-10T07:31:48.602236Z",
     "start_time": "2021-05-10T07:31:48.560863Z"
    }
   },
   "outputs": [
    {
     "name": "stdout",
     "output_type": "stream",
     "text": [
      "<class 'pandas.core.frame.DataFrame'>\n",
      "Int64Index: 14825 entries, 1 to 16999\n",
      "Data columns (total 5 columns):\n",
      " #   Column            Non-Null Count  Dtype         \n",
      "---  ------            --------------  -----         \n",
      " 0   gender            14825 non-null  object        \n",
      " 1   age               14825 non-null  int64         \n",
      " 2   customer_id       14825 non-null  object        \n",
      " 3   became_member_on  14825 non-null  datetime64[ns]\n",
      " 4   income            14825 non-null  float64       \n",
      "dtypes: datetime64[ns](1), float64(1), int64(1), object(2)\n",
      "memory usage: 694.9+ KB\n"
     ]
    }
   ],
   "source": [
    "profile_data_temp.info()"
   ]
  },
  {
   "cell_type": "code",
   "execution_count": 130,
   "id": "70a15108",
   "metadata": {
    "ExecuteTime": {
     "end_time": "2021-05-10T07:31:48.645369Z",
     "start_time": "2021-05-10T07:31:48.606239Z"
    }
   },
   "outputs": [],
   "source": [
    "merged_data = transcript_data_temp.copy()"
   ]
  },
  {
   "cell_type": "code",
   "execution_count": 131,
   "id": "9487e1f8",
   "metadata": {
    "ExecuteTime": {
     "end_time": "2021-05-10T07:31:49.058320Z",
     "start_time": "2021-05-10T07:31:48.646412Z"
    }
   },
   "outputs": [],
   "source": [
    "merged_data = merged_data.merge(profile_data_temp, on = 'customer_id', how = 'inner')"
   ]
  },
  {
   "cell_type": "code",
   "execution_count": 132,
   "id": "284f0566",
   "metadata": {
    "ExecuteTime": {
     "end_time": "2021-05-10T07:31:49.392443Z",
     "start_time": "2021-05-10T07:31:49.061821Z"
    }
   },
   "outputs": [],
   "source": [
    "merged_data = merged_data.merge(portfolio_data_temp, on = 'offer_id', how = 'left')"
   ]
  },
  {
   "cell_type": "code",
   "execution_count": 133,
   "id": "17afef06",
   "metadata": {
    "ExecuteTime": {
     "end_time": "2021-05-10T07:31:49.631537Z",
     "start_time": "2021-05-10T07:31:49.396277Z"
    }
   },
   "outputs": [],
   "source": [
    "# Reward column is redundant so eliminating reward_y after merging\n",
    "merged_data.rename(columns = {'reward_x':'reward'}, inplace = True)\n",
    "merged_data.drop(['reward_y'], inplace = True, axis = 1)"
   ]
  },
  {
   "cell_type": "code",
   "execution_count": 134,
   "id": "20513169",
   "metadata": {
    "ExecuteTime": {
     "end_time": "2021-05-10T07:31:49.721109Z",
     "start_time": "2021-05-10T07:31:49.633167Z"
    }
   },
   "outputs": [
    {
     "data": {
      "text/html": [
       "<div>\n",
       "<style scoped>\n",
       "    .dataframe tbody tr th:only-of-type {\n",
       "        vertical-align: middle;\n",
       "    }\n",
       "\n",
       "    .dataframe tbody tr th {\n",
       "        vertical-align: top;\n",
       "    }\n",
       "\n",
       "    .dataframe thead th {\n",
       "        text-align: right;\n",
       "    }\n",
       "</style>\n",
       "<table border=\"1\" class=\"dataframe\">\n",
       "  <thead>\n",
       "    <tr style=\"text-align: right;\">\n",
       "      <th></th>\n",
       "      <th>customer_id</th>\n",
       "      <th>event</th>\n",
       "      <th>time</th>\n",
       "      <th>offer_id</th>\n",
       "      <th>reward</th>\n",
       "      <th>amount</th>\n",
       "      <th>gender</th>\n",
       "      <th>age</th>\n",
       "      <th>became_member_on</th>\n",
       "      <th>income</th>\n",
       "      <th>difficulty</th>\n",
       "      <th>duration</th>\n",
       "      <th>offer_type</th>\n",
       "      <th>email</th>\n",
       "      <th>mobile</th>\n",
       "      <th>social</th>\n",
       "      <th>web</th>\n",
       "    </tr>\n",
       "  </thead>\n",
       "  <tbody>\n",
       "    <tr>\n",
       "      <th>133946</th>\n",
       "      <td>c5d75aec20994df6bf51f95ca1664dcb</td>\n",
       "      <td>transaction</td>\n",
       "      <td>666</td>\n",
       "      <td>NaN</td>\n",
       "      <td>0</td>\n",
       "      <td>21.12</td>\n",
       "      <td>M</td>\n",
       "      <td>48</td>\n",
       "      <td>2016-08-21</td>\n",
       "      <td>80000.0</td>\n",
       "      <td>NaN</td>\n",
       "      <td>NaN</td>\n",
       "      <td>NaN</td>\n",
       "      <td>NaN</td>\n",
       "      <td>NaN</td>\n",
       "      <td>NaN</td>\n",
       "      <td>NaN</td>\n",
       "    </tr>\n",
       "    <tr>\n",
       "      <th>228212</th>\n",
       "      <td>f5de20984950433d9c206f7c42477342</td>\n",
       "      <td>offer completed</td>\n",
       "      <td>360</td>\n",
       "      <td>4d5c57ea9a6940dd891ad53e9dbe8da0</td>\n",
       "      <td>10</td>\n",
       "      <td>0.00</td>\n",
       "      <td>M</td>\n",
       "      <td>48</td>\n",
       "      <td>2015-09-10</td>\n",
       "      <td>75000.0</td>\n",
       "      <td>10.0</td>\n",
       "      <td>5.0</td>\n",
       "      <td>bogo</td>\n",
       "      <td>1.0</td>\n",
       "      <td>1.0</td>\n",
       "      <td>1.0</td>\n",
       "      <td>1.0</td>\n",
       "    </tr>\n",
       "    <tr>\n",
       "      <th>54605</th>\n",
       "      <td>f1889618c1d6407c855ac642b08b635a</td>\n",
       "      <td>offer completed</td>\n",
       "      <td>474</td>\n",
       "      <td>9b98b8c7a33c4b65b9aebfe6a799e6d9</td>\n",
       "      <td>5</td>\n",
       "      <td>0.00</td>\n",
       "      <td>M</td>\n",
       "      <td>36</td>\n",
       "      <td>2018-02-03</td>\n",
       "      <td>67000.0</td>\n",
       "      <td>5.0</td>\n",
       "      <td>7.0</td>\n",
       "      <td>bogo</td>\n",
       "      <td>1.0</td>\n",
       "      <td>1.0</td>\n",
       "      <td>0.0</td>\n",
       "      <td>1.0</td>\n",
       "    </tr>\n",
       "    <tr>\n",
       "      <th>256702</th>\n",
       "      <td>395d93dc9b9d4cb7bce9901fa07f27ec</td>\n",
       "      <td>offer completed</td>\n",
       "      <td>618</td>\n",
       "      <td>2298d6c36e964ae4a3e7e9706d1fb8c2</td>\n",
       "      <td>3</td>\n",
       "      <td>0.00</td>\n",
       "      <td>M</td>\n",
       "      <td>56</td>\n",
       "      <td>2014-05-26</td>\n",
       "      <td>75000.0</td>\n",
       "      <td>7.0</td>\n",
       "      <td>7.0</td>\n",
       "      <td>discount</td>\n",
       "      <td>1.0</td>\n",
       "      <td>1.0</td>\n",
       "      <td>1.0</td>\n",
       "      <td>1.0</td>\n",
       "    </tr>\n",
       "    <tr>\n",
       "      <th>63269</th>\n",
       "      <td>78d968c803724eb5812a988d5156f943</td>\n",
       "      <td>offer received</td>\n",
       "      <td>576</td>\n",
       "      <td>0b1e1539f2cc45b7b9fa7c272da2e1d7</td>\n",
       "      <td>0</td>\n",
       "      <td>0.00</td>\n",
       "      <td>M</td>\n",
       "      <td>76</td>\n",
       "      <td>2015-09-21</td>\n",
       "      <td>44000.0</td>\n",
       "      <td>20.0</td>\n",
       "      <td>10.0</td>\n",
       "      <td>discount</td>\n",
       "      <td>1.0</td>\n",
       "      <td>0.0</td>\n",
       "      <td>0.0</td>\n",
       "      <td>1.0</td>\n",
       "    </tr>\n",
       "    <tr>\n",
       "      <th>167208</th>\n",
       "      <td>8a5f808f0e164782aa421b1c81fb119a</td>\n",
       "      <td>offer received</td>\n",
       "      <td>0</td>\n",
       "      <td>5a8bc65990b245e5a138643cd4eb9837</td>\n",
       "      <td>0</td>\n",
       "      <td>0.00</td>\n",
       "      <td>M</td>\n",
       "      <td>58</td>\n",
       "      <td>2018-02-23</td>\n",
       "      <td>54000.0</td>\n",
       "      <td>0.0</td>\n",
       "      <td>3.0</td>\n",
       "      <td>informational</td>\n",
       "      <td>1.0</td>\n",
       "      <td>1.0</td>\n",
       "      <td>1.0</td>\n",
       "      <td>0.0</td>\n",
       "    </tr>\n",
       "    <tr>\n",
       "      <th>140769</th>\n",
       "      <td>dc2180e1d4dd4f3084da7537b71696a2</td>\n",
       "      <td>offer received</td>\n",
       "      <td>0</td>\n",
       "      <td>2298d6c36e964ae4a3e7e9706d1fb8c2</td>\n",
       "      <td>0</td>\n",
       "      <td>0.00</td>\n",
       "      <td>M</td>\n",
       "      <td>24</td>\n",
       "      <td>2017-12-20</td>\n",
       "      <td>51000.0</td>\n",
       "      <td>7.0</td>\n",
       "      <td>7.0</td>\n",
       "      <td>discount</td>\n",
       "      <td>1.0</td>\n",
       "      <td>1.0</td>\n",
       "      <td>1.0</td>\n",
       "      <td>1.0</td>\n",
       "    </tr>\n",
       "    <tr>\n",
       "      <th>30817</th>\n",
       "      <td>0fd94650b0bd46c29140b2742eed0bea</td>\n",
       "      <td>offer viewed</td>\n",
       "      <td>0</td>\n",
       "      <td>fafdcd668e3743c1bb461111dcafc2a4</td>\n",
       "      <td>0</td>\n",
       "      <td>0.00</td>\n",
       "      <td>M</td>\n",
       "      <td>66</td>\n",
       "      <td>2017-12-23</td>\n",
       "      <td>75000.0</td>\n",
       "      <td>10.0</td>\n",
       "      <td>10.0</td>\n",
       "      <td>discount</td>\n",
       "      <td>1.0</td>\n",
       "      <td>1.0</td>\n",
       "      <td>1.0</td>\n",
       "      <td>1.0</td>\n",
       "    </tr>\n",
       "    <tr>\n",
       "      <th>244388</th>\n",
       "      <td>0abb3f3cf3634fd4866a22052f8c9e5f</td>\n",
       "      <td>offer viewed</td>\n",
       "      <td>576</td>\n",
       "      <td>2906b810c7d4411798c6938adc9daaa5</td>\n",
       "      <td>0</td>\n",
       "      <td>0.00</td>\n",
       "      <td>M</td>\n",
       "      <td>57</td>\n",
       "      <td>2017-10-26</td>\n",
       "      <td>97000.0</td>\n",
       "      <td>10.0</td>\n",
       "      <td>7.0</td>\n",
       "      <td>discount</td>\n",
       "      <td>1.0</td>\n",
       "      <td>1.0</td>\n",
       "      <td>0.0</td>\n",
       "      <td>1.0</td>\n",
       "    </tr>\n",
       "    <tr>\n",
       "      <th>237898</th>\n",
       "      <td>eeb42b5e6a294295b3628a20ff72bbc6</td>\n",
       "      <td>offer received</td>\n",
       "      <td>408</td>\n",
       "      <td>4d5c57ea9a6940dd891ad53e9dbe8da0</td>\n",
       "      <td>0</td>\n",
       "      <td>0.00</td>\n",
       "      <td>M</td>\n",
       "      <td>58</td>\n",
       "      <td>2016-10-19</td>\n",
       "      <td>61000.0</td>\n",
       "      <td>10.0</td>\n",
       "      <td>5.0</td>\n",
       "      <td>bogo</td>\n",
       "      <td>1.0</td>\n",
       "      <td>1.0</td>\n",
       "      <td>1.0</td>\n",
       "      <td>1.0</td>\n",
       "    </tr>\n",
       "  </tbody>\n",
       "</table>\n",
       "</div>"
      ],
      "text/plain": [
       "                             customer_id            event  time  \\\n",
       "133946  c5d75aec20994df6bf51f95ca1664dcb      transaction   666   \n",
       "228212  f5de20984950433d9c206f7c42477342  offer completed   360   \n",
       "54605   f1889618c1d6407c855ac642b08b635a  offer completed   474   \n",
       "256702  395d93dc9b9d4cb7bce9901fa07f27ec  offer completed   618   \n",
       "63269   78d968c803724eb5812a988d5156f943   offer received   576   \n",
       "167208  8a5f808f0e164782aa421b1c81fb119a   offer received     0   \n",
       "140769  dc2180e1d4dd4f3084da7537b71696a2   offer received     0   \n",
       "30817   0fd94650b0bd46c29140b2742eed0bea     offer viewed     0   \n",
       "244388  0abb3f3cf3634fd4866a22052f8c9e5f     offer viewed   576   \n",
       "237898  eeb42b5e6a294295b3628a20ff72bbc6   offer received   408   \n",
       "\n",
       "                                offer_id  reward  amount gender  age  \\\n",
       "133946                               NaN       0   21.12      M   48   \n",
       "228212  4d5c57ea9a6940dd891ad53e9dbe8da0      10    0.00      M   48   \n",
       "54605   9b98b8c7a33c4b65b9aebfe6a799e6d9       5    0.00      M   36   \n",
       "256702  2298d6c36e964ae4a3e7e9706d1fb8c2       3    0.00      M   56   \n",
       "63269   0b1e1539f2cc45b7b9fa7c272da2e1d7       0    0.00      M   76   \n",
       "167208  5a8bc65990b245e5a138643cd4eb9837       0    0.00      M   58   \n",
       "140769  2298d6c36e964ae4a3e7e9706d1fb8c2       0    0.00      M   24   \n",
       "30817   fafdcd668e3743c1bb461111dcafc2a4       0    0.00      M   66   \n",
       "244388  2906b810c7d4411798c6938adc9daaa5       0    0.00      M   57   \n",
       "237898  4d5c57ea9a6940dd891ad53e9dbe8da0       0    0.00      M   58   \n",
       "\n",
       "       became_member_on   income  difficulty  duration     offer_type  email  \\\n",
       "133946       2016-08-21  80000.0         NaN       NaN            NaN    NaN   \n",
       "228212       2015-09-10  75000.0        10.0       5.0           bogo    1.0   \n",
       "54605        2018-02-03  67000.0         5.0       7.0           bogo    1.0   \n",
       "256702       2014-05-26  75000.0         7.0       7.0       discount    1.0   \n",
       "63269        2015-09-21  44000.0        20.0      10.0       discount    1.0   \n",
       "167208       2018-02-23  54000.0         0.0       3.0  informational    1.0   \n",
       "140769       2017-12-20  51000.0         7.0       7.0       discount    1.0   \n",
       "30817        2017-12-23  75000.0        10.0      10.0       discount    1.0   \n",
       "244388       2017-10-26  97000.0        10.0       7.0       discount    1.0   \n",
       "237898       2016-10-19  61000.0        10.0       5.0           bogo    1.0   \n",
       "\n",
       "        mobile  social  web  \n",
       "133946     NaN     NaN  NaN  \n",
       "228212     1.0     1.0  1.0  \n",
       "54605      1.0     0.0  1.0  \n",
       "256702     1.0     1.0  1.0  \n",
       "63269      0.0     0.0  1.0  \n",
       "167208     1.0     1.0  0.0  \n",
       "140769     1.0     1.0  1.0  \n",
       "30817      1.0     1.0  1.0  \n",
       "244388     1.0     0.0  1.0  \n",
       "237898     1.0     1.0  1.0  "
      ]
     },
     "execution_count": 134,
     "metadata": {},
     "output_type": "execute_result"
    }
   ],
   "source": [
    "merged_data.sample(10)"
   ]
  },
  {
   "cell_type": "code",
   "execution_count": 135,
   "id": "a4913449",
   "metadata": {
    "ExecuteTime": {
     "end_time": "2021-05-10T07:31:49.955806Z",
     "start_time": "2021-05-10T07:31:49.723509Z"
    }
   },
   "outputs": [
    {
     "name": "stdout",
     "output_type": "stream",
     "text": [
      "<class 'pandas.core.frame.DataFrame'>\n",
      "Int64Index: 272762 entries, 0 to 272761\n",
      "Data columns (total 17 columns):\n",
      " #   Column            Non-Null Count   Dtype         \n",
      "---  ------            --------------   -----         \n",
      " 0   customer_id       272762 non-null  object        \n",
      " 1   event             272762 non-null  object        \n",
      " 2   time              272762 non-null  int64         \n",
      " 3   offer_id          148805 non-null  object        \n",
      " 4   reward            272762 non-null  int64         \n",
      " 5   amount            272762 non-null  float64       \n",
      " 6   gender            272762 non-null  object        \n",
      " 7   age               272762 non-null  int64         \n",
      " 8   became_member_on  272762 non-null  datetime64[ns]\n",
      " 9   income            272762 non-null  float64       \n",
      " 10  difficulty        148805 non-null  float64       \n",
      " 11  duration          148805 non-null  float64       \n",
      " 12  offer_type        148805 non-null  object        \n",
      " 13  email             148805 non-null  float64       \n",
      " 14  mobile            148805 non-null  float64       \n",
      " 15  social            148805 non-null  float64       \n",
      " 16  web               148805 non-null  float64       \n",
      "dtypes: datetime64[ns](1), float64(8), int64(3), object(5)\n",
      "memory usage: 37.5+ MB\n"
     ]
    }
   ],
   "source": [
    "merged_data.info()"
   ]
  },
  {
   "cell_type": "markdown",
   "id": "710c1db9",
   "metadata": {},
   "source": [
    "#### Rest of the null values are from the event type transactions."
   ]
  },
  {
   "cell_type": "markdown",
   "id": "7b3f1551",
   "metadata": {},
   "source": [
    "#### Converting time to number of days."
   ]
  },
  {
   "cell_type": "code",
   "execution_count": 136,
   "id": "eb37d1f9",
   "metadata": {
    "ExecuteTime": {
     "end_time": "2021-05-10T07:31:49.984792Z",
     "start_time": "2021-05-10T07:31:49.958681Z"
    }
   },
   "outputs": [],
   "source": [
    "merged_data['time'] = merged_data['time'] // 24\n",
    "merged_data.rename(columns = {'time' : 'test_day'}, inplace = True)"
   ]
  },
  {
   "cell_type": "code",
   "execution_count": 137,
   "id": "84d355e4",
   "metadata": {
    "ExecuteTime": {
     "end_time": "2021-05-10T07:31:50.060167Z",
     "start_time": "2021-05-10T07:31:49.990011Z"
    }
   },
   "outputs": [
    {
     "data": {
      "text/html": [
       "<div>\n",
       "<style scoped>\n",
       "    .dataframe tbody tr th:only-of-type {\n",
       "        vertical-align: middle;\n",
       "    }\n",
       "\n",
       "    .dataframe tbody tr th {\n",
       "        vertical-align: top;\n",
       "    }\n",
       "\n",
       "    .dataframe thead th {\n",
       "        text-align: right;\n",
       "    }\n",
       "</style>\n",
       "<table border=\"1\" class=\"dataframe\">\n",
       "  <thead>\n",
       "    <tr style=\"text-align: right;\">\n",
       "      <th></th>\n",
       "      <th>customer_id</th>\n",
       "      <th>event</th>\n",
       "      <th>test_day</th>\n",
       "      <th>offer_id</th>\n",
       "      <th>reward</th>\n",
       "      <th>amount</th>\n",
       "      <th>gender</th>\n",
       "      <th>age</th>\n",
       "      <th>became_member_on</th>\n",
       "      <th>income</th>\n",
       "      <th>difficulty</th>\n",
       "      <th>duration</th>\n",
       "      <th>offer_type</th>\n",
       "      <th>email</th>\n",
       "      <th>mobile</th>\n",
       "      <th>social</th>\n",
       "      <th>web</th>\n",
       "    </tr>\n",
       "  </thead>\n",
       "  <tbody>\n",
       "    <tr>\n",
       "      <th>241210</th>\n",
       "      <td>644ac06dc9b34a5bbd237a465cf47571</td>\n",
       "      <td>transaction</td>\n",
       "      <td>5</td>\n",
       "      <td>NaN</td>\n",
       "      <td>0</td>\n",
       "      <td>19.41</td>\n",
       "      <td>O</td>\n",
       "      <td>73</td>\n",
       "      <td>2018-03-16</td>\n",
       "      <td>88000.0</td>\n",
       "      <td>NaN</td>\n",
       "      <td>NaN</td>\n",
       "      <td>NaN</td>\n",
       "      <td>NaN</td>\n",
       "      <td>NaN</td>\n",
       "      <td>NaN</td>\n",
       "      <td>NaN</td>\n",
       "    </tr>\n",
       "    <tr>\n",
       "      <th>186074</th>\n",
       "      <td>7398c8784f3b436e9d7e312f1472ce26</td>\n",
       "      <td>offer received</td>\n",
       "      <td>0</td>\n",
       "      <td>f19421c1d4aa40978ebb69ca19b0e20d</td>\n",
       "      <td>0</td>\n",
       "      <td>0.00</td>\n",
       "      <td>F</td>\n",
       "      <td>56</td>\n",
       "      <td>2016-07-12</td>\n",
       "      <td>98000.0</td>\n",
       "      <td>5.0</td>\n",
       "      <td>5.0</td>\n",
       "      <td>bogo</td>\n",
       "      <td>1.0</td>\n",
       "      <td>1.0</td>\n",
       "      <td>1.0</td>\n",
       "      <td>1.0</td>\n",
       "    </tr>\n",
       "    <tr>\n",
       "      <th>113508</th>\n",
       "      <td>8fd7cb84c942420f88381e498e81ba5a</td>\n",
       "      <td>transaction</td>\n",
       "      <td>2</td>\n",
       "      <td>NaN</td>\n",
       "      <td>0</td>\n",
       "      <td>1.30</td>\n",
       "      <td>M</td>\n",
       "      <td>68</td>\n",
       "      <td>2016-04-16</td>\n",
       "      <td>68000.0</td>\n",
       "      <td>NaN</td>\n",
       "      <td>NaN</td>\n",
       "      <td>NaN</td>\n",
       "      <td>NaN</td>\n",
       "      <td>NaN</td>\n",
       "      <td>NaN</td>\n",
       "      <td>NaN</td>\n",
       "    </tr>\n",
       "    <tr>\n",
       "      <th>128639</th>\n",
       "      <td>81df57a262b347ec93f12b09ec813b57</td>\n",
       "      <td>offer completed</td>\n",
       "      <td>4</td>\n",
       "      <td>2906b810c7d4411798c6938adc9daaa5</td>\n",
       "      <td>2</td>\n",
       "      <td>0.00</td>\n",
       "      <td>F</td>\n",
       "      <td>47</td>\n",
       "      <td>2017-10-19</td>\n",
       "      <td>42000.0</td>\n",
       "      <td>10.0</td>\n",
       "      <td>7.0</td>\n",
       "      <td>discount</td>\n",
       "      <td>1.0</td>\n",
       "      <td>1.0</td>\n",
       "      <td>0.0</td>\n",
       "      <td>1.0</td>\n",
       "    </tr>\n",
       "    <tr>\n",
       "      <th>179040</th>\n",
       "      <td>2f34a9bfb1c343adb97d9176ac5ebb1e</td>\n",
       "      <td>transaction</td>\n",
       "      <td>5</td>\n",
       "      <td>NaN</td>\n",
       "      <td>0</td>\n",
       "      <td>36.17</td>\n",
       "      <td>F</td>\n",
       "      <td>51</td>\n",
       "      <td>2016-09-06</td>\n",
       "      <td>100000.0</td>\n",
       "      <td>NaN</td>\n",
       "      <td>NaN</td>\n",
       "      <td>NaN</td>\n",
       "      <td>NaN</td>\n",
       "      <td>NaN</td>\n",
       "      <td>NaN</td>\n",
       "      <td>NaN</td>\n",
       "    </tr>\n",
       "  </tbody>\n",
       "</table>\n",
       "</div>"
      ],
      "text/plain": [
       "                             customer_id            event  test_day  \\\n",
       "241210  644ac06dc9b34a5bbd237a465cf47571      transaction         5   \n",
       "186074  7398c8784f3b436e9d7e312f1472ce26   offer received         0   \n",
       "113508  8fd7cb84c942420f88381e498e81ba5a      transaction         2   \n",
       "128639  81df57a262b347ec93f12b09ec813b57  offer completed         4   \n",
       "179040  2f34a9bfb1c343adb97d9176ac5ebb1e      transaction         5   \n",
       "\n",
       "                                offer_id  reward  amount gender  age  \\\n",
       "241210                               NaN       0   19.41      O   73   \n",
       "186074  f19421c1d4aa40978ebb69ca19b0e20d       0    0.00      F   56   \n",
       "113508                               NaN       0    1.30      M   68   \n",
       "128639  2906b810c7d4411798c6938adc9daaa5       2    0.00      F   47   \n",
       "179040                               NaN       0   36.17      F   51   \n",
       "\n",
       "       became_member_on    income  difficulty  duration offer_type  email  \\\n",
       "241210       2018-03-16   88000.0         NaN       NaN        NaN    NaN   \n",
       "186074       2016-07-12   98000.0         5.0       5.0       bogo    1.0   \n",
       "113508       2016-04-16   68000.0         NaN       NaN        NaN    NaN   \n",
       "128639       2017-10-19   42000.0        10.0       7.0   discount    1.0   \n",
       "179040       2016-09-06  100000.0         NaN       NaN        NaN    NaN   \n",
       "\n",
       "        mobile  social  web  \n",
       "241210     NaN     NaN  NaN  \n",
       "186074     1.0     1.0  1.0  \n",
       "113508     NaN     NaN  NaN  \n",
       "128639     1.0     0.0  1.0  \n",
       "179040     NaN     NaN  NaN  "
      ]
     },
     "execution_count": 137,
     "metadata": {},
     "output_type": "execute_result"
    }
   ],
   "source": [
    "merged_data.sample(5)"
   ]
  },
  {
   "cell_type": "markdown",
   "id": "1420c7e7",
   "metadata": {},
   "source": [
    "**Define**"
   ]
  },
  {
   "cell_type": "markdown",
   "id": "aaafd0fe",
   "metadata": {},
   "source": [
    "***Converting M, F, O to Male, Female, Others***"
   ]
  },
  {
   "cell_type": "markdown",
   "id": "a035b486",
   "metadata": {},
   "source": [
    "#### Code"
   ]
  },
  {
   "cell_type": "code",
   "execution_count": 138,
   "id": "4b2b3946",
   "metadata": {
    "ExecuteTime": {
     "end_time": "2021-05-10T07:31:50.156952Z",
     "start_time": "2021-05-10T07:31:50.063797Z"
    }
   },
   "outputs": [],
   "source": [
    "merged_data.gender.replace(['M', 'F', 'O'], ['male', 'female', 'others'], inplace = True)"
   ]
  },
  {
   "cell_type": "markdown",
   "id": "90815bf8",
   "metadata": {},
   "source": [
    "#### Test"
   ]
  },
  {
   "cell_type": "code",
   "execution_count": 139,
   "id": "0d425bc9",
   "metadata": {
    "ExecuteTime": {
     "end_time": "2021-05-10T07:31:50.198332Z",
     "start_time": "2021-05-10T07:31:50.168683Z"
    }
   },
   "outputs": [
    {
     "data": {
      "text/plain": [
       "157768      male\n",
       "269674      male\n",
       "82976       male\n",
       "123666      male\n",
       "21945     female\n",
       "Name: gender, dtype: object"
      ]
     },
     "execution_count": 139,
     "metadata": {},
     "output_type": "execute_result"
    }
   ],
   "source": [
    "merged_data.gender.sample(5)"
   ]
  },
  {
   "cell_type": "markdown",
   "id": "a3640272",
   "metadata": {},
   "source": [
    "### Storing cleaned data to machine."
   ]
  },
  {
   "cell_type": "code",
   "execution_count": 140,
   "id": "0db64441",
   "metadata": {
    "ExecuteTime": {
     "end_time": "2021-05-10T07:31:50.344628Z",
     "start_time": "2021-05-10T07:31:50.203220Z"
    }
   },
   "outputs": [],
   "source": [
    "profile_data = profile_data_temp.copy()\n",
    "transcript_data = transcript_data_temp.copy()\n",
    "portfolio_data = portfolio_data_temp.copy()"
   ]
  },
  {
   "cell_type": "code",
   "execution_count": 141,
   "id": "81df9971",
   "metadata": {
    "ExecuteTime": {
     "end_time": "2021-05-10T07:31:54.736690Z",
     "start_time": "2021-05-10T07:31:50.349460Z"
    }
   },
   "outputs": [],
   "source": [
    "profile_data.to_csv('data/cleaned_profile_data.csv')\n",
    "transcript_data.to_csv('data/cleaned_transcript_data.csv')\n",
    "portfolio_data.to_csv('data/cleaned_portfolio_data.csv')"
   ]
  },
  {
   "cell_type": "code",
   "execution_count": 142,
   "id": "a95ad2f2",
   "metadata": {
    "ExecuteTime": {
     "end_time": "2021-05-10T07:32:05.183763Z",
     "start_time": "2021-05-10T07:31:54.738601Z"
    }
   },
   "outputs": [],
   "source": [
    "merged_data.to_csv('data/merged_data.csv', index = None)"
   ]
  },
  {
   "cell_type": "code",
   "execution_count": null,
   "id": "111c7098",
   "metadata": {},
   "outputs": [],
   "source": []
  }
 ],
 "metadata": {
  "kernelspec": {
   "display_name": "Python 3",
   "language": "python",
   "name": "python3"
  },
  "language_info": {
   "codemirror_mode": {
    "name": "ipython",
    "version": 3
   },
   "file_extension": ".py",
   "mimetype": "text/x-python",
   "name": "python",
   "nbconvert_exporter": "python",
   "pygments_lexer": "ipython3",
   "version": "3.7.10"
  }
 },
 "nbformat": 4,
 "nbformat_minor": 5
}
