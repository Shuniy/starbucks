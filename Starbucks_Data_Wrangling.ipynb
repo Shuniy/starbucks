{
 "cells": [
  {
   "cell_type": "markdown",
   "id": "615b1e6c",
   "metadata": {},
   "source": [
    "# *Starbucks Rewards Mobile App Offers*"
   ]
  },
  {
   "cell_type": "markdown",
   "id": "869b4570",
   "metadata": {},
   "source": [
    "## Introduction"
   ]
  },
  {
   "cell_type": "markdown",
   "id": "a2d8e9c1",
   "metadata": {},
   "source": [
    "This data set contains simulated data that mimics customer behavior on the Starbucks rewards mobile app. Once every few days, Starbucks sends out an offer to users of the mobile app. An offer can be merely an advertisement for a drink or an actual offer such as a discount or BOGO (buy one get one free). Some users might not receive any offer during certain weeks.\n",
    "\n",
    "*Not all users receive the same offer.*\n",
    "\n",
    "*This data set is a simplified version of the real Starbucks app because the underlying simulator only has one product whereas Starbucks actually sells dozens of products.*\n",
    "\n",
    "Every offer has a validity period before the offer expires. As an example, a BOGO offer might be valid for only 5 days. You'll see in the data set that informational offers have a validity period even though these ads are merely providing information about a product; for example, if an informational offer has 7 days of validity, you can assume the customer is feeling the influence of the offer for 7 days after receiving the advertisement.\n",
    "\n",
    "**Someone using the app might make a purchase through the app without having received an offer or seen an offer.**"
   ]
  },
  {
   "cell_type": "markdown",
   "id": "3eae088e",
   "metadata": {},
   "source": [
    "# Data Sets\n",
    "\n",
    "The data is contained in three files:\n",
    "\n",
    "* portfolio.json - containing offer ids and meta data about each offer (duration, type, etc.)\n",
    "* profile.json - demographic data for each customer\n",
    "* transcript.json - records for transactions, offers received, offers viewed, and offers completed\n",
    "\n",
    "Here is the schema and explanation of each variable in the files:\n",
    "\n",
    "**portfolio.json**\n",
    "* id (string) - offer id\n",
    "* offer_type (string) - type of offer ie BOGO, discount, informational\n",
    "* difficulty (int) - minimum required spend to complete an offer\n",
    "* reward (int) - reward given for completing an offer\n",
    "* duration (int) - time for offer to be open, in days\n",
    "* channels (list of strings)\n",
    "\n",
    "**profile.json**\n",
    "* age (int) - age of the customer \n",
    "* became_member_on (int) - date when customer created an app account\n",
    "* gender (str) - gender of the customer (note some entries contain 'O' for other rather than M or F)\n",
    "* id (str) - customer id\n",
    "* income (float) - customer's income\n",
    "\n",
    "**transcript.json**\n",
    "* event (str) - record description (ie transaction, offer received, offer viewed, etc.)\n",
    "* person (str) - customer id\n",
    "* time (int) - time in hours since start of test. The data begins at time t=0\n",
    "* value - (dict of strings) - either an offer id or transaction amount depending on the record"
   ]
  },
  {
   "cell_type": "markdown",
   "id": "588df2be",
   "metadata": {},
   "source": [
    "### *Loading Libraries*"
   ]
  },
  {
   "cell_type": "code",
   "execution_count": 1,
   "id": "48e17308",
   "metadata": {
    "ExecuteTime": {
     "end_time": "2021-04-29T15:05:35.346937Z",
     "start_time": "2021-04-29T15:05:34.118937Z"
    }
   },
   "outputs": [],
   "source": [
    "# Importing Libraries\n",
    "\n",
    "import seaborn as sb\n",
    "import pandas as pd\n",
    "import numpy as np\n",
    "import matplotlib.pyplot as plt\n",
    "\n",
    "%matplotlib inline"
   ]
  },
  {
   "cell_type": "markdown",
   "id": "0dbf5644",
   "metadata": {},
   "source": [
    "## Data Wrangling"
   ]
  },
  {
   "cell_type": "markdown",
   "id": "0e229fe5",
   "metadata": {},
   "source": [
    "**Data Wrangling steps:**\n",
    "- Gather\n",
    "- Acess\n",
    "- Clean\n",
    "    - Define\n",
    "    - Code\n",
    "    - Test"
   ]
  },
  {
   "cell_type": "markdown",
   "id": "92c82e04",
   "metadata": {},
   "source": [
    "### *Gather Data*"
   ]
  },
  {
   "cell_type": "code",
   "execution_count": 2,
   "id": "8fe389e0",
   "metadata": {
    "ExecuteTime": {
     "end_time": "2021-04-29T15:05:37.343938Z",
     "start_time": "2021-04-29T15:05:35.348936Z"
    }
   },
   "outputs": [],
   "source": [
    "# Importing data from json\n",
    "\n",
    "portfolio_data = pd.read_json(\n",
    "    \"data/portfolio.json\", orient='records', lines=True)\n",
    "\n",
    "profile_data = pd.read_json(\"data/profile.json\", orient='records', lines=True)\n",
    "\n",
    "transcript_data = pd.read_json(\n",
    "    \"data/transcript.json\", orient='records', lines=True)"
   ]
  },
  {
   "cell_type": "markdown",
   "id": "959e2265",
   "metadata": {},
   "source": [
    "### *Acess Data*"
   ]
  },
  {
   "cell_type": "markdown",
   "id": "4c545dd3",
   "metadata": {},
   "source": [
    "#### Sample Data"
   ]
  },
  {
   "cell_type": "code",
   "execution_count": 3,
   "id": "1685fa09",
   "metadata": {
    "ExecuteTime": {
     "end_time": "2021-04-29T15:05:37.374979Z",
     "start_time": "2021-04-29T15:05:37.344997Z"
    }
   },
   "outputs": [
    {
     "data": {
      "text/html": [
       "<div>\n",
       "<style scoped>\n",
       "    .dataframe tbody tr th:only-of-type {\n",
       "        vertical-align: middle;\n",
       "    }\n",
       "\n",
       "    .dataframe tbody tr th {\n",
       "        vertical-align: top;\n",
       "    }\n",
       "\n",
       "    .dataframe thead th {\n",
       "        text-align: right;\n",
       "    }\n",
       "</style>\n",
       "<table border=\"1\" class=\"dataframe\">\n",
       "  <thead>\n",
       "    <tr style=\"text-align: right;\">\n",
       "      <th></th>\n",
       "      <th>reward</th>\n",
       "      <th>channels</th>\n",
       "      <th>difficulty</th>\n",
       "      <th>duration</th>\n",
       "      <th>offer_type</th>\n",
       "      <th>id</th>\n",
       "    </tr>\n",
       "  </thead>\n",
       "  <tbody>\n",
       "    <tr>\n",
       "      <th>3</th>\n",
       "      <td>5</td>\n",
       "      <td>[web, email, mobile]</td>\n",
       "      <td>5</td>\n",
       "      <td>7</td>\n",
       "      <td>bogo</td>\n",
       "      <td>9b98b8c7a33c4b65b9aebfe6a799e6d9</td>\n",
       "    </tr>\n",
       "    <tr>\n",
       "      <th>5</th>\n",
       "      <td>3</td>\n",
       "      <td>[web, email, mobile, social]</td>\n",
       "      <td>7</td>\n",
       "      <td>7</td>\n",
       "      <td>discount</td>\n",
       "      <td>2298d6c36e964ae4a3e7e9706d1fb8c2</td>\n",
       "    </tr>\n",
       "    <tr>\n",
       "      <th>2</th>\n",
       "      <td>0</td>\n",
       "      <td>[web, email, mobile]</td>\n",
       "      <td>0</td>\n",
       "      <td>4</td>\n",
       "      <td>informational</td>\n",
       "      <td>3f207df678b143eea3cee63160fa8bed</td>\n",
       "    </tr>\n",
       "    <tr>\n",
       "      <th>8</th>\n",
       "      <td>5</td>\n",
       "      <td>[web, email, mobile, social]</td>\n",
       "      <td>5</td>\n",
       "      <td>5</td>\n",
       "      <td>bogo</td>\n",
       "      <td>f19421c1d4aa40978ebb69ca19b0e20d</td>\n",
       "    </tr>\n",
       "    <tr>\n",
       "      <th>9</th>\n",
       "      <td>2</td>\n",
       "      <td>[web, email, mobile]</td>\n",
       "      <td>10</td>\n",
       "      <td>7</td>\n",
       "      <td>discount</td>\n",
       "      <td>2906b810c7d4411798c6938adc9daaa5</td>\n",
       "    </tr>\n",
       "    <tr>\n",
       "      <th>1</th>\n",
       "      <td>10</td>\n",
       "      <td>[web, email, mobile, social]</td>\n",
       "      <td>10</td>\n",
       "      <td>5</td>\n",
       "      <td>bogo</td>\n",
       "      <td>4d5c57ea9a6940dd891ad53e9dbe8da0</td>\n",
       "    </tr>\n",
       "    <tr>\n",
       "      <th>7</th>\n",
       "      <td>0</td>\n",
       "      <td>[email, mobile, social]</td>\n",
       "      <td>0</td>\n",
       "      <td>3</td>\n",
       "      <td>informational</td>\n",
       "      <td>5a8bc65990b245e5a138643cd4eb9837</td>\n",
       "    </tr>\n",
       "    <tr>\n",
       "      <th>6</th>\n",
       "      <td>2</td>\n",
       "      <td>[web, email, mobile, social]</td>\n",
       "      <td>10</td>\n",
       "      <td>10</td>\n",
       "      <td>discount</td>\n",
       "      <td>fafdcd668e3743c1bb461111dcafc2a4</td>\n",
       "    </tr>\n",
       "    <tr>\n",
       "      <th>0</th>\n",
       "      <td>10</td>\n",
       "      <td>[email, mobile, social]</td>\n",
       "      <td>10</td>\n",
       "      <td>7</td>\n",
       "      <td>bogo</td>\n",
       "      <td>ae264e3637204a6fb9bb56bc8210ddfd</td>\n",
       "    </tr>\n",
       "    <tr>\n",
       "      <th>4</th>\n",
       "      <td>5</td>\n",
       "      <td>[web, email]</td>\n",
       "      <td>20</td>\n",
       "      <td>10</td>\n",
       "      <td>discount</td>\n",
       "      <td>0b1e1539f2cc45b7b9fa7c272da2e1d7</td>\n",
       "    </tr>\n",
       "  </tbody>\n",
       "</table>\n",
       "</div>"
      ],
      "text/plain": [
       "   reward                      channels  difficulty  duration     offer_type  \\\n",
       "3       5          [web, email, mobile]           5         7           bogo   \n",
       "5       3  [web, email, mobile, social]           7         7       discount   \n",
       "2       0          [web, email, mobile]           0         4  informational   \n",
       "8       5  [web, email, mobile, social]           5         5           bogo   \n",
       "9       2          [web, email, mobile]          10         7       discount   \n",
       "1      10  [web, email, mobile, social]          10         5           bogo   \n",
       "7       0       [email, mobile, social]           0         3  informational   \n",
       "6       2  [web, email, mobile, social]          10        10       discount   \n",
       "0      10       [email, mobile, social]          10         7           bogo   \n",
       "4       5                  [web, email]          20        10       discount   \n",
       "\n",
       "                                 id  \n",
       "3  9b98b8c7a33c4b65b9aebfe6a799e6d9  \n",
       "5  2298d6c36e964ae4a3e7e9706d1fb8c2  \n",
       "2  3f207df678b143eea3cee63160fa8bed  \n",
       "8  f19421c1d4aa40978ebb69ca19b0e20d  \n",
       "9  2906b810c7d4411798c6938adc9daaa5  \n",
       "1  4d5c57ea9a6940dd891ad53e9dbe8da0  \n",
       "7  5a8bc65990b245e5a138643cd4eb9837  \n",
       "6  fafdcd668e3743c1bb461111dcafc2a4  \n",
       "0  ae264e3637204a6fb9bb56bc8210ddfd  \n",
       "4  0b1e1539f2cc45b7b9fa7c272da2e1d7  "
      ]
     },
     "execution_count": 3,
     "metadata": {},
     "output_type": "execute_result"
    }
   ],
   "source": [
    "# Glimpse of data\n",
    "portfolio_data.sample(10)"
   ]
  },
  {
   "cell_type": "code",
   "execution_count": 4,
   "id": "52edae91",
   "metadata": {
    "ExecuteTime": {
     "end_time": "2021-04-29T15:05:37.390980Z",
     "start_time": "2021-04-29T15:05:37.375956Z"
    }
   },
   "outputs": [
    {
     "data": {
      "text/html": [
       "<div>\n",
       "<style scoped>\n",
       "    .dataframe tbody tr th:only-of-type {\n",
       "        vertical-align: middle;\n",
       "    }\n",
       "\n",
       "    .dataframe tbody tr th {\n",
       "        vertical-align: top;\n",
       "    }\n",
       "\n",
       "    .dataframe thead th {\n",
       "        text-align: right;\n",
       "    }\n",
       "</style>\n",
       "<table border=\"1\" class=\"dataframe\">\n",
       "  <thead>\n",
       "    <tr style=\"text-align: right;\">\n",
       "      <th></th>\n",
       "      <th>gender</th>\n",
       "      <th>age</th>\n",
       "      <th>id</th>\n",
       "      <th>became_member_on</th>\n",
       "      <th>income</th>\n",
       "    </tr>\n",
       "  </thead>\n",
       "  <tbody>\n",
       "    <tr>\n",
       "      <th>15865</th>\n",
       "      <td>M</td>\n",
       "      <td>56</td>\n",
       "      <td>7bc77922ea884ca0a795810918b2e833</td>\n",
       "      <td>20170515</td>\n",
       "      <td>93000.0</td>\n",
       "    </tr>\n",
       "    <tr>\n",
       "      <th>10137</th>\n",
       "      <td>M</td>\n",
       "      <td>54</td>\n",
       "      <td>0d92e7575a224263927f4f0307284441</td>\n",
       "      <td>20180520</td>\n",
       "      <td>48000.0</td>\n",
       "    </tr>\n",
       "    <tr>\n",
       "      <th>12338</th>\n",
       "      <td>M</td>\n",
       "      <td>34</td>\n",
       "      <td>eeb1816aa0bd47fca44cc96531bc913a</td>\n",
       "      <td>20160922</td>\n",
       "      <td>31000.0</td>\n",
       "    </tr>\n",
       "    <tr>\n",
       "      <th>10589</th>\n",
       "      <td>F</td>\n",
       "      <td>50</td>\n",
       "      <td>266271257b10422199198067f9773df6</td>\n",
       "      <td>20170828</td>\n",
       "      <td>74000.0</td>\n",
       "    </tr>\n",
       "    <tr>\n",
       "      <th>16660</th>\n",
       "      <td>None</td>\n",
       "      <td>118</td>\n",
       "      <td>5e78586d062041f1bfe97eacc63e1485</td>\n",
       "      <td>20180103</td>\n",
       "      <td>NaN</td>\n",
       "    </tr>\n",
       "    <tr>\n",
       "      <th>11019</th>\n",
       "      <td>M</td>\n",
       "      <td>40</td>\n",
       "      <td>cfe2e1e9fc0f4531bc7f653f3204b483</td>\n",
       "      <td>20150304</td>\n",
       "      <td>34000.0</td>\n",
       "    </tr>\n",
       "    <tr>\n",
       "      <th>10150</th>\n",
       "      <td>M</td>\n",
       "      <td>41</td>\n",
       "      <td>98052fcaec9943b79064c5fdf97370ec</td>\n",
       "      <td>20171013</td>\n",
       "      <td>44000.0</td>\n",
       "    </tr>\n",
       "    <tr>\n",
       "      <th>2153</th>\n",
       "      <td>F</td>\n",
       "      <td>89</td>\n",
       "      <td>626d9e6450504fe1a39461cb63c61202</td>\n",
       "      <td>20171010</td>\n",
       "      <td>55000.0</td>\n",
       "    </tr>\n",
       "    <tr>\n",
       "      <th>14092</th>\n",
       "      <td>F</td>\n",
       "      <td>57</td>\n",
       "      <td>cae5e211053f4121a389a7da4d631f7f</td>\n",
       "      <td>20180301</td>\n",
       "      <td>88000.0</td>\n",
       "    </tr>\n",
       "    <tr>\n",
       "      <th>2169</th>\n",
       "      <td>M</td>\n",
       "      <td>45</td>\n",
       "      <td>07455479fc8c4b5aba6c50955a5ca60f</td>\n",
       "      <td>20180514</td>\n",
       "      <td>51000.0</td>\n",
       "    </tr>\n",
       "  </tbody>\n",
       "</table>\n",
       "</div>"
      ],
      "text/plain": [
       "      gender  age                                id  became_member_on   income\n",
       "15865      M   56  7bc77922ea884ca0a795810918b2e833          20170515  93000.0\n",
       "10137      M   54  0d92e7575a224263927f4f0307284441          20180520  48000.0\n",
       "12338      M   34  eeb1816aa0bd47fca44cc96531bc913a          20160922  31000.0\n",
       "10589      F   50  266271257b10422199198067f9773df6          20170828  74000.0\n",
       "16660   None  118  5e78586d062041f1bfe97eacc63e1485          20180103      NaN\n",
       "11019      M   40  cfe2e1e9fc0f4531bc7f653f3204b483          20150304  34000.0\n",
       "10150      M   41  98052fcaec9943b79064c5fdf97370ec          20171013  44000.0\n",
       "2153       F   89  626d9e6450504fe1a39461cb63c61202          20171010  55000.0\n",
       "14092      F   57  cae5e211053f4121a389a7da4d631f7f          20180301  88000.0\n",
       "2169       M   45  07455479fc8c4b5aba6c50955a5ca60f          20180514  51000.0"
      ]
     },
     "execution_count": 4,
     "metadata": {},
     "output_type": "execute_result"
    }
   ],
   "source": [
    "profile_data.sample(10)"
   ]
  },
  {
   "cell_type": "code",
   "execution_count": 5,
   "id": "a6a0700a",
   "metadata": {
    "ExecuteTime": {
     "end_time": "2021-04-29T15:05:37.438936Z",
     "start_time": "2021-04-29T15:05:37.393954Z"
    }
   },
   "outputs": [
    {
     "data": {
      "text/html": [
       "<div>\n",
       "<style scoped>\n",
       "    .dataframe tbody tr th:only-of-type {\n",
       "        vertical-align: middle;\n",
       "    }\n",
       "\n",
       "    .dataframe tbody tr th {\n",
       "        vertical-align: top;\n",
       "    }\n",
       "\n",
       "    .dataframe thead th {\n",
       "        text-align: right;\n",
       "    }\n",
       "</style>\n",
       "<table border=\"1\" class=\"dataframe\">\n",
       "  <thead>\n",
       "    <tr style=\"text-align: right;\">\n",
       "      <th></th>\n",
       "      <th>person</th>\n",
       "      <th>event</th>\n",
       "      <th>value</th>\n",
       "      <th>time</th>\n",
       "    </tr>\n",
       "  </thead>\n",
       "  <tbody>\n",
       "    <tr>\n",
       "      <th>79014</th>\n",
       "      <td>c72a75cff4fa4576b91b3e355802b700</td>\n",
       "      <td>transaction</td>\n",
       "      <td>{'amount': 7.13}</td>\n",
       "      <td>192</td>\n",
       "    </tr>\n",
       "    <tr>\n",
       "      <th>13491</th>\n",
       "      <td>2a5f89c79a104198b302c1cb2fd406d9</td>\n",
       "      <td>transaction</td>\n",
       "      <td>{'amount': 1.42}</td>\n",
       "      <td>0</td>\n",
       "    </tr>\n",
       "    <tr>\n",
       "      <th>168003</th>\n",
       "      <td>f030124b48cf4960b569da21d8aedb5b</td>\n",
       "      <td>offer viewed</td>\n",
       "      <td>{'offer id': 'fafdcd668e3743c1bb461111dcafc2a4'}</td>\n",
       "      <td>414</td>\n",
       "    </tr>\n",
       "    <tr>\n",
       "      <th>114471</th>\n",
       "      <td>a2d3f996f0434f09add121813a3d43d6</td>\n",
       "      <td>offer received</td>\n",
       "      <td>{'offer id': 'fafdcd668e3743c1bb461111dcafc2a4'}</td>\n",
       "      <td>336</td>\n",
       "    </tr>\n",
       "    <tr>\n",
       "      <th>156624</th>\n",
       "      <td>50e5377100774af28329fc40966a98c0</td>\n",
       "      <td>offer received</td>\n",
       "      <td>{'offer id': 'f19421c1d4aa40978ebb69ca19b0e20d'}</td>\n",
       "      <td>408</td>\n",
       "    </tr>\n",
       "    <tr>\n",
       "      <th>195064</th>\n",
       "      <td>81e9ad5fa55a4884b65e01a5db8f1b4e</td>\n",
       "      <td>transaction</td>\n",
       "      <td>{'amount': 12.76}</td>\n",
       "      <td>480</td>\n",
       "    </tr>\n",
       "    <tr>\n",
       "      <th>20751</th>\n",
       "      <td>f28b37ab06934bd28169ef920ad5190c</td>\n",
       "      <td>transaction</td>\n",
       "      <td>{'amount': 11.25}</td>\n",
       "      <td>18</td>\n",
       "    </tr>\n",
       "    <tr>\n",
       "      <th>243464</th>\n",
       "      <td>2ca7c5c20ba34cedb79bffa170360813</td>\n",
       "      <td>offer completed</td>\n",
       "      <td>{'offer_id': '0b1e1539f2cc45b7b9fa7c272da2e1d7...</td>\n",
       "      <td>570</td>\n",
       "    </tr>\n",
       "    <tr>\n",
       "      <th>217693</th>\n",
       "      <td>3944a65e84494f9fa0be389e9ccbf7a9</td>\n",
       "      <td>offer viewed</td>\n",
       "      <td>{'offer id': '4d5c57ea9a6940dd891ad53e9dbe8da0'}</td>\n",
       "      <td>504</td>\n",
       "    </tr>\n",
       "    <tr>\n",
       "      <th>228535</th>\n",
       "      <td>d95370555c8145d6a463b7d8a8adffee</td>\n",
       "      <td>offer viewed</td>\n",
       "      <td>{'offer id': '0b1e1539f2cc45b7b9fa7c272da2e1d7'}</td>\n",
       "      <td>528</td>\n",
       "    </tr>\n",
       "  </tbody>\n",
       "</table>\n",
       "</div>"
      ],
      "text/plain": [
       "                                  person            event  \\\n",
       "79014   c72a75cff4fa4576b91b3e355802b700      transaction   \n",
       "13491   2a5f89c79a104198b302c1cb2fd406d9      transaction   \n",
       "168003  f030124b48cf4960b569da21d8aedb5b     offer viewed   \n",
       "114471  a2d3f996f0434f09add121813a3d43d6   offer received   \n",
       "156624  50e5377100774af28329fc40966a98c0   offer received   \n",
       "195064  81e9ad5fa55a4884b65e01a5db8f1b4e      transaction   \n",
       "20751   f28b37ab06934bd28169ef920ad5190c      transaction   \n",
       "243464  2ca7c5c20ba34cedb79bffa170360813  offer completed   \n",
       "217693  3944a65e84494f9fa0be389e9ccbf7a9     offer viewed   \n",
       "228535  d95370555c8145d6a463b7d8a8adffee     offer viewed   \n",
       "\n",
       "                                                    value  time  \n",
       "79014                                    {'amount': 7.13}   192  \n",
       "13491                                    {'amount': 1.42}     0  \n",
       "168003   {'offer id': 'fafdcd668e3743c1bb461111dcafc2a4'}   414  \n",
       "114471   {'offer id': 'fafdcd668e3743c1bb461111dcafc2a4'}   336  \n",
       "156624   {'offer id': 'f19421c1d4aa40978ebb69ca19b0e20d'}   408  \n",
       "195064                                  {'amount': 12.76}   480  \n",
       "20751                                   {'amount': 11.25}    18  \n",
       "243464  {'offer_id': '0b1e1539f2cc45b7b9fa7c272da2e1d7...   570  \n",
       "217693   {'offer id': '4d5c57ea9a6940dd891ad53e9dbe8da0'}   504  \n",
       "228535   {'offer id': '0b1e1539f2cc45b7b9fa7c272da2e1d7'}   528  "
      ]
     },
     "execution_count": 5,
     "metadata": {},
     "output_type": "execute_result"
    }
   ],
   "source": [
    "transcript_data.sample(10)"
   ]
  },
  {
   "cell_type": "markdown",
   "id": "05ab71c5",
   "metadata": {},
   "source": [
    "#### Info on the data"
   ]
  },
  {
   "cell_type": "code",
   "execution_count": 6,
   "id": "2ed01bf4",
   "metadata": {
    "ExecuteTime": {
     "end_time": "2021-04-29T15:05:37.470937Z",
     "start_time": "2021-04-29T15:05:37.439937Z"
    }
   },
   "outputs": [
    {
     "name": "stdout",
     "output_type": "stream",
     "text": [
      "<class 'pandas.core.frame.DataFrame'>\n",
      "RangeIndex: 10 entries, 0 to 9\n",
      "Data columns (total 6 columns):\n",
      " #   Column      Non-Null Count  Dtype \n",
      "---  ------      --------------  ----- \n",
      " 0   reward      10 non-null     int64 \n",
      " 1   channels    10 non-null     object\n",
      " 2   difficulty  10 non-null     int64 \n",
      " 3   duration    10 non-null     int64 \n",
      " 4   offer_type  10 non-null     object\n",
      " 5   id          10 non-null     object\n",
      "dtypes: int64(3), object(3)\n",
      "memory usage: 608.0+ bytes\n"
     ]
    }
   ],
   "source": [
    "# Info of data\n",
    "portfolio_data.info()"
   ]
  },
  {
   "cell_type": "code",
   "execution_count": 7,
   "id": "a2f91485",
   "metadata": {
    "ExecuteTime": {
     "end_time": "2021-04-29T15:05:37.485973Z",
     "start_time": "2021-04-29T15:05:37.471938Z"
    }
   },
   "outputs": [
    {
     "name": "stdout",
     "output_type": "stream",
     "text": [
      "<class 'pandas.core.frame.DataFrame'>\n",
      "RangeIndex: 17000 entries, 0 to 16999\n",
      "Data columns (total 5 columns):\n",
      " #   Column            Non-Null Count  Dtype  \n",
      "---  ------            --------------  -----  \n",
      " 0   gender            14825 non-null  object \n",
      " 1   age               17000 non-null  int64  \n",
      " 2   id                17000 non-null  object \n",
      " 3   became_member_on  17000 non-null  int64  \n",
      " 4   income            14825 non-null  float64\n",
      "dtypes: float64(1), int64(2), object(2)\n",
      "memory usage: 664.2+ KB\n"
     ]
    }
   ],
   "source": [
    "profile_data.info()"
   ]
  },
  {
   "cell_type": "code",
   "execution_count": 8,
   "id": "1179891e",
   "metadata": {
    "ExecuteTime": {
     "end_time": "2021-04-29T15:05:37.578937Z",
     "start_time": "2021-04-29T15:05:37.487939Z"
    }
   },
   "outputs": [
    {
     "name": "stdout",
     "output_type": "stream",
     "text": [
      "<class 'pandas.core.frame.DataFrame'>\n",
      "RangeIndex: 306534 entries, 0 to 306533\n",
      "Data columns (total 4 columns):\n",
      " #   Column  Non-Null Count   Dtype \n",
      "---  ------  --------------   ----- \n",
      " 0   person  306534 non-null  object\n",
      " 1   event   306534 non-null  object\n",
      " 2   value   306534 non-null  object\n",
      " 3   time    306534 non-null  int64 \n",
      "dtypes: int64(1), object(3)\n",
      "memory usage: 9.4+ MB\n"
     ]
    }
   ],
   "source": [
    "transcript_data.info()"
   ]
  },
  {
   "cell_type": "markdown",
   "id": "2b942fdd",
   "metadata": {},
   "source": [
    " #### Description of the data"
   ]
  },
  {
   "cell_type": "code",
   "execution_count": 9,
   "id": "1ee24377",
   "metadata": {
    "ExecuteTime": {
     "end_time": "2021-04-29T15:05:37.610952Z",
     "start_time": "2021-04-29T15:05:37.580937Z"
    }
   },
   "outputs": [
    {
     "data": {
      "text/html": [
       "<div>\n",
       "<style scoped>\n",
       "    .dataframe tbody tr th:only-of-type {\n",
       "        vertical-align: middle;\n",
       "    }\n",
       "\n",
       "    .dataframe tbody tr th {\n",
       "        vertical-align: top;\n",
       "    }\n",
       "\n",
       "    .dataframe thead th {\n",
       "        text-align: right;\n",
       "    }\n",
       "</style>\n",
       "<table border=\"1\" class=\"dataframe\">\n",
       "  <thead>\n",
       "    <tr style=\"text-align: right;\">\n",
       "      <th></th>\n",
       "      <th>reward</th>\n",
       "      <th>difficulty</th>\n",
       "      <th>duration</th>\n",
       "    </tr>\n",
       "  </thead>\n",
       "  <tbody>\n",
       "    <tr>\n",
       "      <th>count</th>\n",
       "      <td>10.000000</td>\n",
       "      <td>10.000000</td>\n",
       "      <td>10.000000</td>\n",
       "    </tr>\n",
       "    <tr>\n",
       "      <th>mean</th>\n",
       "      <td>4.200000</td>\n",
       "      <td>7.700000</td>\n",
       "      <td>6.500000</td>\n",
       "    </tr>\n",
       "    <tr>\n",
       "      <th>std</th>\n",
       "      <td>3.583915</td>\n",
       "      <td>5.831905</td>\n",
       "      <td>2.321398</td>\n",
       "    </tr>\n",
       "    <tr>\n",
       "      <th>min</th>\n",
       "      <td>0.000000</td>\n",
       "      <td>0.000000</td>\n",
       "      <td>3.000000</td>\n",
       "    </tr>\n",
       "    <tr>\n",
       "      <th>25%</th>\n",
       "      <td>2.000000</td>\n",
       "      <td>5.000000</td>\n",
       "      <td>5.000000</td>\n",
       "    </tr>\n",
       "    <tr>\n",
       "      <th>50%</th>\n",
       "      <td>4.000000</td>\n",
       "      <td>8.500000</td>\n",
       "      <td>7.000000</td>\n",
       "    </tr>\n",
       "    <tr>\n",
       "      <th>75%</th>\n",
       "      <td>5.000000</td>\n",
       "      <td>10.000000</td>\n",
       "      <td>7.000000</td>\n",
       "    </tr>\n",
       "    <tr>\n",
       "      <th>max</th>\n",
       "      <td>10.000000</td>\n",
       "      <td>20.000000</td>\n",
       "      <td>10.000000</td>\n",
       "    </tr>\n",
       "  </tbody>\n",
       "</table>\n",
       "</div>"
      ],
      "text/plain": [
       "          reward  difficulty   duration\n",
       "count  10.000000   10.000000  10.000000\n",
       "mean    4.200000    7.700000   6.500000\n",
       "std     3.583915    5.831905   2.321398\n",
       "min     0.000000    0.000000   3.000000\n",
       "25%     2.000000    5.000000   5.000000\n",
       "50%     4.000000    8.500000   7.000000\n",
       "75%     5.000000   10.000000   7.000000\n",
       "max    10.000000   20.000000  10.000000"
      ]
     },
     "execution_count": 9,
     "metadata": {},
     "output_type": "execute_result"
    }
   ],
   "source": [
    "portfolio_data.describe()\n",
    "\n",
    "# low standard deviation that means similar reward and difficulty settings on offers."
   ]
  },
  {
   "cell_type": "code",
   "execution_count": 10,
   "id": "8270621f",
   "metadata": {
    "ExecuteTime": {
     "end_time": "2021-04-29T15:05:37.641940Z",
     "start_time": "2021-04-29T15:05:37.614939Z"
    }
   },
   "outputs": [
    {
     "data": {
      "text/html": [
       "<div>\n",
       "<style scoped>\n",
       "    .dataframe tbody tr th:only-of-type {\n",
       "        vertical-align: middle;\n",
       "    }\n",
       "\n",
       "    .dataframe tbody tr th {\n",
       "        vertical-align: top;\n",
       "    }\n",
       "\n",
       "    .dataframe thead th {\n",
       "        text-align: right;\n",
       "    }\n",
       "</style>\n",
       "<table border=\"1\" class=\"dataframe\">\n",
       "  <thead>\n",
       "    <tr style=\"text-align: right;\">\n",
       "      <th></th>\n",
       "      <th>age</th>\n",
       "      <th>became_member_on</th>\n",
       "      <th>income</th>\n",
       "    </tr>\n",
       "  </thead>\n",
       "  <tbody>\n",
       "    <tr>\n",
       "      <th>count</th>\n",
       "      <td>17000.000000</td>\n",
       "      <td>1.700000e+04</td>\n",
       "      <td>14825.000000</td>\n",
       "    </tr>\n",
       "    <tr>\n",
       "      <th>mean</th>\n",
       "      <td>62.531412</td>\n",
       "      <td>2.016703e+07</td>\n",
       "      <td>65404.991568</td>\n",
       "    </tr>\n",
       "    <tr>\n",
       "      <th>std</th>\n",
       "      <td>26.738580</td>\n",
       "      <td>1.167750e+04</td>\n",
       "      <td>21598.299410</td>\n",
       "    </tr>\n",
       "    <tr>\n",
       "      <th>min</th>\n",
       "      <td>18.000000</td>\n",
       "      <td>2.013073e+07</td>\n",
       "      <td>30000.000000</td>\n",
       "    </tr>\n",
       "    <tr>\n",
       "      <th>25%</th>\n",
       "      <td>45.000000</td>\n",
       "      <td>2.016053e+07</td>\n",
       "      <td>49000.000000</td>\n",
       "    </tr>\n",
       "    <tr>\n",
       "      <th>50%</th>\n",
       "      <td>58.000000</td>\n",
       "      <td>2.017080e+07</td>\n",
       "      <td>64000.000000</td>\n",
       "    </tr>\n",
       "    <tr>\n",
       "      <th>75%</th>\n",
       "      <td>73.000000</td>\n",
       "      <td>2.017123e+07</td>\n",
       "      <td>80000.000000</td>\n",
       "    </tr>\n",
       "    <tr>\n",
       "      <th>max</th>\n",
       "      <td>118.000000</td>\n",
       "      <td>2.018073e+07</td>\n",
       "      <td>120000.000000</td>\n",
       "    </tr>\n",
       "  </tbody>\n",
       "</table>\n",
       "</div>"
      ],
      "text/plain": [
       "                age  became_member_on         income\n",
       "count  17000.000000      1.700000e+04   14825.000000\n",
       "mean      62.531412      2.016703e+07   65404.991568\n",
       "std       26.738580      1.167750e+04   21598.299410\n",
       "min       18.000000      2.013073e+07   30000.000000\n",
       "25%       45.000000      2.016053e+07   49000.000000\n",
       "50%       58.000000      2.017080e+07   64000.000000\n",
       "75%       73.000000      2.017123e+07   80000.000000\n",
       "max      118.000000      2.018073e+07  120000.000000"
      ]
     },
     "execution_count": 10,
     "metadata": {},
     "output_type": "execute_result"
    }
   ],
   "source": [
    "profile_data.describe()\n",
    "\n",
    "# Reasonable standard deviation of age\n",
    "# High standard deviation in income"
   ]
  },
  {
   "cell_type": "code",
   "execution_count": 11,
   "id": "f0266cca",
   "metadata": {
    "ExecuteTime": {
     "end_time": "2021-04-29T15:05:37.672937Z",
     "start_time": "2021-04-29T15:05:37.644942Z"
    }
   },
   "outputs": [
    {
     "data": {
      "text/html": [
       "<div>\n",
       "<style scoped>\n",
       "    .dataframe tbody tr th:only-of-type {\n",
       "        vertical-align: middle;\n",
       "    }\n",
       "\n",
       "    .dataframe tbody tr th {\n",
       "        vertical-align: top;\n",
       "    }\n",
       "\n",
       "    .dataframe thead th {\n",
       "        text-align: right;\n",
       "    }\n",
       "</style>\n",
       "<table border=\"1\" class=\"dataframe\">\n",
       "  <thead>\n",
       "    <tr style=\"text-align: right;\">\n",
       "      <th></th>\n",
       "      <th>time</th>\n",
       "    </tr>\n",
       "  </thead>\n",
       "  <tbody>\n",
       "    <tr>\n",
       "      <th>count</th>\n",
       "      <td>306534.000000</td>\n",
       "    </tr>\n",
       "    <tr>\n",
       "      <th>mean</th>\n",
       "      <td>366.382940</td>\n",
       "    </tr>\n",
       "    <tr>\n",
       "      <th>std</th>\n",
       "      <td>200.326314</td>\n",
       "    </tr>\n",
       "    <tr>\n",
       "      <th>min</th>\n",
       "      <td>0.000000</td>\n",
       "    </tr>\n",
       "    <tr>\n",
       "      <th>25%</th>\n",
       "      <td>186.000000</td>\n",
       "    </tr>\n",
       "    <tr>\n",
       "      <th>50%</th>\n",
       "      <td>408.000000</td>\n",
       "    </tr>\n",
       "    <tr>\n",
       "      <th>75%</th>\n",
       "      <td>528.000000</td>\n",
       "    </tr>\n",
       "    <tr>\n",
       "      <th>max</th>\n",
       "      <td>714.000000</td>\n",
       "    </tr>\n",
       "  </tbody>\n",
       "</table>\n",
       "</div>"
      ],
      "text/plain": [
       "                time\n",
       "count  306534.000000\n",
       "mean      366.382940\n",
       "std       200.326314\n",
       "min         0.000000\n",
       "25%       186.000000\n",
       "50%       408.000000\n",
       "75%       528.000000\n",
       "max       714.000000"
      ]
     },
     "execution_count": 11,
     "metadata": {},
     "output_type": "execute_result"
    }
   ],
   "source": [
    "transcript_data.describe()\n",
    "\n",
    "# Nothing to infer"
   ]
  },
  {
   "cell_type": "markdown",
   "id": "7da366a0",
   "metadata": {},
   "source": [
    "#### Checking for duplicates"
   ]
  },
  {
   "cell_type": "code",
   "execution_count": 12,
   "id": "45432401",
   "metadata": {
    "ExecuteTime": {
     "end_time": "2021-04-29T15:05:37.688937Z",
     "start_time": "2021-04-29T15:05:37.673937Z"
    }
   },
   "outputs": [
    {
     "data": {
      "text/plain": [
       "0"
      ]
     },
     "execution_count": 12,
     "metadata": {},
     "output_type": "execute_result"
    }
   ],
   "source": [
    "# Checking same offer ids which means same offer\n",
    "portfolio_data.id.duplicated().sum()\n",
    "\n",
    "# No duplicates in portfolio data"
   ]
  },
  {
   "cell_type": "code",
   "execution_count": 13,
   "id": "4b9ce6e0",
   "metadata": {
    "ExecuteTime": {
     "end_time": "2021-04-29T15:05:37.703938Z",
     "start_time": "2021-04-29T15:05:37.689937Z"
    }
   },
   "outputs": [
    {
     "data": {
      "text/plain": [
       "0"
      ]
     },
     "execution_count": 13,
     "metadata": {},
     "output_type": "execute_result"
    }
   ],
   "source": [
    "# Checking duplicates in profile data on customer id\n",
    "profile_data.id.duplicated().sum()\n",
    "\n",
    "# No duplicates"
   ]
  },
  {
   "cell_type": "code",
   "execution_count": 14,
   "id": "06776ca8",
   "metadata": {
    "ExecuteTime": {
     "end_time": "2021-04-29T15:05:37.781937Z",
     "start_time": "2021-04-29T15:05:37.705941Z"
    }
   },
   "outputs": [
    {
     "data": {
      "text/plain": [
       "289534"
      ]
     },
     "execution_count": 14,
     "metadata": {},
     "output_type": "execute_result"
    }
   ],
   "source": [
    "# Checking duplicates in transcript data on person(customer id)\n",
    "transcript_data.person.duplicated().sum()\n",
    "\n",
    "# These number of people have multiple orders."
   ]
  },
  {
   "cell_type": "markdown",
   "id": "91b939c2",
   "metadata": {},
   "source": [
    "- **No duplicates in portfolio data**\n",
    "- **No duplicates in profile data**\n",
    "- **289534 number of people have multiple orders. What to do will be decided later depending on data.**"
   ]
  },
  {
   "cell_type": "markdown",
   "id": "d358d0a8",
   "metadata": {},
   "source": [
    "#### Checking for Null values"
   ]
  },
  {
   "cell_type": "code",
   "execution_count": 15,
   "id": "f67b2639",
   "metadata": {
    "ExecuteTime": {
     "end_time": "2021-04-29T15:05:37.797938Z",
     "start_time": "2021-04-29T15:05:37.782940Z"
    }
   },
   "outputs": [
    {
     "name": "stdout",
     "output_type": "stream",
     "text": [
      "reward        0\n",
      "channels      0\n",
      "difficulty    0\n",
      "duration      0\n",
      "offer_type    0\n",
      "id            0\n",
      "dtype: int64\n"
     ]
    }
   ],
   "source": [
    "# Portfolio data\n",
    "print(portfolio_data.isna().sum())\n",
    "\n",
    "# No null values"
   ]
  },
  {
   "cell_type": "code",
   "execution_count": 16,
   "id": "5312915d",
   "metadata": {
    "ExecuteTime": {
     "end_time": "2021-04-29T15:05:37.812938Z",
     "start_time": "2021-04-29T15:05:37.799949Z"
    }
   },
   "outputs": [
    {
     "name": "stdout",
     "output_type": "stream",
     "text": [
      "gender              2175\n",
      "age                    0\n",
      "id                     0\n",
      "became_member_on       0\n",
      "income              2175\n",
      "dtype: int64\n",
      "\n",
      "Percentage of data missing:  0.12794117647058822\n"
     ]
    }
   ],
   "source": [
    "# Profile data\n",
    "print(profile_data.isna().sum())\n",
    "\n",
    "# Gender has null values\n",
    "# Checking percentage of null values\n",
    "print('\\nPercentage of data missing: ', profile_data.gender.isna().sum() / profile_data.shape[0])"
   ]
  },
  {
   "cell_type": "code",
   "execution_count": 17,
   "id": "a21922d1",
   "metadata": {
    "ExecuteTime": {
     "end_time": "2021-04-29T15:05:37.892937Z",
     "start_time": "2021-04-29T15:05:37.813937Z"
    }
   },
   "outputs": [
    {
     "data": {
      "text/plain": [
       "person    0\n",
       "event     0\n",
       "value     0\n",
       "time      0\n",
       "dtype: int64"
      ]
     },
     "execution_count": 17,
     "metadata": {},
     "output_type": "execute_result"
    }
   ],
   "source": [
    "# Transcript data\n",
    "transcript_data.isna().sum()\n",
    "\n",
    "# No null values"
   ]
  },
  {
   "cell_type": "markdown",
   "id": "c68ae7f5",
   "metadata": {},
   "source": [
    "- **No missing data in portfolio and transcript but about 13% gender data missing in profile and that can be removed.**\n",
    "- This may increase as we have to merge data of profile and transcript."
   ]
  },
  {
   "cell_type": "markdown",
   "id": "39de3195",
   "metadata": {},
   "source": [
    "### Access Summary"
   ]
  },
  {
   "cell_type": "markdown",
   "id": "506f5866",
   "metadata": {},
   "source": [
    "***Tidiness Issues***\n",
    "- Portfolio data has channels in the form of list\n",
    "- Transcript data has value column containg items in the form of dictionary.\n",
    "\n",
    "***Quality Issues***\n",
    "- Profile data has gender and income column containing null values\n",
    "- became_member_on_column not in datetime format\n",
    "- Renaming columns to merge data"
   ]
  },
  {
   "cell_type": "markdown",
   "id": "b0028572",
   "metadata": {},
   "source": [
    "### *Clean Data*"
   ]
  },
  {
   "cell_type": "code",
   "execution_count": 18,
   "id": "41187f0d",
   "metadata": {
    "ExecuteTime": {
     "end_time": "2021-04-29T15:05:37.940938Z",
     "start_time": "2021-04-29T15:05:37.893937Z"
    }
   },
   "outputs": [],
   "source": [
    "# Creating copies of the data\n",
    "portfolio_data_temp = portfolio_data.copy()\n",
    "profile_data_temp = profile_data.copy()\n",
    "transcript_data_temp = transcript_data.copy()"
   ]
  },
  {
   "cell_type": "markdown",
   "id": "56aa8bfe",
   "metadata": {},
   "source": [
    "**Define** "
   ]
  },
  {
   "cell_type": "markdown",
   "id": "generic-bosnia",
   "metadata": {},
   "source": [
    "***Portfolio data has channels in the form of list***"
   ]
  },
  {
   "cell_type": "code",
   "execution_count": 19,
   "id": "cbb8e722",
   "metadata": {
    "ExecuteTime": {
     "end_time": "2021-04-29T15:05:37.956940Z",
     "start_time": "2021-04-29T15:05:37.941937Z"
    }
   },
   "outputs": [
    {
     "data": {
      "text/html": [
       "<div>\n",
       "<style scoped>\n",
       "    .dataframe tbody tr th:only-of-type {\n",
       "        vertical-align: middle;\n",
       "    }\n",
       "\n",
       "    .dataframe tbody tr th {\n",
       "        vertical-align: top;\n",
       "    }\n",
       "\n",
       "    .dataframe thead th {\n",
       "        text-align: right;\n",
       "    }\n",
       "</style>\n",
       "<table border=\"1\" class=\"dataframe\">\n",
       "  <thead>\n",
       "    <tr style=\"text-align: right;\">\n",
       "      <th></th>\n",
       "      <th>reward</th>\n",
       "      <th>channels</th>\n",
       "      <th>difficulty</th>\n",
       "      <th>duration</th>\n",
       "      <th>offer_type</th>\n",
       "      <th>id</th>\n",
       "    </tr>\n",
       "  </thead>\n",
       "  <tbody>\n",
       "    <tr>\n",
       "      <th>0</th>\n",
       "      <td>10</td>\n",
       "      <td>[email, mobile, social]</td>\n",
       "      <td>10</td>\n",
       "      <td>7</td>\n",
       "      <td>bogo</td>\n",
       "      <td>ae264e3637204a6fb9bb56bc8210ddfd</td>\n",
       "    </tr>\n",
       "    <tr>\n",
       "      <th>1</th>\n",
       "      <td>10</td>\n",
       "      <td>[web, email, mobile, social]</td>\n",
       "      <td>10</td>\n",
       "      <td>5</td>\n",
       "      <td>bogo</td>\n",
       "      <td>4d5c57ea9a6940dd891ad53e9dbe8da0</td>\n",
       "    </tr>\n",
       "    <tr>\n",
       "      <th>2</th>\n",
       "      <td>0</td>\n",
       "      <td>[web, email, mobile]</td>\n",
       "      <td>0</td>\n",
       "      <td>4</td>\n",
       "      <td>informational</td>\n",
       "      <td>3f207df678b143eea3cee63160fa8bed</td>\n",
       "    </tr>\n",
       "    <tr>\n",
       "      <th>3</th>\n",
       "      <td>5</td>\n",
       "      <td>[web, email, mobile]</td>\n",
       "      <td>5</td>\n",
       "      <td>7</td>\n",
       "      <td>bogo</td>\n",
       "      <td>9b98b8c7a33c4b65b9aebfe6a799e6d9</td>\n",
       "    </tr>\n",
       "    <tr>\n",
       "      <th>4</th>\n",
       "      <td>5</td>\n",
       "      <td>[web, email]</td>\n",
       "      <td>20</td>\n",
       "      <td>10</td>\n",
       "      <td>discount</td>\n",
       "      <td>0b1e1539f2cc45b7b9fa7c272da2e1d7</td>\n",
       "    </tr>\n",
       "    <tr>\n",
       "      <th>5</th>\n",
       "      <td>3</td>\n",
       "      <td>[web, email, mobile, social]</td>\n",
       "      <td>7</td>\n",
       "      <td>7</td>\n",
       "      <td>discount</td>\n",
       "      <td>2298d6c36e964ae4a3e7e9706d1fb8c2</td>\n",
       "    </tr>\n",
       "    <tr>\n",
       "      <th>6</th>\n",
       "      <td>2</td>\n",
       "      <td>[web, email, mobile, social]</td>\n",
       "      <td>10</td>\n",
       "      <td>10</td>\n",
       "      <td>discount</td>\n",
       "      <td>fafdcd668e3743c1bb461111dcafc2a4</td>\n",
       "    </tr>\n",
       "    <tr>\n",
       "      <th>7</th>\n",
       "      <td>0</td>\n",
       "      <td>[email, mobile, social]</td>\n",
       "      <td>0</td>\n",
       "      <td>3</td>\n",
       "      <td>informational</td>\n",
       "      <td>5a8bc65990b245e5a138643cd4eb9837</td>\n",
       "    </tr>\n",
       "    <tr>\n",
       "      <th>8</th>\n",
       "      <td>5</td>\n",
       "      <td>[web, email, mobile, social]</td>\n",
       "      <td>5</td>\n",
       "      <td>5</td>\n",
       "      <td>bogo</td>\n",
       "      <td>f19421c1d4aa40978ebb69ca19b0e20d</td>\n",
       "    </tr>\n",
       "    <tr>\n",
       "      <th>9</th>\n",
       "      <td>2</td>\n",
       "      <td>[web, email, mobile]</td>\n",
       "      <td>10</td>\n",
       "      <td>7</td>\n",
       "      <td>discount</td>\n",
       "      <td>2906b810c7d4411798c6938adc9daaa5</td>\n",
       "    </tr>\n",
       "  </tbody>\n",
       "</table>\n",
       "</div>"
      ],
      "text/plain": [
       "   reward                      channels  difficulty  duration     offer_type  \\\n",
       "0      10       [email, mobile, social]          10         7           bogo   \n",
       "1      10  [web, email, mobile, social]          10         5           bogo   \n",
       "2       0          [web, email, mobile]           0         4  informational   \n",
       "3       5          [web, email, mobile]           5         7           bogo   \n",
       "4       5                  [web, email]          20        10       discount   \n",
       "5       3  [web, email, mobile, social]           7         7       discount   \n",
       "6       2  [web, email, mobile, social]          10        10       discount   \n",
       "7       0       [email, mobile, social]           0         3  informational   \n",
       "8       5  [web, email, mobile, social]           5         5           bogo   \n",
       "9       2          [web, email, mobile]          10         7       discount   \n",
       "\n",
       "                                 id  \n",
       "0  ae264e3637204a6fb9bb56bc8210ddfd  \n",
       "1  4d5c57ea9a6940dd891ad53e9dbe8da0  \n",
       "2  3f207df678b143eea3cee63160fa8bed  \n",
       "3  9b98b8c7a33c4b65b9aebfe6a799e6d9  \n",
       "4  0b1e1539f2cc45b7b9fa7c272da2e1d7  \n",
       "5  2298d6c36e964ae4a3e7e9706d1fb8c2  \n",
       "6  fafdcd668e3743c1bb461111dcafc2a4  \n",
       "7  5a8bc65990b245e5a138643cd4eb9837  \n",
       "8  f19421c1d4aa40978ebb69ca19b0e20d  \n",
       "9  2906b810c7d4411798c6938adc9daaa5  "
      ]
     },
     "execution_count": 19,
     "metadata": {},
     "output_type": "execute_result"
    }
   ],
   "source": [
    "# Checking data\n",
    "portfolio_data_temp"
   ]
  },
  {
   "cell_type": "markdown",
   "id": "f6f9c06e",
   "metadata": {},
   "source": [
    "**Code**"
   ]
  },
  {
   "cell_type": "code",
   "execution_count": 20,
   "id": "waiting-cleanup",
   "metadata": {
    "ExecuteTime": {
     "end_time": "2021-04-29T15:05:37.987937Z",
     "start_time": "2021-04-29T15:05:37.958965Z"
    }
   },
   "outputs": [],
   "source": [
    "# Creating dummy rows according to channel column\n",
    "email = []\n",
    "mobile = []\n",
    "web = []\n",
    "social = []\n",
    "\n",
    "temp = []\n",
    "for channel in portfolio_data_temp.channels:\n",
    "    temp.extend(channel)\n",
    "    \n",
    "for channel in temp:\n",
    "    portfolio_data_temp[channel] = portfolio_data_temp.channels.apply(lambda x : 1 if channel in x else 0)"
   ]
  },
  {
   "cell_type": "code",
   "execution_count": 21,
   "id": "racial-venue",
   "metadata": {
    "ExecuteTime": {
     "end_time": "2021-04-29T15:05:38.003937Z",
     "start_time": "2021-04-29T15:05:37.989939Z"
    }
   },
   "outputs": [],
   "source": [
    "# Dropping channels column as no longer neccessary\n",
    "portfolio_data_temp.drop(['channels'], inplace = True, axis = 1)"
   ]
  },
  {
   "cell_type": "markdown",
   "id": "0094b28e",
   "metadata": {},
   "source": [
    "**Test**"
   ]
  },
  {
   "cell_type": "code",
   "execution_count": 22,
   "id": "indoor-mixture",
   "metadata": {
    "ExecuteTime": {
     "end_time": "2021-04-29T15:05:38.018936Z",
     "start_time": "2021-04-29T15:05:38.004938Z"
    }
   },
   "outputs": [
    {
     "data": {
      "text/html": [
       "<div>\n",
       "<style scoped>\n",
       "    .dataframe tbody tr th:only-of-type {\n",
       "        vertical-align: middle;\n",
       "    }\n",
       "\n",
       "    .dataframe tbody tr th {\n",
       "        vertical-align: top;\n",
       "    }\n",
       "\n",
       "    .dataframe thead th {\n",
       "        text-align: right;\n",
       "    }\n",
       "</style>\n",
       "<table border=\"1\" class=\"dataframe\">\n",
       "  <thead>\n",
       "    <tr style=\"text-align: right;\">\n",
       "      <th></th>\n",
       "      <th>reward</th>\n",
       "      <th>difficulty</th>\n",
       "      <th>duration</th>\n",
       "      <th>offer_type</th>\n",
       "      <th>id</th>\n",
       "      <th>email</th>\n",
       "      <th>mobile</th>\n",
       "      <th>social</th>\n",
       "      <th>web</th>\n",
       "    </tr>\n",
       "  </thead>\n",
       "  <tbody>\n",
       "    <tr>\n",
       "      <th>0</th>\n",
       "      <td>10</td>\n",
       "      <td>10</td>\n",
       "      <td>7</td>\n",
       "      <td>bogo</td>\n",
       "      <td>ae264e3637204a6fb9bb56bc8210ddfd</td>\n",
       "      <td>1</td>\n",
       "      <td>1</td>\n",
       "      <td>1</td>\n",
       "      <td>0</td>\n",
       "    </tr>\n",
       "    <tr>\n",
       "      <th>1</th>\n",
       "      <td>10</td>\n",
       "      <td>10</td>\n",
       "      <td>5</td>\n",
       "      <td>bogo</td>\n",
       "      <td>4d5c57ea9a6940dd891ad53e9dbe8da0</td>\n",
       "      <td>1</td>\n",
       "      <td>1</td>\n",
       "      <td>1</td>\n",
       "      <td>1</td>\n",
       "    </tr>\n",
       "    <tr>\n",
       "      <th>2</th>\n",
       "      <td>0</td>\n",
       "      <td>0</td>\n",
       "      <td>4</td>\n",
       "      <td>informational</td>\n",
       "      <td>3f207df678b143eea3cee63160fa8bed</td>\n",
       "      <td>1</td>\n",
       "      <td>1</td>\n",
       "      <td>0</td>\n",
       "      <td>1</td>\n",
       "    </tr>\n",
       "    <tr>\n",
       "      <th>3</th>\n",
       "      <td>5</td>\n",
       "      <td>5</td>\n",
       "      <td>7</td>\n",
       "      <td>bogo</td>\n",
       "      <td>9b98b8c7a33c4b65b9aebfe6a799e6d9</td>\n",
       "      <td>1</td>\n",
       "      <td>1</td>\n",
       "      <td>0</td>\n",
       "      <td>1</td>\n",
       "    </tr>\n",
       "    <tr>\n",
       "      <th>4</th>\n",
       "      <td>5</td>\n",
       "      <td>20</td>\n",
       "      <td>10</td>\n",
       "      <td>discount</td>\n",
       "      <td>0b1e1539f2cc45b7b9fa7c272da2e1d7</td>\n",
       "      <td>1</td>\n",
       "      <td>0</td>\n",
       "      <td>0</td>\n",
       "      <td>1</td>\n",
       "    </tr>\n",
       "    <tr>\n",
       "      <th>5</th>\n",
       "      <td>3</td>\n",
       "      <td>7</td>\n",
       "      <td>7</td>\n",
       "      <td>discount</td>\n",
       "      <td>2298d6c36e964ae4a3e7e9706d1fb8c2</td>\n",
       "      <td>1</td>\n",
       "      <td>1</td>\n",
       "      <td>1</td>\n",
       "      <td>1</td>\n",
       "    </tr>\n",
       "    <tr>\n",
       "      <th>6</th>\n",
       "      <td>2</td>\n",
       "      <td>10</td>\n",
       "      <td>10</td>\n",
       "      <td>discount</td>\n",
       "      <td>fafdcd668e3743c1bb461111dcafc2a4</td>\n",
       "      <td>1</td>\n",
       "      <td>1</td>\n",
       "      <td>1</td>\n",
       "      <td>1</td>\n",
       "    </tr>\n",
       "    <tr>\n",
       "      <th>7</th>\n",
       "      <td>0</td>\n",
       "      <td>0</td>\n",
       "      <td>3</td>\n",
       "      <td>informational</td>\n",
       "      <td>5a8bc65990b245e5a138643cd4eb9837</td>\n",
       "      <td>1</td>\n",
       "      <td>1</td>\n",
       "      <td>1</td>\n",
       "      <td>0</td>\n",
       "    </tr>\n",
       "    <tr>\n",
       "      <th>8</th>\n",
       "      <td>5</td>\n",
       "      <td>5</td>\n",
       "      <td>5</td>\n",
       "      <td>bogo</td>\n",
       "      <td>f19421c1d4aa40978ebb69ca19b0e20d</td>\n",
       "      <td>1</td>\n",
       "      <td>1</td>\n",
       "      <td>1</td>\n",
       "      <td>1</td>\n",
       "    </tr>\n",
       "    <tr>\n",
       "      <th>9</th>\n",
       "      <td>2</td>\n",
       "      <td>10</td>\n",
       "      <td>7</td>\n",
       "      <td>discount</td>\n",
       "      <td>2906b810c7d4411798c6938adc9daaa5</td>\n",
       "      <td>1</td>\n",
       "      <td>1</td>\n",
       "      <td>0</td>\n",
       "      <td>1</td>\n",
       "    </tr>\n",
       "  </tbody>\n",
       "</table>\n",
       "</div>"
      ],
      "text/plain": [
       "   reward  difficulty  duration     offer_type  \\\n",
       "0      10          10         7           bogo   \n",
       "1      10          10         5           bogo   \n",
       "2       0           0         4  informational   \n",
       "3       5           5         7           bogo   \n",
       "4       5          20        10       discount   \n",
       "5       3           7         7       discount   \n",
       "6       2          10        10       discount   \n",
       "7       0           0         3  informational   \n",
       "8       5           5         5           bogo   \n",
       "9       2          10         7       discount   \n",
       "\n",
       "                                 id  email  mobile  social  web  \n",
       "0  ae264e3637204a6fb9bb56bc8210ddfd      1       1       1    0  \n",
       "1  4d5c57ea9a6940dd891ad53e9dbe8da0      1       1       1    1  \n",
       "2  3f207df678b143eea3cee63160fa8bed      1       1       0    1  \n",
       "3  9b98b8c7a33c4b65b9aebfe6a799e6d9      1       1       0    1  \n",
       "4  0b1e1539f2cc45b7b9fa7c272da2e1d7      1       0       0    1  \n",
       "5  2298d6c36e964ae4a3e7e9706d1fb8c2      1       1       1    1  \n",
       "6  fafdcd668e3743c1bb461111dcafc2a4      1       1       1    1  \n",
       "7  5a8bc65990b245e5a138643cd4eb9837      1       1       1    0  \n",
       "8  f19421c1d4aa40978ebb69ca19b0e20d      1       1       1    1  \n",
       "9  2906b810c7d4411798c6938adc9daaa5      1       1       0    1  "
      ]
     },
     "execution_count": 22,
     "metadata": {},
     "output_type": "execute_result"
    }
   ],
   "source": [
    "# Test\n",
    "portfolio_data_temp"
   ]
  },
  {
   "cell_type": "markdown",
   "id": "ae761d4d",
   "metadata": {},
   "source": [
    "**Define** "
   ]
  },
  {
   "cell_type": "markdown",
   "id": "chinese-fancy",
   "metadata": {},
   "source": [
    "***Transcript data has value column containg items in the form of dictionary.***"
   ]
  },
  {
   "cell_type": "code",
   "execution_count": 23,
   "id": "0cc8d2c9",
   "metadata": {
    "ExecuteTime": {
     "end_time": "2021-04-29T15:05:38.049937Z",
     "start_time": "2021-04-29T15:05:38.024937Z"
    }
   },
   "outputs": [
    {
     "data": {
      "text/html": [
       "<div>\n",
       "<style scoped>\n",
       "    .dataframe tbody tr th:only-of-type {\n",
       "        vertical-align: middle;\n",
       "    }\n",
       "\n",
       "    .dataframe tbody tr th {\n",
       "        vertical-align: top;\n",
       "    }\n",
       "\n",
       "    .dataframe thead th {\n",
       "        text-align: right;\n",
       "    }\n",
       "</style>\n",
       "<table border=\"1\" class=\"dataframe\">\n",
       "  <thead>\n",
       "    <tr style=\"text-align: right;\">\n",
       "      <th></th>\n",
       "      <th>person</th>\n",
       "      <th>event</th>\n",
       "      <th>value</th>\n",
       "      <th>time</th>\n",
       "    </tr>\n",
       "  </thead>\n",
       "  <tbody>\n",
       "    <tr>\n",
       "      <th>248726</th>\n",
       "      <td>e2456738f21048aeb648fe2388907df9</td>\n",
       "      <td>offer received</td>\n",
       "      <td>{'offer id': 'f19421c1d4aa40978ebb69ca19b0e20d'}</td>\n",
       "      <td>576</td>\n",
       "    </tr>\n",
       "    <tr>\n",
       "      <th>302865</th>\n",
       "      <td>7571804b4d544975a9450893feea891f</td>\n",
       "      <td>transaction</td>\n",
       "      <td>{'amount': 25.07}</td>\n",
       "      <td>696</td>\n",
       "    </tr>\n",
       "    <tr>\n",
       "      <th>168348</th>\n",
       "      <td>62b40d5ce00d410eac78e25c8e5a4eaf</td>\n",
       "      <td>transaction</td>\n",
       "      <td>{'amount': 12.05}</td>\n",
       "      <td>414</td>\n",
       "    </tr>\n",
       "    <tr>\n",
       "      <th>262773</th>\n",
       "      <td>21d6159dc3e749c698da8a6affb68412</td>\n",
       "      <td>transaction</td>\n",
       "      <td>{'amount': 18.65}</td>\n",
       "      <td>582</td>\n",
       "    </tr>\n",
       "    <tr>\n",
       "      <th>66954</th>\n",
       "      <td>fff3ba4757bd42088c044ca26d73817a</td>\n",
       "      <td>offer completed</td>\n",
       "      <td>{'offer_id': '9b98b8c7a33c4b65b9aebfe6a799e6d9...</td>\n",
       "      <td>168</td>\n",
       "    </tr>\n",
       "    <tr>\n",
       "      <th>224765</th>\n",
       "      <td>b61bc5743b0949c5972f839075ffcdf3</td>\n",
       "      <td>transaction</td>\n",
       "      <td>{'amount': 1.04}</td>\n",
       "      <td>516</td>\n",
       "    </tr>\n",
       "    <tr>\n",
       "      <th>62246</th>\n",
       "      <td>e959acbfc347460b8a55f94fc64e661b</td>\n",
       "      <td>offer received</td>\n",
       "      <td>{'offer id': '9b98b8c7a33c4b65b9aebfe6a799e6d9'}</td>\n",
       "      <td>168</td>\n",
       "    </tr>\n",
       "    <tr>\n",
       "      <th>94213</th>\n",
       "      <td>c7b1c663f55f405d9acb0dd1099530b0</td>\n",
       "      <td>transaction</td>\n",
       "      <td>{'amount': 2.02}</td>\n",
       "      <td>246</td>\n",
       "    </tr>\n",
       "    <tr>\n",
       "      <th>206107</th>\n",
       "      <td>84bc9c5c4bed4d15a9565f5321e53df7</td>\n",
       "      <td>offer received</td>\n",
       "      <td>{'offer id': '3f207df678b143eea3cee63160fa8bed'}</td>\n",
       "      <td>504</td>\n",
       "    </tr>\n",
       "    <tr>\n",
       "      <th>196916</th>\n",
       "      <td>9fecadbfbb974653af266155ae719b53</td>\n",
       "      <td>offer completed</td>\n",
       "      <td>{'offer_id': 'f19421c1d4aa40978ebb69ca19b0e20d...</td>\n",
       "      <td>486</td>\n",
       "    </tr>\n",
       "  </tbody>\n",
       "</table>\n",
       "</div>"
      ],
      "text/plain": [
       "                                  person            event  \\\n",
       "248726  e2456738f21048aeb648fe2388907df9   offer received   \n",
       "302865  7571804b4d544975a9450893feea891f      transaction   \n",
       "168348  62b40d5ce00d410eac78e25c8e5a4eaf      transaction   \n",
       "262773  21d6159dc3e749c698da8a6affb68412      transaction   \n",
       "66954   fff3ba4757bd42088c044ca26d73817a  offer completed   \n",
       "224765  b61bc5743b0949c5972f839075ffcdf3      transaction   \n",
       "62246   e959acbfc347460b8a55f94fc64e661b   offer received   \n",
       "94213   c7b1c663f55f405d9acb0dd1099530b0      transaction   \n",
       "206107  84bc9c5c4bed4d15a9565f5321e53df7   offer received   \n",
       "196916  9fecadbfbb974653af266155ae719b53  offer completed   \n",
       "\n",
       "                                                    value  time  \n",
       "248726   {'offer id': 'f19421c1d4aa40978ebb69ca19b0e20d'}   576  \n",
       "302865                                  {'amount': 25.07}   696  \n",
       "168348                                  {'amount': 12.05}   414  \n",
       "262773                                  {'amount': 18.65}   582  \n",
       "66954   {'offer_id': '9b98b8c7a33c4b65b9aebfe6a799e6d9...   168  \n",
       "224765                                   {'amount': 1.04}   516  \n",
       "62246    {'offer id': '9b98b8c7a33c4b65b9aebfe6a799e6d9'}   168  \n",
       "94213                                    {'amount': 2.02}   246  \n",
       "206107   {'offer id': '3f207df678b143eea3cee63160fa8bed'}   504  \n",
       "196916  {'offer_id': 'f19421c1d4aa40978ebb69ca19b0e20d...   486  "
      ]
     },
     "execution_count": 23,
     "metadata": {},
     "output_type": "execute_result"
    }
   ],
   "source": [
    "# Checking data\n",
    "transcript_data_temp.sample(10)"
   ]
  },
  {
   "cell_type": "markdown",
   "id": "0d64ce3e",
   "metadata": {},
   "source": [
    "**Code**"
   ]
  },
  {
   "cell_type": "code",
   "execution_count": 24,
   "id": "prostate-yesterday",
   "metadata": {
    "ExecuteTime": {
     "end_time": "2021-04-29T15:05:38.489938Z",
     "start_time": "2021-04-29T15:05:38.051937Z"
    }
   },
   "outputs": [
    {
     "name": "stdout",
     "output_type": "stream",
     "text": [
      "['offer id', 'offer_id', 'amount', 'reward']\n"
     ]
    }
   ],
   "source": [
    "temp = list()\n",
    "for item in  transcript_data_temp.value:\n",
    "    temp.append(list(item.keys()))\n",
    "\n",
    "new_temp = []\n",
    "for item in temp:\n",
    "    new_temp.extend(item)\n",
    "    \n",
    "types = list(set(new_temp))\n",
    "print(types)"
   ]
  },
  {
   "cell_type": "code",
   "execution_count": 25,
   "id": "rough-alcohol",
   "metadata": {
    "ExecuteTime": {
     "end_time": "2021-04-29T15:05:38.552937Z",
     "start_time": "2021-04-29T15:05:38.491965Z"
    }
   },
   "outputs": [
    {
     "data": {
      "text/plain": [
       "array(['offer received', 'offer viewed', 'transaction', 'offer completed'],\n",
       "      dtype=object)"
      ]
     },
     "execution_count": 25,
     "metadata": {},
     "output_type": "execute_result"
    }
   ],
   "source": [
    "transcript_data_temp.event.unique()"
   ]
  },
  {
   "cell_type": "markdown",
   "id": "absent-prince",
   "metadata": {},
   "source": [
    "#### If offer is viewed or received there is no underscore in `offer id` and if offer completed there is underscore in `offer_id`."
   ]
  },
  {
   "cell_type": "code",
   "execution_count": 26,
   "id": "sixth-institution",
   "metadata": {
    "ExecuteTime": {
     "end_time": "2021-04-29T15:05:38.964937Z",
     "start_time": "2021-04-29T15:05:38.553937Z"
    }
   },
   "outputs": [],
   "source": [
    "for type in types:\n",
    "    transcript_data_temp[type] = transcript_data_temp.value.apply(lambda x: x.get(type, 0))    "
   ]
  },
  {
   "cell_type": "code",
   "execution_count": 27,
   "id": "destroyed-business",
   "metadata": {
    "ExecuteTime": {
     "end_time": "2021-04-29T15:05:39.124937Z",
     "start_time": "2021-04-29T15:05:38.965938Z"
    }
   },
   "outputs": [],
   "source": [
    "# Dropping value column\n",
    "transcript_data_temp.drop(['value'], axis = 1, inplace = True)"
   ]
  },
  {
   "cell_type": "code",
   "execution_count": 28,
   "id": "successful-factor",
   "metadata": {
    "ExecuteTime": {
     "end_time": "2021-04-29T15:05:41.152025Z",
     "start_time": "2021-04-29T15:05:39.125935Z"
    }
   },
   "outputs": [],
   "source": [
    "# Since we can see reward only occurred if offer is used\n",
    "# We can merge offer_ids in one column and differ between them on the basis of reward or event type\n",
    "offer_id = []\n",
    "for i in range(transcript_data_temp.shape[0]):\n",
    "    offer_id.append(transcript_data_temp['offer id'][i] or transcript_data_temp['offer_id'][i])\n",
    "        \n",
    "\n",
    "transcript_data_temp['offer_id'] = offer_id"
   ]
  },
  {
   "cell_type": "code",
   "execution_count": 29,
   "id": "efa18d1e",
   "metadata": {
    "ExecuteTime": {
     "end_time": "2021-04-29T15:05:41.184017Z",
     "start_time": "2021-04-29T15:05:41.153017Z"
    },
    "scrolled": false
   },
   "outputs": [
    {
     "data": {
      "text/html": [
       "<div>\n",
       "<style scoped>\n",
       "    .dataframe tbody tr th:only-of-type {\n",
       "        vertical-align: middle;\n",
       "    }\n",
       "\n",
       "    .dataframe tbody tr th {\n",
       "        vertical-align: top;\n",
       "    }\n",
       "\n",
       "    .dataframe thead th {\n",
       "        text-align: right;\n",
       "    }\n",
       "</style>\n",
       "<table border=\"1\" class=\"dataframe\">\n",
       "  <thead>\n",
       "    <tr style=\"text-align: right;\">\n",
       "      <th></th>\n",
       "      <th>person</th>\n",
       "      <th>event</th>\n",
       "      <th>time</th>\n",
       "      <th>offer id</th>\n",
       "      <th>offer_id</th>\n",
       "      <th>amount</th>\n",
       "      <th>reward</th>\n",
       "    </tr>\n",
       "  </thead>\n",
       "  <tbody>\n",
       "    <tr>\n",
       "      <th>179083</th>\n",
       "      <td>ad1b263b2228452d91e12812804e6764</td>\n",
       "      <td>transaction</td>\n",
       "      <td>432</td>\n",
       "      <td>0</td>\n",
       "      <td>0</td>\n",
       "      <td>6.75</td>\n",
       "      <td>0</td>\n",
       "    </tr>\n",
       "    <tr>\n",
       "      <th>56549</th>\n",
       "      <td>f7ff56f770734474af6f7da423f764da</td>\n",
       "      <td>offer received</td>\n",
       "      <td>168</td>\n",
       "      <td>f19421c1d4aa40978ebb69ca19b0e20d</td>\n",
       "      <td>f19421c1d4aa40978ebb69ca19b0e20d</td>\n",
       "      <td>0.00</td>\n",
       "      <td>0</td>\n",
       "    </tr>\n",
       "    <tr>\n",
       "      <th>125494</th>\n",
       "      <td>34c439da06614b38aaf261fc448d5c28</td>\n",
       "      <td>offer viewed</td>\n",
       "      <td>336</td>\n",
       "      <td>f19421c1d4aa40978ebb69ca19b0e20d</td>\n",
       "      <td>f19421c1d4aa40978ebb69ca19b0e20d</td>\n",
       "      <td>0.00</td>\n",
       "      <td>0</td>\n",
       "    </tr>\n",
       "    <tr>\n",
       "      <th>196840</th>\n",
       "      <td>8dabe2142cdf4013a6f4786edf8ab00f</td>\n",
       "      <td>transaction</td>\n",
       "      <td>486</td>\n",
       "      <td>0</td>\n",
       "      <td>0</td>\n",
       "      <td>22.08</td>\n",
       "      <td>0</td>\n",
       "    </tr>\n",
       "    <tr>\n",
       "      <th>160303</th>\n",
       "      <td>be7ff3cb6bf84ce395471e52b64b70c6</td>\n",
       "      <td>offer received</td>\n",
       "      <td>408</td>\n",
       "      <td>ae264e3637204a6fb9bb56bc8210ddfd</td>\n",
       "      <td>ae264e3637204a6fb9bb56bc8210ddfd</td>\n",
       "      <td>0.00</td>\n",
       "      <td>0</td>\n",
       "    </tr>\n",
       "    <tr>\n",
       "      <th>189024</th>\n",
       "      <td>9200d40708ca42fdbb9c42ba1b0899ec</td>\n",
       "      <td>offer completed</td>\n",
       "      <td>456</td>\n",
       "      <td>0</td>\n",
       "      <td>2906b810c7d4411798c6938adc9daaa5</td>\n",
       "      <td>0.00</td>\n",
       "      <td>2</td>\n",
       "    </tr>\n",
       "    <tr>\n",
       "      <th>60073</th>\n",
       "      <td>73ec3a37053c4d5893efedf53e0473eb</td>\n",
       "      <td>offer received</td>\n",
       "      <td>168</td>\n",
       "      <td>3f207df678b143eea3cee63160fa8bed</td>\n",
       "      <td>3f207df678b143eea3cee63160fa8bed</td>\n",
       "      <td>0.00</td>\n",
       "      <td>0</td>\n",
       "    </tr>\n",
       "    <tr>\n",
       "      <th>259965</th>\n",
       "      <td>1a3180ae6909486f9c260dcd30d6e795</td>\n",
       "      <td>offer viewed</td>\n",
       "      <td>576</td>\n",
       "      <td>f19421c1d4aa40978ebb69ca19b0e20d</td>\n",
       "      <td>f19421c1d4aa40978ebb69ca19b0e20d</td>\n",
       "      <td>0.00</td>\n",
       "      <td>0</td>\n",
       "    </tr>\n",
       "    <tr>\n",
       "      <th>122150</th>\n",
       "      <td>147f86d957754e9398f223d178ee95b4</td>\n",
       "      <td>offer received</td>\n",
       "      <td>336</td>\n",
       "      <td>4d5c57ea9a6940dd891ad53e9dbe8da0</td>\n",
       "      <td>4d5c57ea9a6940dd891ad53e9dbe8da0</td>\n",
       "      <td>0.00</td>\n",
       "      <td>0</td>\n",
       "    </tr>\n",
       "    <tr>\n",
       "      <th>108351</th>\n",
       "      <td>2a0e53dc299749af9cb7aa1f56036ec7</td>\n",
       "      <td>transaction</td>\n",
       "      <td>318</td>\n",
       "      <td>0</td>\n",
       "      <td>0</td>\n",
       "      <td>10.92</td>\n",
       "      <td>0</td>\n",
       "    </tr>\n",
       "    <tr>\n",
       "      <th>10105</th>\n",
       "      <td>a2e6b3ba364c476e95aa387b6f3d70e0</td>\n",
       "      <td>offer received</td>\n",
       "      <td>0</td>\n",
       "      <td>f19421c1d4aa40978ebb69ca19b0e20d</td>\n",
       "      <td>f19421c1d4aa40978ebb69ca19b0e20d</td>\n",
       "      <td>0.00</td>\n",
       "      <td>0</td>\n",
       "    </tr>\n",
       "    <tr>\n",
       "      <th>51868</th>\n",
       "      <td>f8f93bb8fed449d5afb965e6f93fe107</td>\n",
       "      <td>offer completed</td>\n",
       "      <td>156</td>\n",
       "      <td>0</td>\n",
       "      <td>2906b810c7d4411798c6938adc9daaa5</td>\n",
       "      <td>0.00</td>\n",
       "      <td>2</td>\n",
       "    </tr>\n",
       "    <tr>\n",
       "      <th>224872</th>\n",
       "      <td>3de34e36962a47f988fa0136f8ae22a9</td>\n",
       "      <td>transaction</td>\n",
       "      <td>516</td>\n",
       "      <td>0</td>\n",
       "      <td>0</td>\n",
       "      <td>23.84</td>\n",
       "      <td>0</td>\n",
       "    </tr>\n",
       "    <tr>\n",
       "      <th>46505</th>\n",
       "      <td>9bd021eefb3647d3b18ddb27cf44217c</td>\n",
       "      <td>transaction</td>\n",
       "      <td>120</td>\n",
       "      <td>0</td>\n",
       "      <td>0</td>\n",
       "      <td>3.70</td>\n",
       "      <td>0</td>\n",
       "    </tr>\n",
       "    <tr>\n",
       "      <th>270981</th>\n",
       "      <td>9d960e161d7f4cef86d30f3cc63dd85d</td>\n",
       "      <td>transaction</td>\n",
       "      <td>594</td>\n",
       "      <td>0</td>\n",
       "      <td>0</td>\n",
       "      <td>0.88</td>\n",
       "      <td>0</td>\n",
       "    </tr>\n",
       "    <tr>\n",
       "      <th>95729</th>\n",
       "      <td>ad654a365ab144b19f941d26ce0c26a2</td>\n",
       "      <td>transaction</td>\n",
       "      <td>252</td>\n",
       "      <td>0</td>\n",
       "      <td>0</td>\n",
       "      <td>14.47</td>\n",
       "      <td>0</td>\n",
       "    </tr>\n",
       "    <tr>\n",
       "      <th>247348</th>\n",
       "      <td>7ebd228eba9d45a08d23932227fc551c</td>\n",
       "      <td>offer received</td>\n",
       "      <td>576</td>\n",
       "      <td>ae264e3637204a6fb9bb56bc8210ddfd</td>\n",
       "      <td>ae264e3637204a6fb9bb56bc8210ddfd</td>\n",
       "      <td>0.00</td>\n",
       "      <td>0</td>\n",
       "    </tr>\n",
       "    <tr>\n",
       "      <th>274526</th>\n",
       "      <td>fe8264108d5b4f198453bbb1fa7ca6c9</td>\n",
       "      <td>transaction</td>\n",
       "      <td>606</td>\n",
       "      <td>0</td>\n",
       "      <td>0</td>\n",
       "      <td>38.23</td>\n",
       "      <td>0</td>\n",
       "    </tr>\n",
       "    <tr>\n",
       "      <th>172274</th>\n",
       "      <td>540c7c9167ee422d9c9e8291dc62bd37</td>\n",
       "      <td>transaction</td>\n",
       "      <td>420</td>\n",
       "      <td>0</td>\n",
       "      <td>0</td>\n",
       "      <td>0.08</td>\n",
       "      <td>0</td>\n",
       "    </tr>\n",
       "    <tr>\n",
       "      <th>220641</th>\n",
       "      <td>cf6b3e981a884ea885d876fec1f1831c</td>\n",
       "      <td>offer viewed</td>\n",
       "      <td>510</td>\n",
       "      <td>fafdcd668e3743c1bb461111dcafc2a4</td>\n",
       "      <td>fafdcd668e3743c1bb461111dcafc2a4</td>\n",
       "      <td>0.00</td>\n",
       "      <td>0</td>\n",
       "    </tr>\n",
       "  </tbody>\n",
       "</table>\n",
       "</div>"
      ],
      "text/plain": [
       "                                  person            event  time  \\\n",
       "179083  ad1b263b2228452d91e12812804e6764      transaction   432   \n",
       "56549   f7ff56f770734474af6f7da423f764da   offer received   168   \n",
       "125494  34c439da06614b38aaf261fc448d5c28     offer viewed   336   \n",
       "196840  8dabe2142cdf4013a6f4786edf8ab00f      transaction   486   \n",
       "160303  be7ff3cb6bf84ce395471e52b64b70c6   offer received   408   \n",
       "189024  9200d40708ca42fdbb9c42ba1b0899ec  offer completed   456   \n",
       "60073   73ec3a37053c4d5893efedf53e0473eb   offer received   168   \n",
       "259965  1a3180ae6909486f9c260dcd30d6e795     offer viewed   576   \n",
       "122150  147f86d957754e9398f223d178ee95b4   offer received   336   \n",
       "108351  2a0e53dc299749af9cb7aa1f56036ec7      transaction   318   \n",
       "10105   a2e6b3ba364c476e95aa387b6f3d70e0   offer received     0   \n",
       "51868   f8f93bb8fed449d5afb965e6f93fe107  offer completed   156   \n",
       "224872  3de34e36962a47f988fa0136f8ae22a9      transaction   516   \n",
       "46505   9bd021eefb3647d3b18ddb27cf44217c      transaction   120   \n",
       "270981  9d960e161d7f4cef86d30f3cc63dd85d      transaction   594   \n",
       "95729   ad654a365ab144b19f941d26ce0c26a2      transaction   252   \n",
       "247348  7ebd228eba9d45a08d23932227fc551c   offer received   576   \n",
       "274526  fe8264108d5b4f198453bbb1fa7ca6c9      transaction   606   \n",
       "172274  540c7c9167ee422d9c9e8291dc62bd37      transaction   420   \n",
       "220641  cf6b3e981a884ea885d876fec1f1831c     offer viewed   510   \n",
       "\n",
       "                                offer id                          offer_id  \\\n",
       "179083                                 0                                 0   \n",
       "56549   f19421c1d4aa40978ebb69ca19b0e20d  f19421c1d4aa40978ebb69ca19b0e20d   \n",
       "125494  f19421c1d4aa40978ebb69ca19b0e20d  f19421c1d4aa40978ebb69ca19b0e20d   \n",
       "196840                                 0                                 0   \n",
       "160303  ae264e3637204a6fb9bb56bc8210ddfd  ae264e3637204a6fb9bb56bc8210ddfd   \n",
       "189024                                 0  2906b810c7d4411798c6938adc9daaa5   \n",
       "60073   3f207df678b143eea3cee63160fa8bed  3f207df678b143eea3cee63160fa8bed   \n",
       "259965  f19421c1d4aa40978ebb69ca19b0e20d  f19421c1d4aa40978ebb69ca19b0e20d   \n",
       "122150  4d5c57ea9a6940dd891ad53e9dbe8da0  4d5c57ea9a6940dd891ad53e9dbe8da0   \n",
       "108351                                 0                                 0   \n",
       "10105   f19421c1d4aa40978ebb69ca19b0e20d  f19421c1d4aa40978ebb69ca19b0e20d   \n",
       "51868                                  0  2906b810c7d4411798c6938adc9daaa5   \n",
       "224872                                 0                                 0   \n",
       "46505                                  0                                 0   \n",
       "270981                                 0                                 0   \n",
       "95729                                  0                                 0   \n",
       "247348  ae264e3637204a6fb9bb56bc8210ddfd  ae264e3637204a6fb9bb56bc8210ddfd   \n",
       "274526                                 0                                 0   \n",
       "172274                                 0                                 0   \n",
       "220641  fafdcd668e3743c1bb461111dcafc2a4  fafdcd668e3743c1bb461111dcafc2a4   \n",
       "\n",
       "        amount  reward  \n",
       "179083    6.75       0  \n",
       "56549     0.00       0  \n",
       "125494    0.00       0  \n",
       "196840   22.08       0  \n",
       "160303    0.00       0  \n",
       "189024    0.00       2  \n",
       "60073     0.00       0  \n",
       "259965    0.00       0  \n",
       "122150    0.00       0  \n",
       "108351   10.92       0  \n",
       "10105     0.00       0  \n",
       "51868     0.00       2  \n",
       "224872   23.84       0  \n",
       "46505     3.70       0  \n",
       "270981    0.88       0  \n",
       "95729    14.47       0  \n",
       "247348    0.00       0  \n",
       "274526   38.23       0  \n",
       "172274    0.08       0  \n",
       "220641    0.00       0  "
      ]
     },
     "execution_count": 29,
     "metadata": {},
     "output_type": "execute_result"
    }
   ],
   "source": [
    "transcript_data_temp.sample(20)"
   ]
  },
  {
   "cell_type": "code",
   "execution_count": 30,
   "id": "retired-spending",
   "metadata": {
    "ExecuteTime": {
     "end_time": "2021-04-29T15:05:41.264027Z",
     "start_time": "2021-04-29T15:05:41.185016Z"
    }
   },
   "outputs": [],
   "source": [
    "# Deleting offer_id_viewed and offer_id_used\n",
    "transcript_data_temp.drop(['offer id'], axis = 1, inplace = True)\n",
    "\n",
    "# Replacing 0 in offer_id with np.nan\n",
    "transcript_data_temp.offer_id.replace(0, np.nan, inplace = True)"
   ]
  },
  {
   "cell_type": "markdown",
   "id": "70847b4f",
   "metadata": {},
   "source": [
    "**Test**"
   ]
  },
  {
   "cell_type": "code",
   "execution_count": 31,
   "id": "geographic-yahoo",
   "metadata": {
    "ExecuteTime": {
     "end_time": "2021-04-29T15:05:41.296018Z",
     "start_time": "2021-04-29T15:05:41.265016Z"
    },
    "scrolled": false
   },
   "outputs": [
    {
     "data": {
      "text/html": [
       "<div>\n",
       "<style scoped>\n",
       "    .dataframe tbody tr th:only-of-type {\n",
       "        vertical-align: middle;\n",
       "    }\n",
       "\n",
       "    .dataframe tbody tr th {\n",
       "        vertical-align: top;\n",
       "    }\n",
       "\n",
       "    .dataframe thead th {\n",
       "        text-align: right;\n",
       "    }\n",
       "</style>\n",
       "<table border=\"1\" class=\"dataframe\">\n",
       "  <thead>\n",
       "    <tr style=\"text-align: right;\">\n",
       "      <th></th>\n",
       "      <th>person</th>\n",
       "      <th>event</th>\n",
       "      <th>time</th>\n",
       "      <th>offer_id</th>\n",
       "      <th>amount</th>\n",
       "      <th>reward</th>\n",
       "    </tr>\n",
       "  </thead>\n",
       "  <tbody>\n",
       "    <tr>\n",
       "      <th>70907</th>\n",
       "      <td>a5e5775db2d543128d8057c39ac59396</td>\n",
       "      <td>offer viewed</td>\n",
       "      <td>174</td>\n",
       "      <td>2298d6c36e964ae4a3e7e9706d1fb8c2</td>\n",
       "      <td>0.00</td>\n",
       "      <td>0</td>\n",
       "    </tr>\n",
       "    <tr>\n",
       "      <th>305471</th>\n",
       "      <td>1cb9e98e7a29426eb30becdf850727d0</td>\n",
       "      <td>transaction</td>\n",
       "      <td>714</td>\n",
       "      <td>NaN</td>\n",
       "      <td>23.34</td>\n",
       "      <td>0</td>\n",
       "    </tr>\n",
       "    <tr>\n",
       "      <th>68437</th>\n",
       "      <td>75d9de6a8e66420ba4215e53003e0f42</td>\n",
       "      <td>offer viewed</td>\n",
       "      <td>168</td>\n",
       "      <td>4d5c57ea9a6940dd891ad53e9dbe8da0</td>\n",
       "      <td>0.00</td>\n",
       "      <td>0</td>\n",
       "    </tr>\n",
       "    <tr>\n",
       "      <th>191785</th>\n",
       "      <td>5ea9dae714d2486c81898c5d2a988213</td>\n",
       "      <td>offer completed</td>\n",
       "      <td>468</td>\n",
       "      <td>9b98b8c7a33c4b65b9aebfe6a799e6d9</td>\n",
       "      <td>0.00</td>\n",
       "      <td>5</td>\n",
       "    </tr>\n",
       "    <tr>\n",
       "      <th>243781</th>\n",
       "      <td>5e7f3b6e761841f3af81213e4bdf4225</td>\n",
       "      <td>transaction</td>\n",
       "      <td>570</td>\n",
       "      <td>NaN</td>\n",
       "      <td>18.67</td>\n",
       "      <td>0</td>\n",
       "    </tr>\n",
       "    <tr>\n",
       "      <th>38797</th>\n",
       "      <td>8619c8b196d44521a0102307117162c1</td>\n",
       "      <td>transaction</td>\n",
       "      <td>84</td>\n",
       "      <td>NaN</td>\n",
       "      <td>1.15</td>\n",
       "      <td>0</td>\n",
       "    </tr>\n",
       "    <tr>\n",
       "      <th>275919</th>\n",
       "      <td>a27c674f9562416fa55c927bd678ebe1</td>\n",
       "      <td>transaction</td>\n",
       "      <td>606</td>\n",
       "      <td>NaN</td>\n",
       "      <td>2.01</td>\n",
       "      <td>0</td>\n",
       "    </tr>\n",
       "    <tr>\n",
       "      <th>246423</th>\n",
       "      <td>23b724c1f63849088971c3f94cc839af</td>\n",
       "      <td>offer received</td>\n",
       "      <td>576</td>\n",
       "      <td>2906b810c7d4411798c6938adc9daaa5</td>\n",
       "      <td>0.00</td>\n",
       "      <td>0</td>\n",
       "    </tr>\n",
       "    <tr>\n",
       "      <th>127574</th>\n",
       "      <td>54cd90763b0a49cda2b145a911890174</td>\n",
       "      <td>offer viewed</td>\n",
       "      <td>342</td>\n",
       "      <td>ae264e3637204a6fb9bb56bc8210ddfd</td>\n",
       "      <td>0.00</td>\n",
       "      <td>0</td>\n",
       "    </tr>\n",
       "    <tr>\n",
       "      <th>184912</th>\n",
       "      <td>e12aeaf2d47d42479ea1c4ac3d8286c6</td>\n",
       "      <td>transaction</td>\n",
       "      <td>450</td>\n",
       "      <td>NaN</td>\n",
       "      <td>5.97</td>\n",
       "      <td>0</td>\n",
       "    </tr>\n",
       "  </tbody>\n",
       "</table>\n",
       "</div>"
      ],
      "text/plain": [
       "                                  person            event  time  \\\n",
       "70907   a5e5775db2d543128d8057c39ac59396     offer viewed   174   \n",
       "305471  1cb9e98e7a29426eb30becdf850727d0      transaction   714   \n",
       "68437   75d9de6a8e66420ba4215e53003e0f42     offer viewed   168   \n",
       "191785  5ea9dae714d2486c81898c5d2a988213  offer completed   468   \n",
       "243781  5e7f3b6e761841f3af81213e4bdf4225      transaction   570   \n",
       "38797   8619c8b196d44521a0102307117162c1      transaction    84   \n",
       "275919  a27c674f9562416fa55c927bd678ebe1      transaction   606   \n",
       "246423  23b724c1f63849088971c3f94cc839af   offer received   576   \n",
       "127574  54cd90763b0a49cda2b145a911890174     offer viewed   342   \n",
       "184912  e12aeaf2d47d42479ea1c4ac3d8286c6      transaction   450   \n",
       "\n",
       "                                offer_id  amount  reward  \n",
       "70907   2298d6c36e964ae4a3e7e9706d1fb8c2    0.00       0  \n",
       "305471                               NaN   23.34       0  \n",
       "68437   4d5c57ea9a6940dd891ad53e9dbe8da0    0.00       0  \n",
       "191785  9b98b8c7a33c4b65b9aebfe6a799e6d9    0.00       5  \n",
       "243781                               NaN   18.67       0  \n",
       "38797                                NaN    1.15       0  \n",
       "275919                               NaN    2.01       0  \n",
       "246423  2906b810c7d4411798c6938adc9daaa5    0.00       0  \n",
       "127574  ae264e3637204a6fb9bb56bc8210ddfd    0.00       0  \n",
       "184912                               NaN    5.97       0  "
      ]
     },
     "execution_count": 31,
     "metadata": {},
     "output_type": "execute_result"
    }
   ],
   "source": [
    "transcript_data_temp.sample(10)"
   ]
  },
  {
   "cell_type": "markdown",
   "id": "e26aaeb1",
   "metadata": {},
   "source": [
    "**Define** "
   ]
  },
  {
   "cell_type": "markdown",
   "id": "respected-efficiency",
   "metadata": {},
   "source": [
    "***Profile data has gender and income column containing null values***"
   ]
  },
  {
   "cell_type": "code",
   "execution_count": 32,
   "id": "7ce724c0",
   "metadata": {
    "ExecuteTime": {
     "end_time": "2021-04-29T15:05:41.312017Z",
     "start_time": "2021-04-29T15:05:41.297017Z"
    }
   },
   "outputs": [
    {
     "name": "stdout",
     "output_type": "stream",
     "text": [
      "<class 'pandas.core.frame.DataFrame'>\n",
      "RangeIndex: 17000 entries, 0 to 16999\n",
      "Data columns (total 5 columns):\n",
      " #   Column            Non-Null Count  Dtype  \n",
      "---  ------            --------------  -----  \n",
      " 0   gender            14825 non-null  object \n",
      " 1   age               17000 non-null  int64  \n",
      " 2   id                17000 non-null  object \n",
      " 3   became_member_on  17000 non-null  int64  \n",
      " 4   income            14825 non-null  float64\n",
      "dtypes: float64(1), int64(2), object(2)\n",
      "memory usage: 664.2+ KB\n"
     ]
    }
   ],
   "source": [
    "profile_data_temp.info()"
   ]
  },
  {
   "cell_type": "markdown",
   "id": "ce8969df",
   "metadata": {},
   "source": [
    "#### *Checking gender column*"
   ]
  },
  {
   "cell_type": "code",
   "execution_count": 33,
   "id": "108f4e24",
   "metadata": {
    "ExecuteTime": {
     "end_time": "2021-04-29T15:05:41.328018Z",
     "start_time": "2021-04-29T15:05:41.314031Z"
    }
   },
   "outputs": [
    {
     "name": "stdout",
     "output_type": "stream",
     "text": [
      "[None 'F' 'M' 'O']\n",
      "2175\n"
     ]
    }
   ],
   "source": [
    "print(profile_data_temp.gender.unique())\n",
    "print(profile_data_temp.gender.isna().sum())"
   ]
  },
  {
   "cell_type": "markdown",
   "id": "fdc3678c",
   "metadata": {},
   "source": [
    "***Checking Income Column percentage of Null values***"
   ]
  },
  {
   "cell_type": "code",
   "execution_count": 34,
   "id": "ea089108",
   "metadata": {
    "ExecuteTime": {
     "end_time": "2021-04-29T15:05:41.344016Z",
     "start_time": "2021-04-29T15:05:41.329018Z"
    }
   },
   "outputs": [
    {
     "data": {
      "text/plain": [
       "0.12794117647058822"
      ]
     },
     "execution_count": 34,
     "metadata": {},
     "output_type": "execute_result"
    }
   ],
   "source": [
    "profile_data_temp.income.isna().sum() / profile_data_temp.shape[0]\n",
    "\n",
    "# 12.7 % data is missing that means we can fill them with mean or median"
   ]
  },
  {
   "cell_type": "code",
   "execution_count": 35,
   "id": "c2f6fbfc",
   "metadata": {
    "ExecuteTime": {
     "end_time": "2021-04-29T15:05:41.375018Z",
     "start_time": "2021-04-29T15:05:41.348017Z"
    }
   },
   "outputs": [
    {
     "data": {
      "text/html": [
       "<div>\n",
       "<style scoped>\n",
       "    .dataframe tbody tr th:only-of-type {\n",
       "        vertical-align: middle;\n",
       "    }\n",
       "\n",
       "    .dataframe tbody tr th {\n",
       "        vertical-align: top;\n",
       "    }\n",
       "\n",
       "    .dataframe thead th {\n",
       "        text-align: right;\n",
       "    }\n",
       "</style>\n",
       "<table border=\"1\" class=\"dataframe\">\n",
       "  <thead>\n",
       "    <tr style=\"text-align: right;\">\n",
       "      <th></th>\n",
       "      <th>age</th>\n",
       "      <th>became_member_on</th>\n",
       "      <th>income</th>\n",
       "    </tr>\n",
       "  </thead>\n",
       "  <tbody>\n",
       "    <tr>\n",
       "      <th>count</th>\n",
       "      <td>17000.000000</td>\n",
       "      <td>1.700000e+04</td>\n",
       "      <td>14825.000000</td>\n",
       "    </tr>\n",
       "    <tr>\n",
       "      <th>mean</th>\n",
       "      <td>62.531412</td>\n",
       "      <td>2.016703e+07</td>\n",
       "      <td>65404.991568</td>\n",
       "    </tr>\n",
       "    <tr>\n",
       "      <th>std</th>\n",
       "      <td>26.738580</td>\n",
       "      <td>1.167750e+04</td>\n",
       "      <td>21598.299410</td>\n",
       "    </tr>\n",
       "    <tr>\n",
       "      <th>min</th>\n",
       "      <td>18.000000</td>\n",
       "      <td>2.013073e+07</td>\n",
       "      <td>30000.000000</td>\n",
       "    </tr>\n",
       "    <tr>\n",
       "      <th>25%</th>\n",
       "      <td>45.000000</td>\n",
       "      <td>2.016053e+07</td>\n",
       "      <td>49000.000000</td>\n",
       "    </tr>\n",
       "    <tr>\n",
       "      <th>50%</th>\n",
       "      <td>58.000000</td>\n",
       "      <td>2.017080e+07</td>\n",
       "      <td>64000.000000</td>\n",
       "    </tr>\n",
       "    <tr>\n",
       "      <th>75%</th>\n",
       "      <td>73.000000</td>\n",
       "      <td>2.017123e+07</td>\n",
       "      <td>80000.000000</td>\n",
       "    </tr>\n",
       "    <tr>\n",
       "      <th>max</th>\n",
       "      <td>118.000000</td>\n",
       "      <td>2.018073e+07</td>\n",
       "      <td>120000.000000</td>\n",
       "    </tr>\n",
       "  </tbody>\n",
       "</table>\n",
       "</div>"
      ],
      "text/plain": [
       "                age  became_member_on         income\n",
       "count  17000.000000      1.700000e+04   14825.000000\n",
       "mean      62.531412      2.016703e+07   65404.991568\n",
       "std       26.738580      1.167750e+04   21598.299410\n",
       "min       18.000000      2.013073e+07   30000.000000\n",
       "25%       45.000000      2.016053e+07   49000.000000\n",
       "50%       58.000000      2.017080e+07   64000.000000\n",
       "75%       73.000000      2.017123e+07   80000.000000\n",
       "max      118.000000      2.018073e+07  120000.000000"
      ]
     },
     "execution_count": 35,
     "metadata": {},
     "output_type": "execute_result"
    }
   ],
   "source": [
    "profile_data_temp.describe()"
   ]
  },
  {
   "cell_type": "markdown",
   "id": "71fd65c0",
   "metadata": {},
   "source": [
    "#### *Checking if data is skewed*"
   ]
  },
  {
   "cell_type": "code",
   "execution_count": 36,
   "id": "f5ee5761",
   "metadata": {
    "ExecuteTime": {
     "end_time": "2021-04-29T15:05:41.578026Z",
     "start_time": "2021-04-29T15:05:41.377020Z"
    }
   },
   "outputs": [
    {
     "name": "stdout",
     "output_type": "stream",
     "text": [
      "0    73000.0\n",
      "dtype: float64 64000.0\n"
     ]
    },
    {
     "data": {
      "image/png": "[encoded data removed]",
      "text/plain": [
       "<Figure size 432x288 with 1 Axes>"
      ]
     },
     "metadata": {
      "needs_background": "light"
     },
     "output_type": "display_data"
    }
   ],
   "source": [
    "plt.hist(profile_data_temp.income)\n",
    "\n",
    "# data is skewed filling it median or mode # median\n",
    "\n",
    "print(profile_data_temp.income.mode(), profile_data_temp.income.median())"
   ]
  },
  {
   "cell_type": "markdown",
   "id": "e1588103",
   "metadata": {},
   "source": [
    "**Code**"
   ]
  },
  {
   "cell_type": "markdown",
   "id": "516fd056",
   "metadata": {},
   "source": [
    "#### *Filling Null Values with median* "
   ]
  },
  {
   "cell_type": "code",
   "execution_count": 37,
   "id": "curious-asian",
   "metadata": {
    "ExecuteTime": {
     "end_time": "2021-04-29T15:05:41.594025Z",
     "start_time": "2021-04-29T15:05:41.579017Z"
    }
   },
   "outputs": [],
   "source": [
    "profile_data_temp.income.fillna(value = profile_data_temp.income.median(), inplace = True)"
   ]
  },
  {
   "cell_type": "markdown",
   "id": "5a3ee9a7",
   "metadata": {},
   "source": [
    "#### *Removing Null values with gender is None*"
   ]
  },
  {
   "cell_type": "code",
   "execution_count": 38,
   "id": "bb3c54c3",
   "metadata": {
    "ExecuteTime": {
     "end_time": "2021-04-29T15:05:41.610017Z",
     "start_time": "2021-04-29T15:05:41.596018Z"
    }
   },
   "outputs": [],
   "source": [
    "profile_data_temp.dropna(inplace = True)"
   ]
  },
  {
   "cell_type": "markdown",
   "id": "9b94df3c",
   "metadata": {},
   "source": [
    "**Test**"
   ]
  },
  {
   "cell_type": "code",
   "execution_count": 39,
   "id": "3bbacd7b",
   "metadata": {
    "ExecuteTime": {
     "end_time": "2021-04-29T15:05:41.641021Z",
     "start_time": "2021-04-29T15:05:41.611017Z"
    }
   },
   "outputs": [
    {
     "name": "stdout",
     "output_type": "stream",
     "text": [
      "<class 'pandas.core.frame.DataFrame'>\n",
      "Int64Index: 14825 entries, 1 to 16999\n",
      "Data columns (total 5 columns):\n",
      " #   Column            Non-Null Count  Dtype  \n",
      "---  ------            --------------  -----  \n",
      " 0   gender            14825 non-null  object \n",
      " 1   age               14825 non-null  int64  \n",
      " 2   id                14825 non-null  object \n",
      " 3   became_member_on  14825 non-null  int64  \n",
      " 4   income            14825 non-null  float64\n",
      "dtypes: float64(1), int64(2), object(2)\n",
      "memory usage: 694.9+ KB\n"
     ]
    }
   ],
   "source": [
    "# Info of the data\n",
    "profile_data_temp.info()"
   ]
  },
  {
   "cell_type": "markdown",
   "id": "5a1b8494",
   "metadata": {},
   "source": [
    "#### Define"
   ]
  },
  {
   "cell_type": "markdown",
   "id": "f0518b40",
   "metadata": {},
   "source": [
    "***`became_member_on_column` not in datetime format***"
   ]
  },
  {
   "cell_type": "code",
   "execution_count": 40,
   "id": "e279c7ae",
   "metadata": {
    "ExecuteTime": {
     "end_time": "2021-04-29T15:05:41.656019Z",
     "start_time": "2021-04-29T15:05:41.643047Z"
    }
   },
   "outputs": [
    {
     "data": {
      "text/html": [
       "<div>\n",
       "<style scoped>\n",
       "    .dataframe tbody tr th:only-of-type {\n",
       "        vertical-align: middle;\n",
       "    }\n",
       "\n",
       "    .dataframe tbody tr th {\n",
       "        vertical-align: top;\n",
       "    }\n",
       "\n",
       "    .dataframe thead th {\n",
       "        text-align: right;\n",
       "    }\n",
       "</style>\n",
       "<table border=\"1\" class=\"dataframe\">\n",
       "  <thead>\n",
       "    <tr style=\"text-align: right;\">\n",
       "      <th></th>\n",
       "      <th>gender</th>\n",
       "      <th>age</th>\n",
       "      <th>id</th>\n",
       "      <th>became_member_on</th>\n",
       "      <th>income</th>\n",
       "    </tr>\n",
       "  </thead>\n",
       "  <tbody>\n",
       "    <tr>\n",
       "      <th>14030</th>\n",
       "      <td>F</td>\n",
       "      <td>54</td>\n",
       "      <td>e7ebd61ead2d4958a32dc214939a03f9</td>\n",
       "      <td>20161227</td>\n",
       "      <td>113000.0</td>\n",
       "    </tr>\n",
       "    <tr>\n",
       "      <th>14339</th>\n",
       "      <td>F</td>\n",
       "      <td>51</td>\n",
       "      <td>0c3e283397d74cd9a3f535c7dd1d188c</td>\n",
       "      <td>20170421</td>\n",
       "      <td>113000.0</td>\n",
       "    </tr>\n",
       "    <tr>\n",
       "      <th>10908</th>\n",
       "      <td>F</td>\n",
       "      <td>82</td>\n",
       "      <td>29c0a91cdcd441288a95dfd1b743c0fc</td>\n",
       "      <td>20170323</td>\n",
       "      <td>87000.0</td>\n",
       "    </tr>\n",
       "    <tr>\n",
       "      <th>13449</th>\n",
       "      <td>M</td>\n",
       "      <td>69</td>\n",
       "      <td>0a47df892c774c7aae037b231baae5db</td>\n",
       "      <td>20160522</td>\n",
       "      <td>88000.0</td>\n",
       "    </tr>\n",
       "    <tr>\n",
       "      <th>7439</th>\n",
       "      <td>M</td>\n",
       "      <td>77</td>\n",
       "      <td>4de618ca398b4a89aefef5ffaed7443f</td>\n",
       "      <td>20151014</td>\n",
       "      <td>82000.0</td>\n",
       "    </tr>\n",
       "    <tr>\n",
       "      <th>15509</th>\n",
       "      <td>M</td>\n",
       "      <td>19</td>\n",
       "      <td>60ce7058fd174a128b48371bd1dbd61b</td>\n",
       "      <td>20140224</td>\n",
       "      <td>73000.0</td>\n",
       "    </tr>\n",
       "    <tr>\n",
       "      <th>2168</th>\n",
       "      <td>M</td>\n",
       "      <td>76</td>\n",
       "      <td>9431b531c73f402a810754e48c8eac0e</td>\n",
       "      <td>20180309</td>\n",
       "      <td>33000.0</td>\n",
       "    </tr>\n",
       "    <tr>\n",
       "      <th>2978</th>\n",
       "      <td>F</td>\n",
       "      <td>27</td>\n",
       "      <td>5b38aee166ce4085b324b01e01b0a808</td>\n",
       "      <td>20170811</td>\n",
       "      <td>71000.0</td>\n",
       "    </tr>\n",
       "    <tr>\n",
       "      <th>13061</th>\n",
       "      <td>M</td>\n",
       "      <td>54</td>\n",
       "      <td>1892a57537ef4d90b83e9c1c0fdc9341</td>\n",
       "      <td>20180511</td>\n",
       "      <td>60000.0</td>\n",
       "    </tr>\n",
       "    <tr>\n",
       "      <th>16526</th>\n",
       "      <td>M</td>\n",
       "      <td>81</td>\n",
       "      <td>129a650c4d0c4346b5155c0fe2e1fb23</td>\n",
       "      <td>20180309</td>\n",
       "      <td>81000.0</td>\n",
       "    </tr>\n",
       "  </tbody>\n",
       "</table>\n",
       "</div>"
      ],
      "text/plain": [
       "      gender  age                                id  became_member_on  \\\n",
       "14030      F   54  e7ebd61ead2d4958a32dc214939a03f9          20161227   \n",
       "14339      F   51  0c3e283397d74cd9a3f535c7dd1d188c          20170421   \n",
       "10908      F   82  29c0a91cdcd441288a95dfd1b743c0fc          20170323   \n",
       "13449      M   69  0a47df892c774c7aae037b231baae5db          20160522   \n",
       "7439       M   77  4de618ca398b4a89aefef5ffaed7443f          20151014   \n",
       "15509      M   19  60ce7058fd174a128b48371bd1dbd61b          20140224   \n",
       "2168       M   76  9431b531c73f402a810754e48c8eac0e          20180309   \n",
       "2978       F   27  5b38aee166ce4085b324b01e01b0a808          20170811   \n",
       "13061      M   54  1892a57537ef4d90b83e9c1c0fdc9341          20180511   \n",
       "16526      M   81  129a650c4d0c4346b5155c0fe2e1fb23          20180309   \n",
       "\n",
       "         income  \n",
       "14030  113000.0  \n",
       "14339  113000.0  \n",
       "10908   87000.0  \n",
       "13449   88000.0  \n",
       "7439    82000.0  \n",
       "15509   73000.0  \n",
       "2168    33000.0  \n",
       "2978    71000.0  \n",
       "13061   60000.0  \n",
       "16526   81000.0  "
      ]
     },
     "execution_count": 40,
     "metadata": {},
     "output_type": "execute_result"
    }
   ],
   "source": [
    "profile_data_temp.sample(10)"
   ]
  },
  {
   "cell_type": "markdown",
   "id": "935d2a0a",
   "metadata": {},
   "source": [
    "#### Code"
   ]
  },
  {
   "cell_type": "code",
   "execution_count": 41,
   "id": "e4b2013f",
   "metadata": {
    "ExecuteTime": {
     "end_time": "2021-04-29T15:05:41.688016Z",
     "start_time": "2021-04-29T15:05:41.659025Z"
    }
   },
   "outputs": [],
   "source": [
    "profile_data_temp['became_member_on'] = pd.to_datetime(profile_data_temp['became_member_on'], format='%Y%m%d')"
   ]
  },
  {
   "cell_type": "markdown",
   "id": "57e3d6c0",
   "metadata": {},
   "source": [
    "#### Test"
   ]
  },
  {
   "cell_type": "code",
   "execution_count": 42,
   "id": "5224b72d",
   "metadata": {
    "ExecuteTime": {
     "end_time": "2021-04-29T15:05:41.704018Z",
     "start_time": "2021-04-29T15:05:41.689016Z"
    }
   },
   "outputs": [
    {
     "data": {
      "text/html": [
       "<div>\n",
       "<style scoped>\n",
       "    .dataframe tbody tr th:only-of-type {\n",
       "        vertical-align: middle;\n",
       "    }\n",
       "\n",
       "    .dataframe tbody tr th {\n",
       "        vertical-align: top;\n",
       "    }\n",
       "\n",
       "    .dataframe thead th {\n",
       "        text-align: right;\n",
       "    }\n",
       "</style>\n",
       "<table border=\"1\" class=\"dataframe\">\n",
       "  <thead>\n",
       "    <tr style=\"text-align: right;\">\n",
       "      <th></th>\n",
       "      <th>gender</th>\n",
       "      <th>age</th>\n",
       "      <th>id</th>\n",
       "      <th>became_member_on</th>\n",
       "      <th>income</th>\n",
       "    </tr>\n",
       "  </thead>\n",
       "  <tbody>\n",
       "    <tr>\n",
       "      <th>9746</th>\n",
       "      <td>F</td>\n",
       "      <td>53</td>\n",
       "      <td>759f8e1cbc6c4bd1aba03e860622ab37</td>\n",
       "      <td>2017-09-19</td>\n",
       "      <td>77000.0</td>\n",
       "    </tr>\n",
       "    <tr>\n",
       "      <th>3068</th>\n",
       "      <td>F</td>\n",
       "      <td>40</td>\n",
       "      <td>2d4ece84e65741a68e02656bddf4d336</td>\n",
       "      <td>2018-03-18</td>\n",
       "      <td>42000.0</td>\n",
       "    </tr>\n",
       "    <tr>\n",
       "      <th>8974</th>\n",
       "      <td>M</td>\n",
       "      <td>44</td>\n",
       "      <td>4c9c818067914caba08ca3cebadab165</td>\n",
       "      <td>2018-02-26</td>\n",
       "      <td>51000.0</td>\n",
       "    </tr>\n",
       "    <tr>\n",
       "      <th>9744</th>\n",
       "      <td>M</td>\n",
       "      <td>76</td>\n",
       "      <td>a90cad5df2e44266abbea4736c061ec7</td>\n",
       "      <td>2017-08-23</td>\n",
       "      <td>86000.0</td>\n",
       "    </tr>\n",
       "    <tr>\n",
       "      <th>6661</th>\n",
       "      <td>M</td>\n",
       "      <td>58</td>\n",
       "      <td>b669b308d4fa4bff837d68d86a78e6b1</td>\n",
       "      <td>2017-07-07</td>\n",
       "      <td>76000.0</td>\n",
       "    </tr>\n",
       "    <tr>\n",
       "      <th>16558</th>\n",
       "      <td>M</td>\n",
       "      <td>37</td>\n",
       "      <td>1c71315203b746b786c43ce12d7e97fe</td>\n",
       "      <td>2017-12-26</td>\n",
       "      <td>86000.0</td>\n",
       "    </tr>\n",
       "    <tr>\n",
       "      <th>16146</th>\n",
       "      <td>M</td>\n",
       "      <td>48</td>\n",
       "      <td>27245e1e8db44beaaaf08b20083cc824</td>\n",
       "      <td>2017-11-07</td>\n",
       "      <td>47000.0</td>\n",
       "    </tr>\n",
       "    <tr>\n",
       "      <th>16395</th>\n",
       "      <td>M</td>\n",
       "      <td>24</td>\n",
       "      <td>499adb0c765b4c248016fe4d4929cbd6</td>\n",
       "      <td>2017-08-15</td>\n",
       "      <td>33000.0</td>\n",
       "    </tr>\n",
       "    <tr>\n",
       "      <th>5650</th>\n",
       "      <td>M</td>\n",
       "      <td>76</td>\n",
       "      <td>dfdd34f61d0645bca2d61e97073f134c</td>\n",
       "      <td>2017-10-20</td>\n",
       "      <td>59000.0</td>\n",
       "    </tr>\n",
       "    <tr>\n",
       "      <th>13424</th>\n",
       "      <td>M</td>\n",
       "      <td>42</td>\n",
       "      <td>8f69479443a14508b20f74a442acc707</td>\n",
       "      <td>2016-07-22</td>\n",
       "      <td>75000.0</td>\n",
       "    </tr>\n",
       "  </tbody>\n",
       "</table>\n",
       "</div>"
      ],
      "text/plain": [
       "      gender  age                                id became_member_on   income\n",
       "9746       F   53  759f8e1cbc6c4bd1aba03e860622ab37       2017-09-19  77000.0\n",
       "3068       F   40  2d4ece84e65741a68e02656bddf4d336       2018-03-18  42000.0\n",
       "8974       M   44  4c9c818067914caba08ca3cebadab165       2018-02-26  51000.0\n",
       "9744       M   76  a90cad5df2e44266abbea4736c061ec7       2017-08-23  86000.0\n",
       "6661       M   58  b669b308d4fa4bff837d68d86a78e6b1       2017-07-07  76000.0\n",
       "16558      M   37  1c71315203b746b786c43ce12d7e97fe       2017-12-26  86000.0\n",
       "16146      M   48  27245e1e8db44beaaaf08b20083cc824       2017-11-07  47000.0\n",
       "16395      M   24  499adb0c765b4c248016fe4d4929cbd6       2017-08-15  33000.0\n",
       "5650       M   76  dfdd34f61d0645bca2d61e97073f134c       2017-10-20  59000.0\n",
       "13424      M   42  8f69479443a14508b20f74a442acc707       2016-07-22  75000.0"
      ]
     },
     "execution_count": 42,
     "metadata": {},
     "output_type": "execute_result"
    }
   ],
   "source": [
    "profile_data_temp.sample(10)"
   ]
  },
  {
   "cell_type": "code",
   "execution_count": 43,
   "id": "2351516e",
   "metadata": {
    "ExecuteTime": {
     "end_time": "2021-04-29T15:05:41.736017Z",
     "start_time": "2021-04-29T15:05:41.709017Z"
    }
   },
   "outputs": [
    {
     "name": "stdout",
     "output_type": "stream",
     "text": [
      "<class 'pandas.core.frame.DataFrame'>\n",
      "Int64Index: 14825 entries, 1 to 16999\n",
      "Data columns (total 5 columns):\n",
      " #   Column            Non-Null Count  Dtype         \n",
      "---  ------            --------------  -----         \n",
      " 0   gender            14825 non-null  object        \n",
      " 1   age               14825 non-null  int64         \n",
      " 2   id                14825 non-null  object        \n",
      " 3   became_member_on  14825 non-null  datetime64[ns]\n",
      " 4   income            14825 non-null  float64       \n",
      "dtypes: datetime64[ns](1), float64(1), int64(1), object(2)\n",
      "memory usage: 694.9+ KB\n"
     ]
    }
   ],
   "source": [
    "profile_data_temp.info()"
   ]
  },
  {
   "cell_type": "markdown",
   "id": "97ea1585",
   "metadata": {},
   "source": [
    "#### Define"
   ]
  },
  {
   "cell_type": "markdown",
   "id": "6e7b07e2",
   "metadata": {},
   "source": [
    "#### *Renaming columns for merging*"
   ]
  },
  {
   "cell_type": "code",
   "execution_count": 44,
   "id": "fec26346",
   "metadata": {
    "ExecuteTime": {
     "end_time": "2021-04-29T15:05:41.752051Z",
     "start_time": "2021-04-29T15:05:41.738018Z"
    }
   },
   "outputs": [
    {
     "data": {
      "text/plain": [
       "Index(['gender', 'age', 'id', 'became_member_on', 'income'], dtype='object')"
      ]
     },
     "execution_count": 44,
     "metadata": {},
     "output_type": "execute_result"
    }
   ],
   "source": [
    "profile_data_temp.columns"
   ]
  },
  {
   "cell_type": "code",
   "execution_count": 45,
   "id": "20ab3738",
   "metadata": {
    "ExecuteTime": {
     "end_time": "2021-04-29T15:05:41.768022Z",
     "start_time": "2021-04-29T15:05:41.753019Z"
    }
   },
   "outputs": [
    {
     "data": {
      "text/plain": [
       "Index(['person', 'event', 'time', 'offer_id', 'amount', 'reward'], dtype='object')"
      ]
     },
     "execution_count": 45,
     "metadata": {},
     "output_type": "execute_result"
    }
   ],
   "source": [
    "transcript_data_temp.columns"
   ]
  },
  {
   "cell_type": "code",
   "execution_count": 46,
   "id": "df093aae",
   "metadata": {
    "ExecuteTime": {
     "end_time": "2021-04-29T15:05:41.784018Z",
     "start_time": "2021-04-29T15:05:41.770016Z"
    }
   },
   "outputs": [
    {
     "data": {
      "text/plain": [
       "Index(['reward', 'difficulty', 'duration', 'offer_type', 'id', 'email',\n",
       "       'mobile', 'social', 'web'],\n",
       "      dtype='object')"
      ]
     },
     "execution_count": 46,
     "metadata": {},
     "output_type": "execute_result"
    }
   ],
   "source": [
    "portfolio_data_temp.columns"
   ]
  },
  {
   "cell_type": "markdown",
   "id": "bd6c3724",
   "metadata": {},
   "source": [
    "#### Code"
   ]
  },
  {
   "cell_type": "code",
   "execution_count": 47,
   "id": "1c026d6f",
   "metadata": {
    "ExecuteTime": {
     "end_time": "2021-04-29T15:05:41.800019Z",
     "start_time": "2021-04-29T15:05:41.786021Z"
    }
   },
   "outputs": [],
   "source": [
    "profile_data_temp.rename(columns={'id':'customer_id'}, inplace = True)"
   ]
  },
  {
   "cell_type": "code",
   "execution_count": 48,
   "id": "4ac7bdbb",
   "metadata": {
    "ExecuteTime": {
     "end_time": "2021-04-29T15:05:41.816018Z",
     "start_time": "2021-04-29T15:05:41.802018Z"
    }
   },
   "outputs": [],
   "source": [
    "transcript_data_temp.rename(columns={'person':'customer_id'}, inplace = True)"
   ]
  },
  {
   "cell_type": "code",
   "execution_count": 49,
   "id": "6b283a2e",
   "metadata": {
    "ExecuteTime": {
     "end_time": "2021-04-29T15:05:41.832016Z",
     "start_time": "2021-04-29T15:05:41.817018Z"
    }
   },
   "outputs": [],
   "source": [
    "portfolio_data_temp.rename(columns={'id':'offer_id'}, inplace = True)"
   ]
  },
  {
   "cell_type": "markdown",
   "id": "48ec8cd4",
   "metadata": {},
   "source": [
    "#### Test"
   ]
  },
  {
   "cell_type": "code",
   "execution_count": 50,
   "id": "be150872",
   "metadata": {
    "ExecuteTime": {
     "end_time": "2021-04-29T15:05:41.848018Z",
     "start_time": "2021-04-29T15:05:41.833017Z"
    }
   },
   "outputs": [
    {
     "data": {
      "text/plain": [
       "Index(['gender', 'age', 'customer_id', 'became_member_on', 'income'], dtype='object')"
      ]
     },
     "execution_count": 50,
     "metadata": {},
     "output_type": "execute_result"
    }
   ],
   "source": [
    "profile_data_temp.columns"
   ]
  },
  {
   "cell_type": "code",
   "execution_count": 51,
   "id": "4e715de1",
   "metadata": {
    "ExecuteTime": {
     "end_time": "2021-04-29T15:05:41.864016Z",
     "start_time": "2021-04-29T15:05:41.849018Z"
    }
   },
   "outputs": [
    {
     "data": {
      "text/plain": [
       "Index(['customer_id', 'event', 'time', 'offer_id', 'amount', 'reward'], dtype='object')"
      ]
     },
     "execution_count": 51,
     "metadata": {},
     "output_type": "execute_result"
    }
   ],
   "source": [
    "transcript_data_temp.columns"
   ]
  },
  {
   "cell_type": "code",
   "execution_count": 52,
   "id": "81f4d143",
   "metadata": {
    "ExecuteTime": {
     "end_time": "2021-04-29T15:05:41.880023Z",
     "start_time": "2021-04-29T15:05:41.865018Z"
    }
   },
   "outputs": [
    {
     "data": {
      "text/plain": [
       "Index(['reward', 'difficulty', 'duration', 'offer_type', 'offer_id', 'email',\n",
       "       'mobile', 'social', 'web'],\n",
       "      dtype='object')"
      ]
     },
     "execution_count": 52,
     "metadata": {},
     "output_type": "execute_result"
    }
   ],
   "source": [
    "portfolio_data_temp.columns"
   ]
  },
  {
   "cell_type": "markdown",
   "id": "82af0aff",
   "metadata": {},
   "source": [
    "### Merging Data to one."
   ]
  },
  {
   "cell_type": "markdown",
   "id": "e9c34be8",
   "metadata": {},
   "source": [
    "## Checking if data can be merged"
   ]
  },
  {
   "cell_type": "code",
   "execution_count": 53,
   "id": "f47e889b",
   "metadata": {
    "ExecuteTime": {
     "end_time": "2021-04-29T15:05:41.959018Z",
     "start_time": "2021-04-29T15:05:41.882018Z"
    }
   },
   "outputs": [
    {
     "name": "stdout",
     "output_type": "stream",
     "text": [
      "10\n",
      "10\n"
     ]
    }
   ],
   "source": [
    "set(transcript_data_temp['offer_id'].unique()).intersection(set(portfolio_data_temp['offer_id'].unique()))\n",
    "print(len(set(transcript_data_temp['offer_id'].unique()).intersection(set(portfolio_data_temp['offer_id'].unique()))))\n",
    "print(portfolio_data_temp.shape[0])"
   ]
  },
  {
   "cell_type": "code",
   "execution_count": 54,
   "id": "ab98d0eb",
   "metadata": {
    "ExecuteTime": {
     "end_time": "2021-04-29T15:05:42.038018Z",
     "start_time": "2021-04-29T15:05:41.960017Z"
    }
   },
   "outputs": [
    {
     "data": {
      "text/plain": [
       "17000"
      ]
     },
     "execution_count": 54,
     "metadata": {},
     "output_type": "execute_result"
    }
   ],
   "source": [
    "len(transcript_data_temp.customer_id.unique())"
   ]
  },
  {
   "cell_type": "code",
   "execution_count": 55,
   "id": "d910bfe7",
   "metadata": {
    "ExecuteTime": {
     "end_time": "2021-04-29T15:05:42.182017Z",
     "start_time": "2021-04-29T15:05:42.039017Z"
    }
   },
   "outputs": [
    {
     "name": "stdout",
     "output_type": "stream",
     "text": [
      "14825\n"
     ]
    },
    {
     "data": {
      "text/plain": [
       "14825"
      ]
     },
     "execution_count": 55,
     "metadata": {},
     "output_type": "execute_result"
    }
   ],
   "source": [
    "set(transcript_data_temp.customer_id.unique()).intersection(set(profile_data_temp.customer_id.unique()))\n",
    "print(len(set(transcript_data_temp.customer_id.unique()).intersection(set(profile_data_temp.customer_id.unique()))))\n",
    "len(profile_data_temp.customer_id.unique())"
   ]
  },
  {
   "cell_type": "markdown",
   "id": "80c6e160",
   "metadata": {},
   "source": [
    "**Merging datasets with following columns**\n",
    "- ***Customer_id*** : profile_data_temp and transcript_data_temp\n",
    "- ***offer_id*** : portfolio_data_temp and transcript_data_temp"
   ]
  },
  {
   "cell_type": "code",
   "execution_count": 56,
   "id": "52bf8639",
   "metadata": {
    "ExecuteTime": {
     "end_time": "2021-04-29T15:05:42.197017Z",
     "start_time": "2021-04-29T15:05:42.183017Z"
    },
    "scrolled": true
   },
   "outputs": [
    {
     "name": "stdout",
     "output_type": "stream",
     "text": [
      "<class 'pandas.core.frame.DataFrame'>\n",
      "RangeIndex: 10 entries, 0 to 9\n",
      "Data columns (total 9 columns):\n",
      " #   Column      Non-Null Count  Dtype \n",
      "---  ------      --------------  ----- \n",
      " 0   reward      10 non-null     int64 \n",
      " 1   difficulty  10 non-null     int64 \n",
      " 2   duration    10 non-null     int64 \n",
      " 3   offer_type  10 non-null     object\n",
      " 4   offer_id    10 non-null     object\n",
      " 5   email       10 non-null     int64 \n",
      " 6   mobile      10 non-null     int64 \n",
      " 7   social      10 non-null     int64 \n",
      " 8   web         10 non-null     int64 \n",
      "dtypes: int64(7), object(2)\n",
      "memory usage: 848.0+ bytes\n"
     ]
    }
   ],
   "source": [
    "portfolio_data_temp.info()"
   ]
  },
  {
   "cell_type": "code",
   "execution_count": 57,
   "id": "f908a33e",
   "metadata": {
    "ExecuteTime": {
     "end_time": "2021-04-29T15:05:42.276016Z",
     "start_time": "2021-04-29T15:05:42.200024Z"
    }
   },
   "outputs": [
    {
     "name": "stdout",
     "output_type": "stream",
     "text": [
      "<class 'pandas.core.frame.DataFrame'>\n",
      "RangeIndex: 306534 entries, 0 to 306533\n",
      "Data columns (total 6 columns):\n",
      " #   Column       Non-Null Count   Dtype  \n",
      "---  ------       --------------   -----  \n",
      " 0   customer_id  306534 non-null  object \n",
      " 1   event        306534 non-null  object \n",
      " 2   time         306534 non-null  int64  \n",
      " 3   offer_id     167581 non-null  object \n",
      " 4   amount       306534 non-null  float64\n",
      " 5   reward       306534 non-null  int64  \n",
      "dtypes: float64(1), int64(2), object(3)\n",
      "memory usage: 14.0+ MB\n"
     ]
    }
   ],
   "source": [
    "transcript_data_temp.info()"
   ]
  },
  {
   "cell_type": "code",
   "execution_count": 58,
   "id": "af03352c",
   "metadata": {
    "ExecuteTime": {
     "end_time": "2021-04-29T15:05:42.292017Z",
     "start_time": "2021-04-29T15:05:42.277017Z"
    }
   },
   "outputs": [
    {
     "name": "stdout",
     "output_type": "stream",
     "text": [
      "<class 'pandas.core.frame.DataFrame'>\n",
      "Int64Index: 14825 entries, 1 to 16999\n",
      "Data columns (total 5 columns):\n",
      " #   Column            Non-Null Count  Dtype         \n",
      "---  ------            --------------  -----         \n",
      " 0   gender            14825 non-null  object        \n",
      " 1   age               14825 non-null  int64         \n",
      " 2   customer_id       14825 non-null  object        \n",
      " 3   became_member_on  14825 non-null  datetime64[ns]\n",
      " 4   income            14825 non-null  float64       \n",
      "dtypes: datetime64[ns](1), float64(1), int64(1), object(2)\n",
      "memory usage: 694.9+ KB\n"
     ]
    }
   ],
   "source": [
    "profile_data_temp.info()"
   ]
  },
  {
   "cell_type": "code",
   "execution_count": 59,
   "id": "70a15108",
   "metadata": {
    "ExecuteTime": {
     "end_time": "2021-04-29T15:05:42.324020Z",
     "start_time": "2021-04-29T15:05:42.294019Z"
    }
   },
   "outputs": [],
   "source": [
    "merged_data = transcript_data_temp.copy()"
   ]
  },
  {
   "cell_type": "code",
   "execution_count": 60,
   "id": "9487e1f8",
   "metadata": {
    "ExecuteTime": {
     "end_time": "2021-04-29T15:05:42.577203Z",
     "start_time": "2021-04-29T15:05:42.326017Z"
    }
   },
   "outputs": [],
   "source": [
    "merged_data = merged_data.merge(profile_data_temp, on = 'customer_id', how = 'inner')"
   ]
  },
  {
   "cell_type": "code",
   "execution_count": 61,
   "id": "284f0566",
   "metadata": {
    "ExecuteTime": {
     "end_time": "2021-04-29T15:05:42.748032Z",
     "start_time": "2021-04-29T15:05:42.578047Z"
    }
   },
   "outputs": [],
   "source": [
    "merged_data = merged_data.merge(portfolio_data_temp, on = 'offer_id', how = 'left')"
   ]
  },
  {
   "cell_type": "code",
   "execution_count": 62,
   "id": "17afef06",
   "metadata": {
    "ExecuteTime": {
     "end_time": "2021-04-29T15:05:42.906018Z",
     "start_time": "2021-04-29T15:05:42.749016Z"
    }
   },
   "outputs": [],
   "source": [
    "# Reward column is redundant so eliminating reward_y after merging\n",
    "merged_data.rename(columns = {'reward_x':'reward'}, inplace = True)\n",
    "merged_data.drop(['reward_y'], inplace = True, axis = 1)"
   ]
  },
  {
   "cell_type": "code",
   "execution_count": 63,
   "id": "20513169",
   "metadata": {
    "ExecuteTime": {
     "end_time": "2021-04-29T15:05:42.938020Z",
     "start_time": "2021-04-29T15:05:42.907017Z"
    }
   },
   "outputs": [
    {
     "data": {
      "text/html": [
       "<div>\n",
       "<style scoped>\n",
       "    .dataframe tbody tr th:only-of-type {\n",
       "        vertical-align: middle;\n",
       "    }\n",
       "\n",
       "    .dataframe tbody tr th {\n",
       "        vertical-align: top;\n",
       "    }\n",
       "\n",
       "    .dataframe thead th {\n",
       "        text-align: right;\n",
       "    }\n",
       "</style>\n",
       "<table border=\"1\" class=\"dataframe\">\n",
       "  <thead>\n",
       "    <tr style=\"text-align: right;\">\n",
       "      <th></th>\n",
       "      <th>customer_id</th>\n",
       "      <th>event</th>\n",
       "      <th>time</th>\n",
       "      <th>offer_id</th>\n",
       "      <th>amount</th>\n",
       "      <th>reward</th>\n",
       "      <th>gender</th>\n",
       "      <th>age</th>\n",
       "      <th>became_member_on</th>\n",
       "      <th>income</th>\n",
       "      <th>difficulty</th>\n",
       "      <th>duration</th>\n",
       "      <th>offer_type</th>\n",
       "      <th>email</th>\n",
       "      <th>mobile</th>\n",
       "      <th>social</th>\n",
       "      <th>web</th>\n",
       "    </tr>\n",
       "  </thead>\n",
       "  <tbody>\n",
       "    <tr>\n",
       "      <th>104684</th>\n",
       "      <td>135b0e8d3c7c4440be4ebca74ea9fb84</td>\n",
       "      <td>transaction</td>\n",
       "      <td>606</td>\n",
       "      <td>NaN</td>\n",
       "      <td>2.78</td>\n",
       "      <td>0</td>\n",
       "      <td>M</td>\n",
       "      <td>54</td>\n",
       "      <td>2013-08-20</td>\n",
       "      <td>40000.0</td>\n",
       "      <td>NaN</td>\n",
       "      <td>NaN</td>\n",
       "      <td>NaN</td>\n",
       "      <td>NaN</td>\n",
       "      <td>NaN</td>\n",
       "      <td>NaN</td>\n",
       "      <td>NaN</td>\n",
       "    </tr>\n",
       "    <tr>\n",
       "      <th>252603</th>\n",
       "      <td>e590c974d8274f89a02fecaa11b6670b</td>\n",
       "      <td>offer viewed</td>\n",
       "      <td>408</td>\n",
       "      <td>f19421c1d4aa40978ebb69ca19b0e20d</td>\n",
       "      <td>0.00</td>\n",
       "      <td>0</td>\n",
       "      <td>M</td>\n",
       "      <td>44</td>\n",
       "      <td>2018-07-22</td>\n",
       "      <td>41000.0</td>\n",
       "      <td>5.0</td>\n",
       "      <td>5.0</td>\n",
       "      <td>bogo</td>\n",
       "      <td>1.0</td>\n",
       "      <td>1.0</td>\n",
       "      <td>1.0</td>\n",
       "      <td>1.0</td>\n",
       "    </tr>\n",
       "    <tr>\n",
       "      <th>251514</th>\n",
       "      <td>a47eed99f69740269b61c3b83d433657</td>\n",
       "      <td>offer viewed</td>\n",
       "      <td>708</td>\n",
       "      <td>3f207df678b143eea3cee63160fa8bed</td>\n",
       "      <td>0.00</td>\n",
       "      <td>0</td>\n",
       "      <td>F</td>\n",
       "      <td>62</td>\n",
       "      <td>2017-07-10</td>\n",
       "      <td>79000.0</td>\n",
       "      <td>0.0</td>\n",
       "      <td>4.0</td>\n",
       "      <td>informational</td>\n",
       "      <td>1.0</td>\n",
       "      <td>1.0</td>\n",
       "      <td>0.0</td>\n",
       "      <td>1.0</td>\n",
       "    </tr>\n",
       "    <tr>\n",
       "      <th>45333</th>\n",
       "      <td>ca54001246b74452b232996eea678854</td>\n",
       "      <td>transaction</td>\n",
       "      <td>6</td>\n",
       "      <td>NaN</td>\n",
       "      <td>14.45</td>\n",
       "      <td>0</td>\n",
       "      <td>F</td>\n",
       "      <td>69</td>\n",
       "      <td>2016-04-07</td>\n",
       "      <td>53000.0</td>\n",
       "      <td>NaN</td>\n",
       "      <td>NaN</td>\n",
       "      <td>NaN</td>\n",
       "      <td>NaN</td>\n",
       "      <td>NaN</td>\n",
       "      <td>NaN</td>\n",
       "      <td>NaN</td>\n",
       "    </tr>\n",
       "    <tr>\n",
       "      <th>245745</th>\n",
       "      <td>f689c31ee88446cd852b7e744748c16f</td>\n",
       "      <td>offer completed</td>\n",
       "      <td>492</td>\n",
       "      <td>fafdcd668e3743c1bb461111dcafc2a4</td>\n",
       "      <td>0.00</td>\n",
       "      <td>2</td>\n",
       "      <td>M</td>\n",
       "      <td>47</td>\n",
       "      <td>2016-11-03</td>\n",
       "      <td>66000.0</td>\n",
       "      <td>10.0</td>\n",
       "      <td>10.0</td>\n",
       "      <td>discount</td>\n",
       "      <td>1.0</td>\n",
       "      <td>1.0</td>\n",
       "      <td>1.0</td>\n",
       "      <td>1.0</td>\n",
       "    </tr>\n",
       "    <tr>\n",
       "      <th>112976</th>\n",
       "      <td>6873c87e6d94458ab9f0217dec258344</td>\n",
       "      <td>transaction</td>\n",
       "      <td>42</td>\n",
       "      <td>NaN</td>\n",
       "      <td>3.12</td>\n",
       "      <td>0</td>\n",
       "      <td>M</td>\n",
       "      <td>19</td>\n",
       "      <td>2018-07-07</td>\n",
       "      <td>30000.0</td>\n",
       "      <td>NaN</td>\n",
       "      <td>NaN</td>\n",
       "      <td>NaN</td>\n",
       "      <td>NaN</td>\n",
       "      <td>NaN</td>\n",
       "      <td>NaN</td>\n",
       "      <td>NaN</td>\n",
       "    </tr>\n",
       "    <tr>\n",
       "      <th>199186</th>\n",
       "      <td>6fc5509d00634baf8afe57c185a81ab2</td>\n",
       "      <td>offer viewed</td>\n",
       "      <td>336</td>\n",
       "      <td>fafdcd668e3743c1bb461111dcafc2a4</td>\n",
       "      <td>0.00</td>\n",
       "      <td>0</td>\n",
       "      <td>F</td>\n",
       "      <td>59</td>\n",
       "      <td>2015-12-25</td>\n",
       "      <td>50000.0</td>\n",
       "      <td>10.0</td>\n",
       "      <td>10.0</td>\n",
       "      <td>discount</td>\n",
       "      <td>1.0</td>\n",
       "      <td>1.0</td>\n",
       "      <td>1.0</td>\n",
       "      <td>1.0</td>\n",
       "    </tr>\n",
       "    <tr>\n",
       "      <th>166874</th>\n",
       "      <td>8056b33d6a8147f198c4d48b1791a38e</td>\n",
       "      <td>transaction</td>\n",
       "      <td>186</td>\n",
       "      <td>NaN</td>\n",
       "      <td>17.95</td>\n",
       "      <td>0</td>\n",
       "      <td>F</td>\n",
       "      <td>53</td>\n",
       "      <td>2017-05-26</td>\n",
       "      <td>74000.0</td>\n",
       "      <td>NaN</td>\n",
       "      <td>NaN</td>\n",
       "      <td>NaN</td>\n",
       "      <td>NaN</td>\n",
       "      <td>NaN</td>\n",
       "      <td>NaN</td>\n",
       "      <td>NaN</td>\n",
       "    </tr>\n",
       "    <tr>\n",
       "      <th>252656</th>\n",
       "      <td>06ed8e3c641e4e8e803f336e5b20ddd7</td>\n",
       "      <td>offer received</td>\n",
       "      <td>336</td>\n",
       "      <td>ae264e3637204a6fb9bb56bc8210ddfd</td>\n",
       "      <td>0.00</td>\n",
       "      <td>0</td>\n",
       "      <td>F</td>\n",
       "      <td>53</td>\n",
       "      <td>2017-10-23</td>\n",
       "      <td>114000.0</td>\n",
       "      <td>10.0</td>\n",
       "      <td>7.0</td>\n",
       "      <td>bogo</td>\n",
       "      <td>1.0</td>\n",
       "      <td>1.0</td>\n",
       "      <td>1.0</td>\n",
       "      <td>0.0</td>\n",
       "    </tr>\n",
       "    <tr>\n",
       "      <th>198806</th>\n",
       "      <td>8cb64bc8e6fe48c19e3878ad04d494f8</td>\n",
       "      <td>transaction</td>\n",
       "      <td>606</td>\n",
       "      <td>NaN</td>\n",
       "      <td>20.18</td>\n",
       "      <td>0</td>\n",
       "      <td>F</td>\n",
       "      <td>46</td>\n",
       "      <td>2018-01-14</td>\n",
       "      <td>56000.0</td>\n",
       "      <td>NaN</td>\n",
       "      <td>NaN</td>\n",
       "      <td>NaN</td>\n",
       "      <td>NaN</td>\n",
       "      <td>NaN</td>\n",
       "      <td>NaN</td>\n",
       "      <td>NaN</td>\n",
       "    </tr>\n",
       "  </tbody>\n",
       "</table>\n",
       "</div>"
      ],
      "text/plain": [
       "                             customer_id            event  time  \\\n",
       "104684  135b0e8d3c7c4440be4ebca74ea9fb84      transaction   606   \n",
       "252603  e590c974d8274f89a02fecaa11b6670b     offer viewed   408   \n",
       "251514  a47eed99f69740269b61c3b83d433657     offer viewed   708   \n",
       "45333   ca54001246b74452b232996eea678854      transaction     6   \n",
       "245745  f689c31ee88446cd852b7e744748c16f  offer completed   492   \n",
       "112976  6873c87e6d94458ab9f0217dec258344      transaction    42   \n",
       "199186  6fc5509d00634baf8afe57c185a81ab2     offer viewed   336   \n",
       "166874  8056b33d6a8147f198c4d48b1791a38e      transaction   186   \n",
       "252656  06ed8e3c641e4e8e803f336e5b20ddd7   offer received   336   \n",
       "198806  8cb64bc8e6fe48c19e3878ad04d494f8      transaction   606   \n",
       "\n",
       "                                offer_id  amount  reward gender  age  \\\n",
       "104684                               NaN    2.78       0      M   54   \n",
       "252603  f19421c1d4aa40978ebb69ca19b0e20d    0.00       0      M   44   \n",
       "251514  3f207df678b143eea3cee63160fa8bed    0.00       0      F   62   \n",
       "45333                                NaN   14.45       0      F   69   \n",
       "245745  fafdcd668e3743c1bb461111dcafc2a4    0.00       2      M   47   \n",
       "112976                               NaN    3.12       0      M   19   \n",
       "199186  fafdcd668e3743c1bb461111dcafc2a4    0.00       0      F   59   \n",
       "166874                               NaN   17.95       0      F   53   \n",
       "252656  ae264e3637204a6fb9bb56bc8210ddfd    0.00       0      F   53   \n",
       "198806                               NaN   20.18       0      F   46   \n",
       "\n",
       "       became_member_on    income  difficulty  duration     offer_type  email  \\\n",
       "104684       2013-08-20   40000.0         NaN       NaN            NaN    NaN   \n",
       "252603       2018-07-22   41000.0         5.0       5.0           bogo    1.0   \n",
       "251514       2017-07-10   79000.0         0.0       4.0  informational    1.0   \n",
       "45333        2016-04-07   53000.0         NaN       NaN            NaN    NaN   \n",
       "245745       2016-11-03   66000.0        10.0      10.0       discount    1.0   \n",
       "112976       2018-07-07   30000.0         NaN       NaN            NaN    NaN   \n",
       "199186       2015-12-25   50000.0        10.0      10.0       discount    1.0   \n",
       "166874       2017-05-26   74000.0         NaN       NaN            NaN    NaN   \n",
       "252656       2017-10-23  114000.0        10.0       7.0           bogo    1.0   \n",
       "198806       2018-01-14   56000.0         NaN       NaN            NaN    NaN   \n",
       "\n",
       "        mobile  social  web  \n",
       "104684     NaN     NaN  NaN  \n",
       "252603     1.0     1.0  1.0  \n",
       "251514     1.0     0.0  1.0  \n",
       "45333      NaN     NaN  NaN  \n",
       "245745     1.0     1.0  1.0  \n",
       "112976     NaN     NaN  NaN  \n",
       "199186     1.0     1.0  1.0  \n",
       "166874     NaN     NaN  NaN  \n",
       "252656     1.0     1.0  0.0  \n",
       "198806     NaN     NaN  NaN  "
      ]
     },
     "execution_count": 63,
     "metadata": {},
     "output_type": "execute_result"
    }
   ],
   "source": [
    "merged_data.sample(10)"
   ]
  },
  {
   "cell_type": "code",
   "execution_count": 64,
   "id": "a4913449",
   "metadata": {
    "ExecuteTime": {
     "end_time": "2021-04-29T15:05:43.064050Z",
     "start_time": "2021-04-29T15:05:42.940016Z"
    }
   },
   "outputs": [
    {
     "name": "stdout",
     "output_type": "stream",
     "text": [
      "<class 'pandas.core.frame.DataFrame'>\n",
      "Int64Index: 272762 entries, 0 to 272761\n",
      "Data columns (total 17 columns):\n",
      " #   Column            Non-Null Count   Dtype         \n",
      "---  ------            --------------   -----         \n",
      " 0   customer_id       272762 non-null  object        \n",
      " 1   event             272762 non-null  object        \n",
      " 2   time              272762 non-null  int64         \n",
      " 3   offer_id          148805 non-null  object        \n",
      " 4   amount            272762 non-null  float64       \n",
      " 5   reward            272762 non-null  int64         \n",
      " 6   gender            272762 non-null  object        \n",
      " 7   age               272762 non-null  int64         \n",
      " 8   became_member_on  272762 non-null  datetime64[ns]\n",
      " 9   income            272762 non-null  float64       \n",
      " 10  difficulty        148805 non-null  float64       \n",
      " 11  duration          148805 non-null  float64       \n",
      " 12  offer_type        148805 non-null  object        \n",
      " 13  email             148805 non-null  float64       \n",
      " 14  mobile            148805 non-null  float64       \n",
      " 15  social            148805 non-null  float64       \n",
      " 16  web               148805 non-null  float64       \n",
      "dtypes: datetime64[ns](1), float64(8), int64(3), object(5)\n",
      "memory usage: 37.5+ MB\n"
     ]
    }
   ],
   "source": [
    "merged_data.info()"
   ]
  },
  {
   "cell_type": "markdown",
   "id": "710c1db9",
   "metadata": {},
   "source": [
    "#### Rest of the null values are from the event type transactions."
   ]
  },
  {
   "cell_type": "markdown",
   "id": "7b3f1551",
   "metadata": {},
   "source": [
    "#### Converting time to number of days."
   ]
  },
  {
   "cell_type": "code",
   "execution_count": 65,
   "id": "eb37d1f9",
   "metadata": {
    "ExecuteTime": {
     "end_time": "2021-04-29T15:05:43.080017Z",
     "start_time": "2021-04-29T15:05:43.065017Z"
    }
   },
   "outputs": [],
   "source": [
    "merged_data['time'] = merged_data['time'] // 24\n",
    "merged_data.rename(columns = {'time' : 'test_day'}, inplace = True)"
   ]
  },
  {
   "cell_type": "code",
   "execution_count": 66,
   "id": "84d355e4",
   "metadata": {
    "ExecuteTime": {
     "end_time": "2021-04-29T15:05:43.110016Z",
     "start_time": "2021-04-29T15:05:43.082023Z"
    }
   },
   "outputs": [
    {
     "data": {
      "text/html": [
       "<div>\n",
       "<style scoped>\n",
       "    .dataframe tbody tr th:only-of-type {\n",
       "        vertical-align: middle;\n",
       "    }\n",
       "\n",
       "    .dataframe tbody tr th {\n",
       "        vertical-align: top;\n",
       "    }\n",
       "\n",
       "    .dataframe thead th {\n",
       "        text-align: right;\n",
       "    }\n",
       "</style>\n",
       "<table border=\"1\" class=\"dataframe\">\n",
       "  <thead>\n",
       "    <tr style=\"text-align: right;\">\n",
       "      <th></th>\n",
       "      <th>customer_id</th>\n",
       "      <th>event</th>\n",
       "      <th>test_day</th>\n",
       "      <th>offer_id</th>\n",
       "      <th>amount</th>\n",
       "      <th>reward</th>\n",
       "      <th>gender</th>\n",
       "      <th>age</th>\n",
       "      <th>became_member_on</th>\n",
       "      <th>income</th>\n",
       "      <th>difficulty</th>\n",
       "      <th>duration</th>\n",
       "      <th>offer_type</th>\n",
       "      <th>email</th>\n",
       "      <th>mobile</th>\n",
       "      <th>social</th>\n",
       "      <th>web</th>\n",
       "    </tr>\n",
       "  </thead>\n",
       "  <tbody>\n",
       "    <tr>\n",
       "      <th>71070</th>\n",
       "      <td>baec6fd421ca41948585242e20df9852</td>\n",
       "      <td>transaction</td>\n",
       "      <td>8</td>\n",
       "      <td>NaN</td>\n",
       "      <td>6.58</td>\n",
       "      <td>0</td>\n",
       "      <td>M</td>\n",
       "      <td>59</td>\n",
       "      <td>2015-08-25</td>\n",
       "      <td>68000.0</td>\n",
       "      <td>NaN</td>\n",
       "      <td>NaN</td>\n",
       "      <td>NaN</td>\n",
       "      <td>NaN</td>\n",
       "      <td>NaN</td>\n",
       "      <td>NaN</td>\n",
       "      <td>NaN</td>\n",
       "    </tr>\n",
       "    <tr>\n",
       "      <th>91105</th>\n",
       "      <td>a9405d222eb042b3ab274c22f2a3241a</td>\n",
       "      <td>offer received</td>\n",
       "      <td>24</td>\n",
       "      <td>4d5c57ea9a6940dd891ad53e9dbe8da0</td>\n",
       "      <td>0.00</td>\n",
       "      <td>0</td>\n",
       "      <td>M</td>\n",
       "      <td>69</td>\n",
       "      <td>2016-11-19</td>\n",
       "      <td>31000.0</td>\n",
       "      <td>10.0</td>\n",
       "      <td>5.0</td>\n",
       "      <td>bogo</td>\n",
       "      <td>1.0</td>\n",
       "      <td>1.0</td>\n",
       "      <td>1.0</td>\n",
       "      <td>1.0</td>\n",
       "    </tr>\n",
       "    <tr>\n",
       "      <th>23232</th>\n",
       "      <td>ffff82501cea40309d5fdd7edcca4a07</td>\n",
       "      <td>offer viewed</td>\n",
       "      <td>24</td>\n",
       "      <td>2906b810c7d4411798c6938adc9daaa5</td>\n",
       "      <td>0.00</td>\n",
       "      <td>0</td>\n",
       "      <td>F</td>\n",
       "      <td>45</td>\n",
       "      <td>2016-11-25</td>\n",
       "      <td>62000.0</td>\n",
       "      <td>10.0</td>\n",
       "      <td>7.0</td>\n",
       "      <td>discount</td>\n",
       "      <td>1.0</td>\n",
       "      <td>1.0</td>\n",
       "      <td>0.0</td>\n",
       "      <td>1.0</td>\n",
       "    </tr>\n",
       "    <tr>\n",
       "      <th>188743</th>\n",
       "      <td>f6cff88b6ad24c2aab172b9b8ab17edd</td>\n",
       "      <td>offer received</td>\n",
       "      <td>0</td>\n",
       "      <td>9b98b8c7a33c4b65b9aebfe6a799e6d9</td>\n",
       "      <td>0.00</td>\n",
       "      <td>0</td>\n",
       "      <td>F</td>\n",
       "      <td>92</td>\n",
       "      <td>2016-11-15</td>\n",
       "      <td>92000.0</td>\n",
       "      <td>5.0</td>\n",
       "      <td>7.0</td>\n",
       "      <td>bogo</td>\n",
       "      <td>1.0</td>\n",
       "      <td>1.0</td>\n",
       "      <td>0.0</td>\n",
       "      <td>1.0</td>\n",
       "    </tr>\n",
       "    <tr>\n",
       "      <th>28003</th>\n",
       "      <td>2531d3b6001a4d48bff0a91ceceb97a0</td>\n",
       "      <td>offer viewed</td>\n",
       "      <td>7</td>\n",
       "      <td>5a8bc65990b245e5a138643cd4eb9837</td>\n",
       "      <td>0.00</td>\n",
       "      <td>0</td>\n",
       "      <td>M</td>\n",
       "      <td>43</td>\n",
       "      <td>2017-12-16</td>\n",
       "      <td>49000.0</td>\n",
       "      <td>0.0</td>\n",
       "      <td>3.0</td>\n",
       "      <td>informational</td>\n",
       "      <td>1.0</td>\n",
       "      <td>1.0</td>\n",
       "      <td>1.0</td>\n",
       "      <td>0.0</td>\n",
       "    </tr>\n",
       "  </tbody>\n",
       "</table>\n",
       "</div>"
      ],
      "text/plain": [
       "                             customer_id           event  test_day  \\\n",
       "71070   baec6fd421ca41948585242e20df9852     transaction         8   \n",
       "91105   a9405d222eb042b3ab274c22f2a3241a  offer received        24   \n",
       "23232   ffff82501cea40309d5fdd7edcca4a07    offer viewed        24   \n",
       "188743  f6cff88b6ad24c2aab172b9b8ab17edd  offer received         0   \n",
       "28003   2531d3b6001a4d48bff0a91ceceb97a0    offer viewed         7   \n",
       "\n",
       "                                offer_id  amount  reward gender  age  \\\n",
       "71070                                NaN    6.58       0      M   59   \n",
       "91105   4d5c57ea9a6940dd891ad53e9dbe8da0    0.00       0      M   69   \n",
       "23232   2906b810c7d4411798c6938adc9daaa5    0.00       0      F   45   \n",
       "188743  9b98b8c7a33c4b65b9aebfe6a799e6d9    0.00       0      F   92   \n",
       "28003   5a8bc65990b245e5a138643cd4eb9837    0.00       0      M   43   \n",
       "\n",
       "       became_member_on   income  difficulty  duration     offer_type  email  \\\n",
       "71070        2015-08-25  68000.0         NaN       NaN            NaN    NaN   \n",
       "91105        2016-11-19  31000.0        10.0       5.0           bogo    1.0   \n",
       "23232        2016-11-25  62000.0        10.0       7.0       discount    1.0   \n",
       "188743       2016-11-15  92000.0         5.0       7.0           bogo    1.0   \n",
       "28003        2017-12-16  49000.0         0.0       3.0  informational    1.0   \n",
       "\n",
       "        mobile  social  web  \n",
       "71070      NaN     NaN  NaN  \n",
       "91105      1.0     1.0  1.0  \n",
       "23232      1.0     0.0  1.0  \n",
       "188743     1.0     0.0  1.0  \n",
       "28003      1.0     1.0  0.0  "
      ]
     },
     "execution_count": 66,
     "metadata": {},
     "output_type": "execute_result"
    }
   ],
   "source": [
    "merged_data.sample(5)"
   ]
  },
  {
   "cell_type": "markdown",
   "id": "a3640272",
   "metadata": {},
   "source": [
    "### Storing cleaned data to machine."
   ]
  },
  {
   "cell_type": "code",
   "execution_count": 67,
   "id": "0db64441",
   "metadata": {
    "ExecuteTime": {
     "end_time": "2021-04-29T15:05:43.206017Z",
     "start_time": "2021-04-29T15:05:43.112018Z"
    }
   },
   "outputs": [],
   "source": [
    "profile_data = profile_data_temp.copy()\n",
    "transcript_data = transcript_data_temp.copy()\n",
    "portfolio_data = portfolio_data_temp.copy()"
   ]
  },
  {
   "cell_type": "code",
   "execution_count": 68,
   "id": "81df9971",
   "metadata": {
    "ExecuteTime": {
     "end_time": "2021-04-29T15:05:44.567016Z",
     "start_time": "2021-04-29T15:05:43.210016Z"
    }
   },
   "outputs": [],
   "source": [
    "profile_data.to_csv('data/cleaned_profile_data.csv')\n",
    "transcript_data.to_csv('data/cleaned_transcript_data.csv')\n",
    "portfolio_data.to_csv('data/cleaned_portfolio_data.csv')"
   ]
  },
  {
   "cell_type": "code",
   "execution_count": 69,
   "id": "a95ad2f2",
   "metadata": {
    "ExecuteTime": {
     "end_time": "2021-04-29T15:05:48.045845Z",
     "start_time": "2021-04-29T15:05:44.569016Z"
    }
   },
   "outputs": [],
   "source": [
    "merged_data.to_csv('data/merged_data.csv', index = None)"
   ]
  },
  {
   "cell_type": "code",
   "execution_count": null,
   "id": "111c7098",
   "metadata": {},
   "outputs": [],
   "source": []
  }
 ],
 "metadata": {
  "kernelspec": {
   "display_name": "Python 3",
   "language": "python",
   "name": "python3"
  },
  "language_info": {
   "codemirror_mode": {
    "name": "ipython",
    "version": 3
   },
   "file_extension": ".py",
   "mimetype": "text/x-python",
   "name": "python",
   "nbconvert_exporter": "python",
   "pygments_lexer": "ipython3",
   "version": "3.7.10"
  }
 },
 "nbformat": 4,
 "nbformat_minor": 5
}
