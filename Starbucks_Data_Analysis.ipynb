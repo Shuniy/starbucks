{
 "cells": [
  {
   "cell_type": "markdown",
   "id": "615b1e6c",
   "metadata": {},
   "source": [
    "# *Starbucks Rewards Mobile App Offers*"
   ]
  },
  {
   "cell_type": "markdown",
   "id": "869b4570",
   "metadata": {},
   "source": [
    "## Introduction"
   ]
  },
  {
   "cell_type": "markdown",
   "id": "a2d8e9c1",
   "metadata": {},
   "source": []
  },
  {
   "cell_type": "markdown",
   "id": "588df2be",
   "metadata": {},
   "source": [
    "### *Loading Libraries*"
   ]
  },
  {
   "cell_type": "code",
   "execution_count": 7,
   "id": "48e17308",
   "metadata": {
    "ExecuteTime": {
     "end_time": "2021-04-11T07:29:20.787738Z",
     "start_time": "2021-04-11T07:29:20.778733Z"
    }
   },
   "outputs": [],
   "source": [
    "# Importing Libraries\n",
    "\n",
    "import seaborn as sb\n",
    "import pandas as pd\n",
    "import numpy as np\n",
    "import matplotlib.pyplot as plt\n",
    "\n",
    "%matplotlib inline"
   ]
  },
  {
   "cell_type": "markdown",
   "id": "0dbf5644",
   "metadata": {},
   "source": [
    "## Data Wrangling"
   ]
  },
  {
   "cell_type": "markdown",
   "id": "0e229fe5",
   "metadata": {},
   "source": [
    "**Data Wrangling steps:**\n",
    "- Gather\n",
    "- Acess\n",
    "- Clean\n",
    "    - Define\n",
    "    - Code\n",
    "    - Test"
   ]
  },
  {
   "cell_type": "markdown",
   "id": "92c82e04",
   "metadata": {},
   "source": [
    "### *Gather Data*"
   ]
  },
  {
   "cell_type": "code",
   "execution_count": 8,
   "id": "8fe389e0",
   "metadata": {
    "ExecuteTime": {
     "end_time": "2021-04-11T07:29:22.563738Z",
     "start_time": "2021-04-11T07:29:21.077730Z"
    }
   },
   "outputs": [],
   "source": [
    "# Importing data from json\n",
    "\n",
    "portfolio_data = pd.read_json(\n",
    "    \"data/portfolio.json\", orient='records', lines=True)\n",
    "\n",
    "profile_data = pd.read_json(\"data/profile.json\", orient='records', lines=True)\n",
    "\n",
    "transcript_data = pd.read_json(\n",
    "    \"data/transcript.json\", orient='records', lines=True)"
   ]
  },
  {
   "cell_type": "markdown",
   "id": "959e2265",
   "metadata": {},
   "source": [
    "### *Acess Data*"
   ]
  },
  {
   "cell_type": "markdown",
   "id": "4c545dd3",
   "metadata": {},
   "source": [
    "#### Sample Data"
   ]
  },
  {
   "cell_type": "code",
   "execution_count": 15,
   "id": "1685fa09",
   "metadata": {
    "ExecuteTime": {
     "end_time": "2021-04-11T07:32:26.735219Z",
     "start_time": "2021-04-11T07:32:26.718214Z"
    }
   },
   "outputs": [
    {
     "data": {
      "text/html": [
       "<div>\n",
       "<style scoped>\n",
       "    .dataframe tbody tr th:only-of-type {\n",
       "        vertical-align: middle;\n",
       "    }\n",
       "\n",
       "    .dataframe tbody tr th {\n",
       "        vertical-align: top;\n",
       "    }\n",
       "\n",
       "    .dataframe thead th {\n",
       "        text-align: right;\n",
       "    }\n",
       "</style>\n",
       "<table border=\"1\" class=\"dataframe\">\n",
       "  <thead>\n",
       "    <tr style=\"text-align: right;\">\n",
       "      <th></th>\n",
       "      <th>reward</th>\n",
       "      <th>channels</th>\n",
       "      <th>difficulty</th>\n",
       "      <th>duration</th>\n",
       "      <th>offer_type</th>\n",
       "      <th>id</th>\n",
       "    </tr>\n",
       "  </thead>\n",
       "  <tbody>\n",
       "    <tr>\n",
       "      <th>6</th>\n",
       "      <td>2</td>\n",
       "      <td>[web, email, mobile, social]</td>\n",
       "      <td>10</td>\n",
       "      <td>10</td>\n",
       "      <td>discount</td>\n",
       "      <td>fafdcd668e3743c1bb461111dcafc2a4</td>\n",
       "    </tr>\n",
       "    <tr>\n",
       "      <th>5</th>\n",
       "      <td>3</td>\n",
       "      <td>[web, email, mobile, social]</td>\n",
       "      <td>7</td>\n",
       "      <td>7</td>\n",
       "      <td>discount</td>\n",
       "      <td>2298d6c36e964ae4a3e7e9706d1fb8c2</td>\n",
       "    </tr>\n",
       "    <tr>\n",
       "      <th>2</th>\n",
       "      <td>0</td>\n",
       "      <td>[web, email, mobile]</td>\n",
       "      <td>0</td>\n",
       "      <td>4</td>\n",
       "      <td>informational</td>\n",
       "      <td>3f207df678b143eea3cee63160fa8bed</td>\n",
       "    </tr>\n",
       "    <tr>\n",
       "      <th>0</th>\n",
       "      <td>10</td>\n",
       "      <td>[email, mobile, social]</td>\n",
       "      <td>10</td>\n",
       "      <td>7</td>\n",
       "      <td>bogo</td>\n",
       "      <td>ae264e3637204a6fb9bb56bc8210ddfd</td>\n",
       "    </tr>\n",
       "    <tr>\n",
       "      <th>3</th>\n",
       "      <td>5</td>\n",
       "      <td>[web, email, mobile]</td>\n",
       "      <td>5</td>\n",
       "      <td>7</td>\n",
       "      <td>bogo</td>\n",
       "      <td>9b98b8c7a33c4b65b9aebfe6a799e6d9</td>\n",
       "    </tr>\n",
       "    <tr>\n",
       "      <th>9</th>\n",
       "      <td>2</td>\n",
       "      <td>[web, email, mobile]</td>\n",
       "      <td>10</td>\n",
       "      <td>7</td>\n",
       "      <td>discount</td>\n",
       "      <td>2906b810c7d4411798c6938adc9daaa5</td>\n",
       "    </tr>\n",
       "    <tr>\n",
       "      <th>4</th>\n",
       "      <td>5</td>\n",
       "      <td>[web, email]</td>\n",
       "      <td>20</td>\n",
       "      <td>10</td>\n",
       "      <td>discount</td>\n",
       "      <td>0b1e1539f2cc45b7b9fa7c272da2e1d7</td>\n",
       "    </tr>\n",
       "    <tr>\n",
       "      <th>8</th>\n",
       "      <td>5</td>\n",
       "      <td>[web, email, mobile, social]</td>\n",
       "      <td>5</td>\n",
       "      <td>5</td>\n",
       "      <td>bogo</td>\n",
       "      <td>f19421c1d4aa40978ebb69ca19b0e20d</td>\n",
       "    </tr>\n",
       "    <tr>\n",
       "      <th>1</th>\n",
       "      <td>10</td>\n",
       "      <td>[web, email, mobile, social]</td>\n",
       "      <td>10</td>\n",
       "      <td>5</td>\n",
       "      <td>bogo</td>\n",
       "      <td>4d5c57ea9a6940dd891ad53e9dbe8da0</td>\n",
       "    </tr>\n",
       "    <tr>\n",
       "      <th>7</th>\n",
       "      <td>0</td>\n",
       "      <td>[email, mobile, social]</td>\n",
       "      <td>0</td>\n",
       "      <td>3</td>\n",
       "      <td>informational</td>\n",
       "      <td>5a8bc65990b245e5a138643cd4eb9837</td>\n",
       "    </tr>\n",
       "  </tbody>\n",
       "</table>\n",
       "</div>"
      ],
      "text/plain": [
       "   reward                      channels  difficulty  duration     offer_type  \\\n",
       "6       2  [web, email, mobile, social]          10        10       discount   \n",
       "5       3  [web, email, mobile, social]           7         7       discount   \n",
       "2       0          [web, email, mobile]           0         4  informational   \n",
       "0      10       [email, mobile, social]          10         7           bogo   \n",
       "3       5          [web, email, mobile]           5         7           bogo   \n",
       "9       2          [web, email, mobile]          10         7       discount   \n",
       "4       5                  [web, email]          20        10       discount   \n",
       "8       5  [web, email, mobile, social]           5         5           bogo   \n",
       "1      10  [web, email, mobile, social]          10         5           bogo   \n",
       "7       0       [email, mobile, social]           0         3  informational   \n",
       "\n",
       "                                 id  \n",
       "6  fafdcd668e3743c1bb461111dcafc2a4  \n",
       "5  2298d6c36e964ae4a3e7e9706d1fb8c2  \n",
       "2  3f207df678b143eea3cee63160fa8bed  \n",
       "0  ae264e3637204a6fb9bb56bc8210ddfd  \n",
       "3  9b98b8c7a33c4b65b9aebfe6a799e6d9  \n",
       "9  2906b810c7d4411798c6938adc9daaa5  \n",
       "4  0b1e1539f2cc45b7b9fa7c272da2e1d7  \n",
       "8  f19421c1d4aa40978ebb69ca19b0e20d  \n",
       "1  4d5c57ea9a6940dd891ad53e9dbe8da0  \n",
       "7  5a8bc65990b245e5a138643cd4eb9837  "
      ]
     },
     "execution_count": 15,
     "metadata": {},
     "output_type": "execute_result"
    }
   ],
   "source": [
    "# Glimpse of data\n",
    "portfolio_data.sample(10)"
   ]
  },
  {
   "cell_type": "code",
   "execution_count": 13,
   "id": "52edae91",
   "metadata": {
    "ExecuteTime": {
     "end_time": "2021-04-11T07:30:32.201421Z",
     "start_time": "2021-04-11T07:30:32.189788Z"
    }
   },
   "outputs": [
    {
     "data": {
      "text/html": [
       "<div>\n",
       "<style scoped>\n",
       "    .dataframe tbody tr th:only-of-type {\n",
       "        vertical-align: middle;\n",
       "    }\n",
       "\n",
       "    .dataframe tbody tr th {\n",
       "        vertical-align: top;\n",
       "    }\n",
       "\n",
       "    .dataframe thead th {\n",
       "        text-align: right;\n",
       "    }\n",
       "</style>\n",
       "<table border=\"1\" class=\"dataframe\">\n",
       "  <thead>\n",
       "    <tr style=\"text-align: right;\">\n",
       "      <th></th>\n",
       "      <th>gender</th>\n",
       "      <th>age</th>\n",
       "      <th>id</th>\n",
       "      <th>became_member_on</th>\n",
       "      <th>income</th>\n",
       "    </tr>\n",
       "  </thead>\n",
       "  <tbody>\n",
       "    <tr>\n",
       "      <th>4178</th>\n",
       "      <td>M</td>\n",
       "      <td>37</td>\n",
       "      <td>63674022d72c4993a8f6c5edcbf01dcc</td>\n",
       "      <td>20140522</td>\n",
       "      <td>38000.0</td>\n",
       "    </tr>\n",
       "    <tr>\n",
       "      <th>11584</th>\n",
       "      <td>F</td>\n",
       "      <td>52</td>\n",
       "      <td>39547839a4a54db1a8c7ecab159182b5</td>\n",
       "      <td>20170121</td>\n",
       "      <td>87000.0</td>\n",
       "    </tr>\n",
       "    <tr>\n",
       "      <th>5527</th>\n",
       "      <td>M</td>\n",
       "      <td>44</td>\n",
       "      <td>ec70faa2792f4ee19d67dca4957d285f</td>\n",
       "      <td>20180217</td>\n",
       "      <td>43000.0</td>\n",
       "    </tr>\n",
       "    <tr>\n",
       "      <th>15560</th>\n",
       "      <td>M</td>\n",
       "      <td>24</td>\n",
       "      <td>f20859f19f1b4a3987af0b94db1c4cab</td>\n",
       "      <td>20170220</td>\n",
       "      <td>56000.0</td>\n",
       "    </tr>\n",
       "    <tr>\n",
       "      <th>1772</th>\n",
       "      <td>None</td>\n",
       "      <td>118</td>\n",
       "      <td>03c7b0b202294fbe8edbd73b0b499fac</td>\n",
       "      <td>20170305</td>\n",
       "      <td>NaN</td>\n",
       "    </tr>\n",
       "    <tr>\n",
       "      <th>12777</th>\n",
       "      <td>M</td>\n",
       "      <td>29</td>\n",
       "      <td>68f42565785b4e23aac93af7759bd0dd</td>\n",
       "      <td>20180317</td>\n",
       "      <td>61000.0</td>\n",
       "    </tr>\n",
       "    <tr>\n",
       "      <th>12691</th>\n",
       "      <td>F</td>\n",
       "      <td>62</td>\n",
       "      <td>f86af496c16140a5a9e4fbe605a27bb5</td>\n",
       "      <td>20170828</td>\n",
       "      <td>97000.0</td>\n",
       "    </tr>\n",
       "    <tr>\n",
       "      <th>16581</th>\n",
       "      <td>M</td>\n",
       "      <td>58</td>\n",
       "      <td>7dae1b05e9ec481c81ccd2186e7ec3d0</td>\n",
       "      <td>20180224</td>\n",
       "      <td>65000.0</td>\n",
       "    </tr>\n",
       "    <tr>\n",
       "      <th>6377</th>\n",
       "      <td>None</td>\n",
       "      <td>118</td>\n",
       "      <td>d733b649392d44ac9bf43595a4ea6c83</td>\n",
       "      <td>20180402</td>\n",
       "      <td>NaN</td>\n",
       "    </tr>\n",
       "    <tr>\n",
       "      <th>11642</th>\n",
       "      <td>F</td>\n",
       "      <td>40</td>\n",
       "      <td>a182165ed3da4048917d042f7df9ae17</td>\n",
       "      <td>20180201</td>\n",
       "      <td>67000.0</td>\n",
       "    </tr>\n",
       "  </tbody>\n",
       "</table>\n",
       "</div>"
      ],
      "text/plain": [
       "      gender  age                                id  became_member_on   income\n",
       "4178       M   37  63674022d72c4993a8f6c5edcbf01dcc          20140522  38000.0\n",
       "11584      F   52  39547839a4a54db1a8c7ecab159182b5          20170121  87000.0\n",
       "5527       M   44  ec70faa2792f4ee19d67dca4957d285f          20180217  43000.0\n",
       "15560      M   24  f20859f19f1b4a3987af0b94db1c4cab          20170220  56000.0\n",
       "1772    None  118  03c7b0b202294fbe8edbd73b0b499fac          20170305      NaN\n",
       "12777      M   29  68f42565785b4e23aac93af7759bd0dd          20180317  61000.0\n",
       "12691      F   62  f86af496c16140a5a9e4fbe605a27bb5          20170828  97000.0\n",
       "16581      M   58  7dae1b05e9ec481c81ccd2186e7ec3d0          20180224  65000.0\n",
       "6377    None  118  d733b649392d44ac9bf43595a4ea6c83          20180402      NaN\n",
       "11642      F   40  a182165ed3da4048917d042f7df9ae17          20180201  67000.0"
      ]
     },
     "execution_count": 13,
     "metadata": {},
     "output_type": "execute_result"
    }
   ],
   "source": [
    "profile_data.sample(10)"
   ]
  },
  {
   "cell_type": "code",
   "execution_count": 14,
   "id": "a6a0700a",
   "metadata": {
    "ExecuteTime": {
     "end_time": "2021-04-11T07:30:32.499844Z",
     "start_time": "2021-04-11T07:30:32.470263Z"
    }
   },
   "outputs": [
    {
     "data": {
      "text/html": [
       "<div>\n",
       "<style scoped>\n",
       "    .dataframe tbody tr th:only-of-type {\n",
       "        vertical-align: middle;\n",
       "    }\n",
       "\n",
       "    .dataframe tbody tr th {\n",
       "        vertical-align: top;\n",
       "    }\n",
       "\n",
       "    .dataframe thead th {\n",
       "        text-align: right;\n",
       "    }\n",
       "</style>\n",
       "<table border=\"1\" class=\"dataframe\">\n",
       "  <thead>\n",
       "    <tr style=\"text-align: right;\">\n",
       "      <th></th>\n",
       "      <th>person</th>\n",
       "      <th>event</th>\n",
       "      <th>value</th>\n",
       "      <th>time</th>\n",
       "    </tr>\n",
       "  </thead>\n",
       "  <tbody>\n",
       "    <tr>\n",
       "      <th>290446</th>\n",
       "      <td>b6008b910a914fe89ccbd9f05154cdda</td>\n",
       "      <td>transaction</td>\n",
       "      <td>{'amount': 3.41}</td>\n",
       "      <td>648</td>\n",
       "    </tr>\n",
       "    <tr>\n",
       "      <th>11996</th>\n",
       "      <td>c332c8e9782744c28f0264ac935fb09b</td>\n",
       "      <td>offer received</td>\n",
       "      <td>{'offer id': '5a8bc65990b245e5a138643cd4eb9837'}</td>\n",
       "      <td>0</td>\n",
       "    </tr>\n",
       "    <tr>\n",
       "      <th>120645</th>\n",
       "      <td>08b352c3e09a42e1900892a317f2b84e</td>\n",
       "      <td>offer received</td>\n",
       "      <td>{'offer id': '2906b810c7d4411798c6938adc9daaa5'}</td>\n",
       "      <td>336</td>\n",
       "    </tr>\n",
       "    <tr>\n",
       "      <th>114923</th>\n",
       "      <td>beb7f9bb1096496fa4a369be8d0c6137</td>\n",
       "      <td>offer received</td>\n",
       "      <td>{'offer id': '4d5c57ea9a6940dd891ad53e9dbe8da0'}</td>\n",
       "      <td>336</td>\n",
       "    </tr>\n",
       "    <tr>\n",
       "      <th>116229</th>\n",
       "      <td>6e23a5486c6f424ba3ea13019f6a5806</td>\n",
       "      <td>offer received</td>\n",
       "      <td>{'offer id': '2298d6c36e964ae4a3e7e9706d1fb8c2'}</td>\n",
       "      <td>336</td>\n",
       "    </tr>\n",
       "    <tr>\n",
       "      <th>14566</th>\n",
       "      <td>1f99f39237164b17a8b6848f4ce881c3</td>\n",
       "      <td>transaction</td>\n",
       "      <td>{'amount': 10.6}</td>\n",
       "      <td>0</td>\n",
       "    </tr>\n",
       "    <tr>\n",
       "      <th>152068</th>\n",
       "      <td>c6715c2bb910495faf267e0f6cb56d6f</td>\n",
       "      <td>offer received</td>\n",
       "      <td>{'offer id': '4d5c57ea9a6940dd891ad53e9dbe8da0'}</td>\n",
       "      <td>408</td>\n",
       "    </tr>\n",
       "    <tr>\n",
       "      <th>228163</th>\n",
       "      <td>0537e8df8a5a418ab1fd28c2063ad6f8</td>\n",
       "      <td>transaction</td>\n",
       "      <td>{'amount': 12.39}</td>\n",
       "      <td>528</td>\n",
       "    </tr>\n",
       "    <tr>\n",
       "      <th>84129</th>\n",
       "      <td>dcd4fe47f8fd496fb1bbcb673a35d481</td>\n",
       "      <td>offer viewed</td>\n",
       "      <td>{'offer id': '2298d6c36e964ae4a3e7e9706d1fb8c2'}</td>\n",
       "      <td>210</td>\n",
       "    </tr>\n",
       "    <tr>\n",
       "      <th>176891</th>\n",
       "      <td>af5f147000ff48199b012df26bf97e15</td>\n",
       "      <td>transaction</td>\n",
       "      <td>{'amount': 21.77}</td>\n",
       "      <td>426</td>\n",
       "    </tr>\n",
       "  </tbody>\n",
       "</table>\n",
       "</div>"
      ],
      "text/plain": [
       "                                  person           event  \\\n",
       "290446  b6008b910a914fe89ccbd9f05154cdda     transaction   \n",
       "11996   c332c8e9782744c28f0264ac935fb09b  offer received   \n",
       "120645  08b352c3e09a42e1900892a317f2b84e  offer received   \n",
       "114923  beb7f9bb1096496fa4a369be8d0c6137  offer received   \n",
       "116229  6e23a5486c6f424ba3ea13019f6a5806  offer received   \n",
       "14566   1f99f39237164b17a8b6848f4ce881c3     transaction   \n",
       "152068  c6715c2bb910495faf267e0f6cb56d6f  offer received   \n",
       "228163  0537e8df8a5a418ab1fd28c2063ad6f8     transaction   \n",
       "84129   dcd4fe47f8fd496fb1bbcb673a35d481    offer viewed   \n",
       "176891  af5f147000ff48199b012df26bf97e15     transaction   \n",
       "\n",
       "                                                   value  time  \n",
       "290446                                  {'amount': 3.41}   648  \n",
       "11996   {'offer id': '5a8bc65990b245e5a138643cd4eb9837'}     0  \n",
       "120645  {'offer id': '2906b810c7d4411798c6938adc9daaa5'}   336  \n",
       "114923  {'offer id': '4d5c57ea9a6940dd891ad53e9dbe8da0'}   336  \n",
       "116229  {'offer id': '2298d6c36e964ae4a3e7e9706d1fb8c2'}   336  \n",
       "14566                                   {'amount': 10.6}     0  \n",
       "152068  {'offer id': '4d5c57ea9a6940dd891ad53e9dbe8da0'}   408  \n",
       "228163                                 {'amount': 12.39}   528  \n",
       "84129   {'offer id': '2298d6c36e964ae4a3e7e9706d1fb8c2'}   210  \n",
       "176891                                 {'amount': 21.77}   426  "
      ]
     },
     "execution_count": 14,
     "metadata": {},
     "output_type": "execute_result"
    }
   ],
   "source": [
    "transcript_data.sample(10)"
   ]
  },
  {
   "cell_type": "markdown",
   "id": "05ab71c5",
   "metadata": {},
   "source": [
    "#### Info on the data"
   ]
  },
  {
   "cell_type": "code",
   "execution_count": 17,
   "id": "2ed01bf4",
   "metadata": {
    "ExecuteTime": {
     "end_time": "2021-04-11T07:36:02.551350Z",
     "start_time": "2021-04-11T07:36:02.525092Z"
    }
   },
   "outputs": [
    {
     "name": "stdout",
     "output_type": "stream",
     "text": [
      "<class 'pandas.core.frame.DataFrame'>\n",
      "RangeIndex: 10 entries, 0 to 9\n",
      "Data columns (total 6 columns):\n",
      " #   Column      Non-Null Count  Dtype \n",
      "---  ------      --------------  ----- \n",
      " 0   reward      10 non-null     int64 \n",
      " 1   channels    10 non-null     object\n",
      " 2   difficulty  10 non-null     int64 \n",
      " 3   duration    10 non-null     int64 \n",
      " 4   offer_type  10 non-null     object\n",
      " 5   id          10 non-null     object\n",
      "dtypes: int64(3), object(3)\n",
      "memory usage: 608.0+ bytes\n"
     ]
    }
   ],
   "source": [
    "# Info of data\n",
    "portfolio_data.info()"
   ]
  },
  {
   "cell_type": "code",
   "execution_count": 18,
   "id": "a2f91485",
   "metadata": {
    "ExecuteTime": {
     "end_time": "2021-04-11T07:36:13.799032Z",
     "start_time": "2021-04-11T07:36:13.788058Z"
    }
   },
   "outputs": [
    {
     "name": "stdout",
     "output_type": "stream",
     "text": [
      "<class 'pandas.core.frame.DataFrame'>\n",
      "RangeIndex: 17000 entries, 0 to 16999\n",
      "Data columns (total 5 columns):\n",
      " #   Column            Non-Null Count  Dtype  \n",
      "---  ------            --------------  -----  \n",
      " 0   gender            14825 non-null  object \n",
      " 1   age               17000 non-null  int64  \n",
      " 2   id                17000 non-null  object \n",
      " 3   became_member_on  17000 non-null  int64  \n",
      " 4   income            14825 non-null  float64\n",
      "dtypes: float64(1), int64(2), object(2)\n",
      "memory usage: 664.2+ KB\n"
     ]
    }
   ],
   "source": [
    "profile_data.info()"
   ]
  },
  {
   "cell_type": "code",
   "execution_count": 20,
   "id": "1179891e",
   "metadata": {
    "ExecuteTime": {
     "end_time": "2021-04-11T07:36:28.263867Z",
     "start_time": "2021-04-11T07:36:28.191539Z"
    }
   },
   "outputs": [
    {
     "name": "stdout",
     "output_type": "stream",
     "text": [
      "<class 'pandas.core.frame.DataFrame'>\n",
      "RangeIndex: 306534 entries, 0 to 306533\n",
      "Data columns (total 4 columns):\n",
      " #   Column  Non-Null Count   Dtype \n",
      "---  ------  --------------   ----- \n",
      " 0   person  306534 non-null  object\n",
      " 1   event   306534 non-null  object\n",
      " 2   value   306534 non-null  object\n",
      " 3   time    306534 non-null  int64 \n",
      "dtypes: int64(1), object(3)\n",
      "memory usage: 9.4+ MB\n"
     ]
    }
   ],
   "source": [
    "transcript_data.info()"
   ]
  },
  {
   "cell_type": "markdown",
   "id": "2b942fdd",
   "metadata": {},
   "source": [
    " #### Description of the data"
   ]
  },
  {
   "cell_type": "code",
   "execution_count": 26,
   "id": "1ee24377",
   "metadata": {
    "ExecuteTime": {
     "end_time": "2021-04-11T08:58:20.301323Z",
     "start_time": "2021-04-11T08:58:20.267109Z"
    }
   },
   "outputs": [
    {
     "data": {
      "text/html": [
       "<div>\n",
       "<style scoped>\n",
       "    .dataframe tbody tr th:only-of-type {\n",
       "        vertical-align: middle;\n",
       "    }\n",
       "\n",
       "    .dataframe tbody tr th {\n",
       "        vertical-align: top;\n",
       "    }\n",
       "\n",
       "    .dataframe thead th {\n",
       "        text-align: right;\n",
       "    }\n",
       "</style>\n",
       "<table border=\"1\" class=\"dataframe\">\n",
       "  <thead>\n",
       "    <tr style=\"text-align: right;\">\n",
       "      <th></th>\n",
       "      <th>reward</th>\n",
       "      <th>difficulty</th>\n",
       "      <th>duration</th>\n",
       "    </tr>\n",
       "  </thead>\n",
       "  <tbody>\n",
       "    <tr>\n",
       "      <th>count</th>\n",
       "      <td>10.000000</td>\n",
       "      <td>10.000000</td>\n",
       "      <td>10.000000</td>\n",
       "    </tr>\n",
       "    <tr>\n",
       "      <th>mean</th>\n",
       "      <td>4.200000</td>\n",
       "      <td>7.700000</td>\n",
       "      <td>6.500000</td>\n",
       "    </tr>\n",
       "    <tr>\n",
       "      <th>std</th>\n",
       "      <td>3.583915</td>\n",
       "      <td>5.831905</td>\n",
       "      <td>2.321398</td>\n",
       "    </tr>\n",
       "    <tr>\n",
       "      <th>min</th>\n",
       "      <td>0.000000</td>\n",
       "      <td>0.000000</td>\n",
       "      <td>3.000000</td>\n",
       "    </tr>\n",
       "    <tr>\n",
       "      <th>25%</th>\n",
       "      <td>2.000000</td>\n",
       "      <td>5.000000</td>\n",
       "      <td>5.000000</td>\n",
       "    </tr>\n",
       "    <tr>\n",
       "      <th>50%</th>\n",
       "      <td>4.000000</td>\n",
       "      <td>8.500000</td>\n",
       "      <td>7.000000</td>\n",
       "    </tr>\n",
       "    <tr>\n",
       "      <th>75%</th>\n",
       "      <td>5.000000</td>\n",
       "      <td>10.000000</td>\n",
       "      <td>7.000000</td>\n",
       "    </tr>\n",
       "    <tr>\n",
       "      <th>max</th>\n",
       "      <td>10.000000</td>\n",
       "      <td>20.000000</td>\n",
       "      <td>10.000000</td>\n",
       "    </tr>\n",
       "  </tbody>\n",
       "</table>\n",
       "</div>"
      ],
      "text/plain": [
       "          reward  difficulty   duration\n",
       "count  10.000000   10.000000  10.000000\n",
       "mean    4.200000    7.700000   6.500000\n",
       "std     3.583915    5.831905   2.321398\n",
       "min     0.000000    0.000000   3.000000\n",
       "25%     2.000000    5.000000   5.000000\n",
       "50%     4.000000    8.500000   7.000000\n",
       "75%     5.000000   10.000000   7.000000\n",
       "max    10.000000   20.000000  10.000000"
      ]
     },
     "execution_count": 26,
     "metadata": {},
     "output_type": "execute_result"
    }
   ],
   "source": [
    "portfolio_data.describe()\n",
    "\n",
    "# low standard deviation that means similar reward and difficulty settings on offers."
   ]
  },
  {
   "cell_type": "code",
   "execution_count": 27,
   "id": "8270621f",
   "metadata": {
    "ExecuteTime": {
     "end_time": "2021-04-11T08:59:17.168153Z",
     "start_time": "2021-04-11T08:59:17.135693Z"
    }
   },
   "outputs": [
    {
     "data": {
      "text/html": [
       "<div>\n",
       "<style scoped>\n",
       "    .dataframe tbody tr th:only-of-type {\n",
       "        vertical-align: middle;\n",
       "    }\n",
       "\n",
       "    .dataframe tbody tr th {\n",
       "        vertical-align: top;\n",
       "    }\n",
       "\n",
       "    .dataframe thead th {\n",
       "        text-align: right;\n",
       "    }\n",
       "</style>\n",
       "<table border=\"1\" class=\"dataframe\">\n",
       "  <thead>\n",
       "    <tr style=\"text-align: right;\">\n",
       "      <th></th>\n",
       "      <th>age</th>\n",
       "      <th>became_member_on</th>\n",
       "      <th>income</th>\n",
       "    </tr>\n",
       "  </thead>\n",
       "  <tbody>\n",
       "    <tr>\n",
       "      <th>count</th>\n",
       "      <td>17000.000000</td>\n",
       "      <td>1.700000e+04</td>\n",
       "      <td>14825.000000</td>\n",
       "    </tr>\n",
       "    <tr>\n",
       "      <th>mean</th>\n",
       "      <td>62.531412</td>\n",
       "      <td>2.016703e+07</td>\n",
       "      <td>65404.991568</td>\n",
       "    </tr>\n",
       "    <tr>\n",
       "      <th>std</th>\n",
       "      <td>26.738580</td>\n",
       "      <td>1.167750e+04</td>\n",
       "      <td>21598.299410</td>\n",
       "    </tr>\n",
       "    <tr>\n",
       "      <th>min</th>\n",
       "      <td>18.000000</td>\n",
       "      <td>2.013073e+07</td>\n",
       "      <td>30000.000000</td>\n",
       "    </tr>\n",
       "    <tr>\n",
       "      <th>25%</th>\n",
       "      <td>45.000000</td>\n",
       "      <td>2.016053e+07</td>\n",
       "      <td>49000.000000</td>\n",
       "    </tr>\n",
       "    <tr>\n",
       "      <th>50%</th>\n",
       "      <td>58.000000</td>\n",
       "      <td>2.017080e+07</td>\n",
       "      <td>64000.000000</td>\n",
       "    </tr>\n",
       "    <tr>\n",
       "      <th>75%</th>\n",
       "      <td>73.000000</td>\n",
       "      <td>2.017123e+07</td>\n",
       "      <td>80000.000000</td>\n",
       "    </tr>\n",
       "    <tr>\n",
       "      <th>max</th>\n",
       "      <td>118.000000</td>\n",
       "      <td>2.018073e+07</td>\n",
       "      <td>120000.000000</td>\n",
       "    </tr>\n",
       "  </tbody>\n",
       "</table>\n",
       "</div>"
      ],
      "text/plain": [
       "                age  became_member_on         income\n",
       "count  17000.000000      1.700000e+04   14825.000000\n",
       "mean      62.531412      2.016703e+07   65404.991568\n",
       "std       26.738580      1.167750e+04   21598.299410\n",
       "min       18.000000      2.013073e+07   30000.000000\n",
       "25%       45.000000      2.016053e+07   49000.000000\n",
       "50%       58.000000      2.017080e+07   64000.000000\n",
       "75%       73.000000      2.017123e+07   80000.000000\n",
       "max      118.000000      2.018073e+07  120000.000000"
      ]
     },
     "execution_count": 27,
     "metadata": {},
     "output_type": "execute_result"
    }
   ],
   "source": [
    "profile_data.describe()\n",
    "\n",
    "# Reasonable standard deviation of age\n",
    "# High standard deviation in income"
   ]
  },
  {
   "cell_type": "code",
   "execution_count": 28,
   "id": "f0266cca",
   "metadata": {
    "ExecuteTime": {
     "end_time": "2021-04-11T08:59:33.638269Z",
     "start_time": "2021-04-11T08:59:33.592131Z"
    }
   },
   "outputs": [
    {
     "data": {
      "text/html": [
       "<div>\n",
       "<style scoped>\n",
       "    .dataframe tbody tr th:only-of-type {\n",
       "        vertical-align: middle;\n",
       "    }\n",
       "\n",
       "    .dataframe tbody tr th {\n",
       "        vertical-align: top;\n",
       "    }\n",
       "\n",
       "    .dataframe thead th {\n",
       "        text-align: right;\n",
       "    }\n",
       "</style>\n",
       "<table border=\"1\" class=\"dataframe\">\n",
       "  <thead>\n",
       "    <tr style=\"text-align: right;\">\n",
       "      <th></th>\n",
       "      <th>time</th>\n",
       "    </tr>\n",
       "  </thead>\n",
       "  <tbody>\n",
       "    <tr>\n",
       "      <th>count</th>\n",
       "      <td>306534.000000</td>\n",
       "    </tr>\n",
       "    <tr>\n",
       "      <th>mean</th>\n",
       "      <td>366.382940</td>\n",
       "    </tr>\n",
       "    <tr>\n",
       "      <th>std</th>\n",
       "      <td>200.326314</td>\n",
       "    </tr>\n",
       "    <tr>\n",
       "      <th>min</th>\n",
       "      <td>0.000000</td>\n",
       "    </tr>\n",
       "    <tr>\n",
       "      <th>25%</th>\n",
       "      <td>186.000000</td>\n",
       "    </tr>\n",
       "    <tr>\n",
       "      <th>50%</th>\n",
       "      <td>408.000000</td>\n",
       "    </tr>\n",
       "    <tr>\n",
       "      <th>75%</th>\n",
       "      <td>528.000000</td>\n",
       "    </tr>\n",
       "    <tr>\n",
       "      <th>max</th>\n",
       "      <td>714.000000</td>\n",
       "    </tr>\n",
       "  </tbody>\n",
       "</table>\n",
       "</div>"
      ],
      "text/plain": [
       "                time\n",
       "count  306534.000000\n",
       "mean      366.382940\n",
       "std       200.326314\n",
       "min         0.000000\n",
       "25%       186.000000\n",
       "50%       408.000000\n",
       "75%       528.000000\n",
       "max       714.000000"
      ]
     },
     "execution_count": 28,
     "metadata": {},
     "output_type": "execute_result"
    }
   ],
   "source": [
    "transcript_data.describe()\n",
    "\n",
    "# Nothing to infer"
   ]
  },
  {
   "cell_type": "markdown",
   "id": "7da366a0",
   "metadata": {},
   "source": [
    "#### Checking for duplicates"
   ]
  },
  {
   "cell_type": "code",
   "execution_count": 36,
   "id": "45432401",
   "metadata": {
    "ExecuteTime": {
     "end_time": "2021-04-11T09:02:57.822052Z",
     "start_time": "2021-04-11T09:02:57.801264Z"
    }
   },
   "outputs": [
    {
     "data": {
      "text/plain": [
       "0"
      ]
     },
     "execution_count": 36,
     "metadata": {},
     "output_type": "execute_result"
    }
   ],
   "source": [
    "# Checking same offer ids which means same offer\n",
    "portfolio_data.id.duplicated().sum()\n",
    "\n",
    "# No duplicates in portfolio data"
   ]
  },
  {
   "cell_type": "code",
   "execution_count": 39,
   "id": "4b9ce6e0",
   "metadata": {
    "ExecuteTime": {
     "end_time": "2021-04-11T09:03:56.512725Z",
     "start_time": "2021-04-11T09:03:56.502754Z"
    }
   },
   "outputs": [
    {
     "data": {
      "text/plain": [
       "0"
      ]
     },
     "execution_count": 39,
     "metadata": {},
     "output_type": "execute_result"
    }
   ],
   "source": [
    "# Checking duplicates in profile data on customer id\n",
    "profile_data.id.duplicated().sum()\n",
    "\n",
    "# No duplicates"
   ]
  },
  {
   "cell_type": "code",
   "execution_count": 40,
   "id": "06776ca8",
   "metadata": {
    "ExecuteTime": {
     "end_time": "2021-04-11T09:04:47.854728Z",
     "start_time": "2021-04-11T09:04:47.774005Z"
    }
   },
   "outputs": [
    {
     "data": {
      "text/plain": [
       "289534"
      ]
     },
     "execution_count": 40,
     "metadata": {},
     "output_type": "execute_result"
    }
   ],
   "source": [
    "# Checking duplicates in transcript data on person(customer id)\n",
    "transcript_data.person.duplicated().sum()\n",
    "\n",
    "# These number of people have multiple orders."
   ]
  },
  {
   "cell_type": "markdown",
   "id": "91b939c2",
   "metadata": {},
   "source": [
    "- **No duplicates in portfolio data**\n",
    "- **No duplicates in profile data**\n",
    "- **289534 number of people have multiple orders. What to do will be decided later depending on data.**"
   ]
  },
  {
   "cell_type": "markdown",
   "id": "d358d0a8",
   "metadata": {},
   "source": [
    "#### Checking for Null values"
   ]
  },
  {
   "cell_type": "code",
   "execution_count": 43,
   "id": "f67b2639",
   "metadata": {
    "ExecuteTime": {
     "end_time": "2021-04-11T09:08:31.229621Z",
     "start_time": "2021-04-11T09:08:31.218302Z"
    }
   },
   "outputs": [
    {
     "name": "stdout",
     "output_type": "stream",
     "text": [
      "reward        0\n",
      "channels      0\n",
      "difficulty    0\n",
      "duration      0\n",
      "offer_type    0\n",
      "id            0\n",
      "dtype: int64\n"
     ]
    }
   ],
   "source": [
    "# Portfolio data\n",
    "print(portfolio_data.isna().sum())\n",
    "\n",
    "# No null values"
   ]
  },
  {
   "cell_type": "code",
   "execution_count": 51,
   "id": "5312915d",
   "metadata": {
    "ExecuteTime": {
     "end_time": "2021-04-11T09:11:12.402937Z",
     "start_time": "2021-04-11T09:11:12.384627Z"
    }
   },
   "outputs": [
    {
     "name": "stdout",
     "output_type": "stream",
     "text": [
      "gender              2175\n",
      "age                    0\n",
      "id                     0\n",
      "became_member_on       0\n",
      "income              2175\n",
      "dtype: int64\n",
      "\n",
      "Percentage of data missing:  0.12794117647058822\n"
     ]
    }
   ],
   "source": [
    "# Profile data\n",
    "print(profile_data.isna().sum())\n",
    "\n",
    "# Gender has null values\n",
    "# Checking percentage of null values\n",
    "print('\\nPercentage of data missing: ', profile_data.gender.isna().sum() / profile_data.shape[0])"
   ]
  },
  {
   "cell_type": "code",
   "execution_count": 47,
   "id": "a21922d1",
   "metadata": {
    "ExecuteTime": {
     "end_time": "2021-04-11T09:09:31.051088Z",
     "start_time": "2021-04-11T09:09:30.951079Z"
    }
   },
   "outputs": [
    {
     "data": {
      "text/plain": [
       "person    0\n",
       "event     0\n",
       "value     0\n",
       "time      0\n",
       "dtype: int64"
      ]
     },
     "execution_count": 47,
     "metadata": {},
     "output_type": "execute_result"
    }
   ],
   "source": [
    "# Transcript data\n",
    "transcript_data.isna().sum()\n",
    "\n",
    "# No null values"
   ]
  },
  {
   "cell_type": "markdown",
   "id": "c68ae7f5",
   "metadata": {},
   "source": [
    "- **No missing data in portfolio and transcript but about 13% gender data missing in profile and that can be removed.**\n",
    "- This may increase as we have to merge data of profile and transcript."
   ]
  },
  {
   "cell_type": "markdown",
   "id": "39de3195",
   "metadata": {},
   "source": [
    "### Access Summary"
   ]
  },
  {
   "cell_type": "markdown",
   "id": "506f5866",
   "metadata": {},
   "source": [
    "***Tidiness Issues***\n",
    "- Portfolio data has channels in the form of list\n",
    "- Transcript data has value column containg items in the form of dictionary.\n",
    "\n",
    "***Quality Issues***\n",
    "- Profile data has gender and income column containing null values"
   ]
  },
  {
   "cell_type": "markdown",
   "id": "b0028572",
   "metadata": {},
   "source": [
    "### *Clean Data*"
   ]
  },
  {
   "cell_type": "code",
   "execution_count": 56,
   "id": "41187f0d",
   "metadata": {
    "ExecuteTime": {
     "end_time": "2021-04-11T09:31:54.078996Z",
     "start_time": "2021-04-11T09:31:54.019695Z"
    }
   },
   "outputs": [],
   "source": [
    "# Creating copies of the data\n",
    "portfolio_data_clean = portfolio_data.copy()\n",
    "profile_data_clean = profile_data.copy()\n",
    "transcript_data_clean = transcript_data.copy()"
   ]
  },
  {
   "cell_type": "markdown",
   "id": "56aa8bfe",
   "metadata": {},
   "source": [
    "**Define** "
   ]
  },
  {
   "cell_type": "code",
   "execution_count": null,
   "id": "fd9f4dbb",
   "metadata": {},
   "outputs": [],
   "source": []
  },
  {
   "cell_type": "markdown",
   "id": "f6f9c06e",
   "metadata": {},
   "source": [
    "**Code**"
   ]
  },
  {
   "cell_type": "code",
   "execution_count": null,
   "id": "4d4bbbbe",
   "metadata": {},
   "outputs": [],
   "source": []
  },
  {
   "cell_type": "markdown",
   "id": "0094b28e",
   "metadata": {},
   "source": [
    "**Test**"
   ]
  },
  {
   "cell_type": "code",
   "execution_count": null,
   "id": "2085d62f",
   "metadata": {},
   "outputs": [],
   "source": []
  },
  {
   "cell_type": "markdown",
   "id": "ae761d4d",
   "metadata": {},
   "source": [
    "**Define** "
   ]
  },
  {
   "cell_type": "code",
   "execution_count": null,
   "id": "c3cf5b65",
   "metadata": {},
   "outputs": [],
   "source": []
  },
  {
   "cell_type": "markdown",
   "id": "0d64ce3e",
   "metadata": {},
   "source": [
    "**Code**"
   ]
  },
  {
   "cell_type": "code",
   "execution_count": null,
   "id": "3d2f767d",
   "metadata": {},
   "outputs": [],
   "source": []
  },
  {
   "cell_type": "markdown",
   "id": "70847b4f",
   "metadata": {},
   "source": [
    "**Test**"
   ]
  },
  {
   "cell_type": "code",
   "execution_count": null,
   "id": "e44f34f7",
   "metadata": {},
   "outputs": [],
   "source": []
  },
  {
   "cell_type": "markdown",
   "id": "e26aaeb1",
   "metadata": {},
   "source": [
    "**Define** "
   ]
  },
  {
   "cell_type": "code",
   "execution_count": null,
   "id": "0bbaa530",
   "metadata": {},
   "outputs": [],
   "source": []
  },
  {
   "cell_type": "markdown",
   "id": "e1588103",
   "metadata": {},
   "source": [
    "**Code**"
   ]
  },
  {
   "cell_type": "code",
   "execution_count": null,
   "id": "0596664d",
   "metadata": {},
   "outputs": [],
   "source": []
  },
  {
   "cell_type": "markdown",
   "id": "9b94df3c",
   "metadata": {},
   "source": [
    "**Test**"
   ]
  },
  {
   "cell_type": "code",
   "execution_count": null,
   "id": "3bbacd7b",
   "metadata": {},
   "outputs": [],
   "source": []
  },
  {
   "cell_type": "code",
   "execution_count": null,
   "id": "a67b2ce9",
   "metadata": {},
   "outputs": [],
   "source": []
  },
  {
   "cell_type": "code",
   "execution_count": null,
   "id": "fc880e62",
   "metadata": {},
   "outputs": [],
   "source": []
  }
 ],
 "metadata": {
  "kernelspec": {
   "display_name": "Python 3",
   "language": "python",
   "name": "python3"
  },
  "language_info": {
   "codemirror_mode": {
    "name": "ipython",
    "version": 3
   },
   "file_extension": ".py",
   "mimetype": "text/x-python",
   "name": "python",
   "nbconvert_exporter": "python",
   "pygments_lexer": "ipython3",
   "version": "3.7.10"
  }
 },
 "nbformat": 4,
 "nbformat_minor": 5
}
