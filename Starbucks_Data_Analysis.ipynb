{
 "cells": [
  {
   "cell_type": "markdown",
   "id": "b0a789e1",
   "metadata": {},
   "source": [
    "# *Starbucks Data Analysis*"
   ]
  },
  {
   "cell_type": "markdown",
   "id": "7b8ac66a",
   "metadata": {},
   "source": [
    "## Introduction"
   ]
  },
  {
   "cell_type": "markdown",
   "id": "a517e30d",
   "metadata": {},
   "source": [
    "This data set contains simulated data that mimics customer behavior on the Starbucks rewards mobile app. Once every few days, Starbucks sends out an offer to users of the mobile app. An offer can be merely an advertisement for a drink or an actual offer such as a discount or BOGO (buy one get one free). Some users might not receive any offer during certain weeks. \n",
    "\n",
    "Not all users receive the same offer.\n",
    "\n",
    "This data set is a simplified version of the real Starbucks app because the underlying simulator only has one product whereas Starbucks actually sells dozens of products.\n",
    "\n",
    "Every offer has a validity period before the offer expires. As an example, a BOGO offer might be valid for only 5 days. You'll see in the data set that informational offers have a validity period even though these ads are merely providing information about a product; for example, if an informational offer has 7 days of validity, you can assume the customer is feeling the influence of the offer for 7 days after receiving the advertisement.\n",
    "\n",
    "Someone using the app might make a purchase through the app without having received an offer or seen an offer."
   ]
  },
  {
   "cell_type": "markdown",
   "id": "dc2e7479",
   "metadata": {},
   "source": [
    "### Importing Dataset"
   ]
  },
  {
   "cell_type": "code",
   "execution_count": 111,
   "id": "3ae9ce79",
   "metadata": {
    "ExecuteTime": {
     "end_time": "2021-05-11T11:13:40.313939Z",
     "start_time": "2021-05-11T11:13:40.268764Z"
    }
   },
   "outputs": [],
   "source": [
    "import pandas as pd\n",
    "import numpy as np\n",
    "\n",
    "import seaborn as sb\n",
    "import matplotlib.pyplot as plt\n",
    "\n",
    "%matplotlib inline"
   ]
  },
  {
   "cell_type": "code",
   "execution_count": 112,
   "id": "787ea835",
   "metadata": {
    "ExecuteTime": {
     "end_time": "2021-05-11T11:13:41.397039Z",
     "start_time": "2021-05-11T11:13:40.323111Z"
    }
   },
   "outputs": [],
   "source": [
    "data = pd.read_csv('data/merged_data.csv')"
   ]
  },
  {
   "cell_type": "code",
   "execution_count": 113,
   "id": "c71474b4",
   "metadata": {
    "ExecuteTime": {
     "end_time": "2021-05-11T11:13:41.483091Z",
     "start_time": "2021-05-11T11:13:41.400946Z"
    }
   },
   "outputs": [
    {
     "data": {
      "text/html": [
       "<div>\n",
       "<style scoped>\n",
       "    .dataframe tbody tr th:only-of-type {\n",
       "        vertical-align: middle;\n",
       "    }\n",
       "\n",
       "    .dataframe tbody tr th {\n",
       "        vertical-align: top;\n",
       "    }\n",
       "\n",
       "    .dataframe thead th {\n",
       "        text-align: right;\n",
       "    }\n",
       "</style>\n",
       "<table border=\"1\" class=\"dataframe\">\n",
       "  <thead>\n",
       "    <tr style=\"text-align: right;\">\n",
       "      <th></th>\n",
       "      <th>customer_id</th>\n",
       "      <th>event</th>\n",
       "      <th>test_day</th>\n",
       "      <th>offer_id</th>\n",
       "      <th>reward</th>\n",
       "      <th>amount</th>\n",
       "      <th>gender</th>\n",
       "      <th>age</th>\n",
       "      <th>became_member_on</th>\n",
       "      <th>income</th>\n",
       "      <th>difficulty</th>\n",
       "      <th>duration</th>\n",
       "      <th>offer_type</th>\n",
       "      <th>email</th>\n",
       "      <th>mobile</th>\n",
       "      <th>social</th>\n",
       "      <th>web</th>\n",
       "    </tr>\n",
       "  </thead>\n",
       "  <tbody>\n",
       "    <tr>\n",
       "      <th>1018</th>\n",
       "      <td>68eee228713c429ebe1300155ad1fb33</td>\n",
       "      <td>offer completed</td>\n",
       "      <td>4</td>\n",
       "      <td>2298d6c36e964ae4a3e7e9706d1fb8c2</td>\n",
       "      <td>3</td>\n",
       "      <td>0.00</td>\n",
       "      <td>female</td>\n",
       "      <td>49</td>\n",
       "      <td>2017-04-08</td>\n",
       "      <td>57000.0</td>\n",
       "      <td>7.0</td>\n",
       "      <td>7.0</td>\n",
       "      <td>discount</td>\n",
       "      <td>1.0</td>\n",
       "      <td>1.0</td>\n",
       "      <td>1.0</td>\n",
       "      <td>1.0</td>\n",
       "    </tr>\n",
       "    <tr>\n",
       "      <th>134287</th>\n",
       "      <td>d6aba782551648f08e8003947bb74307</td>\n",
       "      <td>offer received</td>\n",
       "      <td>0</td>\n",
       "      <td>3f207df678b143eea3cee63160fa8bed</td>\n",
       "      <td>0</td>\n",
       "      <td>0.00</td>\n",
       "      <td>male</td>\n",
       "      <td>73</td>\n",
       "      <td>2017-10-05</td>\n",
       "      <td>117000.0</td>\n",
       "      <td>0.0</td>\n",
       "      <td>4.0</td>\n",
       "      <td>informational</td>\n",
       "      <td>1.0</td>\n",
       "      <td>1.0</td>\n",
       "      <td>0.0</td>\n",
       "      <td>1.0</td>\n",
       "    </tr>\n",
       "    <tr>\n",
       "      <th>100556</th>\n",
       "      <td>d0ab05be7544435f935f13082b31ff0e</td>\n",
       "      <td>transaction</td>\n",
       "      <td>12</td>\n",
       "      <td>NaN</td>\n",
       "      <td>0</td>\n",
       "      <td>16.52</td>\n",
       "      <td>female</td>\n",
       "      <td>44</td>\n",
       "      <td>2016-09-19</td>\n",
       "      <td>62000.0</td>\n",
       "      <td>NaN</td>\n",
       "      <td>NaN</td>\n",
       "      <td>NaN</td>\n",
       "      <td>NaN</td>\n",
       "      <td>NaN</td>\n",
       "      <td>NaN</td>\n",
       "      <td>NaN</td>\n",
       "    </tr>\n",
       "    <tr>\n",
       "      <th>265098</th>\n",
       "      <td>de66a1379276494ca24ca63779aa2bf3</td>\n",
       "      <td>transaction</td>\n",
       "      <td>20</td>\n",
       "      <td>NaN</td>\n",
       "      <td>0</td>\n",
       "      <td>2.09</td>\n",
       "      <td>female</td>\n",
       "      <td>62</td>\n",
       "      <td>2018-06-17</td>\n",
       "      <td>35000.0</td>\n",
       "      <td>NaN</td>\n",
       "      <td>NaN</td>\n",
       "      <td>NaN</td>\n",
       "      <td>NaN</td>\n",
       "      <td>NaN</td>\n",
       "      <td>NaN</td>\n",
       "      <td>NaN</td>\n",
       "    </tr>\n",
       "    <tr>\n",
       "      <th>197990</th>\n",
       "      <td>f6251250f1044d7cb66270f8aa380d9a</td>\n",
       "      <td>offer viewed</td>\n",
       "      <td>1</td>\n",
       "      <td>fafdcd668e3743c1bb461111dcafc2a4</td>\n",
       "      <td>0</td>\n",
       "      <td>0.00</td>\n",
       "      <td>others</td>\n",
       "      <td>73</td>\n",
       "      <td>2018-04-30</td>\n",
       "      <td>52000.0</td>\n",
       "      <td>10.0</td>\n",
       "      <td>10.0</td>\n",
       "      <td>discount</td>\n",
       "      <td>1.0</td>\n",
       "      <td>1.0</td>\n",
       "      <td>1.0</td>\n",
       "      <td>1.0</td>\n",
       "    </tr>\n",
       "  </tbody>\n",
       "</table>\n",
       "</div>"
      ],
      "text/plain": [
       "                             customer_id            event  test_day  \\\n",
       "1018    68eee228713c429ebe1300155ad1fb33  offer completed         4   \n",
       "134287  d6aba782551648f08e8003947bb74307   offer received         0   \n",
       "100556  d0ab05be7544435f935f13082b31ff0e      transaction        12   \n",
       "265098  de66a1379276494ca24ca63779aa2bf3      transaction        20   \n",
       "197990  f6251250f1044d7cb66270f8aa380d9a     offer viewed         1   \n",
       "\n",
       "                                offer_id  reward  amount  gender  age  \\\n",
       "1018    2298d6c36e964ae4a3e7e9706d1fb8c2       3    0.00  female   49   \n",
       "134287  3f207df678b143eea3cee63160fa8bed       0    0.00    male   73   \n",
       "100556                               NaN       0   16.52  female   44   \n",
       "265098                               NaN       0    2.09  female   62   \n",
       "197990  fafdcd668e3743c1bb461111dcafc2a4       0    0.00  others   73   \n",
       "\n",
       "       became_member_on    income  difficulty  duration     offer_type  email  \\\n",
       "1018         2017-04-08   57000.0         7.0       7.0       discount    1.0   \n",
       "134287       2017-10-05  117000.0         0.0       4.0  informational    1.0   \n",
       "100556       2016-09-19   62000.0         NaN       NaN            NaN    NaN   \n",
       "265098       2018-06-17   35000.0         NaN       NaN            NaN    NaN   \n",
       "197990       2018-04-30   52000.0        10.0      10.0       discount    1.0   \n",
       "\n",
       "        mobile  social  web  \n",
       "1018       1.0     1.0  1.0  \n",
       "134287     1.0     0.0  1.0  \n",
       "100556     NaN     NaN  NaN  \n",
       "265098     NaN     NaN  NaN  \n",
       "197990     1.0     1.0  1.0  "
      ]
     },
     "execution_count": 113,
     "metadata": {},
     "output_type": "execute_result"
    }
   ],
   "source": [
    "data.sample(5)"
   ]
  },
  {
   "cell_type": "code",
   "execution_count": 114,
   "id": "63cb79e1",
   "metadata": {
    "ExecuteTime": {
     "end_time": "2021-05-11T11:13:41.702480Z",
     "start_time": "2021-05-11T11:13:41.488184Z"
    }
   },
   "outputs": [
    {
     "name": "stdout",
     "output_type": "stream",
     "text": [
      "<class 'pandas.core.frame.DataFrame'>\n",
      "RangeIndex: 272762 entries, 0 to 272761\n",
      "Data columns (total 17 columns):\n",
      " #   Column            Non-Null Count   Dtype  \n",
      "---  ------            --------------   -----  \n",
      " 0   customer_id       272762 non-null  object \n",
      " 1   event             272762 non-null  object \n",
      " 2   test_day          272762 non-null  int64  \n",
      " 3   offer_id          148805 non-null  object \n",
      " 4   reward            272762 non-null  int64  \n",
      " 5   amount            272762 non-null  float64\n",
      " 6   gender            272762 non-null  object \n",
      " 7   age               272762 non-null  int64  \n",
      " 8   became_member_on  272762 non-null  object \n",
      " 9   income            272762 non-null  float64\n",
      " 10  difficulty        148805 non-null  float64\n",
      " 11  duration          148805 non-null  float64\n",
      " 12  offer_type        148805 non-null  object \n",
      " 13  email             148805 non-null  float64\n",
      " 14  mobile            148805 non-null  float64\n",
      " 15  social            148805 non-null  float64\n",
      " 16  web               148805 non-null  float64\n",
      "dtypes: float64(8), int64(3), object(6)\n",
      "memory usage: 35.4+ MB\n"
     ]
    }
   ],
   "source": [
    "data.info()"
   ]
  },
  {
   "cell_type": "markdown",
   "id": "e95572bd",
   "metadata": {},
   "source": [
    "#### Converting `became-member-on` to datetime format "
   ]
  },
  {
   "cell_type": "code",
   "execution_count": 115,
   "id": "7cccf939",
   "metadata": {
    "ExecuteTime": {
     "end_time": "2021-05-11T11:13:41.856862Z",
     "start_time": "2021-05-11T11:13:41.706050Z"
    }
   },
   "outputs": [],
   "source": [
    "data['became_member_on'] = pd.to_datetime(data['became_member_on'])"
   ]
  },
  {
   "cell_type": "code",
   "execution_count": 116,
   "id": "8f0b4ec6",
   "metadata": {
    "ExecuteTime": {
     "end_time": "2021-05-11T11:13:41.915912Z",
     "start_time": "2021-05-11T11:13:41.861583Z"
    }
   },
   "outputs": [
    {
     "data": {
      "text/html": [
       "<div>\n",
       "<style scoped>\n",
       "    .dataframe tbody tr th:only-of-type {\n",
       "        vertical-align: middle;\n",
       "    }\n",
       "\n",
       "    .dataframe tbody tr th {\n",
       "        vertical-align: top;\n",
       "    }\n",
       "\n",
       "    .dataframe thead th {\n",
       "        text-align: right;\n",
       "    }\n",
       "</style>\n",
       "<table border=\"1\" class=\"dataframe\">\n",
       "  <thead>\n",
       "    <tr style=\"text-align: right;\">\n",
       "      <th></th>\n",
       "      <th>customer_id</th>\n",
       "      <th>event</th>\n",
       "      <th>test_day</th>\n",
       "      <th>offer_id</th>\n",
       "      <th>reward</th>\n",
       "      <th>amount</th>\n",
       "      <th>gender</th>\n",
       "      <th>age</th>\n",
       "      <th>became_member_on</th>\n",
       "      <th>income</th>\n",
       "      <th>difficulty</th>\n",
       "      <th>duration</th>\n",
       "      <th>offer_type</th>\n",
       "      <th>email</th>\n",
       "      <th>mobile</th>\n",
       "      <th>social</th>\n",
       "      <th>web</th>\n",
       "    </tr>\n",
       "  </thead>\n",
       "  <tbody>\n",
       "    <tr>\n",
       "      <th>39042</th>\n",
       "      <td>7d2d942131924c128c6374264dfd34ed</td>\n",
       "      <td>offer viewed</td>\n",
       "      <td>0</td>\n",
       "      <td>9b98b8c7a33c4b65b9aebfe6a799e6d9</td>\n",
       "      <td>0</td>\n",
       "      <td>0.00</td>\n",
       "      <td>female</td>\n",
       "      <td>55</td>\n",
       "      <td>2018-04-04</td>\n",
       "      <td>75000.0</td>\n",
       "      <td>5.0</td>\n",
       "      <td>7.0</td>\n",
       "      <td>bogo</td>\n",
       "      <td>1.0</td>\n",
       "      <td>1.0</td>\n",
       "      <td>0.0</td>\n",
       "      <td>1.0</td>\n",
       "    </tr>\n",
       "    <tr>\n",
       "      <th>160608</th>\n",
       "      <td>c13f77ec3e424cdb8b2ed578bdd9ac0c</td>\n",
       "      <td>transaction</td>\n",
       "      <td>25</td>\n",
       "      <td>NaN</td>\n",
       "      <td>0</td>\n",
       "      <td>30.22</td>\n",
       "      <td>male</td>\n",
       "      <td>48</td>\n",
       "      <td>2018-05-04</td>\n",
       "      <td>77000.0</td>\n",
       "      <td>NaN</td>\n",
       "      <td>NaN</td>\n",
       "      <td>NaN</td>\n",
       "      <td>NaN</td>\n",
       "      <td>NaN</td>\n",
       "      <td>NaN</td>\n",
       "      <td>NaN</td>\n",
       "    </tr>\n",
       "    <tr>\n",
       "      <th>86304</th>\n",
       "      <td>45cd1a36dae04428a949857ede724b06</td>\n",
       "      <td>transaction</td>\n",
       "      <td>4</td>\n",
       "      <td>NaN</td>\n",
       "      <td>0</td>\n",
       "      <td>1.77</td>\n",
       "      <td>male</td>\n",
       "      <td>52</td>\n",
       "      <td>2016-12-31</td>\n",
       "      <td>62000.0</td>\n",
       "      <td>NaN</td>\n",
       "      <td>NaN</td>\n",
       "      <td>NaN</td>\n",
       "      <td>NaN</td>\n",
       "      <td>NaN</td>\n",
       "      <td>NaN</td>\n",
       "      <td>NaN</td>\n",
       "    </tr>\n",
       "    <tr>\n",
       "      <th>262597</th>\n",
       "      <td>32d10ac327d341989541e004215cf8b8</td>\n",
       "      <td>transaction</td>\n",
       "      <td>17</td>\n",
       "      <td>NaN</td>\n",
       "      <td>0</td>\n",
       "      <td>23.88</td>\n",
       "      <td>female</td>\n",
       "      <td>50</td>\n",
       "      <td>2017-04-08</td>\n",
       "      <td>107000.0</td>\n",
       "      <td>NaN</td>\n",
       "      <td>NaN</td>\n",
       "      <td>NaN</td>\n",
       "      <td>NaN</td>\n",
       "      <td>NaN</td>\n",
       "      <td>NaN</td>\n",
       "      <td>NaN</td>\n",
       "    </tr>\n",
       "    <tr>\n",
       "      <th>251697</th>\n",
       "      <td>eff73dc9e26944cf8511b0742c579457</td>\n",
       "      <td>offer completed</td>\n",
       "      <td>22</td>\n",
       "      <td>9b98b8c7a33c4b65b9aebfe6a799e6d9</td>\n",
       "      <td>5</td>\n",
       "      <td>0.00</td>\n",
       "      <td>male</td>\n",
       "      <td>77</td>\n",
       "      <td>2016-08-16</td>\n",
       "      <td>57000.0</td>\n",
       "      <td>5.0</td>\n",
       "      <td>7.0</td>\n",
       "      <td>bogo</td>\n",
       "      <td>1.0</td>\n",
       "      <td>1.0</td>\n",
       "      <td>0.0</td>\n",
       "      <td>1.0</td>\n",
       "    </tr>\n",
       "  </tbody>\n",
       "</table>\n",
       "</div>"
      ],
      "text/plain": [
       "                             customer_id            event  test_day  \\\n",
       "39042   7d2d942131924c128c6374264dfd34ed     offer viewed         0   \n",
       "160608  c13f77ec3e424cdb8b2ed578bdd9ac0c      transaction        25   \n",
       "86304   45cd1a36dae04428a949857ede724b06      transaction         4   \n",
       "262597  32d10ac327d341989541e004215cf8b8      transaction        17   \n",
       "251697  eff73dc9e26944cf8511b0742c579457  offer completed        22   \n",
       "\n",
       "                                offer_id  reward  amount  gender  age  \\\n",
       "39042   9b98b8c7a33c4b65b9aebfe6a799e6d9       0    0.00  female   55   \n",
       "160608                               NaN       0   30.22    male   48   \n",
       "86304                                NaN       0    1.77    male   52   \n",
       "262597                               NaN       0   23.88  female   50   \n",
       "251697  9b98b8c7a33c4b65b9aebfe6a799e6d9       5    0.00    male   77   \n",
       "\n",
       "       became_member_on    income  difficulty  duration offer_type  email  \\\n",
       "39042        2018-04-04   75000.0         5.0       7.0       bogo    1.0   \n",
       "160608       2018-05-04   77000.0         NaN       NaN        NaN    NaN   \n",
       "86304        2016-12-31   62000.0         NaN       NaN        NaN    NaN   \n",
       "262597       2017-04-08  107000.0         NaN       NaN        NaN    NaN   \n",
       "251697       2016-08-16   57000.0         5.0       7.0       bogo    1.0   \n",
       "\n",
       "        mobile  social  web  \n",
       "39042      1.0     0.0  1.0  \n",
       "160608     NaN     NaN  NaN  \n",
       "86304      NaN     NaN  NaN  \n",
       "262597     NaN     NaN  NaN  \n",
       "251697     1.0     0.0  1.0  "
      ]
     },
     "execution_count": 116,
     "metadata": {},
     "output_type": "execute_result"
    }
   ],
   "source": [
    "data.sample(5)"
   ]
  },
  {
   "cell_type": "code",
   "execution_count": 117,
   "id": "e716c74f",
   "metadata": {
    "ExecuteTime": {
     "end_time": "2021-05-11T11:13:42.042902Z",
     "start_time": "2021-05-11T11:13:41.918628Z"
    }
   },
   "outputs": [
    {
     "name": "stdout",
     "output_type": "stream",
     "text": [
      "<class 'pandas.core.frame.DataFrame'>\n",
      "RangeIndex: 272762 entries, 0 to 272761\n",
      "Data columns (total 17 columns):\n",
      " #   Column            Non-Null Count   Dtype         \n",
      "---  ------            --------------   -----         \n",
      " 0   customer_id       272762 non-null  object        \n",
      " 1   event             272762 non-null  object        \n",
      " 2   test_day          272762 non-null  int64         \n",
      " 3   offer_id          148805 non-null  object        \n",
      " 4   reward            272762 non-null  int64         \n",
      " 5   amount            272762 non-null  float64       \n",
      " 6   gender            272762 non-null  object        \n",
      " 7   age               272762 non-null  int64         \n",
      " 8   became_member_on  272762 non-null  datetime64[ns]\n",
      " 9   income            272762 non-null  float64       \n",
      " 10  difficulty        148805 non-null  float64       \n",
      " 11  duration          148805 non-null  float64       \n",
      " 12  offer_type        148805 non-null  object        \n",
      " 13  email             148805 non-null  float64       \n",
      " 14  mobile            148805 non-null  float64       \n",
      " 15  social            148805 non-null  float64       \n",
      " 16  web               148805 non-null  float64       \n",
      "dtypes: datetime64[ns](1), float64(8), int64(3), object(5)\n",
      "memory usage: 35.4+ MB\n"
     ]
    }
   ],
   "source": [
    "data.info()"
   ]
  },
  {
   "cell_type": "code",
   "execution_count": 118,
   "id": "a4712908",
   "metadata": {
    "ExecuteTime": {
     "end_time": "2021-05-11T11:13:42.519922Z",
     "start_time": "2021-05-11T11:13:42.048899Z"
    }
   },
   "outputs": [
    {
     "data": {
      "text/html": [
       "<div>\n",
       "<style scoped>\n",
       "    .dataframe tbody tr th:only-of-type {\n",
       "        vertical-align: middle;\n",
       "    }\n",
       "\n",
       "    .dataframe tbody tr th {\n",
       "        vertical-align: top;\n",
       "    }\n",
       "\n",
       "    .dataframe thead th {\n",
       "        text-align: right;\n",
       "    }\n",
       "</style>\n",
       "<table border=\"1\" class=\"dataframe\">\n",
       "  <thead>\n",
       "    <tr style=\"text-align: right;\">\n",
       "      <th></th>\n",
       "      <th>test_day</th>\n",
       "      <th>reward</th>\n",
       "      <th>amount</th>\n",
       "      <th>age</th>\n",
       "      <th>income</th>\n",
       "      <th>difficulty</th>\n",
       "      <th>duration</th>\n",
       "      <th>email</th>\n",
       "      <th>mobile</th>\n",
       "      <th>social</th>\n",
       "      <th>web</th>\n",
       "    </tr>\n",
       "  </thead>\n",
       "  <tbody>\n",
       "    <tr>\n",
       "      <th>count</th>\n",
       "      <td>272762.000000</td>\n",
       "      <td>272762.000000</td>\n",
       "      <td>272762.000000</td>\n",
       "      <td>272762.000000</td>\n",
       "      <td>272762.000000</td>\n",
       "      <td>148805.000000</td>\n",
       "      <td>148805.000000</td>\n",
       "      <td>148805.0</td>\n",
       "      <td>148805.000000</td>\n",
       "      <td>148805.000000</td>\n",
       "      <td>148805.000000</td>\n",
       "    </tr>\n",
       "    <tr>\n",
       "      <th>mean</th>\n",
       "      <td>15.011812</td>\n",
       "      <td>0.588575</td>\n",
       "      <td>6.360646</td>\n",
       "      <td>53.840696</td>\n",
       "      <td>64337.000755</td>\n",
       "      <td>7.890561</td>\n",
       "      <td>6.625207</td>\n",
       "      <td>1.0</td>\n",
       "      <td>0.917160</td>\n",
       "      <td>0.658311</td>\n",
       "      <td>0.806747</td>\n",
       "    </tr>\n",
       "    <tr>\n",
       "      <th>std</th>\n",
       "      <td>8.331806</td>\n",
       "      <td>1.889452</td>\n",
       "      <td>22.509207</td>\n",
       "      <td>17.551337</td>\n",
       "      <td>21243.762941</td>\n",
       "      <td>5.041335</td>\n",
       "      <td>2.133035</td>\n",
       "      <td>0.0</td>\n",
       "      <td>0.275641</td>\n",
       "      <td>0.474277</td>\n",
       "      <td>0.394851</td>\n",
       "    </tr>\n",
       "    <tr>\n",
       "      <th>min</th>\n",
       "      <td>0.000000</td>\n",
       "      <td>0.000000</td>\n",
       "      <td>0.000000</td>\n",
       "      <td>18.000000</td>\n",
       "      <td>30000.000000</td>\n",
       "      <td>0.000000</td>\n",
       "      <td>3.000000</td>\n",
       "      <td>1.0</td>\n",
       "      <td>0.000000</td>\n",
       "      <td>0.000000</td>\n",
       "      <td>0.000000</td>\n",
       "    </tr>\n",
       "    <tr>\n",
       "      <th>25%</th>\n",
       "      <td>7.000000</td>\n",
       "      <td>0.000000</td>\n",
       "      <td>0.000000</td>\n",
       "      <td>41.000000</td>\n",
       "      <td>48000.000000</td>\n",
       "      <td>5.000000</td>\n",
       "      <td>5.000000</td>\n",
       "      <td>1.0</td>\n",
       "      <td>1.000000</td>\n",
       "      <td>0.000000</td>\n",
       "      <td>1.000000</td>\n",
       "    </tr>\n",
       "    <tr>\n",
       "      <th>50%</th>\n",
       "      <td>17.000000</td>\n",
       "      <td>0.000000</td>\n",
       "      <td>0.000000</td>\n",
       "      <td>55.000000</td>\n",
       "      <td>62000.000000</td>\n",
       "      <td>10.000000</td>\n",
       "      <td>7.000000</td>\n",
       "      <td>1.0</td>\n",
       "      <td>1.000000</td>\n",
       "      <td>1.000000</td>\n",
       "      <td>1.000000</td>\n",
       "    </tr>\n",
       "    <tr>\n",
       "      <th>75%</th>\n",
       "      <td>22.000000</td>\n",
       "      <td>0.000000</td>\n",
       "      <td>9.140000</td>\n",
       "      <td>66.000000</td>\n",
       "      <td>78000.000000</td>\n",
       "      <td>10.000000</td>\n",
       "      <td>7.000000</td>\n",
       "      <td>1.0</td>\n",
       "      <td>1.000000</td>\n",
       "      <td>1.000000</td>\n",
       "      <td>1.000000</td>\n",
       "    </tr>\n",
       "    <tr>\n",
       "      <th>max</th>\n",
       "      <td>29.000000</td>\n",
       "      <td>10.000000</td>\n",
       "      <td>1062.280000</td>\n",
       "      <td>101.000000</td>\n",
       "      <td>120000.000000</td>\n",
       "      <td>20.000000</td>\n",
       "      <td>10.000000</td>\n",
       "      <td>1.0</td>\n",
       "      <td>1.000000</td>\n",
       "      <td>1.000000</td>\n",
       "      <td>1.000000</td>\n",
       "    </tr>\n",
       "  </tbody>\n",
       "</table>\n",
       "</div>"
      ],
      "text/plain": [
       "            test_day         reward         amount            age  \\\n",
       "count  272762.000000  272762.000000  272762.000000  272762.000000   \n",
       "mean       15.011812       0.588575       6.360646      53.840696   \n",
       "std         8.331806       1.889452      22.509207      17.551337   \n",
       "min         0.000000       0.000000       0.000000      18.000000   \n",
       "25%         7.000000       0.000000       0.000000      41.000000   \n",
       "50%        17.000000       0.000000       0.000000      55.000000   \n",
       "75%        22.000000       0.000000       9.140000      66.000000   \n",
       "max        29.000000      10.000000    1062.280000     101.000000   \n",
       "\n",
       "              income     difficulty       duration     email         mobile  \\\n",
       "count  272762.000000  148805.000000  148805.000000  148805.0  148805.000000   \n",
       "mean    64337.000755       7.890561       6.625207       1.0       0.917160   \n",
       "std     21243.762941       5.041335       2.133035       0.0       0.275641   \n",
       "min     30000.000000       0.000000       3.000000       1.0       0.000000   \n",
       "25%     48000.000000       5.000000       5.000000       1.0       1.000000   \n",
       "50%     62000.000000      10.000000       7.000000       1.0       1.000000   \n",
       "75%     78000.000000      10.000000       7.000000       1.0       1.000000   \n",
       "max    120000.000000      20.000000      10.000000       1.0       1.000000   \n",
       "\n",
       "              social            web  \n",
       "count  148805.000000  148805.000000  \n",
       "mean        0.658311       0.806747  \n",
       "std         0.474277       0.394851  \n",
       "min         0.000000       0.000000  \n",
       "25%         0.000000       1.000000  \n",
       "50%         1.000000       1.000000  \n",
       "75%         1.000000       1.000000  \n",
       "max         1.000000       1.000000  "
      ]
     },
     "execution_count": 118,
     "metadata": {},
     "output_type": "execute_result"
    }
   ],
   "source": [
    "data.describe()"
   ]
  },
  {
   "cell_type": "markdown",
   "id": "bbdb0022",
   "metadata": {},
   "source": [
    "#### Modifying Data"
   ]
  },
  {
   "cell_type": "code",
   "execution_count": 119,
   "id": "2bccfed9",
   "metadata": {
    "ExecuteTime": {
     "end_time": "2021-05-11T11:13:42.593014Z",
     "start_time": "2021-05-11T11:13:42.524341Z"
    }
   },
   "outputs": [
    {
     "data": {
      "text/html": [
       "<div>\n",
       "<style scoped>\n",
       "    .dataframe tbody tr th:only-of-type {\n",
       "        vertical-align: middle;\n",
       "    }\n",
       "\n",
       "    .dataframe tbody tr th {\n",
       "        vertical-align: top;\n",
       "    }\n",
       "\n",
       "    .dataframe thead th {\n",
       "        text-align: right;\n",
       "    }\n",
       "</style>\n",
       "<table border=\"1\" class=\"dataframe\">\n",
       "  <thead>\n",
       "    <tr style=\"text-align: right;\">\n",
       "      <th></th>\n",
       "      <th>customer_id</th>\n",
       "      <th>event</th>\n",
       "      <th>test_day</th>\n",
       "      <th>offer_id</th>\n",
       "      <th>reward</th>\n",
       "      <th>amount</th>\n",
       "      <th>gender</th>\n",
       "      <th>age</th>\n",
       "      <th>became_member_on</th>\n",
       "      <th>income</th>\n",
       "      <th>difficulty</th>\n",
       "      <th>duration</th>\n",
       "      <th>offer_type</th>\n",
       "      <th>email</th>\n",
       "      <th>mobile</th>\n",
       "      <th>social</th>\n",
       "      <th>web</th>\n",
       "    </tr>\n",
       "  </thead>\n",
       "  <tbody>\n",
       "    <tr>\n",
       "      <th>144061</th>\n",
       "      <td>3de3dd15821b4d0bac9ab28deb6b3eb5</td>\n",
       "      <td>offer completed</td>\n",
       "      <td>15</td>\n",
       "      <td>fafdcd668e3743c1bb461111dcafc2a4</td>\n",
       "      <td>2</td>\n",
       "      <td>0.0</td>\n",
       "      <td>female</td>\n",
       "      <td>61</td>\n",
       "      <td>2017-08-19</td>\n",
       "      <td>98000.0</td>\n",
       "      <td>10.0</td>\n",
       "      <td>10.0</td>\n",
       "      <td>discount</td>\n",
       "      <td>1.0</td>\n",
       "      <td>1.0</td>\n",
       "      <td>1.0</td>\n",
       "      <td>1.0</td>\n",
       "    </tr>\n",
       "    <tr>\n",
       "      <th>124230</th>\n",
       "      <td>fe0c6fb996b341b98063f8ba8a6c6e32</td>\n",
       "      <td>offer received</td>\n",
       "      <td>17</td>\n",
       "      <td>9b98b8c7a33c4b65b9aebfe6a799e6d9</td>\n",
       "      <td>0</td>\n",
       "      <td>0.0</td>\n",
       "      <td>male</td>\n",
       "      <td>64</td>\n",
       "      <td>2017-11-24</td>\n",
       "      <td>104000.0</td>\n",
       "      <td>5.0</td>\n",
       "      <td>7.0</td>\n",
       "      <td>bogo</td>\n",
       "      <td>1.0</td>\n",
       "      <td>1.0</td>\n",
       "      <td>0.0</td>\n",
       "      <td>1.0</td>\n",
       "    </tr>\n",
       "    <tr>\n",
       "      <th>183183</th>\n",
       "      <td>fcbcb57364614efc94f1f0410300cb1f</td>\n",
       "      <td>offer received</td>\n",
       "      <td>0</td>\n",
       "      <td>2906b810c7d4411798c6938adc9daaa5</td>\n",
       "      <td>0</td>\n",
       "      <td>0.0</td>\n",
       "      <td>male</td>\n",
       "      <td>73</td>\n",
       "      <td>2017-11-29</td>\n",
       "      <td>54000.0</td>\n",
       "      <td>10.0</td>\n",
       "      <td>7.0</td>\n",
       "      <td>discount</td>\n",
       "      <td>1.0</td>\n",
       "      <td>1.0</td>\n",
       "      <td>0.0</td>\n",
       "      <td>1.0</td>\n",
       "    </tr>\n",
       "    <tr>\n",
       "      <th>206813</th>\n",
       "      <td>0821c517c4544631b2f540933caeb98b</td>\n",
       "      <td>offer received</td>\n",
       "      <td>17</td>\n",
       "      <td>ae264e3637204a6fb9bb56bc8210ddfd</td>\n",
       "      <td>0</td>\n",
       "      <td>0.0</td>\n",
       "      <td>female</td>\n",
       "      <td>33</td>\n",
       "      <td>2017-08-03</td>\n",
       "      <td>40000.0</td>\n",
       "      <td>10.0</td>\n",
       "      <td>7.0</td>\n",
       "      <td>bogo</td>\n",
       "      <td>1.0</td>\n",
       "      <td>1.0</td>\n",
       "      <td>1.0</td>\n",
       "      <td>0.0</td>\n",
       "    </tr>\n",
       "    <tr>\n",
       "      <th>202824</th>\n",
       "      <td>e212dbf400ae4a189cb9bf0771a5e8ca</td>\n",
       "      <td>offer received</td>\n",
       "      <td>0</td>\n",
       "      <td>f19421c1d4aa40978ebb69ca19b0e20d</td>\n",
       "      <td>0</td>\n",
       "      <td>0.0</td>\n",
       "      <td>male</td>\n",
       "      <td>65</td>\n",
       "      <td>2018-03-05</td>\n",
       "      <td>56000.0</td>\n",
       "      <td>5.0</td>\n",
       "      <td>5.0</td>\n",
       "      <td>bogo</td>\n",
       "      <td>1.0</td>\n",
       "      <td>1.0</td>\n",
       "      <td>1.0</td>\n",
       "      <td>1.0</td>\n",
       "    </tr>\n",
       "  </tbody>\n",
       "</table>\n",
       "</div>"
      ],
      "text/plain": [
       "                             customer_id            event  test_day  \\\n",
       "144061  3de3dd15821b4d0bac9ab28deb6b3eb5  offer completed        15   \n",
       "124230  fe0c6fb996b341b98063f8ba8a6c6e32   offer received        17   \n",
       "183183  fcbcb57364614efc94f1f0410300cb1f   offer received         0   \n",
       "206813  0821c517c4544631b2f540933caeb98b   offer received        17   \n",
       "202824  e212dbf400ae4a189cb9bf0771a5e8ca   offer received         0   \n",
       "\n",
       "                                offer_id  reward  amount  gender  age  \\\n",
       "144061  fafdcd668e3743c1bb461111dcafc2a4       2     0.0  female   61   \n",
       "124230  9b98b8c7a33c4b65b9aebfe6a799e6d9       0     0.0    male   64   \n",
       "183183  2906b810c7d4411798c6938adc9daaa5       0     0.0    male   73   \n",
       "206813  ae264e3637204a6fb9bb56bc8210ddfd       0     0.0  female   33   \n",
       "202824  f19421c1d4aa40978ebb69ca19b0e20d       0     0.0    male   65   \n",
       "\n",
       "       became_member_on    income  difficulty  duration offer_type  email  \\\n",
       "144061       2017-08-19   98000.0        10.0      10.0   discount    1.0   \n",
       "124230       2017-11-24  104000.0         5.0       7.0       bogo    1.0   \n",
       "183183       2017-11-29   54000.0        10.0       7.0   discount    1.0   \n",
       "206813       2017-08-03   40000.0        10.0       7.0       bogo    1.0   \n",
       "202824       2018-03-05   56000.0         5.0       5.0       bogo    1.0   \n",
       "\n",
       "        mobile  social  web  \n",
       "144061     1.0     1.0  1.0  \n",
       "124230     1.0     0.0  1.0  \n",
       "183183     1.0     0.0  1.0  \n",
       "206813     1.0     1.0  0.0  \n",
       "202824     1.0     1.0  1.0  "
      ]
     },
     "execution_count": 119,
     "metadata": {},
     "output_type": "execute_result"
    }
   ],
   "source": [
    "data.sample(5)"
   ]
  },
  {
   "cell_type": "markdown",
   "id": "e079d86e",
   "metadata": {},
   "source": [
    "### *Seperating event type `transaction` and `offers`.*"
   ]
  },
  {
   "cell_type": "code",
   "execution_count": 120,
   "id": "0eebc846",
   "metadata": {
    "ExecuteTime": {
     "end_time": "2021-05-11T11:13:42.849747Z",
     "start_time": "2021-05-11T11:13:42.594057Z"
    }
   },
   "outputs": [],
   "source": [
    "transaction_data = data.query('event == \"transaction\"')\n",
    "# transaction data will have columns with only null values\n",
    "# removing the rows with null values\n",
    "transaction_data = transaction_data.dropna(axis=1)\n",
    "\n",
    "offer_data = data.query('event != \"transaction\"')"
   ]
  },
  {
   "cell_type": "code",
   "execution_count": 121,
   "id": "9eb4504f",
   "metadata": {
    "ExecuteTime": {
     "end_time": "2021-05-11T11:13:42.919387Z",
     "start_time": "2021-05-11T11:13:42.857026Z"
    }
   },
   "outputs": [
    {
     "data": {
      "text/html": [
       "<div>\n",
       "<style scoped>\n",
       "    .dataframe tbody tr th:only-of-type {\n",
       "        vertical-align: middle;\n",
       "    }\n",
       "\n",
       "    .dataframe tbody tr th {\n",
       "        vertical-align: top;\n",
       "    }\n",
       "\n",
       "    .dataframe thead th {\n",
       "        text-align: right;\n",
       "    }\n",
       "</style>\n",
       "<table border=\"1\" class=\"dataframe\">\n",
       "  <thead>\n",
       "    <tr style=\"text-align: right;\">\n",
       "      <th></th>\n",
       "      <th>customer_id</th>\n",
       "      <th>event</th>\n",
       "      <th>test_day</th>\n",
       "      <th>reward</th>\n",
       "      <th>amount</th>\n",
       "      <th>gender</th>\n",
       "      <th>age</th>\n",
       "      <th>became_member_on</th>\n",
       "      <th>income</th>\n",
       "    </tr>\n",
       "  </thead>\n",
       "  <tbody>\n",
       "    <tr>\n",
       "      <th>68293</th>\n",
       "      <td>b7e641061b4345f1adfffffad7e7afdd</td>\n",
       "      <td>transaction</td>\n",
       "      <td>19</td>\n",
       "      <td>0</td>\n",
       "      <td>2.69</td>\n",
       "      <td>male</td>\n",
       "      <td>20</td>\n",
       "      <td>2016-03-03</td>\n",
       "      <td>31000.0</td>\n",
       "    </tr>\n",
       "    <tr>\n",
       "      <th>42483</th>\n",
       "      <td>9680c2c9be554bb6bbafe9dbc06b1be4</td>\n",
       "      <td>transaction</td>\n",
       "      <td>11</td>\n",
       "      <td>0</td>\n",
       "      <td>0.65</td>\n",
       "      <td>male</td>\n",
       "      <td>52</td>\n",
       "      <td>2017-10-02</td>\n",
       "      <td>32000.0</td>\n",
       "    </tr>\n",
       "    <tr>\n",
       "      <th>83689</th>\n",
       "      <td>3579056d94644a9481e05012b48fe252</td>\n",
       "      <td>transaction</td>\n",
       "      <td>12</td>\n",
       "      <td>0</td>\n",
       "      <td>2.49</td>\n",
       "      <td>female</td>\n",
       "      <td>37</td>\n",
       "      <td>2015-01-17</td>\n",
       "      <td>62000.0</td>\n",
       "    </tr>\n",
       "    <tr>\n",
       "      <th>231453</th>\n",
       "      <td>5465e844845a4a5c82864a608b79e940</td>\n",
       "      <td>transaction</td>\n",
       "      <td>28</td>\n",
       "      <td>0</td>\n",
       "      <td>14.82</td>\n",
       "      <td>male</td>\n",
       "      <td>65</td>\n",
       "      <td>2017-11-20</td>\n",
       "      <td>56000.0</td>\n",
       "    </tr>\n",
       "    <tr>\n",
       "      <th>109095</th>\n",
       "      <td>cc0d4ab117254b5299139fa0c488fbb9</td>\n",
       "      <td>transaction</td>\n",
       "      <td>22</td>\n",
       "      <td>0</td>\n",
       "      <td>2.07</td>\n",
       "      <td>male</td>\n",
       "      <td>76</td>\n",
       "      <td>2018-03-21</td>\n",
       "      <td>50000.0</td>\n",
       "    </tr>\n",
       "  </tbody>\n",
       "</table>\n",
       "</div>"
      ],
      "text/plain": [
       "                             customer_id        event  test_day  reward  \\\n",
       "68293   b7e641061b4345f1adfffffad7e7afdd  transaction        19       0   \n",
       "42483   9680c2c9be554bb6bbafe9dbc06b1be4  transaction        11       0   \n",
       "83689   3579056d94644a9481e05012b48fe252  transaction        12       0   \n",
       "231453  5465e844845a4a5c82864a608b79e940  transaction        28       0   \n",
       "109095  cc0d4ab117254b5299139fa0c488fbb9  transaction        22       0   \n",
       "\n",
       "        amount  gender  age became_member_on   income  \n",
       "68293     2.69    male   20       2016-03-03  31000.0  \n",
       "42483     0.65    male   52       2017-10-02  32000.0  \n",
       "83689     2.49  female   37       2015-01-17  62000.0  \n",
       "231453   14.82    male   65       2017-11-20  56000.0  \n",
       "109095    2.07    male   76       2018-03-21  50000.0  "
      ]
     },
     "execution_count": 121,
     "metadata": {},
     "output_type": "execute_result"
    }
   ],
   "source": [
    "transaction_data.sample(5)"
   ]
  },
  {
   "cell_type": "code",
   "execution_count": 122,
   "id": "4cb4b324",
   "metadata": {
    "ExecuteTime": {
     "end_time": "2021-05-11T11:13:42.987977Z",
     "start_time": "2021-05-11T11:13:42.926247Z"
    }
   },
   "outputs": [
    {
     "data": {
      "text/html": [
       "<div>\n",
       "<style scoped>\n",
       "    .dataframe tbody tr th:only-of-type {\n",
       "        vertical-align: middle;\n",
       "    }\n",
       "\n",
       "    .dataframe tbody tr th {\n",
       "        vertical-align: top;\n",
       "    }\n",
       "\n",
       "    .dataframe thead th {\n",
       "        text-align: right;\n",
       "    }\n",
       "</style>\n",
       "<table border=\"1\" class=\"dataframe\">\n",
       "  <thead>\n",
       "    <tr style=\"text-align: right;\">\n",
       "      <th></th>\n",
       "      <th>customer_id</th>\n",
       "      <th>event</th>\n",
       "      <th>test_day</th>\n",
       "      <th>offer_id</th>\n",
       "      <th>reward</th>\n",
       "      <th>amount</th>\n",
       "      <th>gender</th>\n",
       "      <th>age</th>\n",
       "      <th>became_member_on</th>\n",
       "      <th>income</th>\n",
       "      <th>difficulty</th>\n",
       "      <th>duration</th>\n",
       "      <th>offer_type</th>\n",
       "      <th>email</th>\n",
       "      <th>mobile</th>\n",
       "      <th>social</th>\n",
       "      <th>web</th>\n",
       "    </tr>\n",
       "  </thead>\n",
       "  <tbody>\n",
       "    <tr>\n",
       "      <th>245805</th>\n",
       "      <td>4d5618b1bd0c4d1693b860e5b4daac40</td>\n",
       "      <td>offer viewed</td>\n",
       "      <td>9</td>\n",
       "      <td>ae264e3637204a6fb9bb56bc8210ddfd</td>\n",
       "      <td>0</td>\n",
       "      <td>0.0</td>\n",
       "      <td>male</td>\n",
       "      <td>34</td>\n",
       "      <td>2018-01-31</td>\n",
       "      <td>52000.0</td>\n",
       "      <td>10.0</td>\n",
       "      <td>7.0</td>\n",
       "      <td>bogo</td>\n",
       "      <td>1.0</td>\n",
       "      <td>1.0</td>\n",
       "      <td>1.0</td>\n",
       "      <td>0.0</td>\n",
       "    </tr>\n",
       "    <tr>\n",
       "      <th>107572</th>\n",
       "      <td>ec70faa2792f4ee19d67dca4957d285f</td>\n",
       "      <td>offer received</td>\n",
       "      <td>7</td>\n",
       "      <td>2298d6c36e964ae4a3e7e9706d1fb8c2</td>\n",
       "      <td>0</td>\n",
       "      <td>0.0</td>\n",
       "      <td>male</td>\n",
       "      <td>44</td>\n",
       "      <td>2018-02-17</td>\n",
       "      <td>43000.0</td>\n",
       "      <td>7.0</td>\n",
       "      <td>7.0</td>\n",
       "      <td>discount</td>\n",
       "      <td>1.0</td>\n",
       "      <td>1.0</td>\n",
       "      <td>1.0</td>\n",
       "      <td>1.0</td>\n",
       "    </tr>\n",
       "    <tr>\n",
       "      <th>16761</th>\n",
       "      <td>0c286a286b4a4ed982768df3a7e8a8d1</td>\n",
       "      <td>offer completed</td>\n",
       "      <td>13</td>\n",
       "      <td>2298d6c36e964ae4a3e7e9706d1fb8c2</td>\n",
       "      <td>3</td>\n",
       "      <td>0.0</td>\n",
       "      <td>male</td>\n",
       "      <td>49</td>\n",
       "      <td>2017-11-08</td>\n",
       "      <td>40000.0</td>\n",
       "      <td>7.0</td>\n",
       "      <td>7.0</td>\n",
       "      <td>discount</td>\n",
       "      <td>1.0</td>\n",
       "      <td>1.0</td>\n",
       "      <td>1.0</td>\n",
       "      <td>1.0</td>\n",
       "    </tr>\n",
       "    <tr>\n",
       "      <th>254531</th>\n",
       "      <td>03ef53e2d3e1436eb3b2042a4825adec</td>\n",
       "      <td>offer viewed</td>\n",
       "      <td>21</td>\n",
       "      <td>f19421c1d4aa40978ebb69ca19b0e20d</td>\n",
       "      <td>0</td>\n",
       "      <td>0.0</td>\n",
       "      <td>male</td>\n",
       "      <td>50</td>\n",
       "      <td>2016-01-16</td>\n",
       "      <td>90000.0</td>\n",
       "      <td>5.0</td>\n",
       "      <td>5.0</td>\n",
       "      <td>bogo</td>\n",
       "      <td>1.0</td>\n",
       "      <td>1.0</td>\n",
       "      <td>1.0</td>\n",
       "      <td>1.0</td>\n",
       "    </tr>\n",
       "    <tr>\n",
       "      <th>22614</th>\n",
       "      <td>c018899eae214a7bbcd56aab6217a525</td>\n",
       "      <td>offer received</td>\n",
       "      <td>21</td>\n",
       "      <td>ae264e3637204a6fb9bb56bc8210ddfd</td>\n",
       "      <td>0</td>\n",
       "      <td>0.0</td>\n",
       "      <td>male</td>\n",
       "      <td>44</td>\n",
       "      <td>2016-10-21</td>\n",
       "      <td>97000.0</td>\n",
       "      <td>10.0</td>\n",
       "      <td>7.0</td>\n",
       "      <td>bogo</td>\n",
       "      <td>1.0</td>\n",
       "      <td>1.0</td>\n",
       "      <td>1.0</td>\n",
       "      <td>0.0</td>\n",
       "    </tr>\n",
       "  </tbody>\n",
       "</table>\n",
       "</div>"
      ],
      "text/plain": [
       "                             customer_id            event  test_day  \\\n",
       "245805  4d5618b1bd0c4d1693b860e5b4daac40     offer viewed         9   \n",
       "107572  ec70faa2792f4ee19d67dca4957d285f   offer received         7   \n",
       "16761   0c286a286b4a4ed982768df3a7e8a8d1  offer completed        13   \n",
       "254531  03ef53e2d3e1436eb3b2042a4825adec     offer viewed        21   \n",
       "22614   c018899eae214a7bbcd56aab6217a525   offer received        21   \n",
       "\n",
       "                                offer_id  reward  amount gender  age  \\\n",
       "245805  ae264e3637204a6fb9bb56bc8210ddfd       0     0.0   male   34   \n",
       "107572  2298d6c36e964ae4a3e7e9706d1fb8c2       0     0.0   male   44   \n",
       "16761   2298d6c36e964ae4a3e7e9706d1fb8c2       3     0.0   male   49   \n",
       "254531  f19421c1d4aa40978ebb69ca19b0e20d       0     0.0   male   50   \n",
       "22614   ae264e3637204a6fb9bb56bc8210ddfd       0     0.0   male   44   \n",
       "\n",
       "       became_member_on   income  difficulty  duration offer_type  email  \\\n",
       "245805       2018-01-31  52000.0        10.0       7.0       bogo    1.0   \n",
       "107572       2018-02-17  43000.0         7.0       7.0   discount    1.0   \n",
       "16761        2017-11-08  40000.0         7.0       7.0   discount    1.0   \n",
       "254531       2016-01-16  90000.0         5.0       5.0       bogo    1.0   \n",
       "22614        2016-10-21  97000.0        10.0       7.0       bogo    1.0   \n",
       "\n",
       "        mobile  social  web  \n",
       "245805     1.0     1.0  0.0  \n",
       "107572     1.0     1.0  1.0  \n",
       "16761      1.0     1.0  1.0  \n",
       "254531     1.0     1.0  1.0  \n",
       "22614      1.0     1.0  0.0  "
      ]
     },
     "execution_count": 122,
     "metadata": {},
     "output_type": "execute_result"
    }
   ],
   "source": [
    "offer_data.sample(5)"
   ]
  },
  {
   "cell_type": "code",
   "execution_count": 123,
   "id": "b04ef7ec",
   "metadata": {
    "ExecuteTime": {
     "end_time": "2021-05-11T11:13:43.049661Z",
     "start_time": "2021-05-11T11:13:42.991977Z"
    }
   },
   "outputs": [
    {
     "name": "stdout",
     "output_type": "stream",
     "text": [
      "<class 'pandas.core.frame.DataFrame'>\n",
      "Int64Index: 123957 entries, 2 to 272755\n",
      "Data columns (total 9 columns):\n",
      " #   Column            Non-Null Count   Dtype         \n",
      "---  ------            --------------   -----         \n",
      " 0   customer_id       123957 non-null  object        \n",
      " 1   event             123957 non-null  object        \n",
      " 2   test_day          123957 non-null  int64         \n",
      " 3   reward            123957 non-null  int64         \n",
      " 4   amount            123957 non-null  float64       \n",
      " 5   gender            123957 non-null  object        \n",
      " 6   age               123957 non-null  int64         \n",
      " 7   became_member_on  123957 non-null  datetime64[ns]\n",
      " 8   income            123957 non-null  float64       \n",
      "dtypes: datetime64[ns](1), float64(2), int64(3), object(3)\n",
      "memory usage: 9.5+ MB\n"
     ]
    }
   ],
   "source": [
    "transaction_data.info()"
   ]
  },
  {
   "cell_type": "code",
   "execution_count": 124,
   "id": "a7268982",
   "metadata": {
    "ExecuteTime": {
     "end_time": "2021-05-11T11:13:43.148537Z",
     "start_time": "2021-05-11T11:13:43.052685Z"
    }
   },
   "outputs": [
    {
     "name": "stdout",
     "output_type": "stream",
     "text": [
      "<class 'pandas.core.frame.DataFrame'>\n",
      "Int64Index: 148805 entries, 0 to 272761\n",
      "Data columns (total 17 columns):\n",
      " #   Column            Non-Null Count   Dtype         \n",
      "---  ------            --------------   -----         \n",
      " 0   customer_id       148805 non-null  object        \n",
      " 1   event             148805 non-null  object        \n",
      " 2   test_day          148805 non-null  int64         \n",
      " 3   offer_id          148805 non-null  object        \n",
      " 4   reward            148805 non-null  int64         \n",
      " 5   amount            148805 non-null  float64       \n",
      " 6   gender            148805 non-null  object        \n",
      " 7   age               148805 non-null  int64         \n",
      " 8   became_member_on  148805 non-null  datetime64[ns]\n",
      " 9   income            148805 non-null  float64       \n",
      " 10  difficulty        148805 non-null  float64       \n",
      " 11  duration          148805 non-null  float64       \n",
      " 12  offer_type        148805 non-null  object        \n",
      " 13  email             148805 non-null  float64       \n",
      " 14  mobile            148805 non-null  float64       \n",
      " 15  social            148805 non-null  float64       \n",
      " 16  web               148805 non-null  float64       \n",
      "dtypes: datetime64[ns](1), float64(8), int64(3), object(5)\n",
      "memory usage: 20.4+ MB\n"
     ]
    }
   ],
   "source": [
    "offer_data.info()"
   ]
  },
  {
   "cell_type": "markdown",
   "id": "e554cdcc",
   "metadata": {},
   "source": [
    "## Exploratory Data Analysis"
   ]
  },
  {
   "cell_type": "code",
   "execution_count": 125,
   "id": "4062d478",
   "metadata": {
    "ExecuteTime": {
     "end_time": "2021-05-11T11:13:43.164676Z",
     "start_time": "2021-05-11T11:13:43.150536Z"
    }
   },
   "outputs": [],
   "source": [
    "# Fixing color scheme\n",
    "color = sb.color_palette()[0]"
   ]
  },
  {
   "cell_type": "code",
   "execution_count": 126,
   "id": "15a3ae8c",
   "metadata": {
    "ExecuteTime": {
     "end_time": "2021-05-11T11:13:43.239927Z",
     "start_time": "2021-05-11T11:13:43.169272Z"
    }
   },
   "outputs": [
    {
     "data": {
      "text/html": [
       "<div>\n",
       "<style scoped>\n",
       "    .dataframe tbody tr th:only-of-type {\n",
       "        vertical-align: middle;\n",
       "    }\n",
       "\n",
       "    .dataframe tbody tr th {\n",
       "        vertical-align: top;\n",
       "    }\n",
       "\n",
       "    .dataframe thead th {\n",
       "        text-align: right;\n",
       "    }\n",
       "</style>\n",
       "<table border=\"1\" class=\"dataframe\">\n",
       "  <thead>\n",
       "    <tr style=\"text-align: right;\">\n",
       "      <th></th>\n",
       "      <th>customer_id</th>\n",
       "      <th>event</th>\n",
       "      <th>test_day</th>\n",
       "      <th>offer_id</th>\n",
       "      <th>reward</th>\n",
       "      <th>amount</th>\n",
       "      <th>gender</th>\n",
       "      <th>age</th>\n",
       "      <th>became_member_on</th>\n",
       "      <th>income</th>\n",
       "      <th>difficulty</th>\n",
       "      <th>duration</th>\n",
       "      <th>offer_type</th>\n",
       "      <th>email</th>\n",
       "      <th>mobile</th>\n",
       "      <th>social</th>\n",
       "      <th>web</th>\n",
       "    </tr>\n",
       "  </thead>\n",
       "  <tbody>\n",
       "    <tr>\n",
       "      <th>92334</th>\n",
       "      <td>0121fe001b7a404fa9cbe486f8944baf</td>\n",
       "      <td>offer received</td>\n",
       "      <td>14</td>\n",
       "      <td>0b1e1539f2cc45b7b9fa7c272da2e1d7</td>\n",
       "      <td>0</td>\n",
       "      <td>0.00</td>\n",
       "      <td>female</td>\n",
       "      <td>86</td>\n",
       "      <td>2018-04-12</td>\n",
       "      <td>109000.0</td>\n",
       "      <td>20.0</td>\n",
       "      <td>10.0</td>\n",
       "      <td>discount</td>\n",
       "      <td>1.0</td>\n",
       "      <td>0.0</td>\n",
       "      <td>0.0</td>\n",
       "      <td>1.0</td>\n",
       "    </tr>\n",
       "    <tr>\n",
       "      <th>18396</th>\n",
       "      <td>bf3292eafc2f468ea68d4f5b0e8fa35a</td>\n",
       "      <td>offer received</td>\n",
       "      <td>24</td>\n",
       "      <td>2906b810c7d4411798c6938adc9daaa5</td>\n",
       "      <td>0</td>\n",
       "      <td>0.00</td>\n",
       "      <td>male</td>\n",
       "      <td>42</td>\n",
       "      <td>2017-12-17</td>\n",
       "      <td>52000.0</td>\n",
       "      <td>10.0</td>\n",
       "      <td>7.0</td>\n",
       "      <td>discount</td>\n",
       "      <td>1.0</td>\n",
       "      <td>1.0</td>\n",
       "      <td>0.0</td>\n",
       "      <td>1.0</td>\n",
       "    </tr>\n",
       "    <tr>\n",
       "      <th>78612</th>\n",
       "      <td>5a5bffb68f8d4527b532dbfb19da7d3f</td>\n",
       "      <td>transaction</td>\n",
       "      <td>25</td>\n",
       "      <td>NaN</td>\n",
       "      <td>0</td>\n",
       "      <td>7.14</td>\n",
       "      <td>male</td>\n",
       "      <td>58</td>\n",
       "      <td>2015-05-13</td>\n",
       "      <td>52000.0</td>\n",
       "      <td>NaN</td>\n",
       "      <td>NaN</td>\n",
       "      <td>NaN</td>\n",
       "      <td>NaN</td>\n",
       "      <td>NaN</td>\n",
       "      <td>NaN</td>\n",
       "      <td>NaN</td>\n",
       "    </tr>\n",
       "    <tr>\n",
       "      <th>51756</th>\n",
       "      <td>dc5b925a97f7446fadb79999b9f2db33</td>\n",
       "      <td>transaction</td>\n",
       "      <td>14</td>\n",
       "      <td>NaN</td>\n",
       "      <td>0</td>\n",
       "      <td>3.33</td>\n",
       "      <td>male</td>\n",
       "      <td>65</td>\n",
       "      <td>2018-05-19</td>\n",
       "      <td>58000.0</td>\n",
       "      <td>NaN</td>\n",
       "      <td>NaN</td>\n",
       "      <td>NaN</td>\n",
       "      <td>NaN</td>\n",
       "      <td>NaN</td>\n",
       "      <td>NaN</td>\n",
       "      <td>NaN</td>\n",
       "    </tr>\n",
       "    <tr>\n",
       "      <th>40033</th>\n",
       "      <td>c8ce9be8d4bd457180ff2a8d4d977073</td>\n",
       "      <td>transaction</td>\n",
       "      <td>5</td>\n",
       "      <td>NaN</td>\n",
       "      <td>0</td>\n",
       "      <td>1.74</td>\n",
       "      <td>female</td>\n",
       "      <td>19</td>\n",
       "      <td>2017-06-08</td>\n",
       "      <td>55000.0</td>\n",
       "      <td>NaN</td>\n",
       "      <td>NaN</td>\n",
       "      <td>NaN</td>\n",
       "      <td>NaN</td>\n",
       "      <td>NaN</td>\n",
       "      <td>NaN</td>\n",
       "      <td>NaN</td>\n",
       "    </tr>\n",
       "  </tbody>\n",
       "</table>\n",
       "</div>"
      ],
      "text/plain": [
       "                            customer_id           event  test_day  \\\n",
       "92334  0121fe001b7a404fa9cbe486f8944baf  offer received        14   \n",
       "18396  bf3292eafc2f468ea68d4f5b0e8fa35a  offer received        24   \n",
       "78612  5a5bffb68f8d4527b532dbfb19da7d3f     transaction        25   \n",
       "51756  dc5b925a97f7446fadb79999b9f2db33     transaction        14   \n",
       "40033  c8ce9be8d4bd457180ff2a8d4d977073     transaction         5   \n",
       "\n",
       "                               offer_id  reward  amount  gender  age  \\\n",
       "92334  0b1e1539f2cc45b7b9fa7c272da2e1d7       0    0.00  female   86   \n",
       "18396  2906b810c7d4411798c6938adc9daaa5       0    0.00    male   42   \n",
       "78612                               NaN       0    7.14    male   58   \n",
       "51756                               NaN       0    3.33    male   65   \n",
       "40033                               NaN       0    1.74  female   19   \n",
       "\n",
       "      became_member_on    income  difficulty  duration offer_type  email  \\\n",
       "92334       2018-04-12  109000.0        20.0      10.0   discount    1.0   \n",
       "18396       2017-12-17   52000.0        10.0       7.0   discount    1.0   \n",
       "78612       2015-05-13   52000.0         NaN       NaN        NaN    NaN   \n",
       "51756       2018-05-19   58000.0         NaN       NaN        NaN    NaN   \n",
       "40033       2017-06-08   55000.0         NaN       NaN        NaN    NaN   \n",
       "\n",
       "       mobile  social  web  \n",
       "92334     0.0     0.0  1.0  \n",
       "18396     1.0     0.0  1.0  \n",
       "78612     NaN     NaN  NaN  \n",
       "51756     NaN     NaN  NaN  \n",
       "40033     NaN     NaN  NaN  "
      ]
     },
     "execution_count": 126,
     "metadata": {},
     "output_type": "execute_result"
    }
   ],
   "source": [
    "data.sample(5)"
   ]
  },
  {
   "cell_type": "code",
   "execution_count": 127,
   "id": "60c8382a",
   "metadata": {
    "ExecuteTime": {
     "end_time": "2021-05-11T11:13:43.822408Z",
     "start_time": "2021-05-11T11:13:43.244760Z"
    }
   },
   "outputs": [
    {
     "data": {
      "text/html": [
       "<div>\n",
       "<style scoped>\n",
       "    .dataframe tbody tr th:only-of-type {\n",
       "        vertical-align: middle;\n",
       "    }\n",
       "\n",
       "    .dataframe tbody tr th {\n",
       "        vertical-align: top;\n",
       "    }\n",
       "\n",
       "    .dataframe thead th {\n",
       "        text-align: right;\n",
       "    }\n",
       "</style>\n",
       "<table border=\"1\" class=\"dataframe\">\n",
       "  <thead>\n",
       "    <tr style=\"text-align: right;\">\n",
       "      <th></th>\n",
       "      <th>test_day</th>\n",
       "      <th>reward</th>\n",
       "      <th>amount</th>\n",
       "      <th>age</th>\n",
       "      <th>income</th>\n",
       "      <th>difficulty</th>\n",
       "      <th>duration</th>\n",
       "      <th>email</th>\n",
       "      <th>mobile</th>\n",
       "      <th>social</th>\n",
       "      <th>web</th>\n",
       "    </tr>\n",
       "  </thead>\n",
       "  <tbody>\n",
       "    <tr>\n",
       "      <th>count</th>\n",
       "      <td>272762.000000</td>\n",
       "      <td>272762.000000</td>\n",
       "      <td>272762.000000</td>\n",
       "      <td>272762.000000</td>\n",
       "      <td>272762.000000</td>\n",
       "      <td>148805.000000</td>\n",
       "      <td>148805.000000</td>\n",
       "      <td>148805.0</td>\n",
       "      <td>148805.000000</td>\n",
       "      <td>148805.000000</td>\n",
       "      <td>148805.000000</td>\n",
       "    </tr>\n",
       "    <tr>\n",
       "      <th>mean</th>\n",
       "      <td>15.011812</td>\n",
       "      <td>0.588575</td>\n",
       "      <td>6.360646</td>\n",
       "      <td>53.840696</td>\n",
       "      <td>64337.000755</td>\n",
       "      <td>7.890561</td>\n",
       "      <td>6.625207</td>\n",
       "      <td>1.0</td>\n",
       "      <td>0.917160</td>\n",
       "      <td>0.658311</td>\n",
       "      <td>0.806747</td>\n",
       "    </tr>\n",
       "    <tr>\n",
       "      <th>std</th>\n",
       "      <td>8.331806</td>\n",
       "      <td>1.889452</td>\n",
       "      <td>22.509207</td>\n",
       "      <td>17.551337</td>\n",
       "      <td>21243.762941</td>\n",
       "      <td>5.041335</td>\n",
       "      <td>2.133035</td>\n",
       "      <td>0.0</td>\n",
       "      <td>0.275641</td>\n",
       "      <td>0.474277</td>\n",
       "      <td>0.394851</td>\n",
       "    </tr>\n",
       "    <tr>\n",
       "      <th>min</th>\n",
       "      <td>0.000000</td>\n",
       "      <td>0.000000</td>\n",
       "      <td>0.000000</td>\n",
       "      <td>18.000000</td>\n",
       "      <td>30000.000000</td>\n",
       "      <td>0.000000</td>\n",
       "      <td>3.000000</td>\n",
       "      <td>1.0</td>\n",
       "      <td>0.000000</td>\n",
       "      <td>0.000000</td>\n",
       "      <td>0.000000</td>\n",
       "    </tr>\n",
       "    <tr>\n",
       "      <th>25%</th>\n",
       "      <td>7.000000</td>\n",
       "      <td>0.000000</td>\n",
       "      <td>0.000000</td>\n",
       "      <td>41.000000</td>\n",
       "      <td>48000.000000</td>\n",
       "      <td>5.000000</td>\n",
       "      <td>5.000000</td>\n",
       "      <td>1.0</td>\n",
       "      <td>1.000000</td>\n",
       "      <td>0.000000</td>\n",
       "      <td>1.000000</td>\n",
       "    </tr>\n",
       "    <tr>\n",
       "      <th>50%</th>\n",
       "      <td>17.000000</td>\n",
       "      <td>0.000000</td>\n",
       "      <td>0.000000</td>\n",
       "      <td>55.000000</td>\n",
       "      <td>62000.000000</td>\n",
       "      <td>10.000000</td>\n",
       "      <td>7.000000</td>\n",
       "      <td>1.0</td>\n",
       "      <td>1.000000</td>\n",
       "      <td>1.000000</td>\n",
       "      <td>1.000000</td>\n",
       "    </tr>\n",
       "    <tr>\n",
       "      <th>75%</th>\n",
       "      <td>22.000000</td>\n",
       "      <td>0.000000</td>\n",
       "      <td>9.140000</td>\n",
       "      <td>66.000000</td>\n",
       "      <td>78000.000000</td>\n",
       "      <td>10.000000</td>\n",
       "      <td>7.000000</td>\n",
       "      <td>1.0</td>\n",
       "      <td>1.000000</td>\n",
       "      <td>1.000000</td>\n",
       "      <td>1.000000</td>\n",
       "    </tr>\n",
       "    <tr>\n",
       "      <th>max</th>\n",
       "      <td>29.000000</td>\n",
       "      <td>10.000000</td>\n",
       "      <td>1062.280000</td>\n",
       "      <td>101.000000</td>\n",
       "      <td>120000.000000</td>\n",
       "      <td>20.000000</td>\n",
       "      <td>10.000000</td>\n",
       "      <td>1.0</td>\n",
       "      <td>1.000000</td>\n",
       "      <td>1.000000</td>\n",
       "      <td>1.000000</td>\n",
       "    </tr>\n",
       "  </tbody>\n",
       "</table>\n",
       "</div>"
      ],
      "text/plain": [
       "            test_day         reward         amount            age  \\\n",
       "count  272762.000000  272762.000000  272762.000000  272762.000000   \n",
       "mean       15.011812       0.588575       6.360646      53.840696   \n",
       "std         8.331806       1.889452      22.509207      17.551337   \n",
       "min         0.000000       0.000000       0.000000      18.000000   \n",
       "25%         7.000000       0.000000       0.000000      41.000000   \n",
       "50%        17.000000       0.000000       0.000000      55.000000   \n",
       "75%        22.000000       0.000000       9.140000      66.000000   \n",
       "max        29.000000      10.000000    1062.280000     101.000000   \n",
       "\n",
       "              income     difficulty       duration     email         mobile  \\\n",
       "count  272762.000000  148805.000000  148805.000000  148805.0  148805.000000   \n",
       "mean    64337.000755       7.890561       6.625207       1.0       0.917160   \n",
       "std     21243.762941       5.041335       2.133035       0.0       0.275641   \n",
       "min     30000.000000       0.000000       3.000000       1.0       0.000000   \n",
       "25%     48000.000000       5.000000       5.000000       1.0       1.000000   \n",
       "50%     62000.000000      10.000000       7.000000       1.0       1.000000   \n",
       "75%     78000.000000      10.000000       7.000000       1.0       1.000000   \n",
       "max    120000.000000      20.000000      10.000000       1.0       1.000000   \n",
       "\n",
       "              social            web  \n",
       "count  148805.000000  148805.000000  \n",
       "mean        0.658311       0.806747  \n",
       "std         0.474277       0.394851  \n",
       "min         0.000000       0.000000  \n",
       "25%         0.000000       1.000000  \n",
       "50%         1.000000       1.000000  \n",
       "75%         1.000000       1.000000  \n",
       "max         1.000000       1.000000  "
      ]
     },
     "execution_count": 127,
     "metadata": {},
     "output_type": "execute_result"
    }
   ],
   "source": [
    "data.describe()"
   ]
  },
  {
   "cell_type": "markdown",
   "id": "6940a97a",
   "metadata": {},
   "source": [
    "### `Gender`\n",
    "#### *Checking which gender represents more customers.*"
   ]
  },
  {
   "cell_type": "code",
   "execution_count": 128,
   "id": "e56aed02",
   "metadata": {
    "ExecuteTime": {
     "end_time": "2021-05-11T11:13:44.735952Z",
     "start_time": "2021-05-11T11:13:43.826458Z"
    }
   },
   "outputs": [
    {
     "data": {
      "text/plain": [
       "<matplotlib.legend.Legend at 0x1889f83c6c8>"
      ]
     },
     "execution_count": 128,
     "metadata": {},
     "output_type": "execute_result"
    },
    {
     "data": {
      "image/png": "[encoded data removed]",
      "text/plain": [
       "<Figure size 648x648 with 1 Axes>"
      ]
     },
     "metadata": {},
     "output_type": "display_data"
    }
   ],
   "source": [
    "gender = data.gender.value_counts()\n",
    "\n",
    "plt.figure(figsize=(9, 9))\n",
    "explode = (0.05, 0.05, 0.0)\n",
    "\n",
    "plt.pie(gender, labels=['Male', 'Female', 'Others'], explode=explode, shadow=True, autopct='%1.1f%%', colors=[color, 'green', 'orange'],\n",
    "        textprops={'color': \"w\", 'fontsize': 11})\n",
    "\n",
    "plt.axis('equal')\n",
    "plt.title('Customers vs Gender', fontsize=19)\n",
    "plt.legend(loc='best')"
   ]
  },
  {
   "cell_type": "code",
   "execution_count": 129,
   "id": "ce2d4e56",
   "metadata": {
    "ExecuteTime": {
     "end_time": "2021-05-11T11:13:45.455729Z",
     "start_time": "2021-05-11T11:13:44.741889Z"
    },
    "scrolled": false
   },
   "outputs": [
    {
     "data": {
      "text/plain": [
       "[Text(0, 0, 'Male'), Text(1, 0, 'Female'), Text(2, 0, 'Others')]"
      ]
     },
     "execution_count": 129,
     "metadata": {},
     "output_type": "execute_result"
    },
    {
     "data": {
      "image/png": "[encoded data removed]",
      "text/plain": [
       "<Figure size 1080x648 with 1 Axes>"
      ]
     },
     "metadata": {
      "needs_background": "light"
     },
     "output_type": "display_data"
    }
   ],
   "source": [
    "plt.figure(figsize=(15, 9))\n",
    "\n",
    "ax = sb.countplot(data=data, x='gender', color=color)\n",
    "\n",
    "plt.xlabel('Gender')\n",
    "plt.ylabel('People in Test by Gender')\n",
    "plt.title('Customers vs Gender', fontsize=19)\n",
    "ax.set_xticklabels(['Male', 'Female', 'Others'])"
   ]
  },
  {
   "cell_type": "markdown",
   "id": "a5841606",
   "metadata": {},
   "source": [
    "***Most of the test subjects or customers participated are women and it is common. `Others` represents the category other than Male and Female such as Transgender.***"
   ]
  },
  {
   "cell_type": "markdown",
   "id": "71775cff",
   "metadata": {},
   "source": [
    "### `became_member_on`"
   ]
  },
  {
   "cell_type": "code",
   "execution_count": 130,
   "id": "d58584d7",
   "metadata": {
    "ExecuteTime": {
     "end_time": "2021-05-11T11:13:45.587546Z",
     "start_time": "2021-05-11T11:13:45.460190Z"
    }
   },
   "outputs": [
    {
     "data": {
      "text/plain": [
       "became_member_on\n",
       "2013-07     119\n",
       "2013-08    1377\n",
       "2013-09    1217\n",
       "2013-10    1195\n",
       "2013-11     993\n",
       "2013-12    1207\n",
       "2014-01    1476\n",
       "2014-02    1266\n",
       "2014-03    1186\n",
       "2014-04    1250\n",
       "Freq: M, Name: customer_id, dtype: int64"
      ]
     },
     "execution_count": 130,
     "metadata": {},
     "output_type": "execute_result"
    }
   ],
   "source": [
    "membership_year_month = data.groupby(data['became_member_on'].dt.to_period('M'))[\n",
    "    'customer_id'].count()\n",
    "membership_year_month[:10]"
   ]
  },
  {
   "cell_type": "code",
   "execution_count": 131,
   "id": "be143c73",
   "metadata": {
    "ExecuteTime": {
     "end_time": "2021-05-11T11:13:46.035618Z",
     "start_time": "2021-05-11T11:13:45.590349Z"
    }
   },
   "outputs": [
    {
     "data": {
      "text/plain": [
       "Text(0, 0.5, 'Number of Customers or Test Subjects')"
      ]
     },
     "execution_count": 131,
     "metadata": {},
     "output_type": "execute_result"
    },
    {
     "data": {
      "image/png": "[encoded data removed]",
      "text/plain": [
       "<Figure size 1080x648 with 1 Axes>"
      ]
     },
     "metadata": {
      "needs_background": "light"
     },
     "output_type": "display_data"
    }
   ],
   "source": [
    "plt.figure(figsize=(15, 9))\n",
    "membership_year_month.plot.line()\n",
    "plt.title('Customers vs Membership Month', fontsize=15)\n",
    "plt.xlabel('Memebership by Month and Year')\n",
    "plt.ylabel('Number of Customers or Test Subjects')"
   ]
  },
  {
   "cell_type": "code",
   "execution_count": 132,
   "id": "463eec0f",
   "metadata": {
    "ExecuteTime": {
     "end_time": "2021-05-11T11:13:46.064953Z",
     "start_time": "2021-05-11T11:13:46.038445Z"
    }
   },
   "outputs": [],
   "source": [
    "def annoated_barplot(data, title, xlabel, ylabel, figsize=(15, 9), rotation=60):\n",
    "    plt.figure(figsize=figsize)\n",
    "    ax = data.plot.bar(color=color)\n",
    "    ax = data.plot.bar(color=color)\n",
    "    ax.set_title(title, fontsize=19)\n",
    "    ax.set_xlabel(xlabel, fontsize=13)\n",
    "    ax.set_ylabel(ylabel, fontsize=13)\n",
    "\n",
    "    # annoations\n",
    "    for point in ax.patches:\n",
    "        ax.annotate('{:.3f}'.format(point.get_height()), (point.get_x(\n",
    "        ) * 1.003, point.get_height() * 1.01), size=9, rotation=rotation)\n",
    "\n",
    "    return ax"
   ]
  },
  {
   "cell_type": "code",
   "execution_count": 133,
   "id": "6a72d621",
   "metadata": {
    "ExecuteTime": {
     "end_time": "2021-05-11T11:13:50.186266Z",
     "start_time": "2021-05-11T11:13:46.082881Z"
    }
   },
   "outputs": [
    {
     "data": {
      "text/plain": [
       "<AxesSubplot:title={'center':'Membership date counts'}, xlabel='Joining Date - Month - Year', ylabel='Counts'>"
      ]
     },
     "execution_count": 133,
     "metadata": {},
     "output_type": "execute_result"
    },
    {
     "data": {
      "image/png": "[encoded data removed]",
      "text/plain": [
       "<Figure size 1080x648 with 1 Axes>"
      ]
     },
     "metadata": {
      "needs_background": "light"
     },
     "output_type": "display_data"
    }
   ],
   "source": [
    "annoated_barplot(data=membership_year_month, title='Membership date counts',\n",
    "                 xlabel='Joining Date - Month - Year', ylabel='Counts', figsize=(15, 9), rotation=90)"
   ]
  },
  {
   "cell_type": "markdown",
   "id": "97bca46a",
   "metadata": {},
   "source": [
    "#### *Membership quarterly*"
   ]
  },
  {
   "cell_type": "code",
   "execution_count": 134,
   "id": "b946525e",
   "metadata": {
    "ExecuteTime": {
     "end_time": "2021-05-11T11:13:50.317439Z",
     "start_time": "2021-05-11T11:13:50.192836Z"
    }
   },
   "outputs": [
    {
     "data": {
      "text/plain": [
       "became_member_on\n",
       "2013Q3     2713\n",
       "2013Q4     3395\n",
       "2014Q1     3928\n",
       "2014Q2     4015\n",
       "2014Q3     3442\n",
       "2014Q4     3351\n",
       "2015Q1     3921\n",
       "2015Q2     3884\n",
       "2015Q3    11693\n",
       "2015Q4    14921\n",
       "2016Q1    16029\n",
       "2016Q2    16157\n",
       "2016Q3    16159\n",
       "2016Q4    15589\n",
       "2017Q1    15441\n",
       "2017Q2    15750\n",
       "2017Q3    31333\n",
       "2017Q4    37620\n",
       "2018Q1    25456\n",
       "2018Q2    21575\n",
       "2018Q3     6390\n",
       "Freq: Q-DEC, Name: customer_id, dtype: int64"
      ]
     },
     "execution_count": 134,
     "metadata": {},
     "output_type": "execute_result"
    }
   ],
   "source": [
    "membership_quarterly = data.groupby(data['became_member_on'].dt.to_period('Q'))[\n",
    "    'customer_id'].count()\n",
    "membership_quarterly"
   ]
  },
  {
   "cell_type": "code",
   "execution_count": 135,
   "id": "96e0adab",
   "metadata": {
    "ExecuteTime": {
     "end_time": "2021-05-11T11:13:51.386943Z",
     "start_time": "2021-05-11T11:13:50.322124Z"
    }
   },
   "outputs": [
    {
     "data": {
      "text/plain": [
       "[<matplotlib.lines.Line2D at 0x188bd200fc8>]"
      ]
     },
     "execution_count": 135,
     "metadata": {},
     "output_type": "execute_result"
    },
    {
     "data": {
      "image/png": "[encoded data removed]",
      "text/plain": [
       "<Figure size 1080x648 with 1 Axes>"
      ]
     },
     "metadata": {
      "needs_background": "light"
     },
     "output_type": "display_data"
    }
   ],
   "source": [
    "ax = annoated_barplot(data=membership_quarterly, title='Membership date counts Quarterly',\n",
    "                      xlabel='Joining Date - Month - Year', ylabel='Counts', figsize=(15, 9), rotation=15)\n",
    "ax.plot(membership_quarterly.values, color='red')"
   ]
  },
  {
   "cell_type": "markdown",
   "id": "25ccea0e",
   "metadata": {},
   "source": [
    "- ***Most participants were active in last quarter of the year 2017.***\n",
    "- ***Most activities are in year 2017.***"
   ]
  },
  {
   "cell_type": "markdown",
   "id": "c43760a6",
   "metadata": {},
   "source": [
    "### `Income Group Distribution`"
   ]
  },
  {
   "cell_type": "code",
   "execution_count": 136,
   "id": "7a144be9",
   "metadata": {
    "ExecuteTime": {
     "end_time": "2021-05-11T11:13:51.500059Z",
     "start_time": "2021-05-11T11:13:51.390128Z"
    }
   },
   "outputs": [
    {
     "data": {
      "text/plain": [
       "income\n",
       "(29999.999, 37000.0]    30031\n",
       "(37000.0, 44000.0]      25092\n",
       "(44000.0, 51000.0]      27375\n",
       "(51000.0, 57000.0]      31687\n",
       "(57000.0, 62000.0]      23336\n",
       "(62000.0, 68000.0]      26746\n",
       "(68000.0, 74000.0]      30681\n",
       "(74000.0, 83000.0]      24384\n",
       "(83000.0, 95000.0]      27062\n",
       "(95000.0, 120000.0]     26368\n",
       "Name: customer_id, dtype: int64"
      ]
     },
     "execution_count": 136,
     "metadata": {},
     "output_type": "execute_result"
    }
   ],
   "source": [
    "# 10 quantiles\n",
    "data.groupby(pd.qcut(data.income, 10))['customer_id'].count()"
   ]
  },
  {
   "cell_type": "code",
   "execution_count": 137,
   "id": "f0935d28",
   "metadata": {
    "ExecuteTime": {
     "end_time": "2021-05-11T11:13:51.572112Z",
     "start_time": "2021-05-11T11:13:51.504041Z"
    }
   },
   "outputs": [
    {
     "name": "stdout",
     "output_type": "stream",
     "text": [
      "income\n",
      "(30000.0, 40000.0]      39786\n",
      "(40000.0, 50000.0]      36005\n",
      "(50000.0, 60000.0]      50757\n",
      "(60000.0, 70000.0]      44866\n",
      "(70000.0, 80000.0]      39439\n",
      "(80000.0, 90000.0]      23605\n",
      "(90000.0, 100000.0]     20179\n",
      "(100000.0, 110000.0]     8874\n",
      "Name: customer_id, dtype: int64\n"
     ]
    }
   ],
   "source": [
    "income_group = data.groupby(pd.cut(data.income, np.arange(\n",
    "    data.income.min(), data.income.max(), 10000)))['customer_id'].count()\n",
    "print(income_group)"
   ]
  },
  {
   "cell_type": "code",
   "execution_count": 138,
   "id": "26edf5a9",
   "metadata": {
    "ExecuteTime": {
     "end_time": "2021-05-11T11:13:52.111884Z",
     "start_time": "2021-05-11T11:13:51.576256Z"
    }
   },
   "outputs": [
    {
     "data": {
      "text/plain": [
       "<AxesSubplot:title={'center':'Income Distribution'}, xlabel='Income Groups', ylabel='Count'>"
      ]
     },
     "execution_count": 138,
     "metadata": {},
     "output_type": "execute_result"
    },
    {
     "data": {
      "image/png": "[encoded data removed]",
      "text/plain": [
       "<Figure size 1080x648 with 1 Axes>"
      ]
     },
     "metadata": {
      "needs_background": "light"
     },
     "output_type": "display_data"
    }
   ],
   "source": [
    "annoated_barplot(data=income_group, title='Income Distribution',\n",
    "                 xlabel='Income Groups', ylabel='Count', rotation=0)"
   ]
  },
  {
   "cell_type": "markdown",
   "id": "b5555225",
   "metadata": {},
   "source": [
    "***Most participants are in the range with income less than 90,000 per annum, with most belongs to 50,000 to 60,000.***"
   ]
  },
  {
   "cell_type": "markdown",
   "id": "91a3cacd",
   "metadata": {},
   "source": [
    "### `Age Group Distribution`"
   ]
  },
  {
   "cell_type": "code",
   "execution_count": 139,
   "id": "0581a555",
   "metadata": {
    "ExecuteTime": {
     "end_time": "2021-05-11T11:13:52.197182Z",
     "start_time": "2021-05-11T11:13:52.115926Z"
    }
   },
   "outputs": [
    {
     "data": {
      "text/plain": [
       "age\n",
       "(18, 28]    27106\n",
       "(28, 38]    28978\n",
       "(38, 48]    40544\n",
       "(48, 58]    63115\n",
       "(58, 68]    55769\n",
       "(68, 78]    33982\n",
       "(78, 88]    16152\n",
       "(88, 98]     5318\n",
       "Name: customer_id, dtype: int64"
      ]
     },
     "execution_count": 139,
     "metadata": {},
     "output_type": "execute_result"
    }
   ],
   "source": [
    "age_group = data.groupby(pd.cut(data.age, np.arange(\n",
    "    data.age.min(), data.age.max(), 10)))['customer_id'].count()\n",
    "age_group"
   ]
  },
  {
   "cell_type": "code",
   "execution_count": 140,
   "id": "ac67b247",
   "metadata": {
    "ExecuteTime": {
     "end_time": "2021-05-11T11:13:52.710547Z",
     "start_time": "2021-05-11T11:13:52.198220Z"
    }
   },
   "outputs": [
    {
     "data": {
      "text/plain": [
       "<AxesSubplot:title={'center':'Age Distribution'}, xlabel='Age Groups', ylabel='Count'>"
      ]
     },
     "execution_count": 140,
     "metadata": {},
     "output_type": "execute_result"
    },
    {
     "data": {
      "image/png": "[encoded data removed]",
      "text/plain": [
       "<Figure size 1080x648 with 1 Axes>"
      ]
     },
     "metadata": {
      "needs_background": "light"
     },
     "output_type": "display_data"
    }
   ],
   "source": [
    "annoated_barplot(data=age_group, title='Age Distribution',\n",
    "                 xlabel='Age Groups', ylabel='Count', rotation=0)"
   ]
  },
  {
   "cell_type": "markdown",
   "id": "696ec4c3",
   "metadata": {},
   "source": [
    "***Many participants are middle aged, and might be over 40 which is not expected.***"
   ]
  },
  {
   "cell_type": "markdown",
   "id": "e52055c1",
   "metadata": {},
   "source": [
    "### `Offers and Transactions`"
   ]
  },
  {
   "cell_type": "code",
   "execution_count": 141,
   "id": "3401144e",
   "metadata": {
    "ExecuteTime": {
     "end_time": "2021-05-11T11:13:52.842367Z",
     "start_time": "2021-05-11T11:13:52.716784Z"
    }
   },
   "outputs": [
    {
     "data": {
      "text/plain": [
       "event\n",
       "offer completed     32444\n",
       "offer received      66501\n",
       "offer viewed        49860\n",
       "transaction        123957\n",
       "Name: customer_id, dtype: int64"
      ]
     },
     "execution_count": 141,
     "metadata": {},
     "output_type": "execute_result"
    }
   ],
   "source": [
    "event_group = data.groupby(['event'])['customer_id'].count()\n",
    "event_group"
   ]
  },
  {
   "cell_type": "code",
   "execution_count": 142,
   "id": "b38acbef",
   "metadata": {
    "ExecuteTime": {
     "end_time": "2021-05-11T11:13:53.346234Z",
     "start_time": "2021-05-11T11:13:52.844905Z"
    }
   },
   "outputs": [
    {
     "data": {
      "text/plain": [
       "<AxesSubplot:title={'center':'Event Distribution'}, xlabel='Event Type', ylabel='Count'>"
      ]
     },
     "execution_count": 142,
     "metadata": {},
     "output_type": "execute_result"
    },
    {
     "data": {
      "image/png": "[encoded data removed]",
      "text/plain": [
       "<Figure size 1080x648 with 1 Axes>"
      ]
     },
     "metadata": {
      "needs_background": "light"
     },
     "output_type": "display_data"
    }
   ],
   "source": [
    "annoated_barplot(\n",
    "    data=event_group, title='Event Distribution', xlabel='Event Type', ylabel='Count', rotation=0)"
   ]
  },
  {
   "cell_type": "markdown",
   "id": "6bbd02d2",
   "metadata": {},
   "source": [
    "***Payment through transactions were same as the offers.***"
   ]
  },
  {
   "cell_type": "markdown",
   "id": "0c1e3965",
   "metadata": {},
   "source": [
    "### `Updates of Offers`"
   ]
  },
  {
   "cell_type": "code",
   "execution_count": 143,
   "id": "fff980f4",
   "metadata": {
    "ExecuteTime": {
     "end_time": "2021-05-11T11:13:53.626900Z",
     "start_time": "2021-05-11T11:13:53.353817Z"
    }
   },
   "outputs": [
    {
     "name": "stdout",
     "output_type": "stream",
     "text": [
      "<class 'pandas.core.frame.DataFrame'>\n",
      "RangeIndex: 272762 entries, 0 to 272761\n",
      "Data columns (total 17 columns):\n",
      " #   Column            Non-Null Count   Dtype         \n",
      "---  ------            --------------   -----         \n",
      " 0   customer_id       272762 non-null  object        \n",
      " 1   event             272762 non-null  object        \n",
      " 2   test_day          272762 non-null  int64         \n",
      " 3   offer_id          148805 non-null  object        \n",
      " 4   reward            272762 non-null  int64         \n",
      " 5   amount            272762 non-null  float64       \n",
      " 6   gender            272762 non-null  object        \n",
      " 7   age               272762 non-null  int64         \n",
      " 8   became_member_on  272762 non-null  datetime64[ns]\n",
      " 9   income            272762 non-null  float64       \n",
      " 10  difficulty        148805 non-null  float64       \n",
      " 11  duration          148805 non-null  float64       \n",
      " 12  offer_type        148805 non-null  object        \n",
      " 13  email             148805 non-null  float64       \n",
      " 14  mobile            148805 non-null  float64       \n",
      " 15  social            148805 non-null  float64       \n",
      " 16  web               148805 non-null  float64       \n",
      "dtypes: datetime64[ns](1), float64(8), int64(3), object(5)\n",
      "memory usage: 35.4+ MB\n"
     ]
    }
   ],
   "source": [
    "data.info()"
   ]
  },
  {
   "cell_type": "code",
   "execution_count": 144,
   "id": "d7d504a5",
   "metadata": {
    "ExecuteTime": {
     "end_time": "2021-05-11T11:13:53.721453Z",
     "start_time": "2021-05-11T11:13:53.634549Z"
    }
   },
   "outputs": [
    {
     "data": {
      "text/html": [
       "<div>\n",
       "<style scoped>\n",
       "    .dataframe tbody tr th:only-of-type {\n",
       "        vertical-align: middle;\n",
       "    }\n",
       "\n",
       "    .dataframe tbody tr th {\n",
       "        vertical-align: top;\n",
       "    }\n",
       "\n",
       "    .dataframe thead th {\n",
       "        text-align: right;\n",
       "    }\n",
       "</style>\n",
       "<table border=\"1\" class=\"dataframe\">\n",
       "  <thead>\n",
       "    <tr style=\"text-align: right;\">\n",
       "      <th></th>\n",
       "      <th>email</th>\n",
       "      <th>mobile</th>\n",
       "      <th>social</th>\n",
       "      <th>web</th>\n",
       "    </tr>\n",
       "  </thead>\n",
       "  <tbody>\n",
       "    <tr>\n",
       "      <th>241255</th>\n",
       "      <td>NaN</td>\n",
       "      <td>NaN</td>\n",
       "      <td>NaN</td>\n",
       "      <td>NaN</td>\n",
       "    </tr>\n",
       "    <tr>\n",
       "      <th>196355</th>\n",
       "      <td>NaN</td>\n",
       "      <td>NaN</td>\n",
       "      <td>NaN</td>\n",
       "      <td>NaN</td>\n",
       "    </tr>\n",
       "    <tr>\n",
       "      <th>51570</th>\n",
       "      <td>NaN</td>\n",
       "      <td>NaN</td>\n",
       "      <td>NaN</td>\n",
       "      <td>NaN</td>\n",
       "    </tr>\n",
       "    <tr>\n",
       "      <th>147667</th>\n",
       "      <td>NaN</td>\n",
       "      <td>NaN</td>\n",
       "      <td>NaN</td>\n",
       "      <td>NaN</td>\n",
       "    </tr>\n",
       "    <tr>\n",
       "      <th>242917</th>\n",
       "      <td>NaN</td>\n",
       "      <td>NaN</td>\n",
       "      <td>NaN</td>\n",
       "      <td>NaN</td>\n",
       "    </tr>\n",
       "  </tbody>\n",
       "</table>\n",
       "</div>"
      ],
      "text/plain": [
       "        email  mobile  social  web\n",
       "241255    NaN     NaN     NaN  NaN\n",
       "196355    NaN     NaN     NaN  NaN\n",
       "51570     NaN     NaN     NaN  NaN\n",
       "147667    NaN     NaN     NaN  NaN\n",
       "242917    NaN     NaN     NaN  NaN"
      ]
     },
     "execution_count": 144,
     "metadata": {},
     "output_type": "execute_result"
    }
   ],
   "source": [
    "offer_medium = data[['email', 'mobile', 'social', 'web']]\n",
    "offer_medium.sample(5)"
   ]
  },
  {
   "cell_type": "code",
   "execution_count": 145,
   "id": "38a64751",
   "metadata": {
    "ExecuteTime": {
     "end_time": "2021-05-11T11:13:53.765103Z",
     "start_time": "2021-05-11T11:13:53.729940Z"
    }
   },
   "outputs": [
    {
     "data": {
      "text/plain": [
       "email     148805.0\n",
       "mobile    136478.0\n",
       "social     97960.0\n",
       "web       120048.0\n",
       "dtype: float64"
      ]
     },
     "execution_count": 145,
     "metadata": {},
     "output_type": "execute_result"
    }
   ],
   "source": [
    "offer_medium.sum()"
   ]
  },
  {
   "cell_type": "markdown",
   "id": "17466fec",
   "metadata": {},
   "source": [
    "- ***Almost every offer is available via email and mobile app notification or SMS.***\n",
    "- A significant number of offers were available through social\n",
    "- Almost all the offers are made through web"
   ]
  },
  {
   "cell_type": "markdown",
   "id": "ea39c386",
   "metadata": {},
   "source": [
    "### `Gender vs Event`"
   ]
  },
  {
   "cell_type": "code",
   "execution_count": 146,
   "id": "2379e278",
   "metadata": {
    "ExecuteTime": {
     "end_time": "2021-05-11T11:13:53.876254Z",
     "start_time": "2021-05-11T11:13:53.767105Z"
    },
    "scrolled": true
   },
   "outputs": [
    {
     "data": {
      "text/html": [
       "<div>\n",
       "<style scoped>\n",
       "    .dataframe tbody tr th:only-of-type {\n",
       "        vertical-align: middle;\n",
       "    }\n",
       "\n",
       "    .dataframe tbody tr th {\n",
       "        vertical-align: top;\n",
       "    }\n",
       "\n",
       "    .dataframe thead th {\n",
       "        text-align: right;\n",
       "    }\n",
       "</style>\n",
       "<table border=\"1\" class=\"dataframe\">\n",
       "  <thead>\n",
       "    <tr style=\"text-align: right;\">\n",
       "      <th></th>\n",
       "      <th>gender</th>\n",
       "      <th>event</th>\n",
       "      <th>count</th>\n",
       "    </tr>\n",
       "  </thead>\n",
       "  <tbody>\n",
       "    <tr>\n",
       "      <th>0</th>\n",
       "      <td>female</td>\n",
       "      <td>offer completed</td>\n",
       "      <td>15477</td>\n",
       "    </tr>\n",
       "    <tr>\n",
       "      <th>1</th>\n",
       "      <td>female</td>\n",
       "      <td>offer received</td>\n",
       "      <td>27456</td>\n",
       "    </tr>\n",
       "    <tr>\n",
       "      <th>2</th>\n",
       "      <td>female</td>\n",
       "      <td>offer viewed</td>\n",
       "      <td>20786</td>\n",
       "    </tr>\n",
       "    <tr>\n",
       "      <th>3</th>\n",
       "      <td>female</td>\n",
       "      <td>transaction</td>\n",
       "      <td>49382</td>\n",
       "    </tr>\n",
       "    <tr>\n",
       "      <th>4</th>\n",
       "      <td>male</td>\n",
       "      <td>offer completed</td>\n",
       "      <td>16466</td>\n",
       "    </tr>\n",
       "    <tr>\n",
       "      <th>5</th>\n",
       "      <td>male</td>\n",
       "      <td>offer received</td>\n",
       "      <td>38129</td>\n",
       "    </tr>\n",
       "    <tr>\n",
       "      <th>6</th>\n",
       "      <td>male</td>\n",
       "      <td>offer viewed</td>\n",
       "      <td>28301</td>\n",
       "    </tr>\n",
       "    <tr>\n",
       "      <th>7</th>\n",
       "      <td>male</td>\n",
       "      <td>transaction</td>\n",
       "      <td>72794</td>\n",
       "    </tr>\n",
       "    <tr>\n",
       "      <th>8</th>\n",
       "      <td>others</td>\n",
       "      <td>offer completed</td>\n",
       "      <td>501</td>\n",
       "    </tr>\n",
       "    <tr>\n",
       "      <th>9</th>\n",
       "      <td>others</td>\n",
       "      <td>offer received</td>\n",
       "      <td>916</td>\n",
       "    </tr>\n",
       "    <tr>\n",
       "      <th>10</th>\n",
       "      <td>others</td>\n",
       "      <td>offer viewed</td>\n",
       "      <td>773</td>\n",
       "    </tr>\n",
       "    <tr>\n",
       "      <th>11</th>\n",
       "      <td>others</td>\n",
       "      <td>transaction</td>\n",
       "      <td>1781</td>\n",
       "    </tr>\n",
       "  </tbody>\n",
       "</table>\n",
       "</div>"
      ],
      "text/plain": [
       "    gender            event  count\n",
       "0   female  offer completed  15477\n",
       "1   female   offer received  27456\n",
       "2   female     offer viewed  20786\n",
       "3   female      transaction  49382\n",
       "4     male  offer completed  16466\n",
       "5     male   offer received  38129\n",
       "6     male     offer viewed  28301\n",
       "7     male      transaction  72794\n",
       "8   others  offer completed    501\n",
       "9   others   offer received    916\n",
       "10  others     offer viewed    773\n",
       "11  others      transaction   1781"
      ]
     },
     "execution_count": 146,
     "metadata": {},
     "output_type": "execute_result"
    }
   ],
   "source": [
    "k = data.groupby(['gender', 'event']).size()\n",
    "k = k.reset_index(name='count')\n",
    "k"
   ]
  },
  {
   "cell_type": "code",
   "execution_count": 147,
   "id": "468ff9c1",
   "metadata": {
    "ExecuteTime": {
     "end_time": "2021-05-11T11:13:57.914273Z",
     "start_time": "2021-05-11T11:13:53.880682Z"
    }
   },
   "outputs": [
    {
     "data": {
      "text/plain": [
       "<seaborn.axisgrid.FacetGrid at 0x188c7444ec8>"
      ]
     },
     "execution_count": 147,
     "metadata": {},
     "output_type": "execute_result"
    },
    {
     "data": {
      "text/plain": [
       "<Figure size 1080x648 with 0 Axes>"
      ]
     },
     "metadata": {},
     "output_type": "display_data"
    },
    {
     "data": {
      "image/png": "[encoded data removed]",
      "text/plain": [
       "<Figure size 610.5x360 with 1 Axes>"
      ]
     },
     "metadata": {
      "needs_background": "light"
     },
     "output_type": "display_data"
    }
   ],
   "source": [
    "plt.figure(figsize=(15, 9))\n",
    "graph = sb.catplot(data=data, x='event', hue=\"gender\",\n",
    "                   kind='count', aspect=1.5)\n",
    "\n",
    "graph.set_axis_labels(\"Event Type\")\n",
    "graph._legend.set_title('Gender')\n",
    "\n",
    "graph.fig.suptitle('Gender vs Event Type', fontsize=19)\n",
    "graph.set_xticklabels(rotation=45)"
   ]
  },
  {
   "cell_type": "markdown",
   "id": "01776f17",
   "metadata": {},
   "source": [
    "#### As we can see, the relative male count is higher in transaction and almost same in offer completed even though male count is high in test.\n",
    "\n",
    "*Mainly, due to male care less about the offers as female.*"
   ]
  },
  {
   "cell_type": "markdown",
   "id": "81902ce1",
   "metadata": {},
   "source": [
    "### Checking Correlations."
   ]
  },
  {
   "cell_type": "code",
   "execution_count": 148,
   "id": "c3d7e664",
   "metadata": {
    "ExecuteTime": {
     "end_time": "2021-05-11T11:13:59.035271Z",
     "start_time": "2021-05-11T11:13:57.916275Z"
    }
   },
   "outputs": [
    {
     "data": {
      "text/plain": [
       "<AxesSubplot:>"
      ]
     },
     "execution_count": 148,
     "metadata": {},
     "output_type": "execute_result"
    },
    {
     "data": {
      "image/png": "[encoded data removed]",
      "text/plain": [
       "<Figure size 1080x648 with 2 Axes>"
      ]
     },
     "metadata": {
      "needs_background": "light"
     },
     "output_type": "display_data"
    }
   ],
   "source": [
    "plt.figure(figsize=[11, 9])\n",
    "sb.heatmap(data.corr(), annot=True, fmt='.3f', cmap='vlag_r', center=0);"
   ]
  },
  {
   "cell_type": "code",
   "execution_count": 149,
   "id": "7cadc0e7",
   "metadata": {
    "ExecuteTime": {
     "end_time": "2021-05-11T11:13:59.267272Z",
     "start_time": "2021-05-11T11:13:59.037276Z"
    }
   },
   "outputs": [
    {
     "data": {
      "text/plain": [
       "<AxesSubplot:>"
      ]
     },
     "execution_count": 149,
     "metadata": {},
     "output_type": "execute_result"
    },
    {
     "data": {
      "image/png": "[encoded data removed]",
      "text/plain": [
       "<Figure size 1080x648 with 2 Axes>"
      ]
     },
     "metadata": {
      "needs_background": "light"
     },
     "output_type": "display_data"
    }
   ],
   "source": [
    "plt.figure(figsize=[11, 9])\n",
    "sb.heatmap(transaction_data.corr(), annot=True,\n",
    "           fmt='.3f', cmap='vlag_r', center=0);"
   ]
  },
  {
   "cell_type": "code",
   "execution_count": 150,
   "id": "2e5c1695",
   "metadata": {
    "ExecuteTime": {
     "end_time": "2021-05-11T11:13:59.866307Z",
     "start_time": "2021-05-11T11:13:59.269273Z"
    }
   },
   "outputs": [
    {
     "data": {
      "text/plain": [
       "<AxesSubplot:>"
      ]
     },
     "execution_count": 150,
     "metadata": {},
     "output_type": "execute_result"
    },
    {
     "data": {
      "image/png": "[encoded data removed]",
      "text/plain": [
       "<Figure size 1080x648 with 2 Axes>"
      ]
     },
     "metadata": {
      "needs_background": "light"
     },
     "output_type": "display_data"
    }
   ],
   "source": [
    "plt.figure(figsize=[11, 9])\n",
    "sb.heatmap(offer_data.corr(), annot=True, fmt='.3f', cmap='vlag_r', center=0)"
   ]
  },
  {
   "cell_type": "markdown",
   "id": "8bccf4c9",
   "metadata": {},
   "source": [
    "#### No significant relation between varibales."
   ]
  },
  {
   "cell_type": "code",
   "execution_count": 151,
   "id": "50ae0b13",
   "metadata": {
    "ExecuteTime": {
     "end_time": "2021-05-11T11:14:00.148272Z",
     "start_time": "2021-05-11T11:13:59.868273Z"
    }
   },
   "outputs": [
    {
     "data": {
      "text/html": [
       "<div>\n",
       "<style scoped>\n",
       "    .dataframe tbody tr th:only-of-type {\n",
       "        vertical-align: middle;\n",
       "    }\n",
       "\n",
       "    .dataframe tbody tr th {\n",
       "        vertical-align: top;\n",
       "    }\n",
       "\n",
       "    .dataframe thead th {\n",
       "        text-align: right;\n",
       "    }\n",
       "</style>\n",
       "<table border=\"1\" class=\"dataframe\">\n",
       "  <thead>\n",
       "    <tr style=\"text-align: right;\">\n",
       "      <th></th>\n",
       "      <th>test_day</th>\n",
       "      <th>reward</th>\n",
       "      <th>amount</th>\n",
       "      <th>age</th>\n",
       "      <th>income</th>\n",
       "      <th>difficulty</th>\n",
       "      <th>duration</th>\n",
       "      <th>email</th>\n",
       "      <th>mobile</th>\n",
       "      <th>social</th>\n",
       "      <th>web</th>\n",
       "    </tr>\n",
       "  </thead>\n",
       "  <tbody>\n",
       "    <tr>\n",
       "      <th>count</th>\n",
       "      <td>272762.000000</td>\n",
       "      <td>272762.000000</td>\n",
       "      <td>272762.000000</td>\n",
       "      <td>272762.000000</td>\n",
       "      <td>272762.000000</td>\n",
       "      <td>148805.000000</td>\n",
       "      <td>148805.000000</td>\n",
       "      <td>148805.0</td>\n",
       "      <td>148805.000000</td>\n",
       "      <td>148805.000000</td>\n",
       "      <td>148805.000000</td>\n",
       "    </tr>\n",
       "    <tr>\n",
       "      <th>mean</th>\n",
       "      <td>15.011812</td>\n",
       "      <td>0.588575</td>\n",
       "      <td>6.360646</td>\n",
       "      <td>53.840696</td>\n",
       "      <td>64337.000755</td>\n",
       "      <td>7.890561</td>\n",
       "      <td>6.625207</td>\n",
       "      <td>1.0</td>\n",
       "      <td>0.917160</td>\n",
       "      <td>0.658311</td>\n",
       "      <td>0.806747</td>\n",
       "    </tr>\n",
       "    <tr>\n",
       "      <th>std</th>\n",
       "      <td>8.331806</td>\n",
       "      <td>1.889452</td>\n",
       "      <td>22.509207</td>\n",
       "      <td>17.551337</td>\n",
       "      <td>21243.762941</td>\n",
       "      <td>5.041335</td>\n",
       "      <td>2.133035</td>\n",
       "      <td>0.0</td>\n",
       "      <td>0.275641</td>\n",
       "      <td>0.474277</td>\n",
       "      <td>0.394851</td>\n",
       "    </tr>\n",
       "    <tr>\n",
       "      <th>min</th>\n",
       "      <td>0.000000</td>\n",
       "      <td>0.000000</td>\n",
       "      <td>0.000000</td>\n",
       "      <td>18.000000</td>\n",
       "      <td>30000.000000</td>\n",
       "      <td>0.000000</td>\n",
       "      <td>3.000000</td>\n",
       "      <td>1.0</td>\n",
       "      <td>0.000000</td>\n",
       "      <td>0.000000</td>\n",
       "      <td>0.000000</td>\n",
       "    </tr>\n",
       "    <tr>\n",
       "      <th>25%</th>\n",
       "      <td>7.000000</td>\n",
       "      <td>0.000000</td>\n",
       "      <td>0.000000</td>\n",
       "      <td>41.000000</td>\n",
       "      <td>48000.000000</td>\n",
       "      <td>5.000000</td>\n",
       "      <td>5.000000</td>\n",
       "      <td>1.0</td>\n",
       "      <td>1.000000</td>\n",
       "      <td>0.000000</td>\n",
       "      <td>1.000000</td>\n",
       "    </tr>\n",
       "    <tr>\n",
       "      <th>50%</th>\n",
       "      <td>17.000000</td>\n",
       "      <td>0.000000</td>\n",
       "      <td>0.000000</td>\n",
       "      <td>55.000000</td>\n",
       "      <td>62000.000000</td>\n",
       "      <td>10.000000</td>\n",
       "      <td>7.000000</td>\n",
       "      <td>1.0</td>\n",
       "      <td>1.000000</td>\n",
       "      <td>1.000000</td>\n",
       "      <td>1.000000</td>\n",
       "    </tr>\n",
       "    <tr>\n",
       "      <th>75%</th>\n",
       "      <td>22.000000</td>\n",
       "      <td>0.000000</td>\n",
       "      <td>9.140000</td>\n",
       "      <td>66.000000</td>\n",
       "      <td>78000.000000</td>\n",
       "      <td>10.000000</td>\n",
       "      <td>7.000000</td>\n",
       "      <td>1.0</td>\n",
       "      <td>1.000000</td>\n",
       "      <td>1.000000</td>\n",
       "      <td>1.000000</td>\n",
       "    </tr>\n",
       "    <tr>\n",
       "      <th>max</th>\n",
       "      <td>29.000000</td>\n",
       "      <td>10.000000</td>\n",
       "      <td>1062.280000</td>\n",
       "      <td>101.000000</td>\n",
       "      <td>120000.000000</td>\n",
       "      <td>20.000000</td>\n",
       "      <td>10.000000</td>\n",
       "      <td>1.0</td>\n",
       "      <td>1.000000</td>\n",
       "      <td>1.000000</td>\n",
       "      <td>1.000000</td>\n",
       "    </tr>\n",
       "  </tbody>\n",
       "</table>\n",
       "</div>"
      ],
      "text/plain": [
       "            test_day         reward         amount            age  \\\n",
       "count  272762.000000  272762.000000  272762.000000  272762.000000   \n",
       "mean       15.011812       0.588575       6.360646      53.840696   \n",
       "std         8.331806       1.889452      22.509207      17.551337   \n",
       "min         0.000000       0.000000       0.000000      18.000000   \n",
       "25%         7.000000       0.000000       0.000000      41.000000   \n",
       "50%        17.000000       0.000000       0.000000      55.000000   \n",
       "75%        22.000000       0.000000       9.140000      66.000000   \n",
       "max        29.000000      10.000000    1062.280000     101.000000   \n",
       "\n",
       "              income     difficulty       duration     email         mobile  \\\n",
       "count  272762.000000  148805.000000  148805.000000  148805.0  148805.000000   \n",
       "mean    64337.000755       7.890561       6.625207       1.0       0.917160   \n",
       "std     21243.762941       5.041335       2.133035       0.0       0.275641   \n",
       "min     30000.000000       0.000000       3.000000       1.0       0.000000   \n",
       "25%     48000.000000       5.000000       5.000000       1.0       1.000000   \n",
       "50%     62000.000000      10.000000       7.000000       1.0       1.000000   \n",
       "75%     78000.000000      10.000000       7.000000       1.0       1.000000   \n",
       "max    120000.000000      20.000000      10.000000       1.0       1.000000   \n",
       "\n",
       "              social            web  \n",
       "count  148805.000000  148805.000000  \n",
       "mean        0.658311       0.806747  \n",
       "std         0.474277       0.394851  \n",
       "min         0.000000       0.000000  \n",
       "25%         0.000000       1.000000  \n",
       "50%         1.000000       1.000000  \n",
       "75%         1.000000       1.000000  \n",
       "max         1.000000       1.000000  "
      ]
     },
     "execution_count": 151,
     "metadata": {},
     "output_type": "execute_result"
    }
   ],
   "source": [
    "data.describe()"
   ]
  },
  {
   "cell_type": "markdown",
   "id": "a3388bce",
   "metadata": {},
   "source": [
    "#### Not much to analyse as there might be relations present but common."
   ]
  },
  {
   "cell_type": "markdown",
   "id": "e71ba51c",
   "metadata": {},
   "source": [
    "## Feature Engineering\n",
    "\n",
    "**We need to validate the transactions that occurred as a result of viewing the offer or it is an independent event.**\n",
    "\n",
    "We need to confirm for each user if the user has viewed and completed the offer within the validity period while handling the issue of missing offer_id with the transaction event and the missing offer complete event with the informational offers.\n",
    "\n",
    "The offers is considered completed when *offer_time_recieved < offer_time_viewed < transaction_time < offer_time_completed < offer_end_time.*"
   ]
  },
  {
   "cell_type": "code",
   "execution_count": 152,
   "id": "bd78ef08",
   "metadata": {
    "ExecuteTime": {
     "end_time": "2021-05-11T11:14:00.276272Z",
     "start_time": "2021-05-11T11:14:00.150272Z"
    }
   },
   "outputs": [
    {
     "data": {
      "text/plain": [
       "event            offer_type   \n",
       "offer completed  bogo             15258\n",
       "                 discount         17186\n",
       "offer received   bogo             26537\n",
       "                 discount         26664\n",
       "                 informational    13300\n",
       "offer viewed     bogo             22039\n",
       "                 discount         18461\n",
       "                 informational     9360\n",
       "Name: offer_type, dtype: int64"
      ]
     },
     "execution_count": 152,
     "metadata": {},
     "output_type": "execute_result"
    }
   ],
   "source": [
    "data.groupby(['event', 'offer_type'])['offer_type'].count()"
   ]
  },
  {
   "cell_type": "code",
   "execution_count": 205,
   "id": "3d7ded08",
   "metadata": {
    "ExecuteTime": {
     "end_time": "2021-05-11T13:02:24.792698Z",
     "start_time": "2021-05-11T13:02:24.659423Z"
    }
   },
   "outputs": [
    {
     "data": {
      "text/html": [
       "<div>\n",
       "<style scoped>\n",
       "    .dataframe tbody tr th:only-of-type {\n",
       "        vertical-align: middle;\n",
       "    }\n",
       "\n",
       "    .dataframe tbody tr th {\n",
       "        vertical-align: top;\n",
       "    }\n",
       "\n",
       "    .dataframe thead th {\n",
       "        text-align: right;\n",
       "    }\n",
       "</style>\n",
       "<table border=\"1\" class=\"dataframe\">\n",
       "  <thead>\n",
       "    <tr style=\"text-align: right;\">\n",
       "      <th></th>\n",
       "      <th>customer_id</th>\n",
       "      <th>event</th>\n",
       "      <th>test_day</th>\n",
       "      <th>offer_id</th>\n",
       "      <th>reward</th>\n",
       "      <th>amount</th>\n",
       "      <th>gender</th>\n",
       "      <th>age</th>\n",
       "      <th>became_member_on</th>\n",
       "      <th>income</th>\n",
       "      <th>difficulty</th>\n",
       "      <th>duration</th>\n",
       "      <th>offer_type</th>\n",
       "      <th>email</th>\n",
       "      <th>mobile</th>\n",
       "      <th>social</th>\n",
       "      <th>web</th>\n",
       "    </tr>\n",
       "  </thead>\n",
       "  <tbody>\n",
       "    <tr>\n",
       "      <th>252247</th>\n",
       "      <td>0009655768c64bdeb2e877511632db8f</td>\n",
       "      <td>offer received</td>\n",
       "      <td>24</td>\n",
       "      <td>2906b810c7d4411798c6938adc9daaa5</td>\n",
       "      <td>0</td>\n",
       "      <td>0.0</td>\n",
       "      <td>male</td>\n",
       "      <td>33</td>\n",
       "      <td>2017-04-21</td>\n",
       "      <td>72000.0</td>\n",
       "      <td>10.0</td>\n",
       "      <td>7.0</td>\n",
       "      <td>discount</td>\n",
       "      <td>1.0</td>\n",
       "      <td>1.0</td>\n",
       "      <td>0.0</td>\n",
       "      <td>1.0</td>\n",
       "    </tr>\n",
       "    <tr>\n",
       "      <th>252249</th>\n",
       "      <td>0009655768c64bdeb2e877511632db8f</td>\n",
       "      <td>offer completed</td>\n",
       "      <td>24</td>\n",
       "      <td>2906b810c7d4411798c6938adc9daaa5</td>\n",
       "      <td>2</td>\n",
       "      <td>0.0</td>\n",
       "      <td>male</td>\n",
       "      <td>33</td>\n",
       "      <td>2017-04-21</td>\n",
       "      <td>72000.0</td>\n",
       "      <td>10.0</td>\n",
       "      <td>7.0</td>\n",
       "      <td>discount</td>\n",
       "      <td>1.0</td>\n",
       "      <td>1.0</td>\n",
       "      <td>0.0</td>\n",
       "      <td>1.0</td>\n",
       "    </tr>\n",
       "    <tr>\n",
       "      <th>252236</th>\n",
       "      <td>0009655768c64bdeb2e877511632db8f</td>\n",
       "      <td>offer received</td>\n",
       "      <td>14</td>\n",
       "      <td>3f207df678b143eea3cee63160fa8bed</td>\n",
       "      <td>0</td>\n",
       "      <td>0.0</td>\n",
       "      <td>male</td>\n",
       "      <td>33</td>\n",
       "      <td>2017-04-21</td>\n",
       "      <td>72000.0</td>\n",
       "      <td>0.0</td>\n",
       "      <td>4.0</td>\n",
       "      <td>informational</td>\n",
       "      <td>1.0</td>\n",
       "      <td>1.0</td>\n",
       "      <td>0.0</td>\n",
       "      <td>1.0</td>\n",
       "    </tr>\n",
       "    <tr>\n",
       "      <th>252237</th>\n",
       "      <td>0009655768c64bdeb2e877511632db8f</td>\n",
       "      <td>offer viewed</td>\n",
       "      <td>15</td>\n",
       "      <td>3f207df678b143eea3cee63160fa8bed</td>\n",
       "      <td>0</td>\n",
       "      <td>0.0</td>\n",
       "      <td>male</td>\n",
       "      <td>33</td>\n",
       "      <td>2017-04-21</td>\n",
       "      <td>72000.0</td>\n",
       "      <td>0.0</td>\n",
       "      <td>4.0</td>\n",
       "      <td>informational</td>\n",
       "      <td>1.0</td>\n",
       "      <td>1.0</td>\n",
       "      <td>0.0</td>\n",
       "      <td>1.0</td>\n",
       "    </tr>\n",
       "    <tr>\n",
       "      <th>252233</th>\n",
       "      <td>0009655768c64bdeb2e877511632db8f</td>\n",
       "      <td>offer received</td>\n",
       "      <td>7</td>\n",
       "      <td>5a8bc65990b245e5a138643cd4eb9837</td>\n",
       "      <td>0</td>\n",
       "      <td>0.0</td>\n",
       "      <td>male</td>\n",
       "      <td>33</td>\n",
       "      <td>2017-04-21</td>\n",
       "      <td>72000.0</td>\n",
       "      <td>0.0</td>\n",
       "      <td>3.0</td>\n",
       "      <td>informational</td>\n",
       "      <td>1.0</td>\n",
       "      <td>1.0</td>\n",
       "      <td>1.0</td>\n",
       "      <td>0.0</td>\n",
       "    </tr>\n",
       "  </tbody>\n",
       "</table>\n",
       "</div>"
      ],
      "text/plain": [
       "                             customer_id            event  test_day  \\\n",
       "252247  0009655768c64bdeb2e877511632db8f   offer received        24   \n",
       "252249  0009655768c64bdeb2e877511632db8f  offer completed        24   \n",
       "252236  0009655768c64bdeb2e877511632db8f   offer received        14   \n",
       "252237  0009655768c64bdeb2e877511632db8f     offer viewed        15   \n",
       "252233  0009655768c64bdeb2e877511632db8f   offer received         7   \n",
       "\n",
       "                                offer_id  reward  amount gender  age  \\\n",
       "252247  2906b810c7d4411798c6938adc9daaa5       0     0.0   male   33   \n",
       "252249  2906b810c7d4411798c6938adc9daaa5       2     0.0   male   33   \n",
       "252236  3f207df678b143eea3cee63160fa8bed       0     0.0   male   33   \n",
       "252237  3f207df678b143eea3cee63160fa8bed       0     0.0   male   33   \n",
       "252233  5a8bc65990b245e5a138643cd4eb9837       0     0.0   male   33   \n",
       "\n",
       "       became_member_on   income  difficulty  duration     offer_type  email  \\\n",
       "252247       2017-04-21  72000.0        10.0       7.0       discount    1.0   \n",
       "252249       2017-04-21  72000.0        10.0       7.0       discount    1.0   \n",
       "252236       2017-04-21  72000.0         0.0       4.0  informational    1.0   \n",
       "252237       2017-04-21  72000.0         0.0       4.0  informational    1.0   \n",
       "252233       2017-04-21  72000.0         0.0       3.0  informational    1.0   \n",
       "\n",
       "        mobile  social  web  \n",
       "252247     1.0     0.0  1.0  \n",
       "252249     1.0     0.0  1.0  \n",
       "252236     1.0     0.0  1.0  \n",
       "252237     1.0     0.0  1.0  \n",
       "252233     1.0     1.0  0.0  "
      ]
     },
     "execution_count": 205,
     "metadata": {},
     "output_type": "execute_result"
    }
   ],
   "source": [
    "offer_data.sort_values(['customer_id', 'offer_id', 'test_day']).head(5)"
   ]
  },
  {
   "cell_type": "markdown",
   "id": "f2586c90",
   "metadata": {},
   "source": [
    "- **As, we can see same person get multiple offers and multiple offer received and completed.**\n",
    "- **In above we can see the customer got same offer but viewed event happened after offer is completed.**"
   ]
  },
  {
   "cell_type": "markdown",
   "id": "c533c761",
   "metadata": {},
   "source": [
    "#### Sorting data with customer_id, offer_id and test day."
   ]
  },
  {
   "cell_type": "code",
   "execution_count": 204,
   "id": "46595bb7",
   "metadata": {
    "ExecuteTime": {
     "end_time": "2021-05-11T13:02:18.088685Z",
     "start_time": "2021-05-11T13:02:17.950662Z"
    }
   },
   "outputs": [
    {
     "data": {
      "text/html": [
       "<div>\n",
       "<style scoped>\n",
       "    .dataframe tbody tr th:only-of-type {\n",
       "        vertical-align: middle;\n",
       "    }\n",
       "\n",
       "    .dataframe tbody tr th {\n",
       "        vertical-align: top;\n",
       "    }\n",
       "\n",
       "    .dataframe thead th {\n",
       "        text-align: right;\n",
       "    }\n",
       "</style>\n",
       "<table border=\"1\" class=\"dataframe\">\n",
       "  <thead>\n",
       "    <tr style=\"text-align: right;\">\n",
       "      <th></th>\n",
       "      <th>customer_id</th>\n",
       "      <th>event</th>\n",
       "      <th>test_day</th>\n",
       "      <th>offer_id</th>\n",
       "      <th>reward</th>\n",
       "      <th>amount</th>\n",
       "      <th>gender</th>\n",
       "      <th>age</th>\n",
       "      <th>became_member_on</th>\n",
       "      <th>income</th>\n",
       "      <th>difficulty</th>\n",
       "      <th>duration</th>\n",
       "      <th>offer_type</th>\n",
       "      <th>email</th>\n",
       "      <th>mobile</th>\n",
       "      <th>social</th>\n",
       "      <th>web</th>\n",
       "    </tr>\n",
       "  </thead>\n",
       "  <tbody>\n",
       "    <tr>\n",
       "      <th>252247</th>\n",
       "      <td>0009655768c64bdeb2e877511632db8f</td>\n",
       "      <td>offer received</td>\n",
       "      <td>24</td>\n",
       "      <td>2906b810c7d4411798c6938adc9daaa5</td>\n",
       "      <td>0</td>\n",
       "      <td>0.0</td>\n",
       "      <td>male</td>\n",
       "      <td>33</td>\n",
       "      <td>2017-04-21</td>\n",
       "      <td>72000.0</td>\n",
       "      <td>10.0</td>\n",
       "      <td>7.0</td>\n",
       "      <td>discount</td>\n",
       "      <td>1.0</td>\n",
       "      <td>1.0</td>\n",
       "      <td>0.0</td>\n",
       "      <td>1.0</td>\n",
       "    </tr>\n",
       "    <tr>\n",
       "      <th>252249</th>\n",
       "      <td>0009655768c64bdeb2e877511632db8f</td>\n",
       "      <td>offer completed</td>\n",
       "      <td>24</td>\n",
       "      <td>2906b810c7d4411798c6938adc9daaa5</td>\n",
       "      <td>2</td>\n",
       "      <td>0.0</td>\n",
       "      <td>male</td>\n",
       "      <td>33</td>\n",
       "      <td>2017-04-21</td>\n",
       "      <td>72000.0</td>\n",
       "      <td>10.0</td>\n",
       "      <td>7.0</td>\n",
       "      <td>discount</td>\n",
       "      <td>1.0</td>\n",
       "      <td>1.0</td>\n",
       "      <td>0.0</td>\n",
       "      <td>1.0</td>\n",
       "    </tr>\n",
       "    <tr>\n",
       "      <th>252236</th>\n",
       "      <td>0009655768c64bdeb2e877511632db8f</td>\n",
       "      <td>offer received</td>\n",
       "      <td>14</td>\n",
       "      <td>3f207df678b143eea3cee63160fa8bed</td>\n",
       "      <td>0</td>\n",
       "      <td>0.0</td>\n",
       "      <td>male</td>\n",
       "      <td>33</td>\n",
       "      <td>2017-04-21</td>\n",
       "      <td>72000.0</td>\n",
       "      <td>0.0</td>\n",
       "      <td>4.0</td>\n",
       "      <td>informational</td>\n",
       "      <td>1.0</td>\n",
       "      <td>1.0</td>\n",
       "      <td>0.0</td>\n",
       "      <td>1.0</td>\n",
       "    </tr>\n",
       "    <tr>\n",
       "      <th>252237</th>\n",
       "      <td>0009655768c64bdeb2e877511632db8f</td>\n",
       "      <td>offer viewed</td>\n",
       "      <td>15</td>\n",
       "      <td>3f207df678b143eea3cee63160fa8bed</td>\n",
       "      <td>0</td>\n",
       "      <td>0.0</td>\n",
       "      <td>male</td>\n",
       "      <td>33</td>\n",
       "      <td>2017-04-21</td>\n",
       "      <td>72000.0</td>\n",
       "      <td>0.0</td>\n",
       "      <td>4.0</td>\n",
       "      <td>informational</td>\n",
       "      <td>1.0</td>\n",
       "      <td>1.0</td>\n",
       "      <td>0.0</td>\n",
       "      <td>1.0</td>\n",
       "    </tr>\n",
       "    <tr>\n",
       "      <th>252233</th>\n",
       "      <td>0009655768c64bdeb2e877511632db8f</td>\n",
       "      <td>offer received</td>\n",
       "      <td>7</td>\n",
       "      <td>5a8bc65990b245e5a138643cd4eb9837</td>\n",
       "      <td>0</td>\n",
       "      <td>0.0</td>\n",
       "      <td>male</td>\n",
       "      <td>33</td>\n",
       "      <td>2017-04-21</td>\n",
       "      <td>72000.0</td>\n",
       "      <td>0.0</td>\n",
       "      <td>3.0</td>\n",
       "      <td>informational</td>\n",
       "      <td>1.0</td>\n",
       "      <td>1.0</td>\n",
       "      <td>1.0</td>\n",
       "      <td>0.0</td>\n",
       "    </tr>\n",
       "  </tbody>\n",
       "</table>\n",
       "</div>"
      ],
      "text/plain": [
       "                             customer_id            event  test_day  \\\n",
       "252247  0009655768c64bdeb2e877511632db8f   offer received        24   \n",
       "252249  0009655768c64bdeb2e877511632db8f  offer completed        24   \n",
       "252236  0009655768c64bdeb2e877511632db8f   offer received        14   \n",
       "252237  0009655768c64bdeb2e877511632db8f     offer viewed        15   \n",
       "252233  0009655768c64bdeb2e877511632db8f   offer received         7   \n",
       "\n",
       "                                offer_id  reward  amount gender  age  \\\n",
       "252247  2906b810c7d4411798c6938adc9daaa5       0     0.0   male   33   \n",
       "252249  2906b810c7d4411798c6938adc9daaa5       2     0.0   male   33   \n",
       "252236  3f207df678b143eea3cee63160fa8bed       0     0.0   male   33   \n",
       "252237  3f207df678b143eea3cee63160fa8bed       0     0.0   male   33   \n",
       "252233  5a8bc65990b245e5a138643cd4eb9837       0     0.0   male   33   \n",
       "\n",
       "       became_member_on   income  difficulty  duration     offer_type  email  \\\n",
       "252247       2017-04-21  72000.0        10.0       7.0       discount    1.0   \n",
       "252249       2017-04-21  72000.0        10.0       7.0       discount    1.0   \n",
       "252236       2017-04-21  72000.0         0.0       4.0  informational    1.0   \n",
       "252237       2017-04-21  72000.0         0.0       4.0  informational    1.0   \n",
       "252233       2017-04-21  72000.0         0.0       3.0  informational    1.0   \n",
       "\n",
       "        mobile  social  web  \n",
       "252247     1.0     0.0  1.0  \n",
       "252249     1.0     0.0  1.0  \n",
       "252236     1.0     0.0  1.0  \n",
       "252237     1.0     0.0  1.0  \n",
       "252233     1.0     1.0  0.0  "
      ]
     },
     "execution_count": 204,
     "metadata": {},
     "output_type": "execute_result"
    }
   ],
   "source": [
    "data = data.sort_values(['customer_id', 'offer_id', 'test_day'])\n",
    "data.head(5)"
   ]
  },
  {
   "cell_type": "markdown",
   "id": "c563ee48",
   "metadata": {},
   "source": [
    "#### *Creating different datasets for different offer types.*\n",
    "\n",
    "- Creating 2 additional columns: a flag completion and the offer finish time.\n",
    "- An offer is considered complete, if it is within the validity period and the offer finish time is the first completion event for this user, when the customer completes the offer.\n",
    "- Getting the viewed and successful offers. This step returns viewed and successful flag plus the offer view time.\n",
    "- Get the transaction summary and user stats such as the amount spent during the offer, the amount spent during the non-offer period, profit, the number of completed offers for each offer type."
   ]
  },
  {
   "cell_type": "code",
   "execution_count": 195,
   "id": "26d4c635",
   "metadata": {
    "ExecuteTime": {
     "end_time": "2021-05-11T12:46:18.875094Z",
     "start_time": "2021-05-11T12:46:18.853077Z"
    }
   },
   "outputs": [],
   "source": [
    "def completed_set(row, completed):\n",
    "    completed_flag = 0\n",
    "    finish_time_flag = row.end_time\n",
    "\n",
    "    completed_set = completed[(completed.offer_id == row.offer_id) &\n",
    "                              (completed.time_completed >= row.time_received) &\n",
    "                              (completed.time_completed <= row.end_time)]\n",
    "    if(len(completed_set) > 0):\n",
    "        completed_flag = 1\n",
    "        finish_time_flag = completed_set.time_completed.iloc[0]\n",
    "    return pd.Series([completed_flag, finish_time_flag], index=['completed', 'finish'])\n",
    "\n",
    "\n",
    "def viewed_set(row,  viewed):\n",
    "    viewed_flag = 0\n",
    "    view_time = np.nan\n",
    "    success = 0\n",
    "\n",
    "    viewed_set = viewed[(viewed.offer_id == row.offer_id) &\n",
    "                        (viewed.time_viewed >= row.time_received) &\n",
    "                        (viewed.time_viewed <= row.finish)]\n",
    "    if(len(viewed_set) > 0):\n",
    "        viewed_flag = 1\n",
    "        view_time = viewed_set.time_viewed.iloc[0]\n",
    "        success = 1 if row.completed else 0\n",
    "\n",
    "    return pd.Series([viewed_flag, success, view_time], index=['viewed', 'success', 'view_time'])\n",
    "\n",
    "\n",
    "def successful_informational(row, transactions):\n",
    "    condition = (transactions.transaction_time >= row.time_received) & (\n",
    "        (transactions.transaction_time <= row.end_time))\n",
    "    success = 1 if len(transactions[condition]) > 0 else 0\n",
    "    return pd.Series([success], index=['success'])\n",
    "\n",
    "\n",
    "def transaction_stats(row, transactions):\n",
    "    total_spent_offer = 0\n",
    "    total_spent_non_offer = 0\n",
    "    profit = 0\n",
    "\n",
    "    if row.viewed == 1:\n",
    "        transactions_offer = transactions[(transactions.transaction_time >= row.view_time) & (\n",
    "            transactions.transaction_time <= row.end_time)]\n",
    "\n",
    "        total_spent_offer = transactions_offer.amount.sum()\n",
    "\n",
    "        transactions_non_offer = transactions[(transactions.transaction_time < row.view_time) & (\n",
    "            transactions.transaction_time >= row.time_received)]\n",
    "\n",
    "        total_spent_non_offer = transactions_non_offer.amount.sum()\n",
    "\n",
    "        cost = row.reward if row.completed == 1 else 0\n",
    "\n",
    "        profit = total_spent_offer - cost\n",
    "    else:\n",
    "        transactions_non_offer = transactions[(transactions.transaction_time >= row.time_received) & (\n",
    "            transactions.transaction_time <= row.end_time)]\n",
    "\n",
    "        total_spent_non_offer = transactions_non_offer.amount.sum()\n",
    "\n",
    "        cost = row.reward if row.completed == 1 else 0\n",
    "\n",
    "        profit = total_spent_non_offer - cost\n",
    "\n",
    "    total_spent = total_spent_non_offer + total_spent_offer\n",
    "\n",
    "    return pd.Series([total_spent_offer, total_spent_non_offer, profit, total_spent], index=['total_spent_offer', 'total_spent_non_offer', 'profit', 'total_spent'])\n",
    "\n",
    "\n",
    "def completed_offer(row):\n",
    "    completed_offer = 1 if ((row.completed == 1) or (\n",
    "        row.completed_not_viewed == 1)) else 0\n",
    "\n",
    "    return pd.Series([completed_offer], index=['completed_offer'])"
   ]
  },
  {
   "cell_type": "code",
   "execution_count": 196,
   "id": "3edfe83e",
   "metadata": {
    "ExecuteTime": {
     "end_time": "2021-05-11T12:46:19.252550Z",
     "start_time": "2021-05-11T12:46:19.231521Z"
    }
   },
   "outputs": [],
   "source": [
    "def creating_seperate_data(data):\n",
    "    transaction_data = data[data['event'] == 'transaction'].copy()\n",
    "    received_data = data[data['event'] == 'offer received'].copy()\n",
    "    completed_data = data[data['event'] == 'offer completed'].copy()\n",
    "    viewed_data = data[data['event'] == 'offer viewed'].copy()\n",
    "\n",
    "    received_data.rename(columns={'test_day': 'time_received'}, inplace=True)\n",
    "\n",
    "    received_data.drop(columns=['event', 'amount'], inplace=True, axis=1)\n",
    "\n",
    "    # add expected finish time to the received data frame\n",
    "    # duration is in days while time is in hours\n",
    "    received_data['end_time'] = received_data.time_received + \\\n",
    "        received_data.duration\n",
    "\n",
    "    to_drop = ['event', 'difficulty', 'duration', 'offer_type', 'reward',\n",
    "               'email', 'mobile', 'social', 'web', 'amount']\n",
    "\n",
    "    viewed_data.rename(columns={'test_day': 'time_viewed'}, inplace=True)\n",
    "    viewed_data.drop(columns=to_drop, inplace=True, axis=1)\n",
    "\n",
    "    completed_data.rename(columns={'test_day': 'time_completed'}, inplace=True)\n",
    "    completed_data.drop(columns=to_drop, inplace=True, axis=1)\n",
    "\n",
    "    to_drop = ['event', 'difficulty', 'duration', 'offer_type', 'reward',\n",
    "               'email', 'mobile', 'social', 'web', 'offer_id']\n",
    "\n",
    "    transaction_data.rename(\n",
    "        columns={'test_day': 'transaction_time'}, inplace=True)\n",
    "    transaction_data.drop(columns=to_drop, inplace=True, axis=1)\n",
    "\n",
    "    return received_data, transaction_data, viewed_data, completed_data\n",
    "\n",
    "\n",
    "def customer_transactions(data):\n",
    "    received_data, transaction_data, viewed_data, completed_data = creating_seperate_data(\n",
    "        data)\n",
    "    \n",
    "    if len(received_data) > 0:\n",
    "        \n",
    "        temp_received = received_data.copy()\n",
    "\n",
    "        # handling the received - completed, completed - finish\n",
    "        temp_received[['completed', 'finish']] = temp_received.apply(\n",
    "            lambda row: completed_set(row, completed_data), axis=1)\n",
    "\n",
    "        # handling viewed & completed\n",
    "        temp_received[['viewed', 'success', 'view_time']] = temp_received.apply(\n",
    "            lambda row: viewed_set(row, viewed_data), axis=1)\n",
    "\n",
    "        # handling informational offers for completed offers\n",
    "        condition = (temp_received.viewed == 1) &\\\n",
    "            (temp_received.offer_type == 'informational')\n",
    "\n",
    "        # getting the transactions within the condition\n",
    "        temp_received.loc[condition, 'success'] = temp_received[condition].apply(\n",
    "            lambda row: successful_informational(row, transaction_data), axis=1)\n",
    "\n",
    "        temp_received.loc[condition,\n",
    "                          'completed'] = temp_received.loc[condition, 'success']\n",
    "\n",
    "        # handling not viewed & completed\n",
    "        temp_received['completed_not_viewed'] = 0\n",
    "\n",
    "        condition = (temp_received.completed == 1) & (\n",
    "            temp_received.viewed == 0) & (temp_received.success == 0)\n",
    "\n",
    "        temp_received.loc[condition, 'completed_not_viewed'] = 1\n",
    "\n",
    "        # getting the transaction amount and offer id\n",
    "        temp_received[['total_spent_offer', 'total_spent_non_offer', 'profit', 'total_spent']\n",
    "                      ] = temp_received.apply(lambda row: transaction_stats(row, transaction_data), axis=1)\n",
    "\n",
    "        # getting user data\n",
    "        temp_received['num_bogo_completed'] = [\n",
    "            temp_received[temp_received.offer_type == 'bogo']['completed'].sum()] * len(temp_received)\n",
    "\n",
    "        temp_received['num_discount_completed'] = [\n",
    "            temp_received[temp_received.offer_type == 'discount']['completed'].sum()] * len(temp_received)\n",
    "\n",
    "        temp_received['num_informational_completed'] = [\n",
    "            temp_received[temp_received.offer_type == 'informational']['completed'].sum()] * len(temp_received)\n",
    "\n",
    "        temp_received['successful_offers'] = [\n",
    "            temp_received['success'].sum()] * len(temp_received)\n",
    "\n",
    "        temp_received['non_successful_offers'] = [\n",
    "            temp_received[temp_received.success == 0]['success'].count()] * len(temp_received)\n",
    "\n",
    "        temp_received['completed_offer'] = temp_received.apply(\n",
    "            lambda row: completed_offer(row), axis=1)\n",
    "\n",
    "        # dividing into segments\n",
    "        # VC - Viewed and Completed\n",
    "        # VNC - Viewed not completed\n",
    "        # NVC - Not viewed but completed\n",
    "        # NVNC - Not viewed not completed\n",
    "\n",
    "        VC_CONDITION = (temp_received.success == 1.0) | ((temp_received.viewed == 1.0) & (\n",
    "            temp_received.completed == 1.0)) & (temp_received.total_spent_offer > temp_received.total_spent_non_offer)\n",
    "\n",
    "        VNC_CONDITION = ((temp_received.viewed == 1.0) &\n",
    "                         (temp_received.completed == 0))\n",
    "\n",
    "        NVC_CONDITION = (temp_received.completed_not_viewed == 1) | ((temp_received.viewed == 1.0) & (\n",
    "            temp_received.completed == 1.0) & (temp_received.total_spent_offer < temp_received.total_spent_non_offer))\n",
    "\n",
    "        temp_received['segment'] = ['NVNC'] * len(temp_received)\n",
    "        temp_received.loc[VC_CONDITION, 'segment'] = 'VC'\n",
    "        temp_received.loc[VNC_CONDITION, 'segment'] = 'VNC'\n",
    "        temp_received.loc[NVC_CONDITION, 'segment'] = 'NVC'\n",
    "        return temp_received\n",
    "    else:\n",
    "        return None"
   ]
  },
  {
   "cell_type": "code",
   "execution_count": 197,
   "id": "b035ae83",
   "metadata": {
    "ExecuteTime": {
     "end_time": "2021-05-11T12:58:11.670550Z",
     "start_time": "2021-05-11T12:46:19.766554Z"
    },
    "scrolled": false
   },
   "outputs": [
    {
     "data": {
      "application/vnd.jupyter.widget-view+json": {
       "model_id": "9aae3f4a8d6f4044a373ba46dcec53f9",
       "version_major": 2,
       "version_minor": 0
      },
      "text/plain": [
       "  0%|          | 0/14825 [00:00<?, ?it/s]"
      ]
     },
     "metadata": {},
     "output_type": "display_data"
    },
    {
     "data": {
      "text/html": [
       "<div>\n",
       "<style scoped>\n",
       "    .dataframe tbody tr th:only-of-type {\n",
       "        vertical-align: middle;\n",
       "    }\n",
       "\n",
       "    .dataframe tbody tr th {\n",
       "        vertical-align: top;\n",
       "    }\n",
       "\n",
       "    .dataframe thead th {\n",
       "        text-align: right;\n",
       "    }\n",
       "</style>\n",
       "<table border=\"1\" class=\"dataframe\">\n",
       "  <thead>\n",
       "    <tr style=\"text-align: right;\">\n",
       "      <th></th>\n",
       "      <th>customer_id</th>\n",
       "      <th>time_received</th>\n",
       "      <th>offer_id</th>\n",
       "      <th>reward</th>\n",
       "      <th>gender</th>\n",
       "      <th>age</th>\n",
       "      <th>became_member_on</th>\n",
       "      <th>income</th>\n",
       "      <th>difficulty</th>\n",
       "      <th>duration</th>\n",
       "      <th>...</th>\n",
       "      <th>total_spent_non_offer</th>\n",
       "      <th>profit</th>\n",
       "      <th>total_spent</th>\n",
       "      <th>num_bogo_completed</th>\n",
       "      <th>num_discount_completed</th>\n",
       "      <th>num_informational_completed</th>\n",
       "      <th>successful_offers</th>\n",
       "      <th>non_successful_offers</th>\n",
       "      <th>completed_offer</th>\n",
       "      <th>segment</th>\n",
       "    </tr>\n",
       "  </thead>\n",
       "  <tbody>\n",
       "    <tr>\n",
       "      <th>0</th>\n",
       "      <td>0009655768c64bdeb2e877511632db8f</td>\n",
       "      <td>24</td>\n",
       "      <td>2906b810c7d4411798c6938adc9daaa5</td>\n",
       "      <td>0</td>\n",
       "      <td>male</td>\n",
       "      <td>33</td>\n",
       "      <td>2017-04-21</td>\n",
       "      <td>72000.0</td>\n",
       "      <td>10.0</td>\n",
       "      <td>7.0</td>\n",
       "      <td>...</td>\n",
       "      <td>69.20</td>\n",
       "      <td>69.20</td>\n",
       "      <td>69.20</td>\n",
       "      <td>1.0</td>\n",
       "      <td>2.0</td>\n",
       "      <td>2.0</td>\n",
       "      <td>3.0</td>\n",
       "      <td>2</td>\n",
       "      <td>1</td>\n",
       "      <td>NVC</td>\n",
       "    </tr>\n",
       "    <tr>\n",
       "      <th>1</th>\n",
       "      <td>0009655768c64bdeb2e877511632db8f</td>\n",
       "      <td>14</td>\n",
       "      <td>3f207df678b143eea3cee63160fa8bed</td>\n",
       "      <td>0</td>\n",
       "      <td>male</td>\n",
       "      <td>33</td>\n",
       "      <td>2017-04-21</td>\n",
       "      <td>72000.0</td>\n",
       "      <td>0.0</td>\n",
       "      <td>4.0</td>\n",
       "      <td>...</td>\n",
       "      <td>0.00</td>\n",
       "      <td>8.57</td>\n",
       "      <td>8.57</td>\n",
       "      <td>1.0</td>\n",
       "      <td>2.0</td>\n",
       "      <td>2.0</td>\n",
       "      <td>3.0</td>\n",
       "      <td>2</td>\n",
       "      <td>1</td>\n",
       "      <td>VC</td>\n",
       "    </tr>\n",
       "    <tr>\n",
       "      <th>2</th>\n",
       "      <td>0009655768c64bdeb2e877511632db8f</td>\n",
       "      <td>7</td>\n",
       "      <td>5a8bc65990b245e5a138643cd4eb9837</td>\n",
       "      <td>0</td>\n",
       "      <td>male</td>\n",
       "      <td>33</td>\n",
       "      <td>2017-04-21</td>\n",
       "      <td>72000.0</td>\n",
       "      <td>0.0</td>\n",
       "      <td>3.0</td>\n",
       "      <td>...</td>\n",
       "      <td>0.00</td>\n",
       "      <td>22.16</td>\n",
       "      <td>22.16</td>\n",
       "      <td>1.0</td>\n",
       "      <td>2.0</td>\n",
       "      <td>2.0</td>\n",
       "      <td>3.0</td>\n",
       "      <td>2</td>\n",
       "      <td>1</td>\n",
       "      <td>VC</td>\n",
       "    </tr>\n",
       "    <tr>\n",
       "      <th>3</th>\n",
       "      <td>0009655768c64bdeb2e877511632db8f</td>\n",
       "      <td>17</td>\n",
       "      <td>f19421c1d4aa40978ebb69ca19b0e20d</td>\n",
       "      <td>0</td>\n",
       "      <td>male</td>\n",
       "      <td>33</td>\n",
       "      <td>2017-04-21</td>\n",
       "      <td>72000.0</td>\n",
       "      <td>5.0</td>\n",
       "      <td>5.0</td>\n",
       "      <td>...</td>\n",
       "      <td>22.68</td>\n",
       "      <td>22.68</td>\n",
       "      <td>22.68</td>\n",
       "      <td>1.0</td>\n",
       "      <td>2.0</td>\n",
       "      <td>2.0</td>\n",
       "      <td>3.0</td>\n",
       "      <td>2</td>\n",
       "      <td>1</td>\n",
       "      <td>NVC</td>\n",
       "    </tr>\n",
       "    <tr>\n",
       "      <th>4</th>\n",
       "      <td>0009655768c64bdeb2e877511632db8f</td>\n",
       "      <td>21</td>\n",
       "      <td>fafdcd668e3743c1bb461111dcafc2a4</td>\n",
       "      <td>0</td>\n",
       "      <td>male</td>\n",
       "      <td>33</td>\n",
       "      <td>2017-04-21</td>\n",
       "      <td>72000.0</td>\n",
       "      <td>10.0</td>\n",
       "      <td>10.0</td>\n",
       "      <td>...</td>\n",
       "      <td>0.00</td>\n",
       "      <td>96.87</td>\n",
       "      <td>96.87</td>\n",
       "      <td>1.0</td>\n",
       "      <td>2.0</td>\n",
       "      <td>2.0</td>\n",
       "      <td>3.0</td>\n",
       "      <td>2</td>\n",
       "      <td>1</td>\n",
       "      <td>VC</td>\n",
       "    </tr>\n",
       "  </tbody>\n",
       "</table>\n",
       "<p>5 rows × 33 columns</p>\n",
       "</div>"
      ],
      "text/plain": [
       "                        customer_id  time_received  \\\n",
       "0  0009655768c64bdeb2e877511632db8f             24   \n",
       "1  0009655768c64bdeb2e877511632db8f             14   \n",
       "2  0009655768c64bdeb2e877511632db8f              7   \n",
       "3  0009655768c64bdeb2e877511632db8f             17   \n",
       "4  0009655768c64bdeb2e877511632db8f             21   \n",
       "\n",
       "                           offer_id  reward gender  age became_member_on  \\\n",
       "0  2906b810c7d4411798c6938adc9daaa5       0   male   33       2017-04-21   \n",
       "1  3f207df678b143eea3cee63160fa8bed       0   male   33       2017-04-21   \n",
       "2  5a8bc65990b245e5a138643cd4eb9837       0   male   33       2017-04-21   \n",
       "3  f19421c1d4aa40978ebb69ca19b0e20d       0   male   33       2017-04-21   \n",
       "4  fafdcd668e3743c1bb461111dcafc2a4       0   male   33       2017-04-21   \n",
       "\n",
       "    income  difficulty  duration  ... total_spent_non_offer  profit  \\\n",
       "0  72000.0        10.0       7.0  ...                 69.20   69.20   \n",
       "1  72000.0         0.0       4.0  ...                  0.00    8.57   \n",
       "2  72000.0         0.0       3.0  ...                  0.00   22.16   \n",
       "3  72000.0         5.0       5.0  ...                 22.68   22.68   \n",
       "4  72000.0        10.0      10.0  ...                  0.00   96.87   \n",
       "\n",
       "   total_spent  num_bogo_completed  num_discount_completed  \\\n",
       "0        69.20                 1.0                     2.0   \n",
       "1         8.57                 1.0                     2.0   \n",
       "2        22.16                 1.0                     2.0   \n",
       "3        22.68                 1.0                     2.0   \n",
       "4        96.87                 1.0                     2.0   \n",
       "\n",
       "   num_informational_completed  successful_offers  non_successful_offers  \\\n",
       "0                          2.0                3.0                      2   \n",
       "1                          2.0                3.0                      2   \n",
       "2                          2.0                3.0                      2   \n",
       "3                          2.0                3.0                      2   \n",
       "4                          2.0                3.0                      2   \n",
       "\n",
       "   completed_offer  segment  \n",
       "0                1      NVC  \n",
       "1                1       VC  \n",
       "2                1       VC  \n",
       "3                1      NVC  \n",
       "4                1       VC  \n",
       "\n",
       "[5 rows x 33 columns]"
      ]
     },
     "execution_count": 197,
     "metadata": {},
     "output_type": "execute_result"
    }
   ],
   "source": [
    "from tqdm import notebook\n",
    "notebook.tqdm.pandas()\n",
    "customers_transactions = data.groupby(\n",
    "    'customer_id').progress_apply(customer_transactions).reset_index(drop=True)\n",
    "customers_transactions.head()"
   ]
  },
  {
   "cell_type": "code",
   "execution_count": 203,
   "id": "d4df0397",
   "metadata": {
    "ExecuteTime": {
     "end_time": "2021-05-11T13:00:49.477802Z",
     "start_time": "2021-05-11T13:00:49.436815Z"
    }
   },
   "outputs": [
    {
     "name": "stdout",
     "output_type": "stream",
     "text": [
      "<class 'pandas.core.frame.DataFrame'>\n",
      "RangeIndex: 66501 entries, 0 to 66500\n",
      "Data columns (total 33 columns):\n",
      " #   Column                       Non-Null Count  Dtype         \n",
      "---  ------                       --------------  -----         \n",
      " 0   customer_id                  66501 non-null  object        \n",
      " 1   time_received                66501 non-null  int64         \n",
      " 2   offer_id                     66501 non-null  object        \n",
      " 3   reward                       66501 non-null  int64         \n",
      " 4   gender                       66501 non-null  object        \n",
      " 5   age                          66501 non-null  int64         \n",
      " 6   became_member_on             66501 non-null  datetime64[ns]\n",
      " 7   income                       66501 non-null  float64       \n",
      " 8   difficulty                   66501 non-null  float64       \n",
      " 9   duration                     66501 non-null  float64       \n",
      " 10  offer_type                   66501 non-null  object        \n",
      " 11  email                        66501 non-null  float64       \n",
      " 12  mobile                       66501 non-null  float64       \n",
      " 13  social                       66501 non-null  float64       \n",
      " 14  web                          66501 non-null  float64       \n",
      " 15  end_time                     66501 non-null  float64       \n",
      " 16  completed                    66501 non-null  float64       \n",
      " 17  finish                       66501 non-null  float64       \n",
      " 18  viewed                       66501 non-null  float64       \n",
      " 19  success                      66501 non-null  float64       \n",
      " 20  view_time                    46611 non-null  float64       \n",
      " 21  completed_not_viewed         66501 non-null  int64         \n",
      " 22  total_spent_offer            66501 non-null  float64       \n",
      " 23  total_spent_non_offer        66501 non-null  float64       \n",
      " 24  profit                       66501 non-null  float64       \n",
      " 25  total_spent                  66501 non-null  float64       \n",
      " 26  num_bogo_completed           66501 non-null  float64       \n",
      " 27  num_discount_completed       66501 non-null  float64       \n",
      " 28  num_informational_completed  66501 non-null  float64       \n",
      " 29  successful_offers            66501 non-null  float64       \n",
      " 30  non_successful_offers        66501 non-null  int64         \n",
      " 31  completed_offer              66501 non-null  int64         \n",
      " 32  segment                      66501 non-null  object        \n",
      "dtypes: datetime64[ns](1), float64(21), int64(6), object(5)\n",
      "memory usage: 16.7+ MB\n"
     ]
    }
   ],
   "source": [
    "customers_transactions.info()"
   ]
  },
  {
   "cell_type": "code",
   "execution_count": 206,
   "id": "a3a4868a",
   "metadata": {
    "ExecuteTime": {
     "end_time": "2021-05-11T13:10:39.697332Z",
     "start_time": "2021-05-11T13:10:38.450743Z"
    }
   },
   "outputs": [],
   "source": [
    "customers_transactions.to_csv(\n",
    "    'data/customers_transactions.csv', index=None, header=True)"
   ]
  },
  {
   "cell_type": "code",
   "execution_count": 3,
   "id": "4591d3e9",
   "metadata": {
    "ExecuteTime": {
     "end_time": "2021-05-11T07:10:49.801592Z",
     "start_time": "2021-05-11T07:10:48.016203Z"
    }
   },
   "outputs": [],
   "source": [
    "import pandas as pd\n",
    "customer_offers = pd.read_csv('data/customers_transactions_offers.csv')"
   ]
  }
 ],
 "metadata": {
  "kernelspec": {
   "display_name": "Python 3",
   "language": "python",
   "name": "python3"
  },
  "language_info": {
   "codemirror_mode": {
    "name": "ipython",
    "version": 3
   },
   "file_extension": ".py",
   "mimetype": "text/x-python",
   "name": "python",
   "nbconvert_exporter": "python",
   "pygments_lexer": "ipython3",
   "version": "3.7.10"
  }
 },
 "nbformat": 4,
 "nbformat_minor": 5
}
