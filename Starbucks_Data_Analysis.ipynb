{
 "cells": [
  {
   "cell_type": "markdown",
   "id": "615b1e6c",
   "metadata": {},
   "source": [
    "# *Starbucks Rewards Mobile App Offers*"
   ]
  },
  {
   "cell_type": "markdown",
   "id": "869b4570",
   "metadata": {},
   "source": [
    "## Introduction"
   ]
  },
  {
   "cell_type": "markdown",
   "id": "a2d8e9c1",
   "metadata": {},
   "source": []
  },
  {
   "cell_type": "markdown",
   "id": "588df2be",
   "metadata": {},
   "source": [
    "### *Loading Libraries*"
   ]
  },
  {
   "cell_type": "code",
   "execution_count": 214,
   "id": "48e17308",
   "metadata": {
    "ExecuteTime": {
     "end_time": "2021-04-28T06:57:33.397029Z",
     "start_time": "2021-04-28T06:57:33.362986Z"
    }
   },
   "outputs": [],
   "source": [
    "# Importing Libraries\n",
    "\n",
    "import seaborn as sb\n",
    "import pandas as pd\n",
    "import numpy as np\n",
    "import matplotlib.pyplot as plt\n",
    "\n",
    "%matplotlib inline"
   ]
  },
  {
   "cell_type": "markdown",
   "id": "0dbf5644",
   "metadata": {},
   "source": [
    "## Data Wrangling"
   ]
  },
  {
   "cell_type": "markdown",
   "id": "0e229fe5",
   "metadata": {},
   "source": [
    "**Data Wrangling steps:**\n",
    "- Gather\n",
    "- Acess\n",
    "- Clean\n",
    "    - Define\n",
    "    - Code\n",
    "    - Test"
   ]
  },
  {
   "cell_type": "markdown",
   "id": "92c82e04",
   "metadata": {},
   "source": [
    "### *Gather Data*"
   ]
  },
  {
   "cell_type": "code",
   "execution_count": 215,
   "id": "8fe389e0",
   "metadata": {
    "ExecuteTime": {
     "end_time": "2021-04-28T06:57:34.946459Z",
     "start_time": "2021-04-28T06:57:33.399029Z"
    }
   },
   "outputs": [],
   "source": [
    "# Importing data from json\n",
    "\n",
    "portfolio_data = pd.read_json(\n",
    "    \"data/portfolio.json\", orient='records', lines=True)\n",
    "\n",
    "profile_data = pd.read_json(\"data/profile.json\", orient='records', lines=True)\n",
    "\n",
    "transcript_data = pd.read_json(\n",
    "    \"data/transcript.json\", orient='records', lines=True)"
   ]
  },
  {
   "cell_type": "markdown",
   "id": "959e2265",
   "metadata": {},
   "source": [
    "### *Acess Data*"
   ]
  },
  {
   "cell_type": "markdown",
   "id": "4c545dd3",
   "metadata": {},
   "source": [
    "#### Sample Data"
   ]
  },
  {
   "cell_type": "code",
   "execution_count": 216,
   "id": "1685fa09",
   "metadata": {
    "ExecuteTime": {
     "end_time": "2021-04-28T06:57:34.961316Z",
     "start_time": "2021-04-28T06:57:34.948278Z"
    }
   },
   "outputs": [
    {
     "data": {
      "text/html": [
       "<div>\n",
       "<style scoped>\n",
       "    .dataframe tbody tr th:only-of-type {\n",
       "        vertical-align: middle;\n",
       "    }\n",
       "\n",
       "    .dataframe tbody tr th {\n",
       "        vertical-align: top;\n",
       "    }\n",
       "\n",
       "    .dataframe thead th {\n",
       "        text-align: right;\n",
       "    }\n",
       "</style>\n",
       "<table border=\"1\" class=\"dataframe\">\n",
       "  <thead>\n",
       "    <tr style=\"text-align: right;\">\n",
       "      <th></th>\n",
       "      <th>reward</th>\n",
       "      <th>channels</th>\n",
       "      <th>difficulty</th>\n",
       "      <th>duration</th>\n",
       "      <th>offer_type</th>\n",
       "      <th>id</th>\n",
       "    </tr>\n",
       "  </thead>\n",
       "  <tbody>\n",
       "    <tr>\n",
       "      <th>0</th>\n",
       "      <td>10</td>\n",
       "      <td>[email, mobile, social]</td>\n",
       "      <td>10</td>\n",
       "      <td>7</td>\n",
       "      <td>bogo</td>\n",
       "      <td>ae264e3637204a6fb9bb56bc8210ddfd</td>\n",
       "    </tr>\n",
       "    <tr>\n",
       "      <th>2</th>\n",
       "      <td>0</td>\n",
       "      <td>[web, email, mobile]</td>\n",
       "      <td>0</td>\n",
       "      <td>4</td>\n",
       "      <td>informational</td>\n",
       "      <td>3f207df678b143eea3cee63160fa8bed</td>\n",
       "    </tr>\n",
       "    <tr>\n",
       "      <th>6</th>\n",
       "      <td>2</td>\n",
       "      <td>[web, email, mobile, social]</td>\n",
       "      <td>10</td>\n",
       "      <td>10</td>\n",
       "      <td>discount</td>\n",
       "      <td>fafdcd668e3743c1bb461111dcafc2a4</td>\n",
       "    </tr>\n",
       "    <tr>\n",
       "      <th>9</th>\n",
       "      <td>2</td>\n",
       "      <td>[web, email, mobile]</td>\n",
       "      <td>10</td>\n",
       "      <td>7</td>\n",
       "      <td>discount</td>\n",
       "      <td>2906b810c7d4411798c6938adc9daaa5</td>\n",
       "    </tr>\n",
       "    <tr>\n",
       "      <th>7</th>\n",
       "      <td>0</td>\n",
       "      <td>[email, mobile, social]</td>\n",
       "      <td>0</td>\n",
       "      <td>3</td>\n",
       "      <td>informational</td>\n",
       "      <td>5a8bc65990b245e5a138643cd4eb9837</td>\n",
       "    </tr>\n",
       "    <tr>\n",
       "      <th>1</th>\n",
       "      <td>10</td>\n",
       "      <td>[web, email, mobile, social]</td>\n",
       "      <td>10</td>\n",
       "      <td>5</td>\n",
       "      <td>bogo</td>\n",
       "      <td>4d5c57ea9a6940dd891ad53e9dbe8da0</td>\n",
       "    </tr>\n",
       "    <tr>\n",
       "      <th>5</th>\n",
       "      <td>3</td>\n",
       "      <td>[web, email, mobile, social]</td>\n",
       "      <td>7</td>\n",
       "      <td>7</td>\n",
       "      <td>discount</td>\n",
       "      <td>2298d6c36e964ae4a3e7e9706d1fb8c2</td>\n",
       "    </tr>\n",
       "    <tr>\n",
       "      <th>3</th>\n",
       "      <td>5</td>\n",
       "      <td>[web, email, mobile]</td>\n",
       "      <td>5</td>\n",
       "      <td>7</td>\n",
       "      <td>bogo</td>\n",
       "      <td>9b98b8c7a33c4b65b9aebfe6a799e6d9</td>\n",
       "    </tr>\n",
       "    <tr>\n",
       "      <th>8</th>\n",
       "      <td>5</td>\n",
       "      <td>[web, email, mobile, social]</td>\n",
       "      <td>5</td>\n",
       "      <td>5</td>\n",
       "      <td>bogo</td>\n",
       "      <td>f19421c1d4aa40978ebb69ca19b0e20d</td>\n",
       "    </tr>\n",
       "    <tr>\n",
       "      <th>4</th>\n",
       "      <td>5</td>\n",
       "      <td>[web, email]</td>\n",
       "      <td>20</td>\n",
       "      <td>10</td>\n",
       "      <td>discount</td>\n",
       "      <td>0b1e1539f2cc45b7b9fa7c272da2e1d7</td>\n",
       "    </tr>\n",
       "  </tbody>\n",
       "</table>\n",
       "</div>"
      ],
      "text/plain": [
       "   reward                      channels  difficulty  duration     offer_type  \\\n",
       "0      10       [email, mobile, social]          10         7           bogo   \n",
       "2       0          [web, email, mobile]           0         4  informational   \n",
       "6       2  [web, email, mobile, social]          10        10       discount   \n",
       "9       2          [web, email, mobile]          10         7       discount   \n",
       "7       0       [email, mobile, social]           0         3  informational   \n",
       "1      10  [web, email, mobile, social]          10         5           bogo   \n",
       "5       3  [web, email, mobile, social]           7         7       discount   \n",
       "3       5          [web, email, mobile]           5         7           bogo   \n",
       "8       5  [web, email, mobile, social]           5         5           bogo   \n",
       "4       5                  [web, email]          20        10       discount   \n",
       "\n",
       "                                 id  \n",
       "0  ae264e3637204a6fb9bb56bc8210ddfd  \n",
       "2  3f207df678b143eea3cee63160fa8bed  \n",
       "6  fafdcd668e3743c1bb461111dcafc2a4  \n",
       "9  2906b810c7d4411798c6938adc9daaa5  \n",
       "7  5a8bc65990b245e5a138643cd4eb9837  \n",
       "1  4d5c57ea9a6940dd891ad53e9dbe8da0  \n",
       "5  2298d6c36e964ae4a3e7e9706d1fb8c2  \n",
       "3  9b98b8c7a33c4b65b9aebfe6a799e6d9  \n",
       "8  f19421c1d4aa40978ebb69ca19b0e20d  \n",
       "4  0b1e1539f2cc45b7b9fa7c272da2e1d7  "
      ]
     },
     "execution_count": 216,
     "metadata": {},
     "output_type": "execute_result"
    }
   ],
   "source": [
    "# Glimpse of data\n",
    "portfolio_data.sample(10)"
   ]
  },
  {
   "cell_type": "code",
   "execution_count": 217,
   "id": "52edae91",
   "metadata": {
    "ExecuteTime": {
     "end_time": "2021-04-28T06:57:34.992436Z",
     "start_time": "2021-04-28T06:57:34.962278Z"
    }
   },
   "outputs": [
    {
     "data": {
      "text/html": [
       "<div>\n",
       "<style scoped>\n",
       "    .dataframe tbody tr th:only-of-type {\n",
       "        vertical-align: middle;\n",
       "    }\n",
       "\n",
       "    .dataframe tbody tr th {\n",
       "        vertical-align: top;\n",
       "    }\n",
       "\n",
       "    .dataframe thead th {\n",
       "        text-align: right;\n",
       "    }\n",
       "</style>\n",
       "<table border=\"1\" class=\"dataframe\">\n",
       "  <thead>\n",
       "    <tr style=\"text-align: right;\">\n",
       "      <th></th>\n",
       "      <th>gender</th>\n",
       "      <th>age</th>\n",
       "      <th>id</th>\n",
       "      <th>became_member_on</th>\n",
       "      <th>income</th>\n",
       "    </tr>\n",
       "  </thead>\n",
       "  <tbody>\n",
       "    <tr>\n",
       "      <th>9496</th>\n",
       "      <td>M</td>\n",
       "      <td>54</td>\n",
       "      <td>0a3fe7f225ef42798190a1654b9a43ac</td>\n",
       "      <td>20180119</td>\n",
       "      <td>61000.0</td>\n",
       "    </tr>\n",
       "    <tr>\n",
       "      <th>86</th>\n",
       "      <td>F</td>\n",
       "      <td>74</td>\n",
       "      <td>2c5c63e5124e417b8504f76c868a4190</td>\n",
       "      <td>20151224</td>\n",
       "      <td>107000.0</td>\n",
       "    </tr>\n",
       "    <tr>\n",
       "      <th>14156</th>\n",
       "      <td>M</td>\n",
       "      <td>21</td>\n",
       "      <td>1806c09a830840f9983b0443f687a4ba</td>\n",
       "      <td>20171027</td>\n",
       "      <td>71000.0</td>\n",
       "    </tr>\n",
       "    <tr>\n",
       "      <th>15294</th>\n",
       "      <td>F</td>\n",
       "      <td>65</td>\n",
       "      <td>f89b838f0225472fa5d191e25778f8e4</td>\n",
       "      <td>20180207</td>\n",
       "      <td>70000.0</td>\n",
       "    </tr>\n",
       "    <tr>\n",
       "      <th>1847</th>\n",
       "      <td>M</td>\n",
       "      <td>54</td>\n",
       "      <td>e75780657f42498c8b16c915ad2fc209</td>\n",
       "      <td>20180407</td>\n",
       "      <td>69000.0</td>\n",
       "    </tr>\n",
       "    <tr>\n",
       "      <th>4975</th>\n",
       "      <td>F</td>\n",
       "      <td>20</td>\n",
       "      <td>b9f66dfe212c45338adfab7ff215e362</td>\n",
       "      <td>20160522</td>\n",
       "      <td>64000.0</td>\n",
       "    </tr>\n",
       "    <tr>\n",
       "      <th>2777</th>\n",
       "      <td>M</td>\n",
       "      <td>27</td>\n",
       "      <td>9045d97579294e3287696d71cad9c68d</td>\n",
       "      <td>20160905</td>\n",
       "      <td>34000.0</td>\n",
       "    </tr>\n",
       "    <tr>\n",
       "      <th>12214</th>\n",
       "      <td>F</td>\n",
       "      <td>20</td>\n",
       "      <td>04fcbc5e1faf4b7bba20116ecb30ca17</td>\n",
       "      <td>20171011</td>\n",
       "      <td>46000.0</td>\n",
       "    </tr>\n",
       "    <tr>\n",
       "      <th>3054</th>\n",
       "      <td>F</td>\n",
       "      <td>63</td>\n",
       "      <td>0f46a272dd8b4b789e31f910653fc8f4</td>\n",
       "      <td>20160627</td>\n",
       "      <td>88000.0</td>\n",
       "    </tr>\n",
       "    <tr>\n",
       "      <th>4848</th>\n",
       "      <td>M</td>\n",
       "      <td>63</td>\n",
       "      <td>c0eda515b67c4aa99ca289db36cd0f3e</td>\n",
       "      <td>20180521</td>\n",
       "      <td>74000.0</td>\n",
       "    </tr>\n",
       "  </tbody>\n",
       "</table>\n",
       "</div>"
      ],
      "text/plain": [
       "      gender  age                                id  became_member_on  \\\n",
       "9496       M   54  0a3fe7f225ef42798190a1654b9a43ac          20180119   \n",
       "86         F   74  2c5c63e5124e417b8504f76c868a4190          20151224   \n",
       "14156      M   21  1806c09a830840f9983b0443f687a4ba          20171027   \n",
       "15294      F   65  f89b838f0225472fa5d191e25778f8e4          20180207   \n",
       "1847       M   54  e75780657f42498c8b16c915ad2fc209          20180407   \n",
       "4975       F   20  b9f66dfe212c45338adfab7ff215e362          20160522   \n",
       "2777       M   27  9045d97579294e3287696d71cad9c68d          20160905   \n",
       "12214      F   20  04fcbc5e1faf4b7bba20116ecb30ca17          20171011   \n",
       "3054       F   63  0f46a272dd8b4b789e31f910653fc8f4          20160627   \n",
       "4848       M   63  c0eda515b67c4aa99ca289db36cd0f3e          20180521   \n",
       "\n",
       "         income  \n",
       "9496    61000.0  \n",
       "86     107000.0  \n",
       "14156   71000.0  \n",
       "15294   70000.0  \n",
       "1847    69000.0  \n",
       "4975    64000.0  \n",
       "2777    34000.0  \n",
       "12214   46000.0  \n",
       "3054    88000.0  \n",
       "4848    74000.0  "
      ]
     },
     "execution_count": 217,
     "metadata": {},
     "output_type": "execute_result"
    }
   ],
   "source": [
    "profile_data.sample(10)"
   ]
  },
  {
   "cell_type": "code",
   "execution_count": 218,
   "id": "a6a0700a",
   "metadata": {
    "ExecuteTime": {
     "end_time": "2021-04-28T06:57:35.023437Z",
     "start_time": "2021-04-28T06:57:34.994437Z"
    }
   },
   "outputs": [
    {
     "data": {
      "text/html": [
       "<div>\n",
       "<style scoped>\n",
       "    .dataframe tbody tr th:only-of-type {\n",
       "        vertical-align: middle;\n",
       "    }\n",
       "\n",
       "    .dataframe tbody tr th {\n",
       "        vertical-align: top;\n",
       "    }\n",
       "\n",
       "    .dataframe thead th {\n",
       "        text-align: right;\n",
       "    }\n",
       "</style>\n",
       "<table border=\"1\" class=\"dataframe\">\n",
       "  <thead>\n",
       "    <tr style=\"text-align: right;\">\n",
       "      <th></th>\n",
       "      <th>person</th>\n",
       "      <th>event</th>\n",
       "      <th>value</th>\n",
       "      <th>time</th>\n",
       "    </tr>\n",
       "  </thead>\n",
       "  <tbody>\n",
       "    <tr>\n",
       "      <th>36512</th>\n",
       "      <td>df6c3af2b21049fe9e676c9599ccc0ef</td>\n",
       "      <td>transaction</td>\n",
       "      <td>{'amount': 21.26}</td>\n",
       "      <td>72</td>\n",
       "    </tr>\n",
       "    <tr>\n",
       "      <th>100227</th>\n",
       "      <td>f1a6ec5e8ef7440b949169ef991cafe4</td>\n",
       "      <td>transaction</td>\n",
       "      <td>{'amount': 12.97}</td>\n",
       "      <td>270</td>\n",
       "    </tr>\n",
       "    <tr>\n",
       "      <th>287584</th>\n",
       "      <td>a3f201002d1448b68f6b5ce6d34e461b</td>\n",
       "      <td>transaction</td>\n",
       "      <td>{'amount': 25.76}</td>\n",
       "      <td>636</td>\n",
       "    </tr>\n",
       "    <tr>\n",
       "      <th>203952</th>\n",
       "      <td>4405bf5b70f44eb9b6ee3ab6a713f0cd</td>\n",
       "      <td>offer received</td>\n",
       "      <td>{'offer id': 'ae264e3637204a6fb9bb56bc8210ddfd'}</td>\n",
       "      <td>504</td>\n",
       "    </tr>\n",
       "    <tr>\n",
       "      <th>8181</th>\n",
       "      <td>3fa1eb81473c41459439cd5749c49cb4</td>\n",
       "      <td>offer received</td>\n",
       "      <td>{'offer id': '3f207df678b143eea3cee63160fa8bed'}</td>\n",
       "      <td>0</td>\n",
       "    </tr>\n",
       "    <tr>\n",
       "      <th>160923</th>\n",
       "      <td>1997b4c538804d42bac6d58c32ec26b4</td>\n",
       "      <td>offer received</td>\n",
       "      <td>{'offer id': 'f19421c1d4aa40978ebb69ca19b0e20d'}</td>\n",
       "      <td>408</td>\n",
       "    </tr>\n",
       "    <tr>\n",
       "      <th>119898</th>\n",
       "      <td>4957ce23e5594b26a7b374b20271ed47</td>\n",
       "      <td>offer received</td>\n",
       "      <td>{'offer id': 'ae264e3637204a6fb9bb56bc8210ddfd'}</td>\n",
       "      <td>336</td>\n",
       "    </tr>\n",
       "    <tr>\n",
       "      <th>302789</th>\n",
       "      <td>75ebf737270f4aed850374986aac7333</td>\n",
       "      <td>offer completed</td>\n",
       "      <td>{'offer_id': 'fafdcd668e3743c1bb461111dcafc2a4...</td>\n",
       "      <td>696</td>\n",
       "    </tr>\n",
       "    <tr>\n",
       "      <th>135959</th>\n",
       "      <td>398d2fec9c9f4d759c5565caf97d1f80</td>\n",
       "      <td>offer viewed</td>\n",
       "      <td>{'offer id': 'fafdcd668e3743c1bb461111dcafc2a4'}</td>\n",
       "      <td>360</td>\n",
       "    </tr>\n",
       "    <tr>\n",
       "      <th>192229</th>\n",
       "      <td>c2b2d67d84494302a7aa517899b58da0</td>\n",
       "      <td>offer viewed</td>\n",
       "      <td>{'offer id': '5a8bc65990b245e5a138643cd4eb9837'}</td>\n",
       "      <td>468</td>\n",
       "    </tr>\n",
       "  </tbody>\n",
       "</table>\n",
       "</div>"
      ],
      "text/plain": [
       "                                  person            event  \\\n",
       "36512   df6c3af2b21049fe9e676c9599ccc0ef      transaction   \n",
       "100227  f1a6ec5e8ef7440b949169ef991cafe4      transaction   \n",
       "287584  a3f201002d1448b68f6b5ce6d34e461b      transaction   \n",
       "203952  4405bf5b70f44eb9b6ee3ab6a713f0cd   offer received   \n",
       "8181    3fa1eb81473c41459439cd5749c49cb4   offer received   \n",
       "160923  1997b4c538804d42bac6d58c32ec26b4   offer received   \n",
       "119898  4957ce23e5594b26a7b374b20271ed47   offer received   \n",
       "302789  75ebf737270f4aed850374986aac7333  offer completed   \n",
       "135959  398d2fec9c9f4d759c5565caf97d1f80     offer viewed   \n",
       "192229  c2b2d67d84494302a7aa517899b58da0     offer viewed   \n",
       "\n",
       "                                                    value  time  \n",
       "36512                                   {'amount': 21.26}    72  \n",
       "100227                                  {'amount': 12.97}   270  \n",
       "287584                                  {'amount': 25.76}   636  \n",
       "203952   {'offer id': 'ae264e3637204a6fb9bb56bc8210ddfd'}   504  \n",
       "8181     {'offer id': '3f207df678b143eea3cee63160fa8bed'}     0  \n",
       "160923   {'offer id': 'f19421c1d4aa40978ebb69ca19b0e20d'}   408  \n",
       "119898   {'offer id': 'ae264e3637204a6fb9bb56bc8210ddfd'}   336  \n",
       "302789  {'offer_id': 'fafdcd668e3743c1bb461111dcafc2a4...   696  \n",
       "135959   {'offer id': 'fafdcd668e3743c1bb461111dcafc2a4'}   360  \n",
       "192229   {'offer id': '5a8bc65990b245e5a138643cd4eb9837'}   468  "
      ]
     },
     "execution_count": 218,
     "metadata": {},
     "output_type": "execute_result"
    }
   ],
   "source": [
    "transcript_data.sample(10)"
   ]
  },
  {
   "cell_type": "markdown",
   "id": "05ab71c5",
   "metadata": {},
   "source": [
    "#### Info on the data"
   ]
  },
  {
   "cell_type": "code",
   "execution_count": 219,
   "id": "2ed01bf4",
   "metadata": {
    "ExecuteTime": {
     "end_time": "2021-04-28T06:57:35.039437Z",
     "start_time": "2021-04-28T06:57:35.025435Z"
    }
   },
   "outputs": [
    {
     "name": "stdout",
     "output_type": "stream",
     "text": [
      "<class 'pandas.core.frame.DataFrame'>\n",
      "RangeIndex: 10 entries, 0 to 9\n",
      "Data columns (total 6 columns):\n",
      " #   Column      Non-Null Count  Dtype \n",
      "---  ------      --------------  ----- \n",
      " 0   reward      10 non-null     int64 \n",
      " 1   channels    10 non-null     object\n",
      " 2   difficulty  10 non-null     int64 \n",
      " 3   duration    10 non-null     int64 \n",
      " 4   offer_type  10 non-null     object\n",
      " 5   id          10 non-null     object\n",
      "dtypes: int64(3), object(3)\n",
      "memory usage: 608.0+ bytes\n"
     ]
    }
   ],
   "source": [
    "# Info of data\n",
    "portfolio_data.info()"
   ]
  },
  {
   "cell_type": "code",
   "execution_count": 220,
   "id": "a2f91485",
   "metadata": {
    "ExecuteTime": {
     "end_time": "2021-04-28T06:57:35.055466Z",
     "start_time": "2021-04-28T06:57:35.040436Z"
    }
   },
   "outputs": [
    {
     "name": "stdout",
     "output_type": "stream",
     "text": [
      "<class 'pandas.core.frame.DataFrame'>\n",
      "RangeIndex: 17000 entries, 0 to 16999\n",
      "Data columns (total 5 columns):\n",
      " #   Column            Non-Null Count  Dtype  \n",
      "---  ------            --------------  -----  \n",
      " 0   gender            14825 non-null  object \n",
      " 1   age               17000 non-null  int64  \n",
      " 2   id                17000 non-null  object \n",
      " 3   became_member_on  17000 non-null  int64  \n",
      " 4   income            14825 non-null  float64\n",
      "dtypes: float64(1), int64(2), object(2)\n",
      "memory usage: 664.2+ KB\n"
     ]
    }
   ],
   "source": [
    "profile_data.info()"
   ]
  },
  {
   "cell_type": "code",
   "execution_count": 221,
   "id": "1179891e",
   "metadata": {
    "ExecuteTime": {
     "end_time": "2021-04-28T06:57:35.165436Z",
     "start_time": "2021-04-28T06:57:35.060439Z"
    }
   },
   "outputs": [
    {
     "name": "stdout",
     "output_type": "stream",
     "text": [
      "<class 'pandas.core.frame.DataFrame'>\n",
      "RangeIndex: 306534 entries, 0 to 306533\n",
      "Data columns (total 4 columns):\n",
      " #   Column  Non-Null Count   Dtype \n",
      "---  ------  --------------   ----- \n",
      " 0   person  306534 non-null  object\n",
      " 1   event   306534 non-null  object\n",
      " 2   value   306534 non-null  object\n",
      " 3   time    306534 non-null  int64 \n",
      "dtypes: int64(1), object(3)\n",
      "memory usage: 9.4+ MB\n"
     ]
    }
   ],
   "source": [
    "transcript_data.info()"
   ]
  },
  {
   "cell_type": "markdown",
   "id": "2b942fdd",
   "metadata": {},
   "source": [
    " #### Description of the data"
   ]
  },
  {
   "cell_type": "code",
   "execution_count": 222,
   "id": "1ee24377",
   "metadata": {
    "ExecuteTime": {
     "end_time": "2021-04-28T06:57:35.197435Z",
     "start_time": "2021-04-28T06:57:35.167438Z"
    }
   },
   "outputs": [
    {
     "data": {
      "text/html": [
       "<div>\n",
       "<style scoped>\n",
       "    .dataframe tbody tr th:only-of-type {\n",
       "        vertical-align: middle;\n",
       "    }\n",
       "\n",
       "    .dataframe tbody tr th {\n",
       "        vertical-align: top;\n",
       "    }\n",
       "\n",
       "    .dataframe thead th {\n",
       "        text-align: right;\n",
       "    }\n",
       "</style>\n",
       "<table border=\"1\" class=\"dataframe\">\n",
       "  <thead>\n",
       "    <tr style=\"text-align: right;\">\n",
       "      <th></th>\n",
       "      <th>reward</th>\n",
       "      <th>difficulty</th>\n",
       "      <th>duration</th>\n",
       "    </tr>\n",
       "  </thead>\n",
       "  <tbody>\n",
       "    <tr>\n",
       "      <th>count</th>\n",
       "      <td>10.000000</td>\n",
       "      <td>10.000000</td>\n",
       "      <td>10.000000</td>\n",
       "    </tr>\n",
       "    <tr>\n",
       "      <th>mean</th>\n",
       "      <td>4.200000</td>\n",
       "      <td>7.700000</td>\n",
       "      <td>6.500000</td>\n",
       "    </tr>\n",
       "    <tr>\n",
       "      <th>std</th>\n",
       "      <td>3.583915</td>\n",
       "      <td>5.831905</td>\n",
       "      <td>2.321398</td>\n",
       "    </tr>\n",
       "    <tr>\n",
       "      <th>min</th>\n",
       "      <td>0.000000</td>\n",
       "      <td>0.000000</td>\n",
       "      <td>3.000000</td>\n",
       "    </tr>\n",
       "    <tr>\n",
       "      <th>25%</th>\n",
       "      <td>2.000000</td>\n",
       "      <td>5.000000</td>\n",
       "      <td>5.000000</td>\n",
       "    </tr>\n",
       "    <tr>\n",
       "      <th>50%</th>\n",
       "      <td>4.000000</td>\n",
       "      <td>8.500000</td>\n",
       "      <td>7.000000</td>\n",
       "    </tr>\n",
       "    <tr>\n",
       "      <th>75%</th>\n",
       "      <td>5.000000</td>\n",
       "      <td>10.000000</td>\n",
       "      <td>7.000000</td>\n",
       "    </tr>\n",
       "    <tr>\n",
       "      <th>max</th>\n",
       "      <td>10.000000</td>\n",
       "      <td>20.000000</td>\n",
       "      <td>10.000000</td>\n",
       "    </tr>\n",
       "  </tbody>\n",
       "</table>\n",
       "</div>"
      ],
      "text/plain": [
       "          reward  difficulty   duration\n",
       "count  10.000000   10.000000  10.000000\n",
       "mean    4.200000    7.700000   6.500000\n",
       "std     3.583915    5.831905   2.321398\n",
       "min     0.000000    0.000000   3.000000\n",
       "25%     2.000000    5.000000   5.000000\n",
       "50%     4.000000    8.500000   7.000000\n",
       "75%     5.000000   10.000000   7.000000\n",
       "max    10.000000   20.000000  10.000000"
      ]
     },
     "execution_count": 222,
     "metadata": {},
     "output_type": "execute_result"
    }
   ],
   "source": [
    "portfolio_data.describe()\n",
    "\n",
    "# low standard deviation that means similar reward and difficulty settings on offers."
   ]
  },
  {
   "cell_type": "code",
   "execution_count": 223,
   "id": "8270621f",
   "metadata": {
    "ExecuteTime": {
     "end_time": "2021-04-28T06:57:35.229436Z",
     "start_time": "2021-04-28T06:57:35.198436Z"
    }
   },
   "outputs": [
    {
     "data": {
      "text/html": [
       "<div>\n",
       "<style scoped>\n",
       "    .dataframe tbody tr th:only-of-type {\n",
       "        vertical-align: middle;\n",
       "    }\n",
       "\n",
       "    .dataframe tbody tr th {\n",
       "        vertical-align: top;\n",
       "    }\n",
       "\n",
       "    .dataframe thead th {\n",
       "        text-align: right;\n",
       "    }\n",
       "</style>\n",
       "<table border=\"1\" class=\"dataframe\">\n",
       "  <thead>\n",
       "    <tr style=\"text-align: right;\">\n",
       "      <th></th>\n",
       "      <th>age</th>\n",
       "      <th>became_member_on</th>\n",
       "      <th>income</th>\n",
       "    </tr>\n",
       "  </thead>\n",
       "  <tbody>\n",
       "    <tr>\n",
       "      <th>count</th>\n",
       "      <td>17000.000000</td>\n",
       "      <td>1.700000e+04</td>\n",
       "      <td>14825.000000</td>\n",
       "    </tr>\n",
       "    <tr>\n",
       "      <th>mean</th>\n",
       "      <td>62.531412</td>\n",
       "      <td>2.016703e+07</td>\n",
       "      <td>65404.991568</td>\n",
       "    </tr>\n",
       "    <tr>\n",
       "      <th>std</th>\n",
       "      <td>26.738580</td>\n",
       "      <td>1.167750e+04</td>\n",
       "      <td>21598.299410</td>\n",
       "    </tr>\n",
       "    <tr>\n",
       "      <th>min</th>\n",
       "      <td>18.000000</td>\n",
       "      <td>2.013073e+07</td>\n",
       "      <td>30000.000000</td>\n",
       "    </tr>\n",
       "    <tr>\n",
       "      <th>25%</th>\n",
       "      <td>45.000000</td>\n",
       "      <td>2.016053e+07</td>\n",
       "      <td>49000.000000</td>\n",
       "    </tr>\n",
       "    <tr>\n",
       "      <th>50%</th>\n",
       "      <td>58.000000</td>\n",
       "      <td>2.017080e+07</td>\n",
       "      <td>64000.000000</td>\n",
       "    </tr>\n",
       "    <tr>\n",
       "      <th>75%</th>\n",
       "      <td>73.000000</td>\n",
       "      <td>2.017123e+07</td>\n",
       "      <td>80000.000000</td>\n",
       "    </tr>\n",
       "    <tr>\n",
       "      <th>max</th>\n",
       "      <td>118.000000</td>\n",
       "      <td>2.018073e+07</td>\n",
       "      <td>120000.000000</td>\n",
       "    </tr>\n",
       "  </tbody>\n",
       "</table>\n",
       "</div>"
      ],
      "text/plain": [
       "                age  became_member_on         income\n",
       "count  17000.000000      1.700000e+04   14825.000000\n",
       "mean      62.531412      2.016703e+07   65404.991568\n",
       "std       26.738580      1.167750e+04   21598.299410\n",
       "min       18.000000      2.013073e+07   30000.000000\n",
       "25%       45.000000      2.016053e+07   49000.000000\n",
       "50%       58.000000      2.017080e+07   64000.000000\n",
       "75%       73.000000      2.017123e+07   80000.000000\n",
       "max      118.000000      2.018073e+07  120000.000000"
      ]
     },
     "execution_count": 223,
     "metadata": {},
     "output_type": "execute_result"
    }
   ],
   "source": [
    "profile_data.describe()\n",
    "\n",
    "# Reasonable standard deviation of age\n",
    "# High standard deviation in income"
   ]
  },
  {
   "cell_type": "code",
   "execution_count": 224,
   "id": "f0266cca",
   "metadata": {
    "ExecuteTime": {
     "end_time": "2021-04-28T06:57:35.261436Z",
     "start_time": "2021-04-28T06:57:35.231437Z"
    }
   },
   "outputs": [
    {
     "data": {
      "text/html": [
       "<div>\n",
       "<style scoped>\n",
       "    .dataframe tbody tr th:only-of-type {\n",
       "        vertical-align: middle;\n",
       "    }\n",
       "\n",
       "    .dataframe tbody tr th {\n",
       "        vertical-align: top;\n",
       "    }\n",
       "\n",
       "    .dataframe thead th {\n",
       "        text-align: right;\n",
       "    }\n",
       "</style>\n",
       "<table border=\"1\" class=\"dataframe\">\n",
       "  <thead>\n",
       "    <tr style=\"text-align: right;\">\n",
       "      <th></th>\n",
       "      <th>time</th>\n",
       "    </tr>\n",
       "  </thead>\n",
       "  <tbody>\n",
       "    <tr>\n",
       "      <th>count</th>\n",
       "      <td>306534.000000</td>\n",
       "    </tr>\n",
       "    <tr>\n",
       "      <th>mean</th>\n",
       "      <td>366.382940</td>\n",
       "    </tr>\n",
       "    <tr>\n",
       "      <th>std</th>\n",
       "      <td>200.326314</td>\n",
       "    </tr>\n",
       "    <tr>\n",
       "      <th>min</th>\n",
       "      <td>0.000000</td>\n",
       "    </tr>\n",
       "    <tr>\n",
       "      <th>25%</th>\n",
       "      <td>186.000000</td>\n",
       "    </tr>\n",
       "    <tr>\n",
       "      <th>50%</th>\n",
       "      <td>408.000000</td>\n",
       "    </tr>\n",
       "    <tr>\n",
       "      <th>75%</th>\n",
       "      <td>528.000000</td>\n",
       "    </tr>\n",
       "    <tr>\n",
       "      <th>max</th>\n",
       "      <td>714.000000</td>\n",
       "    </tr>\n",
       "  </tbody>\n",
       "</table>\n",
       "</div>"
      ],
      "text/plain": [
       "                time\n",
       "count  306534.000000\n",
       "mean      366.382940\n",
       "std       200.326314\n",
       "min         0.000000\n",
       "25%       186.000000\n",
       "50%       408.000000\n",
       "75%       528.000000\n",
       "max       714.000000"
      ]
     },
     "execution_count": 224,
     "metadata": {},
     "output_type": "execute_result"
    }
   ],
   "source": [
    "transcript_data.describe()\n",
    "\n",
    "# Nothing to infer"
   ]
  },
  {
   "cell_type": "markdown",
   "id": "7da366a0",
   "metadata": {},
   "source": [
    "#### Checking for duplicates"
   ]
  },
  {
   "cell_type": "code",
   "execution_count": 225,
   "id": "45432401",
   "metadata": {
    "ExecuteTime": {
     "end_time": "2021-04-28T06:57:35.277437Z",
     "start_time": "2021-04-28T06:57:35.262436Z"
    }
   },
   "outputs": [
    {
     "data": {
      "text/plain": [
       "0"
      ]
     },
     "execution_count": 225,
     "metadata": {},
     "output_type": "execute_result"
    }
   ],
   "source": [
    "# Checking same offer ids which means same offer\n",
    "portfolio_data.id.duplicated().sum()\n",
    "\n",
    "# No duplicates in portfolio data"
   ]
  },
  {
   "cell_type": "code",
   "execution_count": 226,
   "id": "4b9ce6e0",
   "metadata": {
    "ExecuteTime": {
     "end_time": "2021-04-28T06:57:35.293437Z",
     "start_time": "2021-04-28T06:57:35.279443Z"
    }
   },
   "outputs": [
    {
     "data": {
      "text/plain": [
       "0"
      ]
     },
     "execution_count": 226,
     "metadata": {},
     "output_type": "execute_result"
    }
   ],
   "source": [
    "# Checking duplicates in profile data on customer id\n",
    "profile_data.id.duplicated().sum()\n",
    "\n",
    "# No duplicates"
   ]
  },
  {
   "cell_type": "code",
   "execution_count": 227,
   "id": "06776ca8",
   "metadata": {
    "ExecuteTime": {
     "end_time": "2021-04-28T06:57:35.357435Z",
     "start_time": "2021-04-28T06:57:35.295444Z"
    }
   },
   "outputs": [
    {
     "data": {
      "text/plain": [
       "289534"
      ]
     },
     "execution_count": 227,
     "metadata": {},
     "output_type": "execute_result"
    }
   ],
   "source": [
    "# Checking duplicates in transcript data on person(customer id)\n",
    "transcript_data.person.duplicated().sum()\n",
    "\n",
    "# These number of people have multiple orders."
   ]
  },
  {
   "cell_type": "markdown",
   "id": "91b939c2",
   "metadata": {},
   "source": [
    "- **No duplicates in portfolio data**\n",
    "- **No duplicates in profile data**\n",
    "- **289534 number of people have multiple orders. What to do will be decided later depending on data.**"
   ]
  },
  {
   "cell_type": "markdown",
   "id": "d358d0a8",
   "metadata": {},
   "source": [
    "#### Checking for Null values"
   ]
  },
  {
   "cell_type": "code",
   "execution_count": 228,
   "id": "f67b2639",
   "metadata": {
    "ExecuteTime": {
     "end_time": "2021-04-28T06:57:35.373436Z",
     "start_time": "2021-04-28T06:57:35.358436Z"
    }
   },
   "outputs": [
    {
     "name": "stdout",
     "output_type": "stream",
     "text": [
      "reward        0\n",
      "channels      0\n",
      "difficulty    0\n",
      "duration      0\n",
      "offer_type    0\n",
      "id            0\n",
      "dtype: int64\n"
     ]
    }
   ],
   "source": [
    "# Portfolio data\n",
    "print(portfolio_data.isna().sum())\n",
    "\n",
    "# No null values"
   ]
  },
  {
   "cell_type": "code",
   "execution_count": 229,
   "id": "5312915d",
   "metadata": {
    "ExecuteTime": {
     "end_time": "2021-04-28T06:57:35.389438Z",
     "start_time": "2021-04-28T06:57:35.375457Z"
    }
   },
   "outputs": [
    {
     "name": "stdout",
     "output_type": "stream",
     "text": [
      "gender              2175\n",
      "age                    0\n",
      "id                     0\n",
      "became_member_on       0\n",
      "income              2175\n",
      "dtype: int64\n",
      "\n",
      "Percentage of data missing:  0.12794117647058822\n"
     ]
    }
   ],
   "source": [
    "# Profile data\n",
    "print(profile_data.isna().sum())\n",
    "\n",
    "# Gender has null values\n",
    "# Checking percentage of null values\n",
    "print('\\nPercentage of data missing: ', profile_data.gender.isna().sum() / profile_data.shape[0])"
   ]
  },
  {
   "cell_type": "code",
   "execution_count": 230,
   "id": "a21922d1",
   "metadata": {
    "ExecuteTime": {
     "end_time": "2021-04-28T06:57:35.484590Z",
     "start_time": "2021-04-28T06:57:35.392442Z"
    }
   },
   "outputs": [
    {
     "data": {
      "text/plain": [
       "person    0\n",
       "event     0\n",
       "value     0\n",
       "time      0\n",
       "dtype: int64"
      ]
     },
     "execution_count": 230,
     "metadata": {},
     "output_type": "execute_result"
    }
   ],
   "source": [
    "# Transcript data\n",
    "transcript_data.isna().sum()\n",
    "\n",
    "# No null values"
   ]
  },
  {
   "cell_type": "markdown",
   "id": "c68ae7f5",
   "metadata": {},
   "source": [
    "- **No missing data in portfolio and transcript but about 13% gender data missing in profile and that can be removed.**\n",
    "- This may increase as we have to merge data of profile and transcript."
   ]
  },
  {
   "cell_type": "markdown",
   "id": "39de3195",
   "metadata": {},
   "source": [
    "### Access Summary"
   ]
  },
  {
   "cell_type": "markdown",
   "id": "506f5866",
   "metadata": {},
   "source": [
    "***Tidiness Issues***\n",
    "- Portfolio data has channels in the form of list\n",
    "- Transcript data has value column containg items in the form of dictionary.\n",
    "\n",
    "***Quality Issues***\n",
    "- Profile data has gender and income column containing null values\n",
    "- became_member_on_column not in datetime format\n",
    "- Renaming columns to merge data"
   ]
  },
  {
   "cell_type": "markdown",
   "id": "b0028572",
   "metadata": {},
   "source": [
    "### *Clean Data*"
   ]
  },
  {
   "cell_type": "code",
   "execution_count": 231,
   "id": "41187f0d",
   "metadata": {
    "ExecuteTime": {
     "end_time": "2021-04-28T06:57:35.546625Z",
     "start_time": "2021-04-28T06:57:35.486472Z"
    }
   },
   "outputs": [],
   "source": [
    "# Creating copies of the data\n",
    "portfolio_data_temp = portfolio_data.copy()\n",
    "profile_data_temp = profile_data.copy()\n",
    "transcript_data_temp = transcript_data.copy()"
   ]
  },
  {
   "cell_type": "markdown",
   "id": "56aa8bfe",
   "metadata": {},
   "source": [
    "**Define** "
   ]
  },
  {
   "cell_type": "markdown",
   "id": "generic-bosnia",
   "metadata": {},
   "source": [
    "***Portfolio data has channels in the form of list***"
   ]
  },
  {
   "cell_type": "code",
   "execution_count": 232,
   "id": "0c761233",
   "metadata": {
    "ExecuteTime": {
     "end_time": "2021-04-28T06:57:35.561614Z",
     "start_time": "2021-04-28T06:57:35.547473Z"
    }
   },
   "outputs": [
    {
     "data": {
      "text/html": [
       "<div>\n",
       "<style scoped>\n",
       "    .dataframe tbody tr th:only-of-type {\n",
       "        vertical-align: middle;\n",
       "    }\n",
       "\n",
       "    .dataframe tbody tr th {\n",
       "        vertical-align: top;\n",
       "    }\n",
       "\n",
       "    .dataframe thead th {\n",
       "        text-align: right;\n",
       "    }\n",
       "</style>\n",
       "<table border=\"1\" class=\"dataframe\">\n",
       "  <thead>\n",
       "    <tr style=\"text-align: right;\">\n",
       "      <th></th>\n",
       "      <th>reward</th>\n",
       "      <th>channels</th>\n",
       "      <th>difficulty</th>\n",
       "      <th>duration</th>\n",
       "      <th>offer_type</th>\n",
       "      <th>id</th>\n",
       "    </tr>\n",
       "  </thead>\n",
       "  <tbody>\n",
       "    <tr>\n",
       "      <th>0</th>\n",
       "      <td>10</td>\n",
       "      <td>[email, mobile, social]</td>\n",
       "      <td>10</td>\n",
       "      <td>7</td>\n",
       "      <td>bogo</td>\n",
       "      <td>ae264e3637204a6fb9bb56bc8210ddfd</td>\n",
       "    </tr>\n",
       "    <tr>\n",
       "      <th>1</th>\n",
       "      <td>10</td>\n",
       "      <td>[web, email, mobile, social]</td>\n",
       "      <td>10</td>\n",
       "      <td>5</td>\n",
       "      <td>bogo</td>\n",
       "      <td>4d5c57ea9a6940dd891ad53e9dbe8da0</td>\n",
       "    </tr>\n",
       "    <tr>\n",
       "      <th>2</th>\n",
       "      <td>0</td>\n",
       "      <td>[web, email, mobile]</td>\n",
       "      <td>0</td>\n",
       "      <td>4</td>\n",
       "      <td>informational</td>\n",
       "      <td>3f207df678b143eea3cee63160fa8bed</td>\n",
       "    </tr>\n",
       "    <tr>\n",
       "      <th>3</th>\n",
       "      <td>5</td>\n",
       "      <td>[web, email, mobile]</td>\n",
       "      <td>5</td>\n",
       "      <td>7</td>\n",
       "      <td>bogo</td>\n",
       "      <td>9b98b8c7a33c4b65b9aebfe6a799e6d9</td>\n",
       "    </tr>\n",
       "    <tr>\n",
       "      <th>4</th>\n",
       "      <td>5</td>\n",
       "      <td>[web, email]</td>\n",
       "      <td>20</td>\n",
       "      <td>10</td>\n",
       "      <td>discount</td>\n",
       "      <td>0b1e1539f2cc45b7b9fa7c272da2e1d7</td>\n",
       "    </tr>\n",
       "    <tr>\n",
       "      <th>5</th>\n",
       "      <td>3</td>\n",
       "      <td>[web, email, mobile, social]</td>\n",
       "      <td>7</td>\n",
       "      <td>7</td>\n",
       "      <td>discount</td>\n",
       "      <td>2298d6c36e964ae4a3e7e9706d1fb8c2</td>\n",
       "    </tr>\n",
       "    <tr>\n",
       "      <th>6</th>\n",
       "      <td>2</td>\n",
       "      <td>[web, email, mobile, social]</td>\n",
       "      <td>10</td>\n",
       "      <td>10</td>\n",
       "      <td>discount</td>\n",
       "      <td>fafdcd668e3743c1bb461111dcafc2a4</td>\n",
       "    </tr>\n",
       "    <tr>\n",
       "      <th>7</th>\n",
       "      <td>0</td>\n",
       "      <td>[email, mobile, social]</td>\n",
       "      <td>0</td>\n",
       "      <td>3</td>\n",
       "      <td>informational</td>\n",
       "      <td>5a8bc65990b245e5a138643cd4eb9837</td>\n",
       "    </tr>\n",
       "    <tr>\n",
       "      <th>8</th>\n",
       "      <td>5</td>\n",
       "      <td>[web, email, mobile, social]</td>\n",
       "      <td>5</td>\n",
       "      <td>5</td>\n",
       "      <td>bogo</td>\n",
       "      <td>f19421c1d4aa40978ebb69ca19b0e20d</td>\n",
       "    </tr>\n",
       "    <tr>\n",
       "      <th>9</th>\n",
       "      <td>2</td>\n",
       "      <td>[web, email, mobile]</td>\n",
       "      <td>10</td>\n",
       "      <td>7</td>\n",
       "      <td>discount</td>\n",
       "      <td>2906b810c7d4411798c6938adc9daaa5</td>\n",
       "    </tr>\n",
       "  </tbody>\n",
       "</table>\n",
       "</div>"
      ],
      "text/plain": [
       "   reward                      channels  difficulty  duration     offer_type  \\\n",
       "0      10       [email, mobile, social]          10         7           bogo   \n",
       "1      10  [web, email, mobile, social]          10         5           bogo   \n",
       "2       0          [web, email, mobile]           0         4  informational   \n",
       "3       5          [web, email, mobile]           5         7           bogo   \n",
       "4       5                  [web, email]          20        10       discount   \n",
       "5       3  [web, email, mobile, social]           7         7       discount   \n",
       "6       2  [web, email, mobile, social]          10        10       discount   \n",
       "7       0       [email, mobile, social]           0         3  informational   \n",
       "8       5  [web, email, mobile, social]           5         5           bogo   \n",
       "9       2          [web, email, mobile]          10         7       discount   \n",
       "\n",
       "                                 id  \n",
       "0  ae264e3637204a6fb9bb56bc8210ddfd  \n",
       "1  4d5c57ea9a6940dd891ad53e9dbe8da0  \n",
       "2  3f207df678b143eea3cee63160fa8bed  \n",
       "3  9b98b8c7a33c4b65b9aebfe6a799e6d9  \n",
       "4  0b1e1539f2cc45b7b9fa7c272da2e1d7  \n",
       "5  2298d6c36e964ae4a3e7e9706d1fb8c2  \n",
       "6  fafdcd668e3743c1bb461111dcafc2a4  \n",
       "7  5a8bc65990b245e5a138643cd4eb9837  \n",
       "8  f19421c1d4aa40978ebb69ca19b0e20d  \n",
       "9  2906b810c7d4411798c6938adc9daaa5  "
      ]
     },
     "execution_count": 232,
     "metadata": {},
     "output_type": "execute_result"
    }
   ],
   "source": [
    "# Checking data\n",
    "portfolio_data_temp"
   ]
  },
  {
   "cell_type": "markdown",
   "id": "f6f9c06e",
   "metadata": {},
   "source": [
    "**Code**"
   ]
  },
  {
   "cell_type": "code",
   "execution_count": 233,
   "id": "waiting-cleanup",
   "metadata": {
    "ExecuteTime": {
     "end_time": "2021-04-28T06:57:35.608626Z",
     "start_time": "2021-04-28T06:57:35.563437Z"
    }
   },
   "outputs": [],
   "source": [
    "# Creating dummy rows according to channel column\n",
    "email = []\n",
    "mobile = []\n",
    "web = []\n",
    "social = []\n",
    "\n",
    "temp = []\n",
    "for channel in portfolio_data_temp.channels:\n",
    "    temp.extend(channel)\n",
    "    \n",
    "for channel in temp:\n",
    "    portfolio_data_temp[channel] = portfolio_data_temp.channels.apply(lambda x : 1 if channel in x else 0)"
   ]
  },
  {
   "cell_type": "code",
   "execution_count": 234,
   "id": "racial-venue",
   "metadata": {
    "ExecuteTime": {
     "end_time": "2021-04-28T06:57:35.624435Z",
     "start_time": "2021-04-28T06:57:35.610437Z"
    }
   },
   "outputs": [],
   "source": [
    "# Dropping channels column as no longer neccessary\n",
    "portfolio_data_temp.drop(['channels'], inplace = True, axis = 1)"
   ]
  },
  {
   "cell_type": "markdown",
   "id": "0094b28e",
   "metadata": {},
   "source": [
    "**Test**"
   ]
  },
  {
   "cell_type": "code",
   "execution_count": 235,
   "id": "indoor-mixture",
   "metadata": {
    "ExecuteTime": {
     "end_time": "2021-04-28T06:57:35.639437Z",
     "start_time": "2021-04-28T06:57:35.625438Z"
    }
   },
   "outputs": [
    {
     "data": {
      "text/html": [
       "<div>\n",
       "<style scoped>\n",
       "    .dataframe tbody tr th:only-of-type {\n",
       "        vertical-align: middle;\n",
       "    }\n",
       "\n",
       "    .dataframe tbody tr th {\n",
       "        vertical-align: top;\n",
       "    }\n",
       "\n",
       "    .dataframe thead th {\n",
       "        text-align: right;\n",
       "    }\n",
       "</style>\n",
       "<table border=\"1\" class=\"dataframe\">\n",
       "  <thead>\n",
       "    <tr style=\"text-align: right;\">\n",
       "      <th></th>\n",
       "      <th>reward</th>\n",
       "      <th>difficulty</th>\n",
       "      <th>duration</th>\n",
       "      <th>offer_type</th>\n",
       "      <th>id</th>\n",
       "      <th>email</th>\n",
       "      <th>mobile</th>\n",
       "      <th>social</th>\n",
       "      <th>web</th>\n",
       "    </tr>\n",
       "  </thead>\n",
       "  <tbody>\n",
       "    <tr>\n",
       "      <th>0</th>\n",
       "      <td>10</td>\n",
       "      <td>10</td>\n",
       "      <td>7</td>\n",
       "      <td>bogo</td>\n",
       "      <td>ae264e3637204a6fb9bb56bc8210ddfd</td>\n",
       "      <td>1</td>\n",
       "      <td>1</td>\n",
       "      <td>1</td>\n",
       "      <td>0</td>\n",
       "    </tr>\n",
       "    <tr>\n",
       "      <th>1</th>\n",
       "      <td>10</td>\n",
       "      <td>10</td>\n",
       "      <td>5</td>\n",
       "      <td>bogo</td>\n",
       "      <td>4d5c57ea9a6940dd891ad53e9dbe8da0</td>\n",
       "      <td>1</td>\n",
       "      <td>1</td>\n",
       "      <td>1</td>\n",
       "      <td>1</td>\n",
       "    </tr>\n",
       "    <tr>\n",
       "      <th>2</th>\n",
       "      <td>0</td>\n",
       "      <td>0</td>\n",
       "      <td>4</td>\n",
       "      <td>informational</td>\n",
       "      <td>3f207df678b143eea3cee63160fa8bed</td>\n",
       "      <td>1</td>\n",
       "      <td>1</td>\n",
       "      <td>0</td>\n",
       "      <td>1</td>\n",
       "    </tr>\n",
       "    <tr>\n",
       "      <th>3</th>\n",
       "      <td>5</td>\n",
       "      <td>5</td>\n",
       "      <td>7</td>\n",
       "      <td>bogo</td>\n",
       "      <td>9b98b8c7a33c4b65b9aebfe6a799e6d9</td>\n",
       "      <td>1</td>\n",
       "      <td>1</td>\n",
       "      <td>0</td>\n",
       "      <td>1</td>\n",
       "    </tr>\n",
       "    <tr>\n",
       "      <th>4</th>\n",
       "      <td>5</td>\n",
       "      <td>20</td>\n",
       "      <td>10</td>\n",
       "      <td>discount</td>\n",
       "      <td>0b1e1539f2cc45b7b9fa7c272da2e1d7</td>\n",
       "      <td>1</td>\n",
       "      <td>0</td>\n",
       "      <td>0</td>\n",
       "      <td>1</td>\n",
       "    </tr>\n",
       "    <tr>\n",
       "      <th>5</th>\n",
       "      <td>3</td>\n",
       "      <td>7</td>\n",
       "      <td>7</td>\n",
       "      <td>discount</td>\n",
       "      <td>2298d6c36e964ae4a3e7e9706d1fb8c2</td>\n",
       "      <td>1</td>\n",
       "      <td>1</td>\n",
       "      <td>1</td>\n",
       "      <td>1</td>\n",
       "    </tr>\n",
       "    <tr>\n",
       "      <th>6</th>\n",
       "      <td>2</td>\n",
       "      <td>10</td>\n",
       "      <td>10</td>\n",
       "      <td>discount</td>\n",
       "      <td>fafdcd668e3743c1bb461111dcafc2a4</td>\n",
       "      <td>1</td>\n",
       "      <td>1</td>\n",
       "      <td>1</td>\n",
       "      <td>1</td>\n",
       "    </tr>\n",
       "    <tr>\n",
       "      <th>7</th>\n",
       "      <td>0</td>\n",
       "      <td>0</td>\n",
       "      <td>3</td>\n",
       "      <td>informational</td>\n",
       "      <td>5a8bc65990b245e5a138643cd4eb9837</td>\n",
       "      <td>1</td>\n",
       "      <td>1</td>\n",
       "      <td>1</td>\n",
       "      <td>0</td>\n",
       "    </tr>\n",
       "    <tr>\n",
       "      <th>8</th>\n",
       "      <td>5</td>\n",
       "      <td>5</td>\n",
       "      <td>5</td>\n",
       "      <td>bogo</td>\n",
       "      <td>f19421c1d4aa40978ebb69ca19b0e20d</td>\n",
       "      <td>1</td>\n",
       "      <td>1</td>\n",
       "      <td>1</td>\n",
       "      <td>1</td>\n",
       "    </tr>\n",
       "    <tr>\n",
       "      <th>9</th>\n",
       "      <td>2</td>\n",
       "      <td>10</td>\n",
       "      <td>7</td>\n",
       "      <td>discount</td>\n",
       "      <td>2906b810c7d4411798c6938adc9daaa5</td>\n",
       "      <td>1</td>\n",
       "      <td>1</td>\n",
       "      <td>0</td>\n",
       "      <td>1</td>\n",
       "    </tr>\n",
       "  </tbody>\n",
       "</table>\n",
       "</div>"
      ],
      "text/plain": [
       "   reward  difficulty  duration     offer_type  \\\n",
       "0      10          10         7           bogo   \n",
       "1      10          10         5           bogo   \n",
       "2       0           0         4  informational   \n",
       "3       5           5         7           bogo   \n",
       "4       5          20        10       discount   \n",
       "5       3           7         7       discount   \n",
       "6       2          10        10       discount   \n",
       "7       0           0         3  informational   \n",
       "8       5           5         5           bogo   \n",
       "9       2          10         7       discount   \n",
       "\n",
       "                                 id  email  mobile  social  web  \n",
       "0  ae264e3637204a6fb9bb56bc8210ddfd      1       1       1    0  \n",
       "1  4d5c57ea9a6940dd891ad53e9dbe8da0      1       1       1    1  \n",
       "2  3f207df678b143eea3cee63160fa8bed      1       1       0    1  \n",
       "3  9b98b8c7a33c4b65b9aebfe6a799e6d9      1       1       0    1  \n",
       "4  0b1e1539f2cc45b7b9fa7c272da2e1d7      1       0       0    1  \n",
       "5  2298d6c36e964ae4a3e7e9706d1fb8c2      1       1       1    1  \n",
       "6  fafdcd668e3743c1bb461111dcafc2a4      1       1       1    1  \n",
       "7  5a8bc65990b245e5a138643cd4eb9837      1       1       1    0  \n",
       "8  f19421c1d4aa40978ebb69ca19b0e20d      1       1       1    1  \n",
       "9  2906b810c7d4411798c6938adc9daaa5      1       1       0    1  "
      ]
     },
     "execution_count": 235,
     "metadata": {},
     "output_type": "execute_result"
    }
   ],
   "source": [
    "# Test\n",
    "portfolio_data_temp"
   ]
  },
  {
   "cell_type": "markdown",
   "id": "ae761d4d",
   "metadata": {},
   "source": [
    "**Define** "
   ]
  },
  {
   "cell_type": "markdown",
   "id": "chinese-fancy",
   "metadata": {},
   "source": [
    "***Transcript data has value column containg items in the form of dictionary.***"
   ]
  },
  {
   "cell_type": "code",
   "execution_count": 236,
   "id": "e6422670",
   "metadata": {
    "ExecuteTime": {
     "end_time": "2021-04-28T06:57:35.670435Z",
     "start_time": "2021-04-28T06:57:35.642437Z"
    }
   },
   "outputs": [
    {
     "data": {
      "text/html": [
       "<div>\n",
       "<style scoped>\n",
       "    .dataframe tbody tr th:only-of-type {\n",
       "        vertical-align: middle;\n",
       "    }\n",
       "\n",
       "    .dataframe tbody tr th {\n",
       "        vertical-align: top;\n",
       "    }\n",
       "\n",
       "    .dataframe thead th {\n",
       "        text-align: right;\n",
       "    }\n",
       "</style>\n",
       "<table border=\"1\" class=\"dataframe\">\n",
       "  <thead>\n",
       "    <tr style=\"text-align: right;\">\n",
       "      <th></th>\n",
       "      <th>person</th>\n",
       "      <th>event</th>\n",
       "      <th>value</th>\n",
       "      <th>time</th>\n",
       "    </tr>\n",
       "  </thead>\n",
       "  <tbody>\n",
       "    <tr>\n",
       "      <th>140885</th>\n",
       "      <td>896a5bab4952449ba3c972fd71aa9f30</td>\n",
       "      <td>transaction</td>\n",
       "      <td>{'amount': 3.52}</td>\n",
       "      <td>372</td>\n",
       "    </tr>\n",
       "    <tr>\n",
       "      <th>78858</th>\n",
       "      <td>0f12659af9ed4251a2b4c8ade57133f2</td>\n",
       "      <td>transaction</td>\n",
       "      <td>{'amount': 7.25}</td>\n",
       "      <td>192</td>\n",
       "    </tr>\n",
       "    <tr>\n",
       "      <th>139398</th>\n",
       "      <td>938db8510d784474b1229747751ff27c</td>\n",
       "      <td>offer completed</td>\n",
       "      <td>{'offer_id': 'f19421c1d4aa40978ebb69ca19b0e20d...</td>\n",
       "      <td>366</td>\n",
       "    </tr>\n",
       "    <tr>\n",
       "      <th>296585</th>\n",
       "      <td>5115fdb314fe41619fda3e5d8060a8b5</td>\n",
       "      <td>transaction</td>\n",
       "      <td>{'amount': 18.88}</td>\n",
       "      <td>672</td>\n",
       "    </tr>\n",
       "    <tr>\n",
       "      <th>204971</th>\n",
       "      <td>66af9e9ba5224128a37f2b0db9f7c982</td>\n",
       "      <td>offer received</td>\n",
       "      <td>{'offer id': '2298d6c36e964ae4a3e7e9706d1fb8c2'}</td>\n",
       "      <td>504</td>\n",
       "    </tr>\n",
       "    <tr>\n",
       "      <th>233544</th>\n",
       "      <td>61d78b3d76d742b5b50f5f8379c21cf3</td>\n",
       "      <td>offer completed</td>\n",
       "      <td>{'offer_id': 'f19421c1d4aa40978ebb69ca19b0e20d...</td>\n",
       "      <td>540</td>\n",
       "    </tr>\n",
       "    <tr>\n",
       "      <th>77575</th>\n",
       "      <td>83de7542018d455d9afa423626d7f5d3</td>\n",
       "      <td>offer viewed</td>\n",
       "      <td>{'offer id': '5a8bc65990b245e5a138643cd4eb9837'}</td>\n",
       "      <td>192</td>\n",
       "    </tr>\n",
       "    <tr>\n",
       "      <th>272583</th>\n",
       "      <td>5164a5b8f90d4d4d8404d645af18193d</td>\n",
       "      <td>transaction</td>\n",
       "      <td>{'amount': 18.38}</td>\n",
       "      <td>600</td>\n",
       "    </tr>\n",
       "    <tr>\n",
       "      <th>168777</th>\n",
       "      <td>c34b2bbea66543e6959258063efe9fbc</td>\n",
       "      <td>offer viewed</td>\n",
       "      <td>{'offer id': 'fafdcd668e3743c1bb461111dcafc2a4'}</td>\n",
       "      <td>414</td>\n",
       "    </tr>\n",
       "    <tr>\n",
       "      <th>68846</th>\n",
       "      <td>c5756832e20341c7a8b959046223e420</td>\n",
       "      <td>transaction</td>\n",
       "      <td>{'amount': 1.98}</td>\n",
       "      <td>168</td>\n",
       "    </tr>\n",
       "  </tbody>\n",
       "</table>\n",
       "</div>"
      ],
      "text/plain": [
       "                                  person            event  \\\n",
       "140885  896a5bab4952449ba3c972fd71aa9f30      transaction   \n",
       "78858   0f12659af9ed4251a2b4c8ade57133f2      transaction   \n",
       "139398  938db8510d784474b1229747751ff27c  offer completed   \n",
       "296585  5115fdb314fe41619fda3e5d8060a8b5      transaction   \n",
       "204971  66af9e9ba5224128a37f2b0db9f7c982   offer received   \n",
       "233544  61d78b3d76d742b5b50f5f8379c21cf3  offer completed   \n",
       "77575   83de7542018d455d9afa423626d7f5d3     offer viewed   \n",
       "272583  5164a5b8f90d4d4d8404d645af18193d      transaction   \n",
       "168777  c34b2bbea66543e6959258063efe9fbc     offer viewed   \n",
       "68846   c5756832e20341c7a8b959046223e420      transaction   \n",
       "\n",
       "                                                    value  time  \n",
       "140885                                   {'amount': 3.52}   372  \n",
       "78858                                    {'amount': 7.25}   192  \n",
       "139398  {'offer_id': 'f19421c1d4aa40978ebb69ca19b0e20d...   366  \n",
       "296585                                  {'amount': 18.88}   672  \n",
       "204971   {'offer id': '2298d6c36e964ae4a3e7e9706d1fb8c2'}   504  \n",
       "233544  {'offer_id': 'f19421c1d4aa40978ebb69ca19b0e20d...   540  \n",
       "77575    {'offer id': '5a8bc65990b245e5a138643cd4eb9837'}   192  \n",
       "272583                                  {'amount': 18.38}   600  \n",
       "168777   {'offer id': 'fafdcd668e3743c1bb461111dcafc2a4'}   414  \n",
       "68846                                    {'amount': 1.98}   168  "
      ]
     },
     "execution_count": 236,
     "metadata": {},
     "output_type": "execute_result"
    }
   ],
   "source": [
    "# Checking data\n",
    "transcript_data_temp.sample(10)"
   ]
  },
  {
   "cell_type": "markdown",
   "id": "0d64ce3e",
   "metadata": {},
   "source": [
    "**Code**"
   ]
  },
  {
   "cell_type": "code",
   "execution_count": 237,
   "id": "prostate-yesterday",
   "metadata": {
    "ExecuteTime": {
     "end_time": "2021-04-28T06:57:36.173436Z",
     "start_time": "2021-04-28T06:57:35.673435Z"
    }
   },
   "outputs": [
    {
     "name": "stdout",
     "output_type": "stream",
     "text": [
      "['reward', 'amount', 'offer id', 'offer_id']\n"
     ]
    }
   ],
   "source": [
    "temp = list()\n",
    "for item in  transcript_data_temp.value:\n",
    "    temp.append(list(item.keys()))\n",
    "\n",
    "new_temp = []\n",
    "for item in temp:\n",
    "    new_temp.extend(item)\n",
    "    \n",
    "types = list(set(new_temp))\n",
    "print(types)"
   ]
  },
  {
   "cell_type": "code",
   "execution_count": 238,
   "id": "rough-alcohol",
   "metadata": {
    "ExecuteTime": {
     "end_time": "2021-04-28T06:57:36.252702Z",
     "start_time": "2021-04-28T06:57:36.175436Z"
    }
   },
   "outputs": [
    {
     "data": {
      "text/plain": [
       "array(['offer received', 'offer viewed', 'transaction', 'offer completed'],\n",
       "      dtype=object)"
      ]
     },
     "execution_count": 238,
     "metadata": {},
     "output_type": "execute_result"
    }
   ],
   "source": [
    "transcript_data_temp.event.unique()"
   ]
  },
  {
   "cell_type": "markdown",
   "id": "absent-prince",
   "metadata": {},
   "source": [
    "#### If offer is viewed or received there is no underscore in `offer id` and if offer completed there is underscore in `offer_id`."
   ]
  },
  {
   "cell_type": "code",
   "execution_count": 239,
   "id": "sixth-institution",
   "metadata": {
    "ExecuteTime": {
     "end_time": "2021-04-28T06:57:36.727776Z",
     "start_time": "2021-04-28T06:57:36.253702Z"
    }
   },
   "outputs": [],
   "source": [
    "for type in types:\n",
    "    transcript_data_temp[type] = transcript_data_temp.value.apply(lambda x: x.get(type, 0))    "
   ]
  },
  {
   "cell_type": "code",
   "execution_count": 240,
   "id": "destroyed-business",
   "metadata": {
    "ExecuteTime": {
     "end_time": "2021-04-28T06:57:36.869264Z",
     "start_time": "2021-04-28T06:57:36.729703Z"
    }
   },
   "outputs": [],
   "source": [
    "# Dropping value column\n",
    "transcript_data_temp.drop(['value'], axis = 1, inplace = True)"
   ]
  },
  {
   "cell_type": "code",
   "execution_count": 241,
   "id": "successful-factor",
   "metadata": {
    "ExecuteTime": {
     "end_time": "2021-04-28T06:57:38.883457Z",
     "start_time": "2021-04-28T06:57:36.871263Z"
    }
   },
   "outputs": [],
   "source": [
    "# Since we can see reward only occurred if offer is used\n",
    "# We can merge offer_ids in one column and differ between them on the basis of reward or event type\n",
    "offer_id = []\n",
    "for i in range(transcript_data_temp.shape[0]):\n",
    "    offer_id.append(transcript_data_temp['offer id'][i] or transcript_data_temp['offer_id'][i])\n",
    "        \n",
    "\n",
    "transcript_data_temp['offer_id'] = offer_id"
   ]
  },
  {
   "cell_type": "code",
   "execution_count": 242,
   "id": "02208acf",
   "metadata": {
    "ExecuteTime": {
     "end_time": "2021-04-28T06:57:38.915463Z",
     "start_time": "2021-04-28T06:57:38.885430Z"
    },
    "scrolled": false
   },
   "outputs": [
    {
     "data": {
      "text/html": [
       "<div>\n",
       "<style scoped>\n",
       "    .dataframe tbody tr th:only-of-type {\n",
       "        vertical-align: middle;\n",
       "    }\n",
       "\n",
       "    .dataframe tbody tr th {\n",
       "        vertical-align: top;\n",
       "    }\n",
       "\n",
       "    .dataframe thead th {\n",
       "        text-align: right;\n",
       "    }\n",
       "</style>\n",
       "<table border=\"1\" class=\"dataframe\">\n",
       "  <thead>\n",
       "    <tr style=\"text-align: right;\">\n",
       "      <th></th>\n",
       "      <th>person</th>\n",
       "      <th>event</th>\n",
       "      <th>time</th>\n",
       "      <th>reward</th>\n",
       "      <th>amount</th>\n",
       "      <th>offer id</th>\n",
       "      <th>offer_id</th>\n",
       "    </tr>\n",
       "  </thead>\n",
       "  <tbody>\n",
       "    <tr>\n",
       "      <th>273828</th>\n",
       "      <td>3478c81d15234db3b702cefcf7c4afbe</td>\n",
       "      <td>transaction</td>\n",
       "      <td>600</td>\n",
       "      <td>0</td>\n",
       "      <td>15.96</td>\n",
       "      <td>0</td>\n",
       "      <td>0</td>\n",
       "    </tr>\n",
       "    <tr>\n",
       "      <th>301238</th>\n",
       "      <td>6d45fac16b3d477e822bb9147b3238a9</td>\n",
       "      <td>transaction</td>\n",
       "      <td>690</td>\n",
       "      <td>0</td>\n",
       "      <td>0.32</td>\n",
       "      <td>0</td>\n",
       "      <td>0</td>\n",
       "    </tr>\n",
       "    <tr>\n",
       "      <th>77637</th>\n",
       "      <td>1db3570ae60246d9ab96bf03f04b1baf</td>\n",
       "      <td>offer viewed</td>\n",
       "      <td>192</td>\n",
       "      <td>0</td>\n",
       "      <td>0.00</td>\n",
       "      <td>ae264e3637204a6fb9bb56bc8210ddfd</td>\n",
       "      <td>ae264e3637204a6fb9bb56bc8210ddfd</td>\n",
       "    </tr>\n",
       "    <tr>\n",
       "      <th>42638</th>\n",
       "      <td>202089fa67c3493fb14b0d882713b9bd</td>\n",
       "      <td>transaction</td>\n",
       "      <td>102</td>\n",
       "      <td>0</td>\n",
       "      <td>16.44</td>\n",
       "      <td>0</td>\n",
       "      <td>0</td>\n",
       "    </tr>\n",
       "    <tr>\n",
       "      <th>55627</th>\n",
       "      <td>ef8c6bc12af4497b8fe37646bd97f3e4</td>\n",
       "      <td>offer received</td>\n",
       "      <td>168</td>\n",
       "      <td>0</td>\n",
       "      <td>0.00</td>\n",
       "      <td>9b98b8c7a33c4b65b9aebfe6a799e6d9</td>\n",
       "      <td>9b98b8c7a33c4b65b9aebfe6a799e6d9</td>\n",
       "    </tr>\n",
       "    <tr>\n",
       "      <th>78439</th>\n",
       "      <td>99d795545dbb4837b7ed00644ffbd367</td>\n",
       "      <td>offer viewed</td>\n",
       "      <td>192</td>\n",
       "      <td>0</td>\n",
       "      <td>0.00</td>\n",
       "      <td>2906b810c7d4411798c6938adc9daaa5</td>\n",
       "      <td>2906b810c7d4411798c6938adc9daaa5</td>\n",
       "    </tr>\n",
       "    <tr>\n",
       "      <th>156668</th>\n",
       "      <td>9c7b048269ec4afd9205201a8e386c22</td>\n",
       "      <td>offer received</td>\n",
       "      <td>408</td>\n",
       "      <td>0</td>\n",
       "      <td>0.00</td>\n",
       "      <td>5a8bc65990b245e5a138643cd4eb9837</td>\n",
       "      <td>5a8bc65990b245e5a138643cd4eb9837</td>\n",
       "    </tr>\n",
       "    <tr>\n",
       "      <th>102122</th>\n",
       "      <td>f7ebbbab571d44ec883575b11009be2f</td>\n",
       "      <td>transaction</td>\n",
       "      <td>282</td>\n",
       "      <td>0</td>\n",
       "      <td>2.44</td>\n",
       "      <td>0</td>\n",
       "      <td>0</td>\n",
       "    </tr>\n",
       "    <tr>\n",
       "      <th>182792</th>\n",
       "      <td>13d9215510ae4f5087c6d26485656ab0</td>\n",
       "      <td>transaction</td>\n",
       "      <td>444</td>\n",
       "      <td>0</td>\n",
       "      <td>13.68</td>\n",
       "      <td>0</td>\n",
       "      <td>0</td>\n",
       "    </tr>\n",
       "    <tr>\n",
       "      <th>288237</th>\n",
       "      <td>3d4ceca8f12848a28c346e9067470b05</td>\n",
       "      <td>transaction</td>\n",
       "      <td>642</td>\n",
       "      <td>0</td>\n",
       "      <td>1.26</td>\n",
       "      <td>0</td>\n",
       "      <td>0</td>\n",
       "    </tr>\n",
       "    <tr>\n",
       "      <th>242624</th>\n",
       "      <td>650fae5efd544b3d941d0d076028053b</td>\n",
       "      <td>transaction</td>\n",
       "      <td>564</td>\n",
       "      <td>0</td>\n",
       "      <td>2.28</td>\n",
       "      <td>0</td>\n",
       "      <td>0</td>\n",
       "    </tr>\n",
       "    <tr>\n",
       "      <th>3107</th>\n",
       "      <td>a9a42f9974e24e0396f87c62881e5369</td>\n",
       "      <td>offer received</td>\n",
       "      <td>0</td>\n",
       "      <td>0</td>\n",
       "      <td>0.00</td>\n",
       "      <td>2906b810c7d4411798c6938adc9daaa5</td>\n",
       "      <td>2906b810c7d4411798c6938adc9daaa5</td>\n",
       "    </tr>\n",
       "    <tr>\n",
       "      <th>76391</th>\n",
       "      <td>7317a38ea30a43ea9a72a923e98e0359</td>\n",
       "      <td>transaction</td>\n",
       "      <td>186</td>\n",
       "      <td>0</td>\n",
       "      <td>30.93</td>\n",
       "      <td>0</td>\n",
       "      <td>0</td>\n",
       "    </tr>\n",
       "    <tr>\n",
       "      <th>18675</th>\n",
       "      <td>a5360772ba38441692f0d7cbc1d643b6</td>\n",
       "      <td>offer completed</td>\n",
       "      <td>12</td>\n",
       "      <td>3</td>\n",
       "      <td>0.00</td>\n",
       "      <td>0</td>\n",
       "      <td>2298d6c36e964ae4a3e7e9706d1fb8c2</td>\n",
       "    </tr>\n",
       "    <tr>\n",
       "      <th>268527</th>\n",
       "      <td>e72ad19d4f6c4827b69b55c5e3a55bba</td>\n",
       "      <td>offer viewed</td>\n",
       "      <td>588</td>\n",
       "      <td>0</td>\n",
       "      <td>0.00</td>\n",
       "      <td>f19421c1d4aa40978ebb69ca19b0e20d</td>\n",
       "      <td>f19421c1d4aa40978ebb69ca19b0e20d</td>\n",
       "    </tr>\n",
       "    <tr>\n",
       "      <th>174244</th>\n",
       "      <td>25c258df0487470c8d1cfed9feca14cd</td>\n",
       "      <td>offer completed</td>\n",
       "      <td>420</td>\n",
       "      <td>5</td>\n",
       "      <td>0.00</td>\n",
       "      <td>0</td>\n",
       "      <td>0b1e1539f2cc45b7b9fa7c272da2e1d7</td>\n",
       "    </tr>\n",
       "    <tr>\n",
       "      <th>113081</th>\n",
       "      <td>e1db113b332344a4b333953e717c848b</td>\n",
       "      <td>offer received</td>\n",
       "      <td>336</td>\n",
       "      <td>0</td>\n",
       "      <td>0.00</td>\n",
       "      <td>f19421c1d4aa40978ebb69ca19b0e20d</td>\n",
       "      <td>f19421c1d4aa40978ebb69ca19b0e20d</td>\n",
       "    </tr>\n",
       "    <tr>\n",
       "      <th>75198</th>\n",
       "      <td>a678040b34eb47e0ad23864c283dc8ef</td>\n",
       "      <td>transaction</td>\n",
       "      <td>186</td>\n",
       "      <td>0</td>\n",
       "      <td>3.20</td>\n",
       "      <td>0</td>\n",
       "      <td>0</td>\n",
       "    </tr>\n",
       "    <tr>\n",
       "      <th>263596</th>\n",
       "      <td>0d9b73ed8868407e9fc6537bf08f1610</td>\n",
       "      <td>transaction</td>\n",
       "      <td>582</td>\n",
       "      <td>0</td>\n",
       "      <td>6.07</td>\n",
       "      <td>0</td>\n",
       "      <td>0</td>\n",
       "    </tr>\n",
       "    <tr>\n",
       "      <th>64221</th>\n",
       "      <td>c134adbefe8449ff9004f03d0cdf11f7</td>\n",
       "      <td>offer received</td>\n",
       "      <td>168</td>\n",
       "      <td>0</td>\n",
       "      <td>0.00</td>\n",
       "      <td>9b98b8c7a33c4b65b9aebfe6a799e6d9</td>\n",
       "      <td>9b98b8c7a33c4b65b9aebfe6a799e6d9</td>\n",
       "    </tr>\n",
       "  </tbody>\n",
       "</table>\n",
       "</div>"
      ],
      "text/plain": [
       "                                  person            event  time  reward  \\\n",
       "273828  3478c81d15234db3b702cefcf7c4afbe      transaction   600       0   \n",
       "301238  6d45fac16b3d477e822bb9147b3238a9      transaction   690       0   \n",
       "77637   1db3570ae60246d9ab96bf03f04b1baf     offer viewed   192       0   \n",
       "42638   202089fa67c3493fb14b0d882713b9bd      transaction   102       0   \n",
       "55627   ef8c6bc12af4497b8fe37646bd97f3e4   offer received   168       0   \n",
       "78439   99d795545dbb4837b7ed00644ffbd367     offer viewed   192       0   \n",
       "156668  9c7b048269ec4afd9205201a8e386c22   offer received   408       0   \n",
       "102122  f7ebbbab571d44ec883575b11009be2f      transaction   282       0   \n",
       "182792  13d9215510ae4f5087c6d26485656ab0      transaction   444       0   \n",
       "288237  3d4ceca8f12848a28c346e9067470b05      transaction   642       0   \n",
       "242624  650fae5efd544b3d941d0d076028053b      transaction   564       0   \n",
       "3107    a9a42f9974e24e0396f87c62881e5369   offer received     0       0   \n",
       "76391   7317a38ea30a43ea9a72a923e98e0359      transaction   186       0   \n",
       "18675   a5360772ba38441692f0d7cbc1d643b6  offer completed    12       3   \n",
       "268527  e72ad19d4f6c4827b69b55c5e3a55bba     offer viewed   588       0   \n",
       "174244  25c258df0487470c8d1cfed9feca14cd  offer completed   420       5   \n",
       "113081  e1db113b332344a4b333953e717c848b   offer received   336       0   \n",
       "75198   a678040b34eb47e0ad23864c283dc8ef      transaction   186       0   \n",
       "263596  0d9b73ed8868407e9fc6537bf08f1610      transaction   582       0   \n",
       "64221   c134adbefe8449ff9004f03d0cdf11f7   offer received   168       0   \n",
       "\n",
       "        amount                          offer id  \\\n",
       "273828   15.96                                 0   \n",
       "301238    0.32                                 0   \n",
       "77637     0.00  ae264e3637204a6fb9bb56bc8210ddfd   \n",
       "42638    16.44                                 0   \n",
       "55627     0.00  9b98b8c7a33c4b65b9aebfe6a799e6d9   \n",
       "78439     0.00  2906b810c7d4411798c6938adc9daaa5   \n",
       "156668    0.00  5a8bc65990b245e5a138643cd4eb9837   \n",
       "102122    2.44                                 0   \n",
       "182792   13.68                                 0   \n",
       "288237    1.26                                 0   \n",
       "242624    2.28                                 0   \n",
       "3107      0.00  2906b810c7d4411798c6938adc9daaa5   \n",
       "76391    30.93                                 0   \n",
       "18675     0.00                                 0   \n",
       "268527    0.00  f19421c1d4aa40978ebb69ca19b0e20d   \n",
       "174244    0.00                                 0   \n",
       "113081    0.00  f19421c1d4aa40978ebb69ca19b0e20d   \n",
       "75198     3.20                                 0   \n",
       "263596    6.07                                 0   \n",
       "64221     0.00  9b98b8c7a33c4b65b9aebfe6a799e6d9   \n",
       "\n",
       "                                offer_id  \n",
       "273828                                 0  \n",
       "301238                                 0  \n",
       "77637   ae264e3637204a6fb9bb56bc8210ddfd  \n",
       "42638                                  0  \n",
       "55627   9b98b8c7a33c4b65b9aebfe6a799e6d9  \n",
       "78439   2906b810c7d4411798c6938adc9daaa5  \n",
       "156668  5a8bc65990b245e5a138643cd4eb9837  \n",
       "102122                                 0  \n",
       "182792                                 0  \n",
       "288237                                 0  \n",
       "242624                                 0  \n",
       "3107    2906b810c7d4411798c6938adc9daaa5  \n",
       "76391                                  0  \n",
       "18675   2298d6c36e964ae4a3e7e9706d1fb8c2  \n",
       "268527  f19421c1d4aa40978ebb69ca19b0e20d  \n",
       "174244  0b1e1539f2cc45b7b9fa7c272da2e1d7  \n",
       "113081  f19421c1d4aa40978ebb69ca19b0e20d  \n",
       "75198                                  0  \n",
       "263596                                 0  \n",
       "64221   9b98b8c7a33c4b65b9aebfe6a799e6d9  "
      ]
     },
     "execution_count": 242,
     "metadata": {},
     "output_type": "execute_result"
    }
   ],
   "source": [
    "transcript_data_temp.sample(20)"
   ]
  },
  {
   "cell_type": "code",
   "execution_count": 243,
   "id": "retired-spending",
   "metadata": {
    "ExecuteTime": {
     "end_time": "2021-04-28T06:57:39.011625Z",
     "start_time": "2021-04-28T06:57:38.917464Z"
    }
   },
   "outputs": [],
   "source": [
    "# Deleting offer_id_viewed and offer_id_used\n",
    "transcript_data_temp.drop(['offer id'], axis = 1, inplace = True)\n",
    "\n",
    "# Replacing 0 in offer_id with np.nan\n",
    "transcript_data_temp.offer_id.replace(0, np.nan, inplace = True)"
   ]
  },
  {
   "cell_type": "markdown",
   "id": "70847b4f",
   "metadata": {},
   "source": [
    "**Test**"
   ]
  },
  {
   "cell_type": "code",
   "execution_count": 245,
   "id": "geographic-yahoo",
   "metadata": {
    "ExecuteTime": {
     "end_time": "2021-04-28T06:57:46.765647Z",
     "start_time": "2021-04-28T06:57:46.746072Z"
    },
    "scrolled": false
   },
   "outputs": [
    {
     "data": {
      "text/html": [
       "<div>\n",
       "<style scoped>\n",
       "    .dataframe tbody tr th:only-of-type {\n",
       "        vertical-align: middle;\n",
       "    }\n",
       "\n",
       "    .dataframe tbody tr th {\n",
       "        vertical-align: top;\n",
       "    }\n",
       "\n",
       "    .dataframe thead th {\n",
       "        text-align: right;\n",
       "    }\n",
       "</style>\n",
       "<table border=\"1\" class=\"dataframe\">\n",
       "  <thead>\n",
       "    <tr style=\"text-align: right;\">\n",
       "      <th></th>\n",
       "      <th>person</th>\n",
       "      <th>event</th>\n",
       "      <th>time</th>\n",
       "      <th>reward</th>\n",
       "      <th>amount</th>\n",
       "      <th>offer_id</th>\n",
       "    </tr>\n",
       "  </thead>\n",
       "  <tbody>\n",
       "    <tr>\n",
       "      <th>230724</th>\n",
       "      <td>6ef732d213f2406fb1af286e738df9e2</td>\n",
       "      <td>transaction</td>\n",
       "      <td>534</td>\n",
       "      <td>0</td>\n",
       "      <td>3.94</td>\n",
       "      <td>NaN</td>\n",
       "    </tr>\n",
       "    <tr>\n",
       "      <th>90776</th>\n",
       "      <td>253928e13e194249af6f2ff4003498cb</td>\n",
       "      <td>offer completed</td>\n",
       "      <td>234</td>\n",
       "      <td>5</td>\n",
       "      <td>0.00</td>\n",
       "      <td>9b98b8c7a33c4b65b9aebfe6a799e6d9</td>\n",
       "    </tr>\n",
       "    <tr>\n",
       "      <th>14240</th>\n",
       "      <td>b4fab356e0a94cd3912b53c475573909</td>\n",
       "      <td>transaction</td>\n",
       "      <td>0</td>\n",
       "      <td>0</td>\n",
       "      <td>9.49</td>\n",
       "      <td>NaN</td>\n",
       "    </tr>\n",
       "    <tr>\n",
       "      <th>228357</th>\n",
       "      <td>b6fc6275ba344389964515ce3a8fe7fe</td>\n",
       "      <td>transaction</td>\n",
       "      <td>528</td>\n",
       "      <td>0</td>\n",
       "      <td>0.87</td>\n",
       "      <td>NaN</td>\n",
       "    </tr>\n",
       "    <tr>\n",
       "      <th>149014</th>\n",
       "      <td>69a2ee5872384fb6a0bf2d63a5db9574</td>\n",
       "      <td>offer completed</td>\n",
       "      <td>402</td>\n",
       "      <td>5</td>\n",
       "      <td>0.00</td>\n",
       "      <td>9b98b8c7a33c4b65b9aebfe6a799e6d9</td>\n",
       "    </tr>\n",
       "    <tr>\n",
       "      <th>170107</th>\n",
       "      <td>8d689f719e0b42edb5947f381f159cb1</td>\n",
       "      <td>transaction</td>\n",
       "      <td>414</td>\n",
       "      <td>0</td>\n",
       "      <td>19.32</td>\n",
       "      <td>NaN</td>\n",
       "    </tr>\n",
       "    <tr>\n",
       "      <th>137784</th>\n",
       "      <td>e085ef39038b4291976796dfc5f1dd3a</td>\n",
       "      <td>transaction</td>\n",
       "      <td>366</td>\n",
       "      <td>0</td>\n",
       "      <td>4.02</td>\n",
       "      <td>NaN</td>\n",
       "    </tr>\n",
       "    <tr>\n",
       "      <th>58721</th>\n",
       "      <td>a05d5de8d4314ec19162578f67af3fee</td>\n",
       "      <td>offer received</td>\n",
       "      <td>168</td>\n",
       "      <td>0</td>\n",
       "      <td>0.00</td>\n",
       "      <td>9b98b8c7a33c4b65b9aebfe6a799e6d9</td>\n",
       "    </tr>\n",
       "    <tr>\n",
       "      <th>125835</th>\n",
       "      <td>9f83b1bf4fba46f48d0b1e1c63765f94</td>\n",
       "      <td>offer viewed</td>\n",
       "      <td>336</td>\n",
       "      <td>0</td>\n",
       "      <td>0.00</td>\n",
       "      <td>fafdcd668e3743c1bb461111dcafc2a4</td>\n",
       "    </tr>\n",
       "    <tr>\n",
       "      <th>271283</th>\n",
       "      <td>54ce16dc2b7b4fbb8d540a7d1161f92e</td>\n",
       "      <td>transaction</td>\n",
       "      <td>594</td>\n",
       "      <td>0</td>\n",
       "      <td>0.48</td>\n",
       "      <td>NaN</td>\n",
       "    </tr>\n",
       "  </tbody>\n",
       "</table>\n",
       "</div>"
      ],
      "text/plain": [
       "                                  person            event  time  reward  \\\n",
       "230724  6ef732d213f2406fb1af286e738df9e2      transaction   534       0   \n",
       "90776   253928e13e194249af6f2ff4003498cb  offer completed   234       5   \n",
       "14240   b4fab356e0a94cd3912b53c475573909      transaction     0       0   \n",
       "228357  b6fc6275ba344389964515ce3a8fe7fe      transaction   528       0   \n",
       "149014  69a2ee5872384fb6a0bf2d63a5db9574  offer completed   402       5   \n",
       "170107  8d689f719e0b42edb5947f381f159cb1      transaction   414       0   \n",
       "137784  e085ef39038b4291976796dfc5f1dd3a      transaction   366       0   \n",
       "58721   a05d5de8d4314ec19162578f67af3fee   offer received   168       0   \n",
       "125835  9f83b1bf4fba46f48d0b1e1c63765f94     offer viewed   336       0   \n",
       "271283  54ce16dc2b7b4fbb8d540a7d1161f92e      transaction   594       0   \n",
       "\n",
       "        amount                          offer_id  \n",
       "230724    3.94                               NaN  \n",
       "90776     0.00  9b98b8c7a33c4b65b9aebfe6a799e6d9  \n",
       "14240     9.49                               NaN  \n",
       "228357    0.87                               NaN  \n",
       "149014    0.00  9b98b8c7a33c4b65b9aebfe6a799e6d9  \n",
       "170107   19.32                               NaN  \n",
       "137784    4.02                               NaN  \n",
       "58721     0.00  9b98b8c7a33c4b65b9aebfe6a799e6d9  \n",
       "125835    0.00  fafdcd668e3743c1bb461111dcafc2a4  \n",
       "271283    0.48                               NaN  "
      ]
     },
     "execution_count": 245,
     "metadata": {},
     "output_type": "execute_result"
    }
   ],
   "source": [
    "transcript_data_temp.sample(10)"
   ]
  },
  {
   "cell_type": "markdown",
   "id": "e26aaeb1",
   "metadata": {},
   "source": [
    "**Define** "
   ]
  },
  {
   "cell_type": "markdown",
   "id": "respected-efficiency",
   "metadata": {},
   "source": [
    "***Profile data has gender and income column containing null values***"
   ]
  },
  {
   "cell_type": "code",
   "execution_count": 248,
   "id": "bc410cfd",
   "metadata": {
    "ExecuteTime": {
     "end_time": "2021-04-28T06:58:18.174053Z",
     "start_time": "2021-04-28T06:58:18.151947Z"
    }
   },
   "outputs": [
    {
     "name": "stdout",
     "output_type": "stream",
     "text": [
      "<class 'pandas.core.frame.DataFrame'>\n",
      "RangeIndex: 17000 entries, 0 to 16999\n",
      "Data columns (total 5 columns):\n",
      " #   Column            Non-Null Count  Dtype  \n",
      "---  ------            --------------  -----  \n",
      " 0   gender            14825 non-null  object \n",
      " 1   age               17000 non-null  int64  \n",
      " 2   id                17000 non-null  object \n",
      " 3   became_member_on  17000 non-null  int64  \n",
      " 4   income            14825 non-null  float64\n",
      "dtypes: float64(1), int64(2), object(2)\n",
      "memory usage: 664.2+ KB\n"
     ]
    }
   ],
   "source": [
    "profile_data_temp.info()"
   ]
  },
  {
   "cell_type": "markdown",
   "id": "f97d5b3a",
   "metadata": {},
   "source": [
    "#### *Checking gender column*"
   ]
  },
  {
   "cell_type": "code",
   "execution_count": 249,
   "id": "218bab95",
   "metadata": {
    "ExecuteTime": {
     "end_time": "2021-04-28T06:58:18.830386Z",
     "start_time": "2021-04-28T06:58:18.819388Z"
    }
   },
   "outputs": [
    {
     "name": "stdout",
     "output_type": "stream",
     "text": [
      "[None 'F' 'M' 'O']\n",
      "2175\n"
     ]
    }
   ],
   "source": [
    "print(profile_data_temp.gender.unique())\n",
    "print(profile_data_temp.gender.isna().sum())"
   ]
  },
  {
   "cell_type": "markdown",
   "id": "c3f7023b",
   "metadata": {},
   "source": [
    "***Checking Income Column percentage of Null values***"
   ]
  },
  {
   "cell_type": "code",
   "execution_count": 250,
   "id": "1353fd18",
   "metadata": {
    "ExecuteTime": {
     "end_time": "2021-04-28T06:58:19.377430Z",
     "start_time": "2021-04-28T06:58:19.355128Z"
    }
   },
   "outputs": [
    {
     "data": {
      "text/plain": [
       "0.12794117647058822"
      ]
     },
     "execution_count": 250,
     "metadata": {},
     "output_type": "execute_result"
    }
   ],
   "source": [
    "profile_data_temp.income.isna().sum() / profile_data_temp.shape[0]\n",
    "\n",
    "# 12.7 % data is missing that means we can fill them with mean or median"
   ]
  },
  {
   "cell_type": "code",
   "execution_count": 251,
   "id": "1cb69484",
   "metadata": {
    "ExecuteTime": {
     "end_time": "2021-04-28T06:58:20.406338Z",
     "start_time": "2021-04-28T06:58:20.387314Z"
    }
   },
   "outputs": [
    {
     "data": {
      "text/html": [
       "<div>\n",
       "<style scoped>\n",
       "    .dataframe tbody tr th:only-of-type {\n",
       "        vertical-align: middle;\n",
       "    }\n",
       "\n",
       "    .dataframe tbody tr th {\n",
       "        vertical-align: top;\n",
       "    }\n",
       "\n",
       "    .dataframe thead th {\n",
       "        text-align: right;\n",
       "    }\n",
       "</style>\n",
       "<table border=\"1\" class=\"dataframe\">\n",
       "  <thead>\n",
       "    <tr style=\"text-align: right;\">\n",
       "      <th></th>\n",
       "      <th>age</th>\n",
       "      <th>became_member_on</th>\n",
       "      <th>income</th>\n",
       "    </tr>\n",
       "  </thead>\n",
       "  <tbody>\n",
       "    <tr>\n",
       "      <th>count</th>\n",
       "      <td>17000.000000</td>\n",
       "      <td>1.700000e+04</td>\n",
       "      <td>14825.000000</td>\n",
       "    </tr>\n",
       "    <tr>\n",
       "      <th>mean</th>\n",
       "      <td>62.531412</td>\n",
       "      <td>2.016703e+07</td>\n",
       "      <td>65404.991568</td>\n",
       "    </tr>\n",
       "    <tr>\n",
       "      <th>std</th>\n",
       "      <td>26.738580</td>\n",
       "      <td>1.167750e+04</td>\n",
       "      <td>21598.299410</td>\n",
       "    </tr>\n",
       "    <tr>\n",
       "      <th>min</th>\n",
       "      <td>18.000000</td>\n",
       "      <td>2.013073e+07</td>\n",
       "      <td>30000.000000</td>\n",
       "    </tr>\n",
       "    <tr>\n",
       "      <th>25%</th>\n",
       "      <td>45.000000</td>\n",
       "      <td>2.016053e+07</td>\n",
       "      <td>49000.000000</td>\n",
       "    </tr>\n",
       "    <tr>\n",
       "      <th>50%</th>\n",
       "      <td>58.000000</td>\n",
       "      <td>2.017080e+07</td>\n",
       "      <td>64000.000000</td>\n",
       "    </tr>\n",
       "    <tr>\n",
       "      <th>75%</th>\n",
       "      <td>73.000000</td>\n",
       "      <td>2.017123e+07</td>\n",
       "      <td>80000.000000</td>\n",
       "    </tr>\n",
       "    <tr>\n",
       "      <th>max</th>\n",
       "      <td>118.000000</td>\n",
       "      <td>2.018073e+07</td>\n",
       "      <td>120000.000000</td>\n",
       "    </tr>\n",
       "  </tbody>\n",
       "</table>\n",
       "</div>"
      ],
      "text/plain": [
       "                age  became_member_on         income\n",
       "count  17000.000000      1.700000e+04   14825.000000\n",
       "mean      62.531412      2.016703e+07   65404.991568\n",
       "std       26.738580      1.167750e+04   21598.299410\n",
       "min       18.000000      2.013073e+07   30000.000000\n",
       "25%       45.000000      2.016053e+07   49000.000000\n",
       "50%       58.000000      2.017080e+07   64000.000000\n",
       "75%       73.000000      2.017123e+07   80000.000000\n",
       "max      118.000000      2.018073e+07  120000.000000"
      ]
     },
     "execution_count": 251,
     "metadata": {},
     "output_type": "execute_result"
    }
   ],
   "source": [
    "profile_data_temp.describe()"
   ]
  },
  {
   "cell_type": "markdown",
   "id": "a3d72bda",
   "metadata": {},
   "source": [
    "#### *Checking if data is skewed*"
   ]
  },
  {
   "cell_type": "code",
   "execution_count": 252,
   "id": "fe67ba8e",
   "metadata": {
    "ExecuteTime": {
     "end_time": "2021-04-28T06:58:22.139034Z",
     "start_time": "2021-04-28T06:58:22.011579Z"
    }
   },
   "outputs": [
    {
     "name": "stdout",
     "output_type": "stream",
     "text": [
      "0    73000.0\n",
      "dtype: float64 64000.0\n"
     ]
    },
    {
     "data": {
      "image/png": "[encoded data removed]",
      "text/plain": [
       "<Figure size 432x288 with 1 Axes>"
      ]
     },
     "metadata": {
      "needs_background": "light"
     },
     "output_type": "display_data"
    }
   ],
   "source": [
    "plt.hist(profile_data_temp.income)\n",
    "\n",
    "# data is skewed filling it median or mode # median\n",
    "\n",
    "print(profile_data_temp.income.mode(), profile_data_temp.income.median())"
   ]
  },
  {
   "cell_type": "markdown",
   "id": "e1588103",
   "metadata": {},
   "source": [
    "**Code**"
   ]
  },
  {
   "cell_type": "markdown",
   "id": "ab5147b2",
   "metadata": {},
   "source": [
    "#### *Filling Null Values with median* "
   ]
  },
  {
   "cell_type": "code",
   "execution_count": 253,
   "id": "curious-asian",
   "metadata": {
    "ExecuteTime": {
     "end_time": "2021-04-28T06:58:23.419120Z",
     "start_time": "2021-04-28T06:58:23.406473Z"
    }
   },
   "outputs": [],
   "source": [
    "profile_data_temp.income.fillna(value = profile_data_temp.income.median(), inplace = True)"
   ]
  },
  {
   "cell_type": "markdown",
   "id": "23d2a512",
   "metadata": {},
   "source": [
    "#### *Removing Null values with gender is None*"
   ]
  },
  {
   "cell_type": "code",
   "execution_count": 254,
   "id": "9b16d7fd",
   "metadata": {
    "ExecuteTime": {
     "end_time": "2021-04-28T06:58:24.447980Z",
     "start_time": "2021-04-28T06:58:24.437444Z"
    }
   },
   "outputs": [],
   "source": [
    "profile_data_temp.dropna(inplace = True)"
   ]
  },
  {
   "cell_type": "markdown",
   "id": "9b94df3c",
   "metadata": {},
   "source": [
    "**Test**"
   ]
  },
  {
   "cell_type": "code",
   "execution_count": 255,
   "id": "3bbacd7b",
   "metadata": {
    "ExecuteTime": {
     "end_time": "2021-04-28T06:58:25.964482Z",
     "start_time": "2021-04-28T06:58:25.940343Z"
    }
   },
   "outputs": [
    {
     "name": "stdout",
     "output_type": "stream",
     "text": [
      "<class 'pandas.core.frame.DataFrame'>\n",
      "Int64Index: 14825 entries, 1 to 16999\n",
      "Data columns (total 5 columns):\n",
      " #   Column            Non-Null Count  Dtype  \n",
      "---  ------            --------------  -----  \n",
      " 0   gender            14825 non-null  object \n",
      " 1   age               14825 non-null  int64  \n",
      " 2   id                14825 non-null  object \n",
      " 3   became_member_on  14825 non-null  int64  \n",
      " 4   income            14825 non-null  float64\n",
      "dtypes: float64(1), int64(2), object(2)\n",
      "memory usage: 694.9+ KB\n"
     ]
    }
   ],
   "source": [
    "# Info of the data\n",
    "profile_data_temp.info()"
   ]
  },
  {
   "cell_type": "markdown",
   "id": "fa976330",
   "metadata": {},
   "source": [
    "#### Define"
   ]
  },
  {
   "cell_type": "markdown",
   "id": "4fc09f1a",
   "metadata": {},
   "source": [
    "***`became_member_on_column` not in datetime format***"
   ]
  },
  {
   "cell_type": "code",
   "execution_count": 256,
   "id": "007c8109",
   "metadata": {
    "ExecuteTime": {
     "end_time": "2021-04-28T07:00:49.295490Z",
     "start_time": "2021-04-28T07:00:49.282854Z"
    }
   },
   "outputs": [
    {
     "data": {
      "text/html": [
       "<div>\n",
       "<style scoped>\n",
       "    .dataframe tbody tr th:only-of-type {\n",
       "        vertical-align: middle;\n",
       "    }\n",
       "\n",
       "    .dataframe tbody tr th {\n",
       "        vertical-align: top;\n",
       "    }\n",
       "\n",
       "    .dataframe thead th {\n",
       "        text-align: right;\n",
       "    }\n",
       "</style>\n",
       "<table border=\"1\" class=\"dataframe\">\n",
       "  <thead>\n",
       "    <tr style=\"text-align: right;\">\n",
       "      <th></th>\n",
       "      <th>gender</th>\n",
       "      <th>age</th>\n",
       "      <th>id</th>\n",
       "      <th>became_member_on</th>\n",
       "      <th>income</th>\n",
       "    </tr>\n",
       "  </thead>\n",
       "  <tbody>\n",
       "    <tr>\n",
       "      <th>12171</th>\n",
       "      <td>M</td>\n",
       "      <td>60</td>\n",
       "      <td>5baef2b5cb3a4aee8534e0d4a2e399e4</td>\n",
       "      <td>20180111</td>\n",
       "      <td>31000.0</td>\n",
       "    </tr>\n",
       "    <tr>\n",
       "      <th>1926</th>\n",
       "      <td>M</td>\n",
       "      <td>82</td>\n",
       "      <td>82f1d31dc1a340f58262316928882210</td>\n",
       "      <td>20171127</td>\n",
       "      <td>74000.0</td>\n",
       "    </tr>\n",
       "    <tr>\n",
       "      <th>8205</th>\n",
       "      <td>M</td>\n",
       "      <td>74</td>\n",
       "      <td>c87f130483ac4d95bce58e5e96c2e0b5</td>\n",
       "      <td>20150921</td>\n",
       "      <td>50000.0</td>\n",
       "    </tr>\n",
       "    <tr>\n",
       "      <th>12980</th>\n",
       "      <td>F</td>\n",
       "      <td>32</td>\n",
       "      <td>50a2c5e0f8b4414fa10bd868b0af5492</td>\n",
       "      <td>20160303</td>\n",
       "      <td>48000.0</td>\n",
       "    </tr>\n",
       "    <tr>\n",
       "      <th>16322</th>\n",
       "      <td>F</td>\n",
       "      <td>80</td>\n",
       "      <td>31143749023b4c86a17f2842eeb42232</td>\n",
       "      <td>20151218</td>\n",
       "      <td>72000.0</td>\n",
       "    </tr>\n",
       "    <tr>\n",
       "      <th>6419</th>\n",
       "      <td>F</td>\n",
       "      <td>61</td>\n",
       "      <td>d18d4dffd7324184928d1e918fdfcd8c</td>\n",
       "      <td>20151220</td>\n",
       "      <td>93000.0</td>\n",
       "    </tr>\n",
       "    <tr>\n",
       "      <th>15190</th>\n",
       "      <td>M</td>\n",
       "      <td>24</td>\n",
       "      <td>e745913337e64e93b3fb0bc734f93f96</td>\n",
       "      <td>20180707</td>\n",
       "      <td>70000.0</td>\n",
       "    </tr>\n",
       "    <tr>\n",
       "      <th>2489</th>\n",
       "      <td>F</td>\n",
       "      <td>24</td>\n",
       "      <td>7e4e0269683741eda11c7590db744bbd</td>\n",
       "      <td>20170802</td>\n",
       "      <td>44000.0</td>\n",
       "    </tr>\n",
       "    <tr>\n",
       "      <th>3589</th>\n",
       "      <td>F</td>\n",
       "      <td>45</td>\n",
       "      <td>40442f4692e4493d93ca58a439ff6b50</td>\n",
       "      <td>20160301</td>\n",
       "      <td>74000.0</td>\n",
       "    </tr>\n",
       "    <tr>\n",
       "      <th>16169</th>\n",
       "      <td>F</td>\n",
       "      <td>69</td>\n",
       "      <td>a8adc69426a34064b249082dd3d8cada</td>\n",
       "      <td>20171121</td>\n",
       "      <td>54000.0</td>\n",
       "    </tr>\n",
       "  </tbody>\n",
       "</table>\n",
       "</div>"
      ],
      "text/plain": [
       "      gender  age                                id  became_member_on   income\n",
       "12171      M   60  5baef2b5cb3a4aee8534e0d4a2e399e4          20180111  31000.0\n",
       "1926       M   82  82f1d31dc1a340f58262316928882210          20171127  74000.0\n",
       "8205       M   74  c87f130483ac4d95bce58e5e96c2e0b5          20150921  50000.0\n",
       "12980      F   32  50a2c5e0f8b4414fa10bd868b0af5492          20160303  48000.0\n",
       "16322      F   80  31143749023b4c86a17f2842eeb42232          20151218  72000.0\n",
       "6419       F   61  d18d4dffd7324184928d1e918fdfcd8c          20151220  93000.0\n",
       "15190      M   24  e745913337e64e93b3fb0bc734f93f96          20180707  70000.0\n",
       "2489       F   24  7e4e0269683741eda11c7590db744bbd          20170802  44000.0\n",
       "3589       F   45  40442f4692e4493d93ca58a439ff6b50          20160301  74000.0\n",
       "16169      F   69  a8adc69426a34064b249082dd3d8cada          20171121  54000.0"
      ]
     },
     "execution_count": 256,
     "metadata": {},
     "output_type": "execute_result"
    }
   ],
   "source": [
    "profile_data_temp.sample(10)"
   ]
  },
  {
   "cell_type": "markdown",
   "id": "86f04930",
   "metadata": {},
   "source": [
    "#### Code"
   ]
  },
  {
   "cell_type": "code",
   "execution_count": 264,
   "id": "84a3c1cf",
   "metadata": {
    "ExecuteTime": {
     "end_time": "2021-04-28T07:10:02.218742Z",
     "start_time": "2021-04-28T07:10:02.199723Z"
    }
   },
   "outputs": [],
   "source": [
    "profile_data_temp['became_member_on'] = pd.to_datetime(profile_data_temp['became_member_on'], format='%Y%m%d')"
   ]
  },
  {
   "cell_type": "markdown",
   "id": "a56c4b89",
   "metadata": {},
   "source": [
    "#### Test"
   ]
  },
  {
   "cell_type": "code",
   "execution_count": 265,
   "id": "c5e31814",
   "metadata": {
    "ExecuteTime": {
     "end_time": "2021-04-28T07:10:19.440286Z",
     "start_time": "2021-04-28T07:10:19.417287Z"
    }
   },
   "outputs": [
    {
     "data": {
      "text/html": [
       "<div>\n",
       "<style scoped>\n",
       "    .dataframe tbody tr th:only-of-type {\n",
       "        vertical-align: middle;\n",
       "    }\n",
       "\n",
       "    .dataframe tbody tr th {\n",
       "        vertical-align: top;\n",
       "    }\n",
       "\n",
       "    .dataframe thead th {\n",
       "        text-align: right;\n",
       "    }\n",
       "</style>\n",
       "<table border=\"1\" class=\"dataframe\">\n",
       "  <thead>\n",
       "    <tr style=\"text-align: right;\">\n",
       "      <th></th>\n",
       "      <th>gender</th>\n",
       "      <th>age</th>\n",
       "      <th>id</th>\n",
       "      <th>became_member_on</th>\n",
       "      <th>income</th>\n",
       "    </tr>\n",
       "  </thead>\n",
       "  <tbody>\n",
       "    <tr>\n",
       "      <th>11422</th>\n",
       "      <td>F</td>\n",
       "      <td>70</td>\n",
       "      <td>dd718ccfdb534078b6dac7ed3ea78673</td>\n",
       "      <td>2017-06-25</td>\n",
       "      <td>74000.0</td>\n",
       "    </tr>\n",
       "    <tr>\n",
       "      <th>11995</th>\n",
       "      <td>F</td>\n",
       "      <td>56</td>\n",
       "      <td>b551e33de83147b694ff2ebf4d52d226</td>\n",
       "      <td>2018-01-30</td>\n",
       "      <td>77000.0</td>\n",
       "    </tr>\n",
       "    <tr>\n",
       "      <th>7865</th>\n",
       "      <td>F</td>\n",
       "      <td>54</td>\n",
       "      <td>c830751fd5de4453a105b0bd54aa070f</td>\n",
       "      <td>2018-04-19</td>\n",
       "      <td>79000.0</td>\n",
       "    </tr>\n",
       "    <tr>\n",
       "      <th>3613</th>\n",
       "      <td>M</td>\n",
       "      <td>90</td>\n",
       "      <td>1c8b3756397541c7b4dade350741a9ed</td>\n",
       "      <td>2018-04-09</td>\n",
       "      <td>38000.0</td>\n",
       "    </tr>\n",
       "    <tr>\n",
       "      <th>7243</th>\n",
       "      <td>F</td>\n",
       "      <td>55</td>\n",
       "      <td>84cf0f0cd78e423d9390df1d07a6590e</td>\n",
       "      <td>2017-07-28</td>\n",
       "      <td>108000.0</td>\n",
       "    </tr>\n",
       "    <tr>\n",
       "      <th>217</th>\n",
       "      <td>F</td>\n",
       "      <td>34</td>\n",
       "      <td>5b9c1a35c0144b6ab584e666dec7c531</td>\n",
       "      <td>2018-04-17</td>\n",
       "      <td>67000.0</td>\n",
       "    </tr>\n",
       "    <tr>\n",
       "      <th>10407</th>\n",
       "      <td>M</td>\n",
       "      <td>51</td>\n",
       "      <td>ad2c5a7237a647d5b717fc079283da18</td>\n",
       "      <td>2016-01-10</td>\n",
       "      <td>116000.0</td>\n",
       "    </tr>\n",
       "    <tr>\n",
       "      <th>14857</th>\n",
       "      <td>M</td>\n",
       "      <td>79</td>\n",
       "      <td>419bafec9bda42e58305020f3108358c</td>\n",
       "      <td>2018-01-21</td>\n",
       "      <td>91000.0</td>\n",
       "    </tr>\n",
       "    <tr>\n",
       "      <th>16693</th>\n",
       "      <td>F</td>\n",
       "      <td>68</td>\n",
       "      <td>d9903ac65490434fa512d62dd38d295d</td>\n",
       "      <td>2017-11-12</td>\n",
       "      <td>75000.0</td>\n",
       "    </tr>\n",
       "    <tr>\n",
       "      <th>8972</th>\n",
       "      <td>F</td>\n",
       "      <td>51</td>\n",
       "      <td>b9d7f0ab3ff34979965a826cd7e45f0d</td>\n",
       "      <td>2016-05-11</td>\n",
       "      <td>86000.0</td>\n",
       "    </tr>\n",
       "  </tbody>\n",
       "</table>\n",
       "</div>"
      ],
      "text/plain": [
       "      gender  age                                id became_member_on    income\n",
       "11422      F   70  dd718ccfdb534078b6dac7ed3ea78673       2017-06-25   74000.0\n",
       "11995      F   56  b551e33de83147b694ff2ebf4d52d226       2018-01-30   77000.0\n",
       "7865       F   54  c830751fd5de4453a105b0bd54aa070f       2018-04-19   79000.0\n",
       "3613       M   90  1c8b3756397541c7b4dade350741a9ed       2018-04-09   38000.0\n",
       "7243       F   55  84cf0f0cd78e423d9390df1d07a6590e       2017-07-28  108000.0\n",
       "217        F   34  5b9c1a35c0144b6ab584e666dec7c531       2018-04-17   67000.0\n",
       "10407      M   51  ad2c5a7237a647d5b717fc079283da18       2016-01-10  116000.0\n",
       "14857      M   79  419bafec9bda42e58305020f3108358c       2018-01-21   91000.0\n",
       "16693      F   68  d9903ac65490434fa512d62dd38d295d       2017-11-12   75000.0\n",
       "8972       F   51  b9d7f0ab3ff34979965a826cd7e45f0d       2016-05-11   86000.0"
      ]
     },
     "execution_count": 265,
     "metadata": {},
     "output_type": "execute_result"
    }
   ],
   "source": [
    "profile_data_temp.sample(10)"
   ]
  },
  {
   "cell_type": "code",
   "execution_count": 266,
   "id": "419a9cb7",
   "metadata": {
    "ExecuteTime": {
     "end_time": "2021-04-28T07:10:26.704976Z",
     "start_time": "2021-04-28T07:10:26.692447Z"
    }
   },
   "outputs": [
    {
     "name": "stdout",
     "output_type": "stream",
     "text": [
      "<class 'pandas.core.frame.DataFrame'>\n",
      "Int64Index: 14825 entries, 1 to 16999\n",
      "Data columns (total 5 columns):\n",
      " #   Column            Non-Null Count  Dtype         \n",
      "---  ------            --------------  -----         \n",
      " 0   gender            14825 non-null  object        \n",
      " 1   age               14825 non-null  int64         \n",
      " 2   id                14825 non-null  object        \n",
      " 3   became_member_on  14825 non-null  datetime64[ns]\n",
      " 4   income            14825 non-null  float64       \n",
      "dtypes: datetime64[ns](1), float64(1), int64(1), object(2)\n",
      "memory usage: 694.9+ KB\n"
     ]
    }
   ],
   "source": [
    "profile_data_temp.info()"
   ]
  },
  {
   "cell_type": "markdown",
   "id": "5c2a0dce",
   "metadata": {},
   "source": [
    "#### Define"
   ]
  },
  {
   "cell_type": "markdown",
   "id": "b24ec5cd",
   "metadata": {},
   "source": [
    "#### *Renaming columns for merging*"
   ]
  },
  {
   "cell_type": "code",
   "execution_count": 276,
   "id": "ffb69998",
   "metadata": {
    "ExecuteTime": {
     "end_time": "2021-04-28T07:27:54.417528Z",
     "start_time": "2021-04-28T07:27:54.397391Z"
    }
   },
   "outputs": [
    {
     "data": {
      "text/plain": [
       "Index(['gender', 'age', 'id', 'became_member_on', 'income'], dtype='object')"
      ]
     },
     "execution_count": 276,
     "metadata": {},
     "output_type": "execute_result"
    }
   ],
   "source": [
    "profile_data_temp.columns"
   ]
  },
  {
   "cell_type": "code",
   "execution_count": 277,
   "id": "119e693a",
   "metadata": {
    "ExecuteTime": {
     "end_time": "2021-04-28T07:28:14.202687Z",
     "start_time": "2021-04-28T07:28:14.189103Z"
    }
   },
   "outputs": [
    {
     "data": {
      "text/plain": [
       "Index(['person', 'event', 'time', 'reward', 'amount', 'offer_id'], dtype='object')"
      ]
     },
     "execution_count": 277,
     "metadata": {},
     "output_type": "execute_result"
    }
   ],
   "source": [
    "transcript_data_temp.columns"
   ]
  },
  {
   "cell_type": "code",
   "execution_count": 278,
   "id": "8d44055f",
   "metadata": {
    "ExecuteTime": {
     "end_time": "2021-04-28T07:28:18.656366Z",
     "start_time": "2021-04-28T07:28:18.647158Z"
    }
   },
   "outputs": [
    {
     "data": {
      "text/plain": [
       "Index(['reward', 'difficulty', 'duration', 'offer_type', 'id', 'email',\n",
       "       'mobile', 'social', 'web'],\n",
       "      dtype='object')"
      ]
     },
     "execution_count": 278,
     "metadata": {},
     "output_type": "execute_result"
    }
   ],
   "source": [
    "portfolio_data_temp.columns"
   ]
  },
  {
   "cell_type": "markdown",
   "id": "26557ad9",
   "metadata": {},
   "source": [
    "#### Code"
   ]
  },
  {
   "cell_type": "code",
   "execution_count": 290,
   "id": "1c6de12c",
   "metadata": {
    "ExecuteTime": {
     "end_time": "2021-04-28T07:38:51.439603Z",
     "start_time": "2021-04-28T07:38:51.428591Z"
    }
   },
   "outputs": [],
   "source": [
    "profile_data_temp.rename(columns={'id':'customer_id'}, inplace = True)"
   ]
  },
  {
   "cell_type": "code",
   "execution_count": 291,
   "id": "28cf7b1e",
   "metadata": {
    "ExecuteTime": {
     "end_time": "2021-04-28T07:38:51.753205Z",
     "start_time": "2021-04-28T07:38:51.725231Z"
    }
   },
   "outputs": [],
   "source": [
    "transcript_data_temp.rename(columns={'person':'customer_id'}, inplace = True)"
   ]
  },
  {
   "cell_type": "code",
   "execution_count": 292,
   "id": "fae3edb5",
   "metadata": {
    "ExecuteTime": {
     "end_time": "2021-04-28T07:38:52.002357Z",
     "start_time": "2021-04-28T07:38:51.991205Z"
    }
   },
   "outputs": [],
   "source": [
    "portfolio_data_temp.rename(columns={'id':'offer_id'}, inplace = True)"
   ]
  },
  {
   "cell_type": "markdown",
   "id": "1c6d1428",
   "metadata": {},
   "source": [
    "#### Test"
   ]
  },
  {
   "cell_type": "code",
   "execution_count": 293,
   "id": "06ea0958",
   "metadata": {
    "ExecuteTime": {
     "end_time": "2021-04-28T07:38:52.962079Z",
     "start_time": "2021-04-28T07:38:52.943917Z"
    }
   },
   "outputs": [
    {
     "data": {
      "text/plain": [
       "Index(['gender', 'age', 'customer_id', 'became_member_on', 'income'], dtype='object')"
      ]
     },
     "execution_count": 293,
     "metadata": {},
     "output_type": "execute_result"
    }
   ],
   "source": [
    "profile_data_temp.columns"
   ]
  },
  {
   "cell_type": "code",
   "execution_count": 294,
   "id": "ef8bff18",
   "metadata": {
    "ExecuteTime": {
     "end_time": "2021-04-28T07:38:55.006419Z",
     "start_time": "2021-04-28T07:38:54.999726Z"
    }
   },
   "outputs": [
    {
     "data": {
      "text/plain": [
       "Index(['customer_id', 'event', 'time', 'reward', 'amount', 'offer_id'], dtype='object')"
      ]
     },
     "execution_count": 294,
     "metadata": {},
     "output_type": "execute_result"
    }
   ],
   "source": [
    "transcript_data_temp.columns"
   ]
  },
  {
   "cell_type": "code",
   "execution_count": 295,
   "id": "02cc4e49",
   "metadata": {
    "ExecuteTime": {
     "end_time": "2021-04-28T07:38:55.382643Z",
     "start_time": "2021-04-28T07:38:55.371503Z"
    }
   },
   "outputs": [
    {
     "data": {
      "text/plain": [
       "Index(['reward', 'difficulty', 'duration', 'offer_type', 'offer_id', 'email',\n",
       "       'mobile', 'social', 'web'],\n",
       "      dtype='object')"
      ]
     },
     "execution_count": 295,
     "metadata": {},
     "output_type": "execute_result"
    }
   ],
   "source": [
    "portfolio_data_temp.columns"
   ]
  },
  {
   "cell_type": "markdown",
   "id": "eae9b477",
   "metadata": {},
   "source": [
    "### Storing cleaned data to machine."
   ]
  },
  {
   "cell_type": "code",
   "execution_count": 299,
   "id": "5985847d",
   "metadata": {
    "ExecuteTime": {
     "end_time": "2021-04-28T07:40:10.848977Z",
     "start_time": "2021-04-28T07:40:09.186313Z"
    }
   },
   "outputs": [],
   "source": [
    "profile_data_temp.to_csv('data/cleaned_profile_data.csv')\n",
    "transcript_data_temp.to_csv('data/cleaned_transcript_data.csv')\n",
    "portfolio_data_temp.to_csv('data/cleaned_portfolio_data.csv')"
   ]
  },
  {
   "cell_type": "code",
   "execution_count": 275,
   "id": "4ea13c13",
   "metadata": {
    "ExecuteTime": {
     "end_time": "2021-04-28T07:27:44.400396Z",
     "start_time": "2021-04-28T07:27:44.361198Z"
    }
   },
   "outputs": [
    {
     "ename": "ValueError",
     "evalue": "The truth value of an array with more than one element is ambiguous. Use a.any() or a.all()",
     "output_type": "error",
     "traceback": [
      "\u001b[1;31m---------------------------------------------------------------------------\u001b[0m",
      "\u001b[1;31mValueError\u001b[0m                                Traceback (most recent call last)",
      "\u001b[1;32m<ipython-input-275-3fb8d6e8aa5a>\u001b[0m in \u001b[0;36m<module>\u001b[1;34m\u001b[0m\n\u001b[1;32m----> 1\u001b[1;33m \u001b[0mprofile_data_temp\u001b[0m\u001b[1;33m.\u001b[0m\u001b[0mcolumns\u001b[0m\u001b[1;33m.\u001b[0m\u001b[0mintersection\u001b[0m\u001b[1;33m(\u001b[0m\u001b[0mtranscript_data_temp\u001b[0m\u001b[1;33m.\u001b[0m\u001b[0mcolumns\u001b[0m\u001b[1;33m,\u001b[0m \u001b[0mportfolio_data_temp\u001b[0m\u001b[1;33m.\u001b[0m\u001b[0mcolumns\u001b[0m\u001b[1;33m)\u001b[0m\u001b[1;33m\u001b[0m\u001b[1;33m\u001b[0m\u001b[0m\n\u001b[0m",
      "\u001b[1;32m~\\Anaconda3\\lib\\site-packages\\pandas\\core\\indexes\\base.py\u001b[0m in \u001b[0;36mintersection\u001b[1;34m(self, other, sort)\u001b[0m\n\u001b[0;32m   2823\u001b[0m         \u001b[0mInt64Index\u001b[0m\u001b[1;33m(\u001b[0m\u001b[1;33m[\u001b[0m\u001b[1;36m3\u001b[0m\u001b[1;33m,\u001b[0m \u001b[1;36m4\u001b[0m\u001b[1;33m]\u001b[0m\u001b[1;33m,\u001b[0m \u001b[0mdtype\u001b[0m\u001b[1;33m=\u001b[0m\u001b[1;34m'int64'\u001b[0m\u001b[1;33m)\u001b[0m\u001b[1;33m\u001b[0m\u001b[1;33m\u001b[0m\u001b[0m\n\u001b[0;32m   2824\u001b[0m         \"\"\"\n\u001b[1;32m-> 2825\u001b[1;33m         \u001b[0mself\u001b[0m\u001b[1;33m.\u001b[0m\u001b[0m_validate_sort_keyword\u001b[0m\u001b[1;33m(\u001b[0m\u001b[0msort\u001b[0m\u001b[1;33m)\u001b[0m\u001b[1;33m\u001b[0m\u001b[1;33m\u001b[0m\u001b[0m\n\u001b[0m\u001b[0;32m   2826\u001b[0m         \u001b[0mself\u001b[0m\u001b[1;33m.\u001b[0m\u001b[0m_assert_can_do_setop\u001b[0m\u001b[1;33m(\u001b[0m\u001b[0mother\u001b[0m\u001b[1;33m)\u001b[0m\u001b[1;33m\u001b[0m\u001b[1;33m\u001b[0m\u001b[0m\n\u001b[0;32m   2827\u001b[0m         \u001b[0mother\u001b[0m\u001b[1;33m,\u001b[0m \u001b[0m_\u001b[0m \u001b[1;33m=\u001b[0m \u001b[0mself\u001b[0m\u001b[1;33m.\u001b[0m\u001b[0m_convert_can_do_setop\u001b[0m\u001b[1;33m(\u001b[0m\u001b[0mother\u001b[0m\u001b[1;33m)\u001b[0m\u001b[1;33m\u001b[0m\u001b[1;33m\u001b[0m\u001b[0m\n",
      "\u001b[1;32m~\\Anaconda3\\lib\\site-packages\\pandas\\core\\indexes\\base.py\u001b[0m in \u001b[0;36m_validate_sort_keyword\u001b[1;34m(self, sort)\u001b[0m\n\u001b[0;32m   2636\u001b[0m     \u001b[1;33m@\u001b[0m\u001b[0mfinal\u001b[0m\u001b[1;33m\u001b[0m\u001b[1;33m\u001b[0m\u001b[0m\n\u001b[0;32m   2637\u001b[0m     \u001b[1;32mdef\u001b[0m \u001b[0m_validate_sort_keyword\u001b[0m\u001b[1;33m(\u001b[0m\u001b[0mself\u001b[0m\u001b[1;33m,\u001b[0m \u001b[0msort\u001b[0m\u001b[1;33m)\u001b[0m\u001b[1;33m:\u001b[0m\u001b[1;33m\u001b[0m\u001b[1;33m\u001b[0m\u001b[0m\n\u001b[1;32m-> 2638\u001b[1;33m         \u001b[1;32mif\u001b[0m \u001b[0msort\u001b[0m \u001b[1;32mnot\u001b[0m \u001b[1;32min\u001b[0m \u001b[1;33m[\u001b[0m\u001b[1;32mNone\u001b[0m\u001b[1;33m,\u001b[0m \u001b[1;32mFalse\u001b[0m\u001b[1;33m]\u001b[0m\u001b[1;33m:\u001b[0m\u001b[1;33m\u001b[0m\u001b[1;33m\u001b[0m\u001b[0m\n\u001b[0m\u001b[0;32m   2639\u001b[0m             raise ValueError(\n\u001b[0;32m   2640\u001b[0m                 \u001b[1;34m\"The 'sort' keyword only takes the values of \"\u001b[0m\u001b[1;33m\u001b[0m\u001b[1;33m\u001b[0m\u001b[0m\n",
      "\u001b[1;31mValueError\u001b[0m: The truth value of an array with more than one element is ambiguous. Use a.any() or a.all()"
     ]
    }
   ],
   "source": [
    "profile_data_temp.columns.intersection(transcript_data_temp.columns, portfolio_data_temp.columns)"
   ]
  },
  {
   "cell_type": "code",
   "execution_count": null,
   "id": "fb6adf9c",
   "metadata": {},
   "outputs": [],
   "source": []
  }
 ],
 "metadata": {
  "kernelspec": {
   "display_name": "Python 3",
   "language": "python",
   "name": "python3"
  },
  "language_info": {
   "codemirror_mode": {
    "name": "ipython",
    "version": 3
   },
   "file_extension": ".py",
   "mimetype": "text/x-python",
   "name": "python",
   "nbconvert_exporter": "python",
   "pygments_lexer": "ipython3",
   "version": "3.7.10"
  }
 },
 "nbformat": 4,
 "nbformat_minor": 5
}
