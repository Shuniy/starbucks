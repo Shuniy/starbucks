{
 "cells": [
  {
   "cell_type": "markdown",
   "id": "6ac3f432",
   "metadata": {},
   "source": [
    "## Uplift Modeling\n",
    "\n",
    "Uplift modelling, also known as **incremental modelling, true lift modelling, or net modelling** is a predictive modelling technique that directly models the incremental impact of a treatment (such as a direct marketing action) on an individual's behaviour.\n",
    "\n",
    "Uplift modelling has applications in customer relationship management for up-sell, cross-sell and retention modelling. It has also been applied to political election and personalised medicine. Unlike the related Differential Prediction concept in psychology, Uplift Modelling assumes an active agent.\n",
    "\n",
    "One of the most critical jobs of Growth Hacker is to be efficient by all means as much as possible. First of all, you need to be time-efficient. That means you have to quickly ideate, experiment, learn and re-iterate. Second, you need to be cost-efficient. It means bringing the maximum return for a given budget/time/effort.\n",
    "\n",
    "Uplift modelling uses a randomised scientific control to not only measure the effectiveness of an action but also to build a predictive model that predicts the incremental response to the action. It is a data mining technique that has been applied predominantly in the financial services, telecommunications and retail direct marketing industries to up-sell, cross-sell, churn and retention activities.\n",
    "\n",
    "Segmentation helps Growth Hackers to increase conversion and hence be cost-efficient.\n",
    "\n",
    "We can summarize the segments based on this approach like below:\n",
    "\n",
    "- Treatment Responders: Customers that will purchase only if they receive an offer\n",
    "- Treatment Non-Responders: Customer that won’t purchase in any case\n",
    "- Control Responders: Customers that will purchase without an offer\n",
    "- Control Non-Responders: Customers that will not purchase if they don’t receive an offer\n",
    "\n",
    "The picture is very obvious. You need to target Treatment Responders (TR) and Control Non-Responders (CN). Since they won’t purchase unless you give an offer, these groups are boosting your uplift in promotional campaigns. On the other hand, you need to avoid targeting Treatment Non-Responders (TN) and Control Responders (CR). You will not benefit from targeting TN and, CN will make you cannibalize.\n",
    "\n",
    "Uplift Modeling has two simple steps:\n",
    "- Predict the probabilities of being in each group for all customers: we are going to build a multi-classification model for that.\n",
    "- We will calculate the uplift score. Uplift score formula is:\n",
    "\n",
    "![medium_image](https://miro.medium.com/max/3000/1*AvNi0acKGyCs7jYsqcfl_w.png)\n",
    "\n",
    "There are several apporaches for uplift modeling:\n",
    "\n",
    "    - Traditional one model approach: This method predicts only customers who received promotions and completed the offer or purchased. The issue with this approach is that it discards the control group data.\n",
    "    \n",
    "    - Two model Uplift Approach: create 2 models to predict the purchases from the treatment and the control group respectively. The difference in the predicted probabilities of these models represents the lift value which can be used as a cutoff point for the customers responsive to promotions. The issue with this model is that lifts indirectly.\n",
    "    \n",
    "    - Four quadrant approach: split the customers into 4 Groups(treatment response: TR, treatment no response TN, control response CR, control no response CN). then build a model to predict the label the customer belongs to. The promotions can be either sent to only TR(sure thing to respond to promotion) or we can create an uplift score to divide the customer based on the probability of belonging to certain groups and use cut off to decide when to send a promotion or no. \n",
    "    \n",
    "**NIR(Net Incremental Revenue):** NIR depicts how much is made (or lost) by sending out the promotion. Mathematically, this is 10 times the total number of purchasers that received the promotion minus 0.15 times the number of promotions sent out, minus 10 times the number of purchasers who were not given the promotion. **NIR = Uplift Score mentioned above.**\n",
    "\n",
    "We will sum up the probability of being TR and CN and subtract the probability of falling into other buckets. The higher score means higher uplift.\n",
    "\n",
    "[Source : Medium](https://towardsdatascience.com/uplift-modeling-e38f96b1ef60)\n"
   ]
  },
  {
   "cell_type": "markdown",
   "id": "7ea8eecd",
   "metadata": {},
   "source": [
    "### Creating different datasets for different offer types.\n",
    "\n",
    "*Since, uplift modeling determines how a targeted ads and offers work on each customer, we should split datasets into multiple with factor of offer type.*"
   ]
  },
  {
   "cell_type": "code",
   "execution_count": 43,
   "id": "d277097c",
   "metadata": {},
   "outputs": [],
   "source": [
    "import pandas as pd\n",
    "import numpy as np\n",
    "\n",
    "%matplotlib inline"
   ]
  },
  {
   "cell_type": "code",
   "execution_count": 44,
   "id": "3fa26b00",
   "metadata": {},
   "outputs": [],
   "source": [
    "customer_transactions = pd.read_csv('data/customer_transaction_data_categorical.csv')"
   ]
  },
  {
   "cell_type": "code",
   "execution_count": 45,
   "id": "265dd4a1",
   "metadata": {},
   "outputs": [],
   "source": [
    "# converting became_member on to datetime\n",
    "customer_transactions.became_member_on = pd.to_datetime(customer_transactions.became_member_on)"
   ]
  },
  {
   "cell_type": "code",
   "execution_count": 46,
   "id": "20ff7d32",
   "metadata": {},
   "outputs": [
    {
     "data": {
      "text/html": [
       "<div>\n",
       "<style scoped>\n",
       "    .dataframe tbody tr th:only-of-type {\n",
       "        vertical-align: middle;\n",
       "    }\n",
       "\n",
       "    .dataframe tbody tr th {\n",
       "        vertical-align: top;\n",
       "    }\n",
       "\n",
       "    .dataframe thead th {\n",
       "        text-align: right;\n",
       "    }\n",
       "</style>\n",
       "<table border=\"1\" class=\"dataframe\">\n",
       "  <thead>\n",
       "    <tr style=\"text-align: right;\">\n",
       "      <th></th>\n",
       "      <th>customer_id</th>\n",
       "      <th>time_received</th>\n",
       "      <th>offer_id</th>\n",
       "      <th>reward</th>\n",
       "      <th>age</th>\n",
       "      <th>became_member_on</th>\n",
       "      <th>income</th>\n",
       "      <th>difficulty</th>\n",
       "      <th>duration</th>\n",
       "      <th>offer_type</th>\n",
       "      <th>...</th>\n",
       "      <th>revenue_cluster</th>\n",
       "      <th>frequency</th>\n",
       "      <th>frequency_cluster</th>\n",
       "      <th>overall_score</th>\n",
       "      <th>gender_female</th>\n",
       "      <th>gender_male</th>\n",
       "      <th>gender_others</th>\n",
       "      <th>RFM_segment_Low-Value</th>\n",
       "      <th>RFM_segment_Mid-Value</th>\n",
       "      <th>RFM_segment_High-Value</th>\n",
       "    </tr>\n",
       "  </thead>\n",
       "  <tbody>\n",
       "    <tr>\n",
       "      <th>58208</th>\n",
       "      <td>e4a75f2ce99b45e78d8b42bfb31b2ef4</td>\n",
       "      <td>21</td>\n",
       "      <td>2298d6c36e964ae4a3e7e9706d1fb8c2</td>\n",
       "      <td>3.0</td>\n",
       "      <td>93</td>\n",
       "      <td>2016-11-12</td>\n",
       "      <td>115000.0</td>\n",
       "      <td>7.0</td>\n",
       "      <td>7.0</td>\n",
       "      <td>discount</td>\n",
       "      <td>...</td>\n",
       "      <td>2</td>\n",
       "      <td>8</td>\n",
       "      <td>3</td>\n",
       "      <td>8</td>\n",
       "      <td>1</td>\n",
       "      <td>0</td>\n",
       "      <td>0</td>\n",
       "      <td>1</td>\n",
       "      <td>0</td>\n",
       "      <td>0</td>\n",
       "    </tr>\n",
       "    <tr>\n",
       "      <th>37045</th>\n",
       "      <td>914b1197292542a8abfb958fd7b4efd4</td>\n",
       "      <td>17</td>\n",
       "      <td>5a8bc65990b245e5a138643cd4eb9837</td>\n",
       "      <td>0.0</td>\n",
       "      <td>27</td>\n",
       "      <td>2013-09-08</td>\n",
       "      <td>34000.0</td>\n",
       "      <td>0.0</td>\n",
       "      <td>3.0</td>\n",
       "      <td>informational</td>\n",
       "      <td>...</td>\n",
       "      <td>4</td>\n",
       "      <td>16</td>\n",
       "      <td>1</td>\n",
       "      <td>9</td>\n",
       "      <td>0</td>\n",
       "      <td>1</td>\n",
       "      <td>0</td>\n",
       "      <td>0</td>\n",
       "      <td>1</td>\n",
       "      <td>0</td>\n",
       "    </tr>\n",
       "    <tr>\n",
       "      <th>42235</th>\n",
       "      <td>a4d629a11c0746c69c01f660286dea7e</td>\n",
       "      <td>17</td>\n",
       "      <td>9b98b8c7a33c4b65b9aebfe6a799e6d9</td>\n",
       "      <td>5.0</td>\n",
       "      <td>62</td>\n",
       "      <td>2018-07-03</td>\n",
       "      <td>72000.0</td>\n",
       "      <td>5.0</td>\n",
       "      <td>7.0</td>\n",
       "      <td>bogo</td>\n",
       "      <td>...</td>\n",
       "      <td>3</td>\n",
       "      <td>5</td>\n",
       "      <td>3</td>\n",
       "      <td>9</td>\n",
       "      <td>1</td>\n",
       "      <td>0</td>\n",
       "      <td>0</td>\n",
       "      <td>0</td>\n",
       "      <td>1</td>\n",
       "      <td>0</td>\n",
       "    </tr>\n",
       "    <tr>\n",
       "      <th>7172</th>\n",
       "      <td>1d36a7ddbd114574a804c5c4eb2ecb4d</td>\n",
       "      <td>14</td>\n",
       "      <td>f19421c1d4aa40978ebb69ca19b0e20d</td>\n",
       "      <td>5.0</td>\n",
       "      <td>54</td>\n",
       "      <td>2016-12-05</td>\n",
       "      <td>104000.0</td>\n",
       "      <td>5.0</td>\n",
       "      <td>5.0</td>\n",
       "      <td>bogo</td>\n",
       "      <td>...</td>\n",
       "      <td>3</td>\n",
       "      <td>5</td>\n",
       "      <td>3</td>\n",
       "      <td>8</td>\n",
       "      <td>1</td>\n",
       "      <td>0</td>\n",
       "      <td>0</td>\n",
       "      <td>1</td>\n",
       "      <td>0</td>\n",
       "      <td>0</td>\n",
       "    </tr>\n",
       "    <tr>\n",
       "      <th>53223</th>\n",
       "      <td>d1221180e99a46acb2841673afd34c5e</td>\n",
       "      <td>7</td>\n",
       "      <td>3f207df678b143eea3cee63160fa8bed</td>\n",
       "      <td>0.0</td>\n",
       "      <td>65</td>\n",
       "      <td>2015-04-21</td>\n",
       "      <td>47000.0</td>\n",
       "      <td>0.0</td>\n",
       "      <td>4.0</td>\n",
       "      <td>informational</td>\n",
       "      <td>...</td>\n",
       "      <td>4</td>\n",
       "      <td>5</td>\n",
       "      <td>3</td>\n",
       "      <td>9</td>\n",
       "      <td>0</td>\n",
       "      <td>1</td>\n",
       "      <td>0</td>\n",
       "      <td>0</td>\n",
       "      <td>1</td>\n",
       "      <td>0</td>\n",
       "    </tr>\n",
       "  </tbody>\n",
       "</table>\n",
       "<p>5 rows × 46 columns</p>\n",
       "</div>"
      ],
      "text/plain": [
       "                            customer_id  time_received  \\\n",
       "58208  e4a75f2ce99b45e78d8b42bfb31b2ef4             21   \n",
       "37045  914b1197292542a8abfb958fd7b4efd4             17   \n",
       "42235  a4d629a11c0746c69c01f660286dea7e             17   \n",
       "7172   1d36a7ddbd114574a804c5c4eb2ecb4d             14   \n",
       "53223  d1221180e99a46acb2841673afd34c5e              7   \n",
       "\n",
       "                               offer_id  reward  age became_member_on  \\\n",
       "58208  2298d6c36e964ae4a3e7e9706d1fb8c2     3.0   93       2016-11-12   \n",
       "37045  5a8bc65990b245e5a138643cd4eb9837     0.0   27       2013-09-08   \n",
       "42235  9b98b8c7a33c4b65b9aebfe6a799e6d9     5.0   62       2018-07-03   \n",
       "7172   f19421c1d4aa40978ebb69ca19b0e20d     5.0   54       2016-12-05   \n",
       "53223  3f207df678b143eea3cee63160fa8bed     0.0   65       2015-04-21   \n",
       "\n",
       "         income  difficulty  duration     offer_type  ...  revenue_cluster  \\\n",
       "58208  115000.0         7.0       7.0       discount  ...                2   \n",
       "37045   34000.0         0.0       3.0  informational  ...                4   \n",
       "42235   72000.0         5.0       7.0           bogo  ...                3   \n",
       "7172   104000.0         5.0       5.0           bogo  ...                3   \n",
       "53223   47000.0         0.0       4.0  informational  ...                4   \n",
       "\n",
       "       frequency  frequency_cluster  overall_score  gender_female  \\\n",
       "58208          8                  3              8              1   \n",
       "37045         16                  1              9              0   \n",
       "42235          5                  3              9              1   \n",
       "7172           5                  3              8              1   \n",
       "53223          5                  3              9              0   \n",
       "\n",
       "       gender_male  gender_others  RFM_segment_Low-Value  \\\n",
       "58208            0              0                      1   \n",
       "37045            1              0                      0   \n",
       "42235            0              0                      0   \n",
       "7172             0              0                      1   \n",
       "53223            1              0                      0   \n",
       "\n",
       "       RFM_segment_Mid-Value  RFM_segment_High-Value  \n",
       "58208                      0                       0  \n",
       "37045                      1                       0  \n",
       "42235                      1                       0  \n",
       "7172                       0                       0  \n",
       "53223                      1                       0  \n",
       "\n",
       "[5 rows x 46 columns]"
      ]
     },
     "execution_count": 46,
     "metadata": {},
     "output_type": "execute_result"
    }
   ],
   "source": [
    "customer_transactions.sample(5)"
   ]
  },
  {
   "cell_type": "code",
   "execution_count": 47,
   "id": "3011b89a",
   "metadata": {},
   "outputs": [
    {
     "name": "stdout",
     "output_type": "stream",
     "text": [
      "<class 'pandas.core.frame.DataFrame'>\n",
      "RangeIndex: 65020 entries, 0 to 65019\n",
      "Data columns (total 46 columns):\n",
      " #   Column                       Non-Null Count  Dtype         \n",
      "---  ------                       --------------  -----         \n",
      " 0   customer_id                  65020 non-null  object        \n",
      " 1   time_received                65020 non-null  int64         \n",
      " 2   offer_id                     65020 non-null  object        \n",
      " 3   reward                       65020 non-null  float64       \n",
      " 4   age                          65020 non-null  int64         \n",
      " 5   became_member_on             65020 non-null  datetime64[ns]\n",
      " 6   income                       65020 non-null  float64       \n",
      " 7   difficulty                   65020 non-null  float64       \n",
      " 8   duration                     65020 non-null  float64       \n",
      " 9   offer_type                   65020 non-null  object        \n",
      " 10  email                        65020 non-null  float64       \n",
      " 11  mobile                       65020 non-null  float64       \n",
      " 12  social                       65020 non-null  float64       \n",
      " 13  web                          65020 non-null  float64       \n",
      " 14  end_time                     65020 non-null  float64       \n",
      " 15  completed                    65020 non-null  float64       \n",
      " 16  finish                       65020 non-null  float64       \n",
      " 17  viewed                       65020 non-null  float64       \n",
      " 18  success                      65020 non-null  float64       \n",
      " 19  view_time                    65020 non-null  float64       \n",
      " 20  completed_not_viewed         65020 non-null  int64         \n",
      " 21  total_spent_offer            65020 non-null  float64       \n",
      " 22  total_spent_non_offer        65020 non-null  float64       \n",
      " 23  profit                       65020 non-null  float64       \n",
      " 24  total_spent                  65020 non-null  float64       \n",
      " 25  num_bogo_completed           65020 non-null  float64       \n",
      " 26  num_discount_completed       65020 non-null  float64       \n",
      " 27  num_informational_completed  65020 non-null  float64       \n",
      " 28  successful_offers            65020 non-null  float64       \n",
      " 29  non_successful_offers        65020 non-null  int64         \n",
      " 30  completed_offer              65020 non-null  int64         \n",
      " 31  segment                      65020 non-null  int64         \n",
      " 32  max_purchase_date            65020 non-null  int64         \n",
      " 33  recency                      65020 non-null  int64         \n",
      " 34  recency_cluster              65020 non-null  int64         \n",
      " 35  revenue                      65020 non-null  float64       \n",
      " 36  revenue_cluster              65020 non-null  int64         \n",
      " 37  frequency                    65020 non-null  int64         \n",
      " 38  frequency_cluster            65020 non-null  int64         \n",
      " 39  overall_score                65020 non-null  int64         \n",
      " 40  gender_female                65020 non-null  int64         \n",
      " 41  gender_male                  65020 non-null  int64         \n",
      " 42  gender_others                65020 non-null  int64         \n",
      " 43  RFM_segment_Low-Value        65020 non-null  int64         \n",
      " 44  RFM_segment_Mid-Value        65020 non-null  int64         \n",
      " 45  RFM_segment_High-Value       65020 non-null  int64         \n",
      "dtypes: datetime64[ns](1), float64(23), int64(19), object(3)\n",
      "memory usage: 22.8+ MB\n"
     ]
    }
   ],
   "source": [
    "customer_transactions.info()"
   ]
  },
  {
   "cell_type": "markdown",
   "id": "8b820ef2",
   "metadata": {},
   "source": [
    "#### Splitting with offer types and offer ids."
   ]
  },
  {
   "cell_type": "code",
   "execution_count": 48,
   "id": "40a5c85f",
   "metadata": {},
   "outputs": [
    {
     "data": {
      "text/plain": [
       "array(['discount', 'informational', 'bogo'], dtype=object)"
      ]
     },
     "execution_count": 48,
     "metadata": {},
     "output_type": "execute_result"
    }
   ],
   "source": [
    "customer_transactions.offer_type.unique()"
   ]
  },
  {
   "cell_type": "code",
   "execution_count": 49,
   "id": "f3ef4b0b",
   "metadata": {},
   "outputs": [
    {
     "data": {
      "text/plain": [
       "array(['2906b810c7d4411798c6938adc9daaa5',\n",
       "       '3f207df678b143eea3cee63160fa8bed',\n",
       "       '5a8bc65990b245e5a138643cd4eb9837',\n",
       "       'f19421c1d4aa40978ebb69ca19b0e20d',\n",
       "       'fafdcd668e3743c1bb461111dcafc2a4',\n",
       "       '0b1e1539f2cc45b7b9fa7c272da2e1d7',\n",
       "       '2298d6c36e964ae4a3e7e9706d1fb8c2',\n",
       "       '9b98b8c7a33c4b65b9aebfe6a799e6d9',\n",
       "       '4d5c57ea9a6940dd891ad53e9dbe8da0',\n",
       "       'ae264e3637204a6fb9bb56bc8210ddfd'], dtype=object)"
      ]
     },
     "execution_count": 49,
     "metadata": {},
     "output_type": "execute_result"
    }
   ],
   "source": [
    "customer_transactions.offer_id.unique()"
   ]
  },
  {
   "cell_type": "code",
   "execution_count": 50,
   "id": "de4df366",
   "metadata": {},
   "outputs": [
    {
     "data": {
      "text/plain": [
       "array(['f19421c1d4aa40978ebb69ca19b0e20d',\n",
       "       '9b98b8c7a33c4b65b9aebfe6a799e6d9',\n",
       "       '4d5c57ea9a6940dd891ad53e9dbe8da0',\n",
       "       'ae264e3637204a6fb9bb56bc8210ddfd'], dtype=object)"
      ]
     },
     "execution_count": 50,
     "metadata": {},
     "output_type": "execute_result"
    }
   ],
   "source": [
    "# offer_ids with bogo\n",
    "customer_transactions[customer_transactions.offer_type == 'bogo'].offer_id.unique()"
   ]
  },
  {
   "cell_type": "code",
   "execution_count": 51,
   "id": "5cab0efe",
   "metadata": {},
   "outputs": [
    {
     "data": {
      "text/plain": [
       "array(['3f207df678b143eea3cee63160fa8bed',\n",
       "       '5a8bc65990b245e5a138643cd4eb9837'], dtype=object)"
      ]
     },
     "execution_count": 51,
     "metadata": {},
     "output_type": "execute_result"
    }
   ],
   "source": [
    "# offer_ids with informational\n",
    "customer_transactions[customer_transactions.offer_type == 'informational'].offer_id.unique()"
   ]
  },
  {
   "cell_type": "code",
   "execution_count": 52,
   "id": "6b168450",
   "metadata": {},
   "outputs": [
    {
     "data": {
      "text/plain": [
       "array(['2906b810c7d4411798c6938adc9daaa5',\n",
       "       'fafdcd668e3743c1bb461111dcafc2a4',\n",
       "       '0b1e1539f2cc45b7b9fa7c272da2e1d7',\n",
       "       '2298d6c36e964ae4a3e7e9706d1fb8c2'], dtype=object)"
      ]
     },
     "execution_count": 52,
     "metadata": {},
     "output_type": "execute_result"
    }
   ],
   "source": [
    "# offer_ids with discount\n",
    "customer_transactions[customer_transactions.offer_type == 'discount'].offer_id.unique()"
   ]
  },
  {
   "cell_type": "markdown",
   "id": "6e2ba8ff",
   "metadata": {},
   "source": [
    "**We need a way to distinguish between multiple bogo offer id, Since each offer id have different difficulty, duration and reward, we can use this information.**"
   ]
  },
  {
   "cell_type": "code",
   "execution_count": 61,
   "id": "4e74ef32",
   "metadata": {
    "scrolled": false
   },
   "outputs": [
    {
     "data": {
      "text/html": [
       "<div>\n",
       "<style scoped>\n",
       "    .dataframe tbody tr th:only-of-type {\n",
       "        vertical-align: middle;\n",
       "    }\n",
       "\n",
       "    .dataframe tbody tr th {\n",
       "        vertical-align: top;\n",
       "    }\n",
       "\n",
       "    .dataframe thead th {\n",
       "        text-align: right;\n",
       "    }\n",
       "</style>\n",
       "<table border=\"1\" class=\"dataframe\">\n",
       "  <thead>\n",
       "    <tr style=\"text-align: right;\">\n",
       "      <th></th>\n",
       "      <th>offer_id</th>\n",
       "      <th>offer_type</th>\n",
       "      <th>difficulty</th>\n",
       "      <th>duration</th>\n",
       "      <th>reward</th>\n",
       "    </tr>\n",
       "  </thead>\n",
       "  <tbody>\n",
       "    <tr>\n",
       "      <th>0</th>\n",
       "      <td>f19421c1d4aa40978ebb69ca19b0e20d</td>\n",
       "      <td>bogo</td>\n",
       "      <td>5.0</td>\n",
       "      <td>5.0</td>\n",
       "      <td>5.0</td>\n",
       "    </tr>\n",
       "    <tr>\n",
       "      <th>1</th>\n",
       "      <td>9b98b8c7a33c4b65b9aebfe6a799e6d9</td>\n",
       "      <td>bogo</td>\n",
       "      <td>5.0</td>\n",
       "      <td>7.0</td>\n",
       "      <td>5.0</td>\n",
       "    </tr>\n",
       "    <tr>\n",
       "      <th>2</th>\n",
       "      <td>4d5c57ea9a6940dd891ad53e9dbe8da0</td>\n",
       "      <td>bogo</td>\n",
       "      <td>10.0</td>\n",
       "      <td>5.0</td>\n",
       "      <td>10.0</td>\n",
       "    </tr>\n",
       "    <tr>\n",
       "      <th>3</th>\n",
       "      <td>ae264e3637204a6fb9bb56bc8210ddfd</td>\n",
       "      <td>bogo</td>\n",
       "      <td>10.0</td>\n",
       "      <td>7.0</td>\n",
       "      <td>10.0</td>\n",
       "    </tr>\n",
       "    <tr>\n",
       "      <th>4</th>\n",
       "      <td>2906b810c7d4411798c6938adc9daaa5</td>\n",
       "      <td>discount</td>\n",
       "      <td>10.0</td>\n",
       "      <td>7.0</td>\n",
       "      <td>2.0</td>\n",
       "    </tr>\n",
       "    <tr>\n",
       "      <th>5</th>\n",
       "      <td>fafdcd668e3743c1bb461111dcafc2a4</td>\n",
       "      <td>discount</td>\n",
       "      <td>10.0</td>\n",
       "      <td>10.0</td>\n",
       "      <td>2.0</td>\n",
       "    </tr>\n",
       "    <tr>\n",
       "      <th>6</th>\n",
       "      <td>0b1e1539f2cc45b7b9fa7c272da2e1d7</td>\n",
       "      <td>discount</td>\n",
       "      <td>20.0</td>\n",
       "      <td>10.0</td>\n",
       "      <td>5.0</td>\n",
       "    </tr>\n",
       "    <tr>\n",
       "      <th>7</th>\n",
       "      <td>2298d6c36e964ae4a3e7e9706d1fb8c2</td>\n",
       "      <td>discount</td>\n",
       "      <td>7.0</td>\n",
       "      <td>7.0</td>\n",
       "      <td>3.0</td>\n",
       "    </tr>\n",
       "  </tbody>\n",
       "</table>\n",
       "</div>"
      ],
      "text/plain": [
       "                           offer_id offer_type  difficulty  duration  reward\n",
       "0  f19421c1d4aa40978ebb69ca19b0e20d       bogo         5.0       5.0     5.0\n",
       "1  9b98b8c7a33c4b65b9aebfe6a799e6d9       bogo         5.0       7.0     5.0\n",
       "2  4d5c57ea9a6940dd891ad53e9dbe8da0       bogo        10.0       5.0    10.0\n",
       "3  ae264e3637204a6fb9bb56bc8210ddfd       bogo        10.0       7.0    10.0\n",
       "4  2906b810c7d4411798c6938adc9daaa5   discount        10.0       7.0     2.0\n",
       "5  fafdcd668e3743c1bb461111dcafc2a4   discount        10.0      10.0     2.0\n",
       "6  0b1e1539f2cc45b7b9fa7c272da2e1d7   discount        20.0      10.0     5.0\n",
       "7  2298d6c36e964ae4a3e7e9706d1fb8c2   discount         7.0       7.0     3.0"
      ]
     },
     "execution_count": 61,
     "metadata": {},
     "output_type": "execute_result"
    }
   ],
   "source": [
    "# removing reward = 0 because it will show records who made transaction but didn't get reward.\n",
    "customer_transactions[customer_transactions.reward != 0][['offer_id', 'offer_type', 'difficulty', 'duration', 'reward']].drop_duplicates('offer_id').sort_values('offer_type').reset_index(drop = True)"
   ]
  },
  {
   "cell_type": "code",
   "execution_count": 63,
   "id": "c097bb39",
   "metadata": {},
   "outputs": [
    {
     "data": {
      "text/html": [
       "<div>\n",
       "<style scoped>\n",
       "    .dataframe tbody tr th:only-of-type {\n",
       "        vertical-align: middle;\n",
       "    }\n",
       "\n",
       "    .dataframe tbody tr th {\n",
       "        vertical-align: top;\n",
       "    }\n",
       "\n",
       "    .dataframe thead th {\n",
       "        text-align: right;\n",
       "    }\n",
       "</style>\n",
       "<table border=\"1\" class=\"dataframe\">\n",
       "  <thead>\n",
       "    <tr style=\"text-align: right;\">\n",
       "      <th></th>\n",
       "      <th>offer_id</th>\n",
       "      <th>offer_type</th>\n",
       "      <th>difficulty</th>\n",
       "      <th>duration</th>\n",
       "      <th>reward</th>\n",
       "    </tr>\n",
       "  </thead>\n",
       "  <tbody>\n",
       "    <tr>\n",
       "      <th>0</th>\n",
       "      <td>3f207df678b143eea3cee63160fa8bed</td>\n",
       "      <td>informational</td>\n",
       "      <td>0.0</td>\n",
       "      <td>4.0</td>\n",
       "      <td>0.0</td>\n",
       "    </tr>\n",
       "    <tr>\n",
       "      <th>1</th>\n",
       "      <td>5a8bc65990b245e5a138643cd4eb9837</td>\n",
       "      <td>informational</td>\n",
       "      <td>0.0</td>\n",
       "      <td>3.0</td>\n",
       "      <td>0.0</td>\n",
       "    </tr>\n",
       "  </tbody>\n",
       "</table>\n",
       "</div>"
      ],
      "text/plain": [
       "                           offer_id     offer_type  difficulty  duration  \\\n",
       "0  3f207df678b143eea3cee63160fa8bed  informational         0.0       4.0   \n",
       "1  5a8bc65990b245e5a138643cd4eb9837  informational         0.0       3.0   \n",
       "\n",
       "   reward  \n",
       "0     0.0  \n",
       "1     0.0  "
      ]
     },
     "execution_count": 63,
     "metadata": {},
     "output_type": "execute_result"
    }
   ],
   "source": [
    "customer_transactions[customer_transactions.offer_type == 'informational'][['offer_id', 'offer_type', 'difficulty', 'duration', 'reward']].drop_duplicates('offer_id').sort_values('offer_type').reset_index(drop = True)"
   ]
  },
  {
   "cell_type": "code",
   "execution_count": null,
   "id": "3db6cb67",
   "metadata": {},
   "outputs": [],
   "source": []
  }
 ],
 "metadata": {
  "kernelspec": {
   "display_name": "Python 3",
   "language": "python",
   "name": "python3"
  },
  "language_info": {
   "codemirror_mode": {
    "name": "ipython",
    "version": 3
   },
   "file_extension": ".py",
   "mimetype": "text/x-python",
   "name": "python",
   "nbconvert_exporter": "python",
   "pygments_lexer": "ipython3",
   "version": "3.8.8"
  }
 },
 "nbformat": 4,
 "nbformat_minor": 5
}
