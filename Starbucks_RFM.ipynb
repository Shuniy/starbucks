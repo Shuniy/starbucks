{
 "cells": [
  {
   "cell_type": "markdown",
   "id": "7dacf6c7",
   "metadata": {},
   "source": [
    "# *RFM (Recency, Frequency, Monetary Value)*"
   ]
  },
  {
   "cell_type": "markdown",
   "id": "22d6a2e8",
   "metadata": {},
   "source": [
    "Recency, frequency, monetary value is a marketing analysis tool used to identify a company's or an organization's best customers by using certain measures. The RFM model is based on three quantitative factors:\n",
    "\n",
    "- **Recency:** How recently a customer has made a purchase\n",
    "- **Frequency:** How often a customer makes a purchase\n",
    "- **Monetary Value:** How much money a customer spends on purchases\n",
    "\n",
    "*RFM analysis numerically ranks a customer in each of these three categories, generally on a scale of 1 to 5 (the higher the number, the better the result). The \"best\" customer would receive a top score in every category.*\n",
    "\n",
    "- Recency, frequency, monetary value (RFM) a marketing analysis tool used to identify a firm's best clients, based on the nature of their spending habits.\n",
    "- An RFM analysis evaluates clients and customers by scoring them in three categories: how recently they've made a purchase, how often they buy, and the size of their purchases.\n",
    "- RFM analysis helps firms reasonably predict which customers are more likely to make purchases again in the future, how much revenue comes from new (versus repeat clients), and how to turn occasional buyers into habitual ones.\n",
    "'\n",
    "[ ### The Significance of Recency, Frequency, Monetary Value\n",
    "RFM analysis allows a comparison between potential contributors or clients. It gives organizations a sense of how much revenue comes from repeat customers (versus new customers), and which levers they can pull to try to make customers happier so they become repeat purchasers.\n",
    " \n",
    "Despite the useful information that is acquired through RFM analysis, firms must take into consideration that even the best customers will not want to be over-solicited, and the lower-ranking customers may be cultivated with additional marketing efforts. It works as a snapshot of the clientele and as a tool to prioritize nurturing, but it should not be taken as a license to simply do more of the same-old, same-old sales techniques."
   ]
  },
  {
   "cell_type": "markdown",
   "id": "b656f46f",
   "metadata": {},
   "source": [
    "## Recency\n",
    "\n",
    "The more recently a customer has made a purchase with a company, the more likely they will continue to keep the business and brand in mind for subsequent purchases. Compared with customers who have not bought from the business in months or even longer periods, the likelihood of engaging in future transactions with recent customers is arguably higher.\n",
    "\n",
    "Such information can be used to remind recent customers to revisit the business soon to continue meeting their purchase needs. In an effort not to overlook lapsed customers, marketing efforts could be made to remind them that it has been a while since their last transaction while offering them an incentive to rekindle their patronage."
   ]
  },
  {
   "cell_type": "code",
   "execution_count": null,
   "id": "e7b6fbde",
   "metadata": {},
   "outputs": [],
   "source": []
  },
  {
   "cell_type": "markdown",
   "id": "71992583",
   "metadata": {},
   "source": [
    "## Frequency\n",
    "The frequency of a customer’s transactions may be affected by factors such as the type of product, the price point for the purchase, and the need for replenishment or replacement. If the purchase cycle can be predicted, for example when a customer needs to buy new groceries, marketing efforts could be directed towards reminding them to visit the business when items such as eggs or milk have been depleted."
   ]
  },
  {
   "cell_type": "code",
   "execution_count": null,
   "id": "5c34d34e",
   "metadata": {},
   "outputs": [],
   "source": []
  },
  {
   "cell_type": "markdown",
   "id": "f12fbe3a",
   "metadata": {},
   "source": [
    "## Monetary Value\n",
    "Monetary value stems from the lucrativeness of expenditures the customer makes with the business during their transactions. A natural inclination is to put more emphasis on encouraging customers who spend the most money to continue to do so. While this can produce a better return on investment in marketing and customer service, it also runs the risk of alienating customers who have been consistent but have not spent as much with each transaction."
   ]
  },
  {
   "cell_type": "code",
   "execution_count": null,
   "id": "65a40189",
   "metadata": {},
   "outputs": [],
   "source": []
  }
 ],
 "metadata": {
  "kernelspec": {
   "display_name": "Python 3",
   "language": "python",
   "name": "python3"
  },
  "language_info": {
   "codemirror_mode": {
    "name": "ipython",
    "version": 3
   },
   "file_extension": ".py",
   "mimetype": "text/x-python",
   "name": "python",
   "nbconvert_exporter": "python",
   "pygments_lexer": "ipython3",
   "version": "3.7.10"
  }
 },
 "nbformat": 4,
 "nbformat_minor": 5
}
